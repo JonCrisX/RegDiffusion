{
 "cells": [
  {
   "cell_type": "code",
   "execution_count": 1,
   "id": "0a4cecaf-9f1c-446b-92f7-748369a853b2",
   "metadata": {},
   "outputs": [],
   "source": [
    "%load_ext autoreload"
   ]
  },
  {
   "cell_type": "code",
   "execution_count": 2,
   "id": "e9194b12-975f-4727-a288-5614af10fed8",
   "metadata": {},
   "outputs": [],
   "source": [
    "%autoreload 2"
   ]
  },
  {
   "cell_type": "code",
   "execution_count": 3,
   "id": "29eeb4ce-eda6-4e78-b9f6-96c418162719",
   "metadata": {},
   "outputs": [],
   "source": [
    "import numpy as np\n",
    "import pandas as pd\n",
    "import regdiffusion as rd\n",
    "import scanpy as sc\n",
    "import json\n",
    "from tqdm import tqdm\n",
    "import seaborn as sns\n",
    "import networkx as nx\n",
    "from pyvis import network as net"
   ]
  },
  {
   "cell_type": "markdown",
   "id": "e13070b0-8843-47a4-9b00-23634872309d",
   "metadata": {},
   "source": [
    "# BEELINE Benchmarks"
   ]
  },
  {
   "cell_type": "code",
   "execution_count": 5,
   "id": "9cb0f5db-9a90-4417-88f7-cf93c5796fa8",
   "metadata": {},
   "outputs": [
    {
     "name": "stderr",
     "output_type": "stream",
     "text": [
      "Training loss: 0.310, Change on Adj: -0.000: 100%|██████████| 1000/1000 [00:08<00:00, 122.92it/s]\n"
     ]
    }
   ],
   "source": [
    "all_results = []\n",
    "# logs_dt = []\n",
    "# for dt in ['hESC', 'hHep', 'mDC', 'mESC', 'mHSC-E', 'mHSC-GM', 'mHSC-L']:\n",
    "for dt in ['hESC']:\n",
    "    bl_data, bl_gt = rd.data.load_beeline(benchmark_data=dt, benchmark_setting='1000_STRING')\n",
    "    evaluator = rd.GRNEvaluator(bl_gt, bl_data.var_names)\n",
    "\n",
    "    trainer = rd.RegDiffusionTrainer(bl_data.X, evaluator=evaluator)\n",
    "    trainer.train(1000)\n",
    "    adj = trainer.get_adj()\n",
    "    eval_result = evaluator.evaluate(adj)\n",
    "    eval_result['dt'] = dt\n",
    "    all_results.append(eval_result)\n",
    "    logs = trainer.logger.to_df()\n",
    "    logs['dt'] = dt\n",
    "    # logs_dt.append(logs)"
   ]
  },
  {
   "cell_type": "code",
   "execution_count": 7,
   "id": "685fc9b7-456c-4358-92d1-a1189a5bcf27",
   "metadata": {},
   "outputs": [],
   "source": [
    "log_df = trainer.logger.to_df()"
   ]
  },
  {
   "cell_type": "code",
   "execution_count": null,
   "id": "621066a3-0341-4a69-a47e-3cdf06d91ba4",
   "metadata": {},
   "outputs": [],
   "source": []
  },
  {
   "cell_type": "code",
   "execution_count": 4,
   "id": "9fea0823-2554-4757-9a63-0639fdb55556",
   "metadata": {},
   "outputs": [],
   "source": [
    "def read_hammond(time):\n",
    "    ann_dt = sc.read_csv(\n",
    "        f'../grnvae/data/other_data/Hammond_processed/final/male_{time}_data.csv'\n",
    "    )\n",
    "    \n",
    "    ann_dt = ann_dt.transpose()\n",
    "    \n",
    "    ann_dt = ann_dt[:, ~ann_dt.var_names.str.startswith('Gm')]\n",
    "    ann_dt = ann_dt[:, ~ann_dt.var_names.str.startswith('mt')]\n",
    "    ann_dt = ann_dt[:, ~ann_dt.var_names.str.startswith('Rpl')]\n",
    "    ann_dt = ann_dt[:, ~ann_dt.var_names.str.startswith('Rps')]\n",
    "    \n",
    "    sc.pp.filter_genes(ann_dt, min_counts=0.00001)\n",
    "    print(f'Hammond data at {time}: {ann_dt.shape}')\n",
    "    \n",
    "    return ann_dt"
   ]
  },
  {
   "cell_type": "code",
   "execution_count": 5,
   "id": "3ee5cd9a-f8a4-4958-b02e-2ff2b7898472",
   "metadata": {},
   "outputs": [],
   "source": [
    "def read_cerebellum(selected_celltype):\n",
    "    ann_dt = sc.read_h5ad(f'data/cerebellum/SCP795/processed/{selected_celltype}.h5ad')\n",
    "    ann_dt = ann_dt.transpose()\n",
    "\n",
    "    ann_dt = ann_dt[:, ~ann_dt.var_names.str.startswith('Gm')]\n",
    "    ann_dt = ann_dt[:, ~ann_dt.var_names.str.startswith('mt')]\n",
    "    ann_dt = ann_dt[:, ~ann_dt.var_names.str.startswith('Rpl')]\n",
    "    ann_dt = ann_dt[:, ~ann_dt.var_names.str.startswith('Rps')]\n",
    "    \n",
    "    # subset_qc = sc.pp.calculate_qc_metrics(ann_dt)\n",
    "    # # Here we only take roughly half of the genes (12,000). So we set the total \n",
    "    # # number of gene cutoff point at the median\n",
    "    # total_gene_cutoff = subset_qc[1].total_counts.median()\n",
    "    \n",
    "    sc.pp.filter_genes(ann_dt, min_counts=0.0001)\n",
    "    sc.pp.log1p(ann_dt)\n",
    "    # print(f'Cerebellum data: {ann_dt.shape}; Cutoff at {total_gene_cutoff:.2f}')\n",
    "    print(f'Cerebellum data: {ann_dt.shape}')\n",
    "\n",
    "    return ann_dt"
   ]
  },
  {
   "cell_type": "code",
   "execution_count": 6,
   "id": "8da7352e-f52b-4408-a7f9-d2ab9b442e14",
   "metadata": {},
   "outputs": [
    {
     "name": "stderr",
     "output_type": "stream",
     "text": [
      "/cluster/tufts/slonimlab/hzhu07/miniconda3/envs/grn/lib/python3.11/site-packages/scanpy/preprocessing/_simple.py:248: ImplicitModificationWarning: Trying to modify attribute `.var` of view, initializing view as actual.\n",
      "  adata.var['n_counts'] = number\n"
     ]
    },
    {
     "name": "stdout",
     "output_type": "stream",
     "text": [
      "Hammond data at p100: (8259, 14065)\n"
     ]
    }
   ],
   "source": [
    "hammond_p100 = read_hammond('p100')"
   ]
  },
  {
   "cell_type": "code",
   "execution_count": 7,
   "id": "ab5cabca-d3c4-40e0-9d64-34f46f601252",
   "metadata": {},
   "outputs": [
    {
     "name": "stderr",
     "output_type": "stream",
     "text": [
      "Training loss: 0.240, Change on Adj: -0.001: 100%|██████████| 1000/1000 [03:27<00:00,  4.82it/s]\n"
     ]
    },
    {
     "ename": "NameError",
     "evalue": "name 'logs_dt' is not defined",
     "output_type": "error",
     "traceback": [
      "\u001b[0;31m---------------------------------------------------------------------------\u001b[0m",
      "\u001b[0;31mNameError\u001b[0m                                 Traceback (most recent call last)",
      "Cell \u001b[0;32mIn[7], line 5\u001b[0m\n\u001b[1;32m      3\u001b[0m logs \u001b[38;5;241m=\u001b[39m trainer\u001b[38;5;241m.\u001b[39mlogger\u001b[38;5;241m.\u001b[39mto_df()\n\u001b[1;32m      4\u001b[0m logs[\u001b[38;5;124m'\u001b[39m\u001b[38;5;124mdt\u001b[39m\u001b[38;5;124m'\u001b[39m] \u001b[38;5;241m=\u001b[39m \u001b[38;5;124m'\u001b[39m\u001b[38;5;124mHammond\u001b[39m\u001b[38;5;124m'\u001b[39m\n\u001b[0;32m----> 5\u001b[0m \u001b[43mlogs_dt\u001b[49m\u001b[38;5;241m.\u001b[39mappend(logs)\n",
      "\u001b[0;31mNameError\u001b[0m: name 'logs_dt' is not defined"
     ]
    }
   ],
   "source": [
    "trainer = rd.RegDiffusionTrainer(hammond_p100.X)\n",
    "trainer.train()\n",
    "logs = trainer.logger.to_df()\n",
    "logs['dt'] = 'Hammond'\n"
   ]
  },
  {
   "cell_type": "code",
   "execution_count": 8,
   "id": "11610177-ba02-49fe-942f-4c3eb3c99897",
   "metadata": {},
   "outputs": [],
   "source": [
    "adj = trainer.model.get_adj()"
   ]
  },
  {
   "cell_type": "code",
   "execution_count": 10,
   "id": "8a73194e-6758-469d-adaa-72b0e337edba",
   "metadata": {},
   "outputs": [
    {
     "data": {
      "text/plain": [
       "13.07565464900108"
      ]
     },
     "execution_count": 10,
     "metadata": {},
     "output_type": "execute_result"
    }
   ],
   "source": [
    "adj.max() * trainer.n_gene"
   ]
  },
  {
   "cell_type": "code",
   "execution_count": 10,
   "id": "7305b006-5fa3-4f19-948b-1c484c12db2e",
   "metadata": {},
   "outputs": [
    {
     "name": "stderr",
     "output_type": "stream",
     "text": [
      "/cluster/tufts/slonimlab/hzhu07/miniconda3/envs/grn/lib/python3.11/site-packages/scanpy/preprocessing/_simple.py:248: ImplicitModificationWarning: Trying to modify attribute `.var` of view, initializing view as actual.\n",
      "  adata.var['n_counts'] = number\n"
     ]
    },
    {
     "name": "stdout",
     "output_type": "stream",
     "text": [
      "Cerebellum data: (1296, 15547)\n"
     ]
    },
    {
     "name": "stderr",
     "output_type": "stream",
     "text": [
      "Training loss: 0.228, Change on Adj: -0.001: 100%|██████████| 1000/1000 [04:09<00:00,  4.01it/s]\n"
     ]
    }
   ],
   "source": [
    "cc = read_cerebellum('Microglia')\n",
    "trainer = rd.RegDiffusionTrainer(cc.X.toarray())\n",
    "trainer.train()\n",
    "logs = trainer.logger.to_df()\n",
    "logs['dt'] = 'Atlas'\n",
    "logs_dt.append(logs)"
   ]
  },
  {
   "cell_type": "code",
   "execution_count": 11,
   "id": "073609ad-bf0c-4edb-884f-0299d50c7953",
   "metadata": {},
   "outputs": [],
   "source": [
    "pd.concat(logs_dt).to_csv('results/change_on_adj.csv', index=False)"
   ]
  },
  {
   "cell_type": "code",
   "execution_count": 15,
   "id": "9b80bb36-8886-41b4-8189-a2866d706a63",
   "metadata": {},
   "outputs": [
    {
     "name": "stderr",
     "output_type": "stream",
     "text": [
      "Training loss: 0.293, Change on Adj: -0.000: 100%|██████████| 1000/1000 [00:10<00:00, 99.11it/s]\n"
     ]
    }
   ],
   "source": [
    "bl_data, bl_gt = rd.data.load_beeline(benchmark_data='mESC', benchmark_setting='1000_STRING')\n",
    "evaluator = rd.GRNEvaluator(bl_gt, bl_data.var_names)\n",
    "\n",
    "trainer = rd.RegDiffusionTrainer(bl_data.X, train_split=0.8, eval_on_n_steps=1)\n",
    "trainer.train(1000)\n",
    "adj = trainer.get_adj()\n",
    "eval_result = evaluator.evaluate(adj)"
   ]
  },
  {
   "cell_type": "code",
   "execution_count": 17,
   "id": "1a29552e-458a-4763-bbc6-0188c02b7367",
   "metadata": {},
   "outputs": [],
   "source": [
    "trainer.logger.to_df().to_csv('results/mESC_train_test.csv', index=False)"
   ]
  },
  {
   "cell_type": "code",
   "execution_count": 20,
   "id": "3f7b8f83-a512-4203-823d-acc046223b6f",
   "metadata": {},
   "outputs": [
    {
     "name": "stderr",
     "output_type": "stream",
     "text": [
      "Training loss: 0.265, Change on Adj: -0.000: 100%|██████████| 1000/1000 [00:08<00:00, 121.65it/s]\n",
      "Training loss: 0.240, Change on Adj: 0.000: 100%|██████████| 1000/1000 [00:09<00:00, 107.79it/s]\n",
      "Training loss: 0.235, Change on Adj: -0.000: 100%|██████████| 1000/1000 [00:12<00:00, 77.32it/s]\n",
      "Training loss: 0.241, Change on Adj: -0.000: 100%|██████████| 1000/1000 [00:19<00:00, 50.07it/s]\n",
      "Training loss: 0.275, Change on Adj: 0.000: 100%|██████████| 1000/1000 [00:33<00:00, 29.93it/s]\n"
     ]
    }
   ],
   "source": [
    "hd_results = []\n",
    "for hd in [8, 16, 32, 64, 128]:\n",
    "    bl_data, bl_gt = rd.data.load_beeline(benchmark_data='mESC', benchmark_setting='1000_STRING')\n",
    "    evaluator = rd.GRNEvaluator(bl_gt, bl_data.var_names)\n",
    "    \n",
    "    trainer = rd.RegDiffusionTrainer(bl_data.X, evaluator=evaluator, hidden_dims=[hd, hd, hd])\n",
    "    trainer.train(1000)\n",
    "    adj = trainer.get_adj()\n",
    "    eval_result = evaluator.evaluate(adj)\n",
    "    log = trainer.logger.to_df()\n",
    "    log['hd'] = hd\n",
    "    hd_results.append(log)"
   ]
  },
  {
   "cell_type": "code",
   "execution_count": 21,
   "id": "ad22adf4-ed9d-43b8-8ba9-e1f0fbc454e8",
   "metadata": {},
   "outputs": [],
   "source": [
    "pd.concat(hd_results).to_csv('results/hidden_dim.csv', index=False)"
   ]
  },
  {
   "cell_type": "code",
   "execution_count": null,
   "id": "ff57da8e-393b-4ae3-9976-d04c49ff72c3",
   "metadata": {},
   "outputs": [],
   "source": []
  },
  {
   "cell_type": "code",
   "execution_count": null,
   "id": "f7f94383-3975-4171-94de-b794c06af86d",
   "metadata": {},
   "outputs": [],
   "source": []
  },
  {
   "cell_type": "code",
   "execution_count": null,
   "id": "17de30f8-0a30-4cab-9406-532310c5ecdd",
   "metadata": {},
   "outputs": [],
   "source": []
  },
  {
   "cell_type": "code",
   "execution_count": 22,
   "id": "25b95d41-623c-42a8-bec8-b86190b456e9",
   "metadata": {},
   "outputs": [],
   "source": [
    "import pickle"
   ]
  },
  {
   "cell_type": "code",
   "execution_count": 23,
   "id": "50de4028-20b3-4826-8550-ea9ef20255e8",
   "metadata": {},
   "outputs": [],
   "source": [
    "with open('results/202402/hammond.pkl', 'rb') as f:\n",
    "    grn = pickle.load(f)"
   ]
  },
  {
   "cell_type": "code",
   "execution_count": 40,
   "id": "6397bc15-29f6-457e-adad-a1768669173e",
   "metadata": {},
   "outputs": [
    {
     "data": {
      "text/plain": [
       "'Adcy3'"
      ]
     },
     "execution_count": 40,
     "metadata": {},
     "output_type": "execute_result"
    }
   ],
   "source": [
    "np.random.choice(hammond_p100.var_names)"
   ]
  },
  {
   "cell_type": "code",
   "execution_count": 57,
   "id": "f9ef72c8-afbd-40a8-a4fd-b4b5a556c031",
   "metadata": {},
   "outputs": [],
   "source": [
    "gene = 'Hk2'\n",
    "k = 20\n",
    "hop1 = grn.extract_node_neighbors(gene, k=k)\n",
    "hop1['weight'] = 0\n",
    "hop1_genes = set()\n",
    "for g in hop1.source:\n",
    "    if g != gene:\n",
    "        hop1_genes.add(g)\n",
    "for g in hop1.target:\n",
    "    if g != gene:\n",
    "        hop1_genes.add(g)\n",
    "hop2s = pd.concat([grn.extract_node_neighbors(g, k=k) for g in hop1_genes])\n",
    "hop2s['weight'] = 1\n",
    "hop2_genes = set()\n",
    "for g in hop2s.source:\n",
    "    if g != gene and g not in hop1_genes:\n",
    "        hop2_genes.add(g)\n",
    "for g in hop2s.target:\n",
    "    if g != gene and g not in hop1_genes:\n",
    "        hop2_genes.add(g)\n",
    "hop3s = []\n",
    "for g in hop2_genes:\n",
    "    hop3 = grn.extract_node_neighbors(g, k=k)\n",
    "    hop3 = hop3[hop3.source.isin(hop2_genes) & hop3.target.isin(hop2_genes) ]\n",
    "    hop3s.append(hop3)\n",
    "hop3s = pd.concat(hop3s)\n",
    "hop3s['weight'] = 2\n",
    "adj_table = pd.concat([hop1, hop2s, hop3s]).reset_index(drop=True)"
   ]
  },
  {
   "cell_type": "code",
   "execution_count": 58,
   "id": "1ebe376c-0480-41aa-899a-c0559c82ff62",
   "metadata": {},
   "outputs": [
    {
     "name": "stdout",
     "output_type": "stream",
     "text": [
      "Warning: When  cdn_resources is 'local' jupyter notebook has issues displaying graphics on chrome/safari. Use cdn_resources='in_line' or cdn_resources='remote' if you have issues viewing graphics in a notebook.\n",
      "test.html\n"
     ]
    },
    {
     "data": {
      "text/html": [
       "\n",
       "        <iframe\n",
       "            width=\"100%\"\n",
       "            height=\"600px\"\n",
       "            src=\"test.html\"\n",
       "            frameborder=\"0\"\n",
       "            allowfullscreen\n",
       "            \n",
       "        ></iframe>\n",
       "        "
      ],
      "text/plain": [
       "<IPython.lib.display.IFrame at 0x2b38271544d0>"
      ]
     },
     "execution_count": 58,
     "metadata": {},
     "output_type": "execute_result"
    }
   ],
   "source": [
    "adj_table.weight = adj_table.weight.map(lambda x: [1, 1, 0.2][x])\n",
    "adj_nx = nx.from_pandas_edgelist(adj_table, edge_attr='weight')\n",
    "g=net.Network(notebook=True)\n",
    "g.from_nx(adj_nx)\n",
    "# options = 'var options = {\"physics\": {\"solver\": \"forceAtlas2Based\", \"forceAtlas2Based\": {\"avoidOverlap\": 0.0}}}'\n",
    "\n",
    "# Set the options\n",
    "# g.set_options(options)\n",
    "g.repulsion()\n",
    "g.show('test.html')"
   ]
  },
  {
   "cell_type": "code",
   "execution_count": 82,
   "id": "03462253-9080-4e86-8411-b9f6033f559c",
   "metadata": {},
   "outputs": [],
   "source": [
    "g.save_graph('results/202402/hammond_apoe.html')\n",
    "# grn.save('results/202402/hammond.pkl')"
   ]
  },
  {
   "cell_type": "code",
   "execution_count": 20,
   "id": "4098e9cd-06a2-40cd-8673-9b322f53fc01",
   "metadata": {},
   "outputs": [],
   "source": []
  },
  {
   "cell_type": "code",
   "execution_count": 30,
   "id": "7ffabfb6-0947-4370-abea-92eb4411584c",
   "metadata": {},
   "outputs": [
    {
     "name": "stdout",
     "output_type": "stream",
     "text": [
      "Cerebellum data: (1296, 15547)\n"
     ]
    },
    {
     "name": "stderr",
     "output_type": "stream",
     "text": [
      "/cluster/tufts/slonimlab/hzhu07/miniconda3/envs/grn/lib/python3.11/site-packages/scanpy/preprocessing/_simple.py:248: ImplicitModificationWarning: Trying to modify attribute `.var` of view, initializing view as actual.\n",
      "  adata.var['n_counts'] = number\n"
     ]
    }
   ],
   "source": [
    "cc = read_cerebellum('Microglia')"
   ]
  },
  {
   "cell_type": "code",
   "execution_count": 90,
   "id": "facbf52f-ca05-4c01-ae2d-480510367984",
   "metadata": {},
   "outputs": [
    {
     "name": "stderr",
     "output_type": "stream",
     "text": [
      "Training loss: 0.209, Change on Adj: -0.0003: 100%|██████████| 1000/1000 [04:10<00:00,  3.98it/s]\n"
     ]
    }
   ],
   "source": [
    "trainer = rd.RegDiffusionTrainer(cc.X.toarray())\n",
    "trainer.train()"
   ]
  },
  {
   "cell_type": "code",
   "execution_count": 91,
   "id": "419d31bf-1c64-4b0f-ba8f-d64c6685cf14",
   "metadata": {},
   "outputs": [
    {
     "name": "stdout",
     "output_type": "stream",
     "text": [
      "Warning: When  cdn_resources is 'local' jupyter notebook has issues displaying graphics on chrome/safari. Use cdn_resources='in_line' or cdn_resources='remote' if you have issues viewing graphics in a notebook.\n",
      "test.html\n"
     ]
    },
    {
     "data": {
      "text/html": [
       "\n",
       "        <iframe\n",
       "            width=\"100%\"\n",
       "            height=\"600px\"\n",
       "            src=\"test.html\"\n",
       "            frameborder=\"0\"\n",
       "            allowfullscreen\n",
       "            \n",
       "        ></iframe>\n",
       "        "
      ],
      "text/plain": [
       "<IPython.lib.display.IFrame at 0x2ac62812e750>"
      ]
     },
     "execution_count": 91,
     "metadata": {},
     "output_type": "execute_result"
    }
   ],
   "source": [
    "grn = trainer.generate_grn(cc.var_names)\n",
    "gene = 'Apoe'\n",
    "k = 20\n",
    "hop1 = grn.extract_node_neighbors(gene, k=k)\n",
    "hop1['weight'] = 0\n",
    "hop1_genes = set()\n",
    "for g in hop1.source:\n",
    "    if g != gene:\n",
    "        hop1_genes.add(g)\n",
    "for g in hop1.target:\n",
    "    if g != gene:\n",
    "        hop1_genes.add(g)\n",
    "hop2s = pd.concat([grn.extract_node_neighbors(g, k=k) for g in hop1_genes])\n",
    "hop2s['weight'] = 1\n",
    "hop2_genes = set()\n",
    "for g in hop2s.source:\n",
    "    if g != gene and g not in hop1_genes:\n",
    "        hop2_genes.add(g)\n",
    "for g in hop2s.target:\n",
    "    if g != gene and g not in hop1_genes:\n",
    "        hop2_genes.add(g)\n",
    "hop3s = []\n",
    "for g in hop2_genes:\n",
    "    hop3 = grn.extract_node_neighbors(g, k=k)\n",
    "    hop3 = hop3[hop3.source.isin(hop2_genes) & hop3.target.isin(hop2_genes) ]\n",
    "    hop3s.append(hop3)\n",
    "hop3s = pd.concat(hop3s)\n",
    "hop3s['weight'] = 2\n",
    "adj_table = pd.concat([hop1, hop2s, hop3s]).reset_index(drop=True)\n",
    "adj_table.weight = adj_table.weight.map(lambda x: [1, 1, 1, 2][x])\n",
    "adj_nx = nx.from_pandas_edgelist(adj_table, edge_attr='weight')\n",
    "g=net.Network(notebook=True)\n",
    "g.from_nx(adj_nx)\n",
    "# options = 'var options = {\"physics\": {\"solver\": \"forceAtlas2Based\", \"forceAtlas2Based\": {\"avoidOverlap\": 0.0}}}'\n",
    "\n",
    "# Set the options\n",
    "# g.set_options(options)\n",
    "g.repulsion()\n",
    "g.show('test.html')"
   ]
  },
  {
   "cell_type": "code",
   "execution_count": 86,
   "id": "98589524-46a9-4c9f-b91a-837ab965f497",
   "metadata": {},
   "outputs": [],
   "source": [
    "g.save_graph('results/202402/cc_apoe.html')\n",
    "grn.save('results/202402/cc.pkl')"
   ]
  },
  {
   "cell_type": "code",
   "execution_count": null,
   "id": "69d85374-55d1-49c5-82df-20f5dcc6a4fc",
   "metadata": {},
   "outputs": [],
   "source": [
    "\n",
    "\n",
    "\n",
    "\n",
    "\n",
    "\n",
    "\n",
    "\n",
    "\n",
    "\n",
    "\n",
    "\n",
    "\n",
    "\n",
    "\n",
    "\n"
   ]
  }
 ],
 "metadata": {
  "kernelspec": {
   "display_name": "grn",
   "language": "python",
   "name": "grn"
  },
  "language_info": {
   "codemirror_mode": {
    "name": "ipython",
    "version": 3
   },
   "file_extension": ".py",
   "mimetype": "text/x-python",
   "name": "python",
   "nbconvert_exporter": "python",
   "pygments_lexer": "ipython3",
   "version": "3.11.7"
  }
 },
 "nbformat": 4,
 "nbformat_minor": 5
}
