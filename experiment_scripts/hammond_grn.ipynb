{
 "cells": [
  {
   "cell_type": "code",
   "execution_count": 1,
   "id": "a738e31b-e58d-4fe4-84b8-9a8d5cc21c98",
   "metadata": {},
   "outputs": [],
   "source": [
    "import numpy as np\n",
    "import pandas as pd\n",
    "from regdiffusion import load_beeline\n",
    "import scanpy as sc\n",
    "from datetime import datetime\n",
    "import networkx as nx\n",
    "from pyvis import network as net\n",
    "import matplotlib.pyplot as plt\n",
    "import seaborn as sns\n",
    "import json\n",
    "from tqdm import tqdm\n",
    "from collections import defaultdict\n",
    "from grnkit import RegDiffusionTrainer"
   ]
  },
  {
   "cell_type": "code",
   "execution_count": 2,
   "id": "db47db76-480a-4601-accb-85439d1bd1f2",
   "metadata": {},
   "outputs": [],
   "source": [
    "import grnkit as rd"
   ]
  },
  {
   "cell_type": "code",
   "execution_count": null,
   "id": "26fff185-b8fd-4eac-b6e2-ae02ac6b4b21",
   "metadata": {},
   "outputs": [],
   "source": [
    "rd."
   ]
  },
  {
   "cell_type": "markdown",
   "id": "0fc3a90c-6449-40d0-b8d8-a2e7ae81e2ae",
   "metadata": {},
   "source": [
    "# Load Data"
   ]
  },
  {
   "cell_type": "code",
   "execution_count": 2,
   "id": "fce0813d-c7f0-4383-bc40-7a09088efc5f",
   "metadata": {},
   "outputs": [],
   "source": [
    "def read_hammond(time):\n",
    "    ann_dt = sc.read_csv(\n",
    "        f'../grnvae/data/other_data/Hammond_processed/final/male_{time}_data.csv'\n",
    "    )\n",
    "    \n",
    "    ann_dt = ann_dt.transpose()\n",
    "    \n",
    "    ann_dt = ann_dt[:, ~ann_dt.var_names.str.startswith('Gm')]\n",
    "    ann_dt = ann_dt[:, ~ann_dt.var_names.str.startswith('mt')]\n",
    "    ann_dt = ann_dt[:, ~ann_dt.var_names.str.startswith('Rpl')]\n",
    "    ann_dt = ann_dt[:, ~ann_dt.var_names.str.startswith('Rps')]\n",
    "    \n",
    "    sc.pp.filter_genes(ann_dt, min_counts=10)\n",
    "    print(f'Hammond data at {time}: {ann_dt.shape}')\n",
    "    \n",
    "    return ann_dt"
   ]
  },
  {
   "cell_type": "code",
   "execution_count": 3,
   "id": "330452e1-7302-4dfa-89b6-e179c0b7811c",
   "metadata": {},
   "outputs": [
    {
     "name": "stderr",
     "output_type": "stream",
     "text": [
      "/cluster/tufts/slonimlab/hzhu07/miniconda3/envs/grn/lib/python3.11/site-packages/scanpy/preprocessing/_simple.py:248: ImplicitModificationWarning: Trying to modify attribute `.var` of view, initializing view as actual.\n",
      "  adata.var['n_counts'] = number\n"
     ]
    },
    {
     "name": "stdout",
     "output_type": "stream",
     "text": [
      "Hammond data at p100: (8259, 11484)\n"
     ]
    }
   ],
   "source": [
    "hammond_p100 = read_hammond('p100')"
   ]
  },
  {
   "cell_type": "markdown",
   "id": "d0a20ce0-9c3c-4212-9d5b-5642515397b3",
   "metadata": {},
   "source": [
    "# GRN Training"
   ]
  },
  {
   "cell_type": "code",
   "execution_count": 8,
   "id": "6256df54-69e0-48aa-a153-b586b32892bd",
   "metadata": {},
   "outputs": [
    {
     "name": "stderr",
     "output_type": "stream",
     "text": [
      "Training loss: 0.233: 100%|██████████| 40/40 [05:01<00:00,  7.53s/it]\n"
     ]
    },
    {
     "data": {
      "image/png": "[encoded data removed]",
      "text/plain": [
       "<Figure size 640x480 with 1 Axes>"
      ]
     },
     "metadata": {},
     "output_type": "display_data"
    }
   ],
   "source": [
    "grn_trainer_p100 = RegDiffusionTrainer(\n",
    "    hammond_p100.X, lr_adj=1e-5, n_iterations=40\n",
    ")\n",
    "grn_trainer_p100.train()\n",
    "grn_trainer_p100.training_curve()"
   ]
  },
  {
   "cell_type": "code",
   "execution_count": 9,
   "id": "8469fa24-0e98-4c91-919f-c463eba9a9bd",
   "metadata": {},
   "outputs": [
    {
     "data": {
      "text/plain": [
       "Inferred GRN: 11,484 TFs x 11,484 Target Genes"
      ]
     },
     "execution_count": 9,
     "metadata": {},
     "output_type": "execute_result"
    }
   ],
   "source": [
    "grn_p100 = grn_trainer_p100.generate_grn(hammond_p100.var_names)\n",
    "grn_p100\n",
    "# del grn_trainer_p100"
   ]
  },
  {
   "cell_type": "code",
   "execution_count": 10,
   "id": "c2065bac-5396-4ae3-9ac5-253e2fb3c39c",
   "metadata": {},
   "outputs": [
    {
     "name": "stdout",
     "output_type": "stream",
     "text": [
      "Warning: When  cdn_resources is 'local' jupyter notebook has issues displaying graphics on chrome/safari. Use cdn_resources='in_line' or cdn_resources='remote' if you have issues viewing graphics in a notebook.\n",
      "test.html\n"
     ]
    },
    {
     "data": {
      "text/html": [
       "\n",
       "        <iframe\n",
       "            width=\"100%\"\n",
       "            height=\"600px\"\n",
       "            src=\"test.html\"\n",
       "            frameborder=\"0\"\n",
       "            allowfullscreen\n",
       "            \n",
       "        ></iframe>\n",
       "        "
      ],
      "text/plain": [
       "<IPython.lib.display.IFrame at 0x2ab1d0a4dc10>"
      ]
     },
     "execution_count": 10,
     "metadata": {},
     "output_type": "execute_result"
    }
   ],
   "source": [
    "adj_table = grn_p100.extract_node_neighborhood('Apoe', k=20, hop=2)   \n",
    "adj_table.weight = adj_table.weight.map(lambda x: [0, 0.5, 1, 3][x])\n",
    "adj_nx = nx.from_pandas_edgelist(adj_table, edge_attr='weight')\n",
    "g=net.Network(notebook=True)\n",
    "g.from_nx(adj_nx)\n",
    "# g.repulsion()\n",
    "g.show('test.html')"
   ]
  },
  {
   "cell_type": "code",
   "execution_count": null,
   "id": "ee10dfee-3dd5-432f-b0e1-d5457cbc8482",
   "metadata": {},
   "outputs": [],
   "source": []
  },
  {
   "cell_type": "code",
   "execution_count": null,
   "id": "c4b566bc-4f09-4148-a7a4-0f89ad1741d7",
   "metadata": {},
   "outputs": [],
   "source": []
  },
  {
   "cell_type": "code",
   "execution_count": null,
   "id": "d434efca-62a9-4b39-a108-153c97f57f6a",
   "metadata": {},
   "outputs": [],
   "source": []
  },
  {
   "cell_type": "code",
   "execution_count": null,
   "id": "da8adcd1-06b8-4009-b604-c1767f99f0fc",
   "metadata": {},
   "outputs": [],
   "source": []
  },
  {
   "cell_type": "code",
   "execution_count": null,
   "id": "bbc8a389-e239-4d8e-9d25-298a630c3b43",
   "metadata": {},
   "outputs": [],
   "source": []
  },
  {
   "cell_type": "code",
   "execution_count": null,
   "id": "d54de422-49c1-4548-9d2a-e671fd15da1b",
   "metadata": {},
   "outputs": [],
   "source": []
  },
  {
   "cell_type": "code",
   "execution_count": null,
   "id": "25f9c779-7619-4621-aaeb-a36f21942763",
   "metadata": {},
   "outputs": [],
   "source": []
  },
  {
   "cell_type": "code",
   "execution_count": null,
   "id": "eab6d577-cb52-40c7-a452-e55a2fa9c183",
   "metadata": {},
   "outputs": [],
   "source": []
  },
  {
   "cell_type": "code",
   "execution_count": null,
   "id": "c1329f70-7f9d-463a-8c00-f226916024d8",
   "metadata": {},
   "outputs": [],
   "source": []
  },
  {
   "cell_type": "code",
   "execution_count": 9,
   "id": "5aa10233-86d5-4e3c-8fa9-66670cb0bc9f",
   "metadata": {},
   "outputs": [
    {
     "name": "stdout",
     "output_type": "stream",
     "text": [
      "Warning: When  cdn_resources is 'local' jupyter notebook has issues displaying graphics on chrome/safari. Use cdn_resources='in_line' or cdn_resources='remote' if you have issues viewing graphics in a notebook.\n",
      "test.html\n"
     ]
    },
    {
     "data": {
      "text/html": [
       "\n",
       "        <iframe\n",
       "            width=\"100%\"\n",
       "            height=\"600px\"\n",
       "            src=\"test.html\"\n",
       "            frameborder=\"0\"\n",
       "            allowfullscreen\n",
       "            \n",
       "        ></iframe>\n",
       "        "
      ],
      "text/plain": [
       "<IPython.lib.display.IFrame at 0x2b093ee66050>"
      ]
     },
     "execution_count": 9,
     "metadata": {},
     "output_type": "execute_result"
    }
   ],
   "source": [
    "adj_table = grn.extract_node_neighborhood('Apoe', k=20, hop=2)   \n",
    "adj_table.weight = adj_table.weight.map(lambda x: [0, 0.5, 1, 3][x])\n",
    "adj_nx = nx.from_pandas_edgelist(adj_table, edge_attr='weight')\n",
    "g=net.Network(notebook=True)\n",
    "g.from_nx(adj_nx)\n",
    "# options = 'var options = {\"physics\": {\"solver\": \"forceAtlas2Based\", \"forceAtlas2Based\": {\"avoidOverlap\": 0.0}}}'\n",
    "\n",
    "# Set the options\n",
    "# g.set_options(options)\n",
    "# g.repulsion()\n",
    "g.show('test.html')"
   ]
  },
  {
   "cell_type": "code",
   "execution_count": 7,
   "id": "0b8cad2d-33c5-4b1d-839d-2b3a56ebffaf",
   "metadata": {},
   "outputs": [
    {
     "name": "stdout",
     "output_type": "stream",
     "text": [
      "demo.html\n"
     ]
    },
    {
     "ename": "AttributeError",
     "evalue": "'NoneType' object has no attribute 'render'",
     "output_type": "error",
     "traceback": [
      "\u001b[0;31m---------------------------------------------------------------------------\u001b[0m",
      "\u001b[0;31mAttributeError\u001b[0m                            Traceback (most recent call last)",
      "Cell \u001b[0;32mIn[7], line 5\u001b[0m\n\u001b[1;32m      3\u001b[0m g\u001b[38;5;241m=\u001b[39mnet\u001b[38;5;241m.\u001b[39mNetwork()\n\u001b[1;32m      4\u001b[0m g\u001b[38;5;241m.\u001b[39mfrom_nx(adj_nx)\n\u001b[0;32m----> 5\u001b[0m \u001b[43mg\u001b[49m\u001b[38;5;241;43m.\u001b[39;49m\u001b[43mshow\u001b[49m\u001b[43m(\u001b[49m\u001b[38;5;124;43m'\u001b[39;49m\u001b[38;5;124;43mdemo.html\u001b[39;49m\u001b[38;5;124;43m'\u001b[39;49m\u001b[43m)\u001b[49m\n",
      "File \u001b[0;32m/cluster/tufts/slonimlab/hzhu07/miniconda3/envs/grn/lib/python3.11/site-packages/pyvis/network.py:546\u001b[0m, in \u001b[0;36mNetwork.show\u001b[0;34m(self, name, local, notebook)\u001b[0m\n\u001b[1;32m    544\u001b[0m \u001b[38;5;28mprint\u001b[39m(name)\n\u001b[1;32m    545\u001b[0m \u001b[38;5;28;01mif\u001b[39;00m notebook:\n\u001b[0;32m--> 546\u001b[0m     \u001b[38;5;28;43mself\u001b[39;49m\u001b[38;5;241;43m.\u001b[39;49m\u001b[43mwrite_html\u001b[49m\u001b[43m(\u001b[49m\u001b[43mname\u001b[49m\u001b[43m,\u001b[49m\u001b[43m \u001b[49m\u001b[43mopen_browser\u001b[49m\u001b[38;5;241;43m=\u001b[39;49m\u001b[38;5;28;43;01mFalse\u001b[39;49;00m\u001b[43m,\u001b[49m\u001b[43mnotebook\u001b[49m\u001b[38;5;241;43m=\u001b[39;49m\u001b[38;5;28;43;01mTrue\u001b[39;49;00m\u001b[43m)\u001b[49m\n\u001b[1;32m    547\u001b[0m \u001b[38;5;28;01melse\u001b[39;00m:\n\u001b[1;32m    548\u001b[0m     \u001b[38;5;28mself\u001b[39m\u001b[38;5;241m.\u001b[39mwrite_html(name, open_browser\u001b[38;5;241m=\u001b[39m\u001b[38;5;28;01mTrue\u001b[39;00m)\n",
      "File \u001b[0;32m/cluster/tufts/slonimlab/hzhu07/miniconda3/envs/grn/lib/python3.11/site-packages/pyvis/network.py:515\u001b[0m, in \u001b[0;36mNetwork.write_html\u001b[0;34m(self, name, local, notebook, open_browser)\u001b[0m\n\u001b[1;32m    513\u001b[0m getcwd_name \u001b[38;5;241m=\u001b[39m name\n\u001b[1;32m    514\u001b[0m check_html(getcwd_name)\n\u001b[0;32m--> 515\u001b[0m \u001b[38;5;28mself\u001b[39m\u001b[38;5;241m.\u001b[39mhtml \u001b[38;5;241m=\u001b[39m \u001b[38;5;28;43mself\u001b[39;49m\u001b[38;5;241;43m.\u001b[39;49m\u001b[43mgenerate_html\u001b[49m\u001b[43m(\u001b[49m\u001b[43mnotebook\u001b[49m\u001b[38;5;241;43m=\u001b[39;49m\u001b[43mnotebook\u001b[49m\u001b[43m)\u001b[49m\n\u001b[1;32m    517\u001b[0m \u001b[38;5;28;01mif\u001b[39;00m \u001b[38;5;28mself\u001b[39m\u001b[38;5;241m.\u001b[39mcdn_resources \u001b[38;5;241m==\u001b[39m \u001b[38;5;124m\"\u001b[39m\u001b[38;5;124mlocal\u001b[39m\u001b[38;5;124m\"\u001b[39m:\n\u001b[1;32m    518\u001b[0m     \u001b[38;5;28;01mif\u001b[39;00m \u001b[38;5;129;01mnot\u001b[39;00m os\u001b[38;5;241m.\u001b[39mpath\u001b[38;5;241m.\u001b[39mexists(\u001b[38;5;124m\"\u001b[39m\u001b[38;5;124mlib\u001b[39m\u001b[38;5;124m\"\u001b[39m):\n",
      "File \u001b[0;32m/cluster/tufts/slonimlab/hzhu07/miniconda3/envs/grn/lib/python3.11/site-packages/pyvis/network.py:479\u001b[0m, in \u001b[0;36mNetwork.generate_html\u001b[0;34m(self, name, local, notebook)\u001b[0m\n\u001b[1;32m    476\u001b[0m \u001b[38;5;28;01melse\u001b[39;00m:\n\u001b[1;32m    477\u001b[0m     physics_enabled \u001b[38;5;241m=\u001b[39m \u001b[38;5;28mself\u001b[39m\u001b[38;5;241m.\u001b[39moptions\u001b[38;5;241m.\u001b[39mphysics\u001b[38;5;241m.\u001b[39menabled\n\u001b[0;32m--> 479\u001b[0m \u001b[38;5;28mself\u001b[39m\u001b[38;5;241m.\u001b[39mhtml \u001b[38;5;241m=\u001b[39m \u001b[43mtemplate\u001b[49m\u001b[38;5;241;43m.\u001b[39;49m\u001b[43mrender\u001b[49m(height\u001b[38;5;241m=\u001b[39mheight,\n\u001b[1;32m    480\u001b[0m                             width\u001b[38;5;241m=\u001b[39mwidth,\n\u001b[1;32m    481\u001b[0m                             nodes\u001b[38;5;241m=\u001b[39mnodes,\n\u001b[1;32m    482\u001b[0m                             edges\u001b[38;5;241m=\u001b[39medges,\n\u001b[1;32m    483\u001b[0m                             heading\u001b[38;5;241m=\u001b[39mheading,\n\u001b[1;32m    484\u001b[0m                             options\u001b[38;5;241m=\u001b[39moptions,\n\u001b[1;32m    485\u001b[0m                             physics_enabled\u001b[38;5;241m=\u001b[39mphysics_enabled,\n\u001b[1;32m    486\u001b[0m                             use_DOT\u001b[38;5;241m=\u001b[39m\u001b[38;5;28mself\u001b[39m\u001b[38;5;241m.\u001b[39muse_DOT,\n\u001b[1;32m    487\u001b[0m                             dot_lang\u001b[38;5;241m=\u001b[39m\u001b[38;5;28mself\u001b[39m\u001b[38;5;241m.\u001b[39mdot_lang,\n\u001b[1;32m    488\u001b[0m                             widget\u001b[38;5;241m=\u001b[39m\u001b[38;5;28mself\u001b[39m\u001b[38;5;241m.\u001b[39mwidget,\n\u001b[1;32m    489\u001b[0m                             bgcolor\u001b[38;5;241m=\u001b[39m\u001b[38;5;28mself\u001b[39m\u001b[38;5;241m.\u001b[39mbgcolor,\n\u001b[1;32m    490\u001b[0m                             conf\u001b[38;5;241m=\u001b[39m\u001b[38;5;28mself\u001b[39m\u001b[38;5;241m.\u001b[39mconf,\n\u001b[1;32m    491\u001b[0m                             tooltip_link\u001b[38;5;241m=\u001b[39muse_link_template,\n\u001b[1;32m    492\u001b[0m                             neighborhood_highlight\u001b[38;5;241m=\u001b[39m\u001b[38;5;28mself\u001b[39m\u001b[38;5;241m.\u001b[39mneighborhood_highlight,\n\u001b[1;32m    493\u001b[0m                             select_menu\u001b[38;5;241m=\u001b[39m\u001b[38;5;28mself\u001b[39m\u001b[38;5;241m.\u001b[39mselect_menu,\n\u001b[1;32m    494\u001b[0m                             filter_menu\u001b[38;5;241m=\u001b[39m\u001b[38;5;28mself\u001b[39m\u001b[38;5;241m.\u001b[39mfilter_menu,\n\u001b[1;32m    495\u001b[0m                             notebook\u001b[38;5;241m=\u001b[39mnotebook,\n\u001b[1;32m    496\u001b[0m                             cdn_resources\u001b[38;5;241m=\u001b[39m\u001b[38;5;28mself\u001b[39m\u001b[38;5;241m.\u001b[39mcdn_resources\n\u001b[1;32m    497\u001b[0m                             )\n\u001b[1;32m    498\u001b[0m \u001b[38;5;28;01mreturn\u001b[39;00m \u001b[38;5;28mself\u001b[39m\u001b[38;5;241m.\u001b[39mhtml\n",
      "\u001b[0;31mAttributeError\u001b[0m: 'NoneType' object has no attribute 'render'"
     ]
    }
   ],
   "source": [
    "adj_table = grn.extract_node_neighborhood('Apoe', k=20, hop=2)    \n",
    "adj_nx = nx.from_pandas_edgelist(adj_table)\n",
    "g=net.Network()\n",
    "g.from_nx(adj_nx)\n",
    "g.show('demo.html')"
   ]
  },
  {
   "cell_type": "code",
   "execution_count": null,
   "id": "af18fd5d-39a1-4867-ac27-783aab587bef",
   "metadata": {},
   "outputs": [],
   "source": []
  },
  {
   "cell_type": "code",
   "execution_count": null,
   "id": "a5281f18-db81-46fa-90cc-a5749686e9df",
   "metadata": {},
   "outputs": [],
   "source": []
  },
  {
   "cell_type": "code",
   "execution_count": null,
   "id": "c8267d59-6819-43e4-9f81-61bdffb12290",
   "metadata": {},
   "outputs": [],
   "source": []
  },
  {
   "cell_type": "code",
   "execution_count": null,
   "id": "f8940612-7c4e-4031-bb3f-3c5f33d4e329",
   "metadata": {},
   "outputs": [],
   "source": []
  },
  {
   "cell_type": "code",
   "execution_count": null,
   "id": "31ac7e27-46b4-4509-b3fa-79479956c592",
   "metadata": {},
   "outputs": [],
   "source": []
  },
  {
   "cell_type": "code",
   "execution_count": null,
   "id": "1ee29656-6f46-48c9-9de3-cc6bc6ca0d22",
   "metadata": {},
   "outputs": [],
   "source": []
  },
  {
   "cell_type": "code",
   "execution_count": null,
   "id": "41d915f1-8c97-469a-933f-b558295baa37",
   "metadata": {},
   "outputs": [],
   "source": []
  },
  {
   "cell_type": "code",
   "execution_count": null,
   "id": "16be23f9-eee6-4fd7-a296-d0009f6b1737",
   "metadata": {},
   "outputs": [],
   "source": []
  },
  {
   "cell_type": "code",
   "execution_count": null,
   "id": "0094002c-a288-495f-b779-0dbd24654718",
   "metadata": {},
   "outputs": [],
   "source": []
  },
  {
   "cell_type": "code",
   "execution_count": null,
   "id": "86e9d146-8acf-410c-9938-945441c40037",
   "metadata": {},
   "outputs": [],
   "source": []
  },
  {
   "cell_type": "markdown",
   "id": "6e58094f-1cbb-4f02-a96a-bea13b72b82d",
   "metadata": {},
   "source": [
    "# Atlas\n",
    "## Microglia"
   ]
  },
  {
   "cell_type": "code",
   "execution_count": 5,
   "id": "9a6a4b93-8a52-4961-a9bc-24a069382b81",
   "metadata": {},
   "outputs": [
    {
     "name": "stderr",
     "output_type": "stream",
     "text": [
      "/cluster/tufts/slonimlab/hzhu07/miniconda3/envs/grn/lib/python3.11/site-packages/scanpy/preprocessing/_simple.py:248: ImplicitModificationWarning: Trying to modify attribute `.var` of view, initializing view as actual.\n",
      "  adata.var['n_counts'] = number\n",
      "Training loss: 0.245: 100%|██████████| 100/100 [01:31<00:00,  1.09it/s]\n"
     ]
    },
    {
     "name": "stdout",
     "output_type": "stream",
     "text": [
      "Inferred GRN: 10,010 TFs x 10,010 Target Genes\n"
     ]
    },
    {
     "data": {
      "image/png": "[encoded data removed]",
      "text/plain": [
       "<Figure size 640x480 with 1 Axes>"
      ]
     },
     "metadata": {},
     "output_type": "display_data"
    }
   ],
   "source": [
    "# Run experiment\n",
    "configs = DEFAULT_REGDIFFUSION_CONFIGS\n",
    "configs['verbose'] = True\n",
    "configs['n_epoch'] = 100\n",
    "configs['lr_adj'] = 2e-5\n",
    "configs['eval_on_n_steps'] = 1\n",
    "experiment_results['Microglia'] = run_cerebellum_experiment('Microglia', configs)\n",
    "\n",
    "print(experiment_results['Microglia'])\n",
    "# Training Plot\n",
    "loss_plot = sns.lineplot(experiment_results['Microglia'].training_losses)\n",
    "loss_plot.set(xlabel='Steps', ylabel='Training Loss')\n",
    "plt.show()"
   ]
  },
  {
   "cell_type": "code",
   "execution_count": 8,
   "id": "aef024fa-1355-45f2-83f7-6c10324577fc",
   "metadata": {},
   "outputs": [],
   "source": [
    "with open('data/pathway/m5.go.v2023.2.Mm.json', 'r') as f:\n",
    "    go = json.load(f)"
   ]
  },
  {
   "cell_type": "code",
   "execution_count": 9,
   "id": "fe319389-a332-4ff9-9d53-7eaa13c44579",
   "metadata": {},
   "outputs": [
    {
     "name": "stderr",
     "output_type": "stream",
     "text": [
      "100%|██████████| 10010/10010 [00:13<00:00, 768.17it/s]\n"
     ]
    }
   ],
   "source": [
    "neighbor_dict = {}\n",
    "for gene in tqdm(experiment_results['Microglia'].gene_names):\n",
    "    neighbors = experiment_results['Microglia'].extract_node_neighbors(\n",
    "                    gene, k=10\n",
    "                )\n",
    "    neighbor_dict[gene] = neighbors\n",
    "    # neighbor_dict[gene]"
   ]
  },
  {
   "cell_type": "code",
   "execution_count": 10,
   "id": "a8f24d2a-eade-4186-a89a-338ce519fc68",
   "metadata": {},
   "outputs": [
    {
     "name": "stderr",
     "output_type": "stream",
     "text": [
      "100%|██████████| 10662/10662 [00:30<00:00, 350.51it/s]\n"
     ]
    }
   ],
   "source": [
    "from multiprocessing import Pool\n",
    "from scipy.stats import hypergeom\n",
    "\n",
    "\n",
    "inferred_genes = experiment_results['Microglia'].gene_names\n",
    "\n",
    "def process_go(go_term):\n",
    "    gene_set = set([\n",
    "        g for g in go[go_term]['geneSymbols'] if \n",
    "        g in inferred_genes\n",
    "    ])\n",
    "    # gene_set = set(go[go_term]['geneSymbols'])\n",
    "    all_nets_df = []\n",
    "    for gene in gene_set:\n",
    "        all_nets_df.append(neighbor_dict[gene])\n",
    "    if len(all_nets_df) == 0:\n",
    "        return {'go_term': go_term, 'p_value': 1,\n",
    "            'TP': 0, 'FP': 0, 'P': 0, \n",
    "            'gene_set': gene_set, 'full_gene_set': go[go_term]['geneSymbols'], \n",
    "            'TP_set': set()}\n",
    "    all_nets_df = pd.concat(all_nets_df)\n",
    "    all_nets_df = all_nets_df.drop_duplicates()\n",
    "    all_nets_df['Edge'] = all_nets_df['Source'] + ' -> ' + all_nets_df['Target']\n",
    "\n",
    "    P = all_nets_df.shape[0]\n",
    "    TP_set = set()\n",
    "    FP_set_count = 0\n",
    "    for i, r in all_nets_df.iterrows():\n",
    "        if r['Source'] in gene_set and r['Target'] in gene_set:\n",
    "            TP_set.add(r['Edge'])\n",
    "        else:\n",
    "            FP_set_count+=1\n",
    "\n",
    "    M = len(inferred_genes) * (len(inferred_genes) - 1)\n",
    "    n = len(gene_set) * (len(gene_set) - 1)\n",
    "    N = P\n",
    "    x = len(TP_set)\n",
    "    \n",
    "    p_value = hypergeom.sf(x-1, M, n, N)\n",
    "    \n",
    "    return {'go_term': go_term, 'p_value': p_value,\n",
    "            'TP': len(TP_set), 'FP': FP_set_count, 'P': P, \n",
    "            'gene_set': gene_set, 'full_gene_set': go[go_term]['geneSymbols'], \n",
    "            'TP_set': TP_set}\n",
    "\n",
    "if __name__ == '__main__':\n",
    "   with Pool(6) as p:\n",
    "      go_jaccard = list(tqdm(p.imap(process_go, go.keys()), total=len(go)))"
   ]
  },
  {
   "cell_type": "code",
   "execution_count": 11,
   "id": "1d235755-d050-4696-b1e0-c6421595ba62",
   "metadata": {},
   "outputs": [],
   "source": [
    "go_jaccard = pd.DataFrame(go_jaccard)\n",
    "# go_jaccard['TP'] = go_jaccard['TP_set'].map(len)\n",
    "go_jaccard = go_jaccard.sort_values('p_value', ascending=True).reset_index()"
   ]
  },
  {
   "cell_type": "code",
   "execution_count": 12,
   "id": "d9419dfb-49f2-4539-a931-30cd95f45c95",
   "metadata": {},
   "outputs": [],
   "source": [
    "go_jaccard['rank'] = go_jaccard.index + 1"
   ]
  },
  {
   "cell_type": "code",
   "execution_count": 13,
   "id": "702a970a-1db6-46db-96fc-df861d321b9f",
   "metadata": {},
   "outputs": [],
   "source": [
    "go_jaccard['adjust_p'] = go_jaccard['p_value'] * go_jaccard['rank'] / go_jaccard.shape[0] \n"
   ]
  },
  {
   "cell_type": "code",
   "execution_count": 14,
   "id": "d778eb48-4db3-40f5-9fcf-30ea527f41f5",
   "metadata": {},
   "outputs": [
    {
     "data": {
      "text/html": [
       "<div>\n",
       "<style scoped>\n",
       "    .dataframe tbody tr th:only-of-type {\n",
       "        vertical-align: middle;\n",
       "    }\n",
       "\n",
       "    .dataframe tbody tr th {\n",
       "        vertical-align: top;\n",
       "    }\n",
       "\n",
       "    .dataframe thead th {\n",
       "        text-align: right;\n",
       "    }\n",
       "</style>\n",
       "<table border=\"1\" class=\"dataframe\">\n",
       "  <thead>\n",
       "    <tr style=\"text-align: right;\">\n",
       "      <th></th>\n",
       "      <th>index</th>\n",
       "      <th>go_term</th>\n",
       "      <th>p_value</th>\n",
       "      <th>TP</th>\n",
       "      <th>FP</th>\n",
       "      <th>P</th>\n",
       "      <th>gene_set</th>\n",
       "      <th>full_gene_set</th>\n",
       "      <th>TP_set</th>\n",
       "      <th>rank</th>\n",
       "      <th>adjust_p</th>\n",
       "    </tr>\n",
       "  </thead>\n",
       "  <tbody>\n",
       "    <tr>\n",
       "      <th>91</th>\n",
       "      <td>3840</td>\n",
       "      <td>GOBP_BIOLOGICAL_PROCESS_INVOLVED_IN_INTERSPECI...</td>\n",
       "      <td>0.0</td>\n",
       "      <td>1005</td>\n",
       "      <td>7329</td>\n",
       "      <td>8334</td>\n",
       "      <td>{Traf3ip3, Ccl9, Fbxo3, Ceacam1, Mx1, Nfkbia, ...</td>\n",
       "      <td>[1500002F19Rik, 1810065E05Rik, 4931428L18Rik, ...</td>\n",
       "      <td>{Gpx1 -&gt; Ifitm3, Lgr4 -&gt; Cebpb, H2-K1 -&gt; Cd37,...</td>\n",
       "      <td>92</td>\n",
       "      <td>0.0</td>\n",
       "    </tr>\n",
       "    <tr>\n",
       "      <th>81</th>\n",
       "      <td>2263</td>\n",
       "      <td>GOBP_ACTIN_FILAMENT_BASED_PROCESS</td>\n",
       "      <td>0.0</td>\n",
       "      <td>324</td>\n",
       "      <td>4247</td>\n",
       "      <td>4571</td>\n",
       "      <td>{Lima1, Stau2, Myo5a, Phactr1, Plekhh2, Dnajb6...</td>\n",
       "      <td>[4930544G11Rik, Abcc9, Abi2, Abi3bp, Abitram, ...</td>\n",
       "      <td>{Nedd4l -&gt; Rap1gds1, Actb -&gt; Lpin1, Tmsb4x -&gt; ...</td>\n",
       "      <td>82</td>\n",
       "      <td>0.0</td>\n",
       "    </tr>\n",
       "    <tr>\n",
       "      <th>82</th>\n",
       "      <td>3803</td>\n",
       "      <td>GOBP_REGULATION_OF_CELLULAR_COMPONENT_BIOGENESIS</td>\n",
       "      <td>0.0</td>\n",
       "      <td>468</td>\n",
       "      <td>5953</td>\n",
       "      <td>6421</td>\n",
       "      <td>{Stub1, Gdi2, Stau2, Epn1, Mien1, Ice1, Pink1,...</td>\n",
       "      <td>[Abca1, Abca2, Abca3, Abcb7, Abi2, Abi3, Abi3b...</td>\n",
       "      <td>{Tchp -&gt; Ep300, Dynll1 -&gt; Sdcbp, Csnk1a1 -&gt; Ar...</td>\n",
       "      <td>83</td>\n",
       "      <td>0.0</td>\n",
       "    </tr>\n",
       "    <tr>\n",
       "      <th>83</th>\n",
       "      <td>3761</td>\n",
       "      <td>GOBP_AMIDE_METABOLIC_PROCESS</td>\n",
       "      <td>0.0</td>\n",
       "      <td>460</td>\n",
       "      <td>6557</td>\n",
       "      <td>7017</td>\n",
       "      <td>{Pum3, Pink1, Hexb, Mrps21, St3gal2, Mtif2, Yb...</td>\n",
       "      <td>[6430550D23Rik, 9130409I23Rik, Aadat, Aanat, A...</td>\n",
       "      <td>{Pld1 -&gt; Mtor, H13 -&gt; Bzw2, Tmed10 -&gt; Trnt1, G...</td>\n",
       "      <td>84</td>\n",
       "      <td>0.0</td>\n",
       "    </tr>\n",
       "    <tr>\n",
       "      <th>84</th>\n",
       "      <td>8664</td>\n",
       "      <td>GOCC_BOUNDING_MEMBRANE_OF_ORGANELLE</td>\n",
       "      <td>0.0</td>\n",
       "      <td>737</td>\n",
       "      <td>7745</td>\n",
       "      <td>8482</td>\n",
       "      <td>{Rab3c, Reep5, Traf3ip3, Golga5, Chst1, Epn1, ...</td>\n",
       "      <td>[0610009B22Rik, 4930550C14Rik, Abca12, Abca2, ...</td>\n",
       "      <td>{Dnajc13 -&gt; Clint1, B4galt4 -&gt; Calm2, Tprgl -&gt;...</td>\n",
       "      <td>85</td>\n",
       "      <td>0.0</td>\n",
       "    </tr>\n",
       "    <tr>\n",
       "      <th>85</th>\n",
       "      <td>8665</td>\n",
       "      <td>GOCC_PLASMA_MEMBRANE_REGION</td>\n",
       "      <td>0.0</td>\n",
       "      <td>450</td>\n",
       "      <td>6069</td>\n",
       "      <td>6519</td>\n",
       "      <td>{Lima1, Igf1r, Epn1, Apba1, Ceacam1, Akap1, St...</td>\n",
       "      <td>[4930544G11Rik, Aak1, Abca1, Abca7, Abca8b, Ab...</td>\n",
       "      <td>{Gna13 -&gt; Cltc, Sh3bgrl3 -&gt; Trappc4, Grik2 -&gt; ...</td>\n",
       "      <td>86</td>\n",
       "      <td>0.0</td>\n",
       "    </tr>\n",
       "    <tr>\n",
       "      <th>86</th>\n",
       "      <td>8498</td>\n",
       "      <td>GOCC_PERINUCLEAR_REGION_OF_CYTOPLASM</td>\n",
       "      <td>0.0</td>\n",
       "      <td>288</td>\n",
       "      <td>4120</td>\n",
       "      <td>4408</td>\n",
       "      <td>{Rab3c, Ncoa3, Pink1, Mx1, Laptm5, Stxbp1, Ybx...</td>\n",
       "      <td>[0610009B22Rik, 1110017D15Rik, Aanat, Abca1, A...</td>\n",
       "      <td>{Kif5b -&gt; Dnajb2, Sec31a -&gt; Kcnma1, Apex1 -&gt; L...</td>\n",
       "      <td>87</td>\n",
       "      <td>0.0</td>\n",
       "    </tr>\n",
       "    <tr>\n",
       "      <th>87</th>\n",
       "      <td>3930</td>\n",
       "      <td>GOBP_ESTABLISHMENT_OF_PROTEIN_LOCALIZATION</td>\n",
       "      <td>0.0</td>\n",
       "      <td>1434</td>\n",
       "      <td>10357</td>\n",
       "      <td>11791</td>\n",
       "      <td>{Rab3c, Bloc1s6, Gdi2, Rab18, Apba1, Copg1, Ic...</td>\n",
       "      <td>[1700009N14Rik, 2700049A03Rik, 4930550C14Rik, ...</td>\n",
       "      <td>{Madd -&gt; Smad2, Gapvd1 -&gt; Lamp2, Ap3b2 -&gt; Rab3...</td>\n",
       "      <td>88</td>\n",
       "      <td>0.0</td>\n",
       "    </tr>\n",
       "    <tr>\n",
       "      <th>88</th>\n",
       "      <td>1441</td>\n",
       "      <td>GOBP_EMBRYO_DEVELOPMENT</td>\n",
       "      <td>0.0</td>\n",
       "      <td>525</td>\n",
       "      <td>6331</td>\n",
       "      <td>6856</td>\n",
       "      <td>{Epn1, Ncoa3, Apba1, Ube2a, Ift57, Ttll4, Chto...</td>\n",
       "      <td>[1700067K01Rik, 2610005L07Rik, 4933434E20Rik, ...</td>\n",
       "      <td>{Smg9 -&gt; Eya4, Zeb2 -&gt; Rpgrip1l, Apba1 -&gt; Spec...</td>\n",
       "      <td>89</td>\n",
       "      <td>0.0</td>\n",
       "    </tr>\n",
       "    <tr>\n",
       "      <th>89</th>\n",
       "      <td>9775</td>\n",
       "      <td>GOMF_KINASE_BINDING</td>\n",
       "      <td>0.0</td>\n",
       "      <td>428</td>\n",
       "      <td>5383</td>\n",
       "      <td>5811</td>\n",
       "      <td>{Stub1, Stau2, Apba1, Ceacam1, Cdk12, Pink1, A...</td>\n",
       "      <td>[4930544G11Rik, Aatf, Abl1, Acaca, Ace, Acp4, ...</td>\n",
       "      <td>{Rheb -&gt; Ttc28, Sike1 -&gt; Ksr1, Nek9 -&gt; Frs2, G...</td>\n",
       "      <td>90</td>\n",
       "      <td>0.0</td>\n",
       "    </tr>\n",
       "    <tr>\n",
       "      <th>90</th>\n",
       "      <td>7960</td>\n",
       "      <td>GOCC_GOLGI_APPARATUS</td>\n",
       "      <td>0.0</td>\n",
       "      <td>992</td>\n",
       "      <td>8467</td>\n",
       "      <td>9459</td>\n",
       "      <td>{Traf3ip3, Golga5, Gdi2, Chst1, Rab18, Mppe1, ...</td>\n",
       "      <td>[1810055G02Rik, 4930402F06Rik, 4930568D16Rik, ...</td>\n",
       "      <td>{Slc35a2 -&gt; Slc50a1, Pld1 -&gt; Mtor, Bst2 -&gt; Nuc...</td>\n",
       "      <td>91</td>\n",
       "      <td>0.0</td>\n",
       "    </tr>\n",
       "    <tr>\n",
       "      <th>80</th>\n",
       "      <td>5980</td>\n",
       "      <td>GOBP_CIRCULATORY_SYSTEM_DEVELOPMENT</td>\n",
       "      <td>0.0</td>\n",
       "      <td>452</td>\n",
       "      <td>5412</td>\n",
       "      <td>5864</td>\n",
       "      <td>{Epn1, Ceacam1, Ift57, Ubp1, Nedd4, Stab1, Gre...</td>\n",
       "      <td>[2810429I04Rik, AW551984, Abcc8, Abcc9, Abi3bp...</td>\n",
       "      <td>{Sparc -&gt; Hmgb1, Hpgd -&gt; Abl2, Gsk3b -&gt; Ank2, ...</td>\n",
       "      <td>81</td>\n",
       "      <td>0.0</td>\n",
       "    </tr>\n",
       "    <tr>\n",
       "      <th>92</th>\n",
       "      <td>3779</td>\n",
       "      <td>GOBP_POST_TRANSLATIONAL_PROTEIN_MODIFICATION</td>\n",
       "      <td>0.0</td>\n",
       "      <td>587</td>\n",
       "      <td>6913</td>\n",
       "      <td>7500</td>\n",
       "      <td>{Stub1, Ube2a, Pink1, Laptm5, Tor1a, Med17, Dd...</td>\n",
       "      <td>[Abca2, Abcb11, Abl1, Abraxas1, Abraxas2, Actl...</td>\n",
       "      <td>{Otud5 -&gt; Topors, Rnf213 -&gt; Rassf5, Usp9x -&gt; E...</td>\n",
       "      <td>93</td>\n",
       "      <td>0.0</td>\n",
       "    </tr>\n",
       "    <tr>\n",
       "      <th>93</th>\n",
       "      <td>9278</td>\n",
       "      <td>GOMF_CYTOSKELETAL_PROTEIN_BINDING</td>\n",
       "      <td>0.0</td>\n",
       "      <td>432</td>\n",
       "      <td>5618</td>\n",
       "      <td>6050</td>\n",
       "      <td>{Rab3c, Bloc1s6, Lima1, Stau2, Ccser2, Ceacam1...</td>\n",
       "      <td>[1110017D15Rik, Aatf, Abcg2, Abi3bp, Abitram, ...</td>\n",
       "      <td>{Slc8a1 -&gt; Ophn1, Dst -&gt; Picalm, Arl4c -&gt; Vamp...</td>\n",
       "      <td>94</td>\n",
       "      <td>0.0</td>\n",
       "    </tr>\n",
       "    <tr>\n",
       "      <th>94</th>\n",
       "      <td>8250</td>\n",
       "      <td>GOCC_ENVELOPE</td>\n",
       "      <td>0.0</td>\n",
       "      <td>581</td>\n",
       "      <td>7792</td>\n",
       "      <td>8373</td>\n",
       "      <td>{Traf3ip3, Gatm, Stau2, Snn, Mrps21, Pink1, Mx...</td>\n",
       "      <td>[0610009B22Rik, 1600014C10Rik, 4930550C14Rik, ...</td>\n",
       "      <td>{Nxt1 -&gt; Nos1ap, Ndufs7 -&gt; Ubb, Polg -&gt; Hk1, A...</td>\n",
       "      <td>95</td>\n",
       "      <td>0.0</td>\n",
       "    </tr>\n",
       "    <tr>\n",
       "      <th>95</th>\n",
       "      <td>1010</td>\n",
       "      <td>GOBP_DEFENSE_RESPONSE</td>\n",
       "      <td>0.0</td>\n",
       "      <td>1179</td>\n",
       "      <td>7194</td>\n",
       "      <td>8373</td>\n",
       "      <td>{Traf3ip3, Ccl9, Chst1, Ceacam1, Nfkbia, Mx1, ...</td>\n",
       "      <td>[9230019H11Rik, 9530003J23Rik, 9930111J21Rik1,...</td>\n",
       "      <td>{C1qa -&gt; Laptm5, Gpx1 -&gt; Ifitm3, Cst3 -&gt; Abhd1...</td>\n",
       "      <td>96</td>\n",
       "      <td>0.0</td>\n",
       "    </tr>\n",
       "    <tr>\n",
       "      <th>4</th>\n",
       "      <td>1990</td>\n",
       "      <td>GOBP_PEPTIDYL_AMINO_ACID_MODIFICATION</td>\n",
       "      <td>0.0</td>\n",
       "      <td>443</td>\n",
       "      <td>5833</td>\n",
       "      <td>6276</td>\n",
       "      <td>{Igf1r, Pink1, Tlk1, Dclk2, Dmap1, Ttll4, Cd30...</td>\n",
       "      <td>[Aatk, Abi1, Abi2, Abi3, Abl1, Abl2, Ace, Actl...</td>\n",
       "      <td>{Dph3 -&gt; Nfyc, Cass4 -&gt; Ttll7, Ptk2b -&gt; Tpst2,...</td>\n",
       "      <td>5</td>\n",
       "      <td>0.0</td>\n",
       "    </tr>\n",
       "    <tr>\n",
       "      <th>5</th>\n",
       "      <td>1936</td>\n",
       "      <td>GOBP_PHOSPHORYLATION</td>\n",
       "      <td>0.0</td>\n",
       "      <td>1193</td>\n",
       "      <td>8779</td>\n",
       "      <td>9972</td>\n",
       "      <td>{Igf1r, Ceacam1, Cdk12, Dclk2, Pink1, Tlk1, Nu...</td>\n",
       "      <td>[1810024B03Rik, 2610042L04Rik, 4921509C19Rik, ...</td>\n",
       "      <td>{Ptges3 -&gt; Fes, Dyrk1a -&gt; Cd86, Dynll1 -&gt; Sdcb...</td>\n",
       "      <td>6</td>\n",
       "      <td>0.0</td>\n",
       "    </tr>\n",
       "    <tr>\n",
       "      <th>38</th>\n",
       "      <td>297</td>\n",
       "      <td>GOBP_IMMUNE_EFFECTOR_PROCESS</td>\n",
       "      <td>0.0</td>\n",
       "      <td>293</td>\n",
       "      <td>3070</td>\n",
       "      <td>3363</td>\n",
       "      <td>{Ceacam1, Laptm5, Stxbp1, Cd300a, Snx4, Pdpk1,...</td>\n",
       "      <td>[2410137M14Rik, 6030468B19Rik, 9230019H11Rik, ...</td>\n",
       "      <td>{C1qa -&gt; Laptm5, Il6ra -&gt; Rac2, Ctsh -&gt; Cd81, ...</td>\n",
       "      <td>39</td>\n",
       "      <td>0.0</td>\n",
       "    </tr>\n",
       "    <tr>\n",
       "      <th>39</th>\n",
       "      <td>1553</td>\n",
       "      <td>GOBP_POSITIVE_REGULATION_OF_GENE_EXPRESSION</td>\n",
       "      <td>0.0</td>\n",
       "      <td>538</td>\n",
       "      <td>6162</td>\n",
       "      <td>6700</td>\n",
       "      <td>{Traf3ip3, Ncoa3, Pink1, Laptm5, Ybx1, Sf3b4, ...</td>\n",
       "      <td>[4930402K13Rik, 4930480E11Rik, 4931414P19Rik, ...</td>\n",
       "      <td>{Icosl -&gt; Tcf12, Dyrk1a -&gt; Cd86, Rab2b -&gt; Pibf...</td>\n",
       "      <td>40</td>\n",
       "      <td>0.0</td>\n",
       "    </tr>\n",
       "    <tr>\n",
       "      <th>40</th>\n",
       "      <td>1554</td>\n",
       "      <td>GOBP_NEGATIVE_REGULATION_OF_GENE_EXPRESSION</td>\n",
       "      <td>0.0</td>\n",
       "      <td>571</td>\n",
       "      <td>6180</td>\n",
       "      <td>6751</td>\n",
       "      <td>{Ceacam1, Pink1, Laptm5, Ybx1, Zfp281, Cirbp, ...</td>\n",
       "      <td>[4931406B18Rik, A1cf, Abcc2, Abcd1, Abcd2, Aca...</td>\n",
       "      <td>{Eif4enif1 -&gt; Fcgr2b, Axin1 -&gt; Gsk3b, Kcnq1ot1...</td>\n",
       "      <td>41</td>\n",
       "      <td>0.0</td>\n",
       "    </tr>\n",
       "    <tr>\n",
       "      <th>70</th>\n",
       "      <td>7950</td>\n",
       "      <td>GOCC_VACUOLE</td>\n",
       "      <td>0.0</td>\n",
       "      <td>311</td>\n",
       "      <td>3867</td>\n",
       "      <td>4178</td>\n",
       "      <td>{Traf3ip3, Hexb, Laptm5, Myo5a, Mcoln1, Sh3glb...</td>\n",
       "      <td>[4930486L24Rik, AY761185, Abca2, Abca3, Abca5,...</td>\n",
       "      <td>{Arl8a -&gt; Gaa, Shkbp1 -&gt; Ctsl, Ppt1 -&gt; Psap, S...</td>\n",
       "      <td>71</td>\n",
       "      <td>0.0</td>\n",
       "    </tr>\n",
       "    <tr>\n",
       "      <th>150</th>\n",
       "      <td>1138</td>\n",
       "      <td>GOBP_CELL_CELL_SIGNALING</td>\n",
       "      <td>0.0</td>\n",
       "      <td>733</td>\n",
       "      <td>7757</td>\n",
       "      <td>8490</td>\n",
       "      <td>{Igf1r, Stau2, Apba1, Pink1, Cacna2d2, Tor1a, ...</td>\n",
       "      <td>[2210016L21Rik, 2610042L04Rik, Aacs, Abat, Abc...</td>\n",
       "      <td>{Madd -&gt; Smad2, Tmf1 -&gt; Ina, Pak1 -&gt; Acvr2a, R...</td>\n",
       "      <td>151</td>\n",
       "      <td>0.0</td>\n",
       "    </tr>\n",
       "    <tr>\n",
       "      <th>151</th>\n",
       "      <td>8052</td>\n",
       "      <td>GOCC_MICROTUBULE_CYTOSKELETON</td>\n",
       "      <td>0.0</td>\n",
       "      <td>581</td>\n",
       "      <td>7598</td>\n",
       "      <td>8179</td>\n",
       "      <td>{Stau2, Ccser2, Ift57, Reep3, Nuak1, Ttll4, Dc...</td>\n",
       "      <td>[1110017D15Rik, 1700012B09Rik, 1700029J07Rik, ...</td>\n",
       "      <td>{Ttc28 -&gt; Disc1, Dyrk1a -&gt; Cd86, Dlg1 -&gt; Cep70...</td>\n",
       "      <td>152</td>\n",
       "      <td>0.0</td>\n",
       "    </tr>\n",
       "    <tr>\n",
       "      <th>152</th>\n",
       "      <td>1171</td>\n",
       "      <td>GOBP_CENTRAL_NERVOUS_SYSTEM_DEVELOPMENT</td>\n",
       "      <td>0.0</td>\n",
       "      <td>342</td>\n",
       "      <td>4848</td>\n",
       "      <td>5190</td>\n",
       "      <td>{Igf1r, Dclk2, Glis2, Phactr1, Itgb1, Zbtb16, ...</td>\n",
       "      <td>[9630013A20Rik, Aars, Aatk, Abca2, Abcb1b, Abc...</td>\n",
       "      <td>{Zeb2 -&gt; Rpgrip1l, Ppt1 -&gt; Psap, Ptprj -&gt; Wdr6...</td>\n",
       "      <td>153</td>\n",
       "      <td>0.0</td>\n",
       "    </tr>\n",
       "    <tr>\n",
       "      <th>153</th>\n",
       "      <td>6787</td>\n",
       "      <td>GOBP_ORGANONITROGEN_COMPOUND_CATABOLIC_PROCESS</td>\n",
       "      <td>0.0</td>\n",
       "      <td>1081</td>\n",
       "      <td>7869</td>\n",
       "      <td>8950</td>\n",
       "      <td>{Stub1, Fbxo3, Ceacam1, Hexb, Laptm5, Timp2, T...</td>\n",
       "      <td>[1700016K19Rik, 4930438A08Rik, 4930486L24Rik, ...</td>\n",
       "      <td>{Otud5 -&gt; Topors, Nudt13 -&gt; Ngly1, Bbs7 -&gt; Nup...</td>\n",
       "      <td>154</td>\n",
       "      <td>0.0</td>\n",
       "    </tr>\n",
       "    <tr>\n",
       "      <th>0</th>\n",
       "      <td>4762</td>\n",
       "      <td>GOBP_REGULATION_OF_PHOSPHORUS_METABOLIC_PROCESS</td>\n",
       "      <td>0.0</td>\n",
       "      <td>679</td>\n",
       "      <td>6804</td>\n",
       "      <td>7483</td>\n",
       "      <td>{Igf1r, Ceacam1, Cdk12, Pink1, Akap1, Nuak1, M...</td>\n",
       "      <td>[2610042L04Rik, 2810408A11Rik, Abca2, Abca3, A...</td>\n",
       "      <td>{Dynll1 -&gt; Sdcbp, Pak1 -&gt; Acvr2a, Prkcd -&gt; BC0...</td>\n",
       "      <td>1</td>\n",
       "      <td>0.0</td>\n",
       "    </tr>\n",
       "    <tr>\n",
       "      <th>1</th>\n",
       "      <td>1920</td>\n",
       "      <td>GOBP_VESICLE_MEDIATED_TRANSPORT</td>\n",
       "      <td>0.0</td>\n",
       "      <td>1258</td>\n",
       "      <td>8758</td>\n",
       "      <td>10016</td>\n",
       "      <td>{Rab3c, Tmem50a, Bloc1s6, Gdi2, Golga5, Epn1, ...</td>\n",
       "      <td>[0610009B22Rik, 4933434E20Rik, 5730455P16Rik, ...</td>\n",
       "      <td>{Rcsd1 -&gt; Wdr44, Ptafr -&gt; Plaa, Uevld -&gt; Insr,...</td>\n",
       "      <td>2</td>\n",
       "      <td>0.0</td>\n",
       "    </tr>\n",
       "    <tr>\n",
       "      <th>2</th>\n",
       "      <td>4263</td>\n",
       "      <td>GOBP_LYMPHOCYTE_ACTIVATION</td>\n",
       "      <td>0.0</td>\n",
       "      <td>320</td>\n",
       "      <td>4329</td>\n",
       "      <td>4649</td>\n",
       "      <td>{Bloc1s6, Lst1, Ceacam1, Ddost, Laptm5, Nedd4,...</td>\n",
       "      <td>[6030468B19Rik, 9230019H11Rik, Abl1, Abl2, Act...</td>\n",
       "      <td>{Gpr183 -&gt; Syvn1, Trp53bp1 -&gt; Zc3h8, H2-K1 -&gt; ...</td>\n",
       "      <td>3</td>\n",
       "      <td>0.0</td>\n",
       "    </tr>\n",
       "    <tr>\n",
       "      <th>3</th>\n",
       "      <td>5191</td>\n",
       "      <td>GOBP_EPITHELIUM_DEVELOPMENT</td>\n",
       "      <td>0.0</td>\n",
       "      <td>434</td>\n",
       "      <td>5317</td>\n",
       "      <td>5751</td>\n",
       "      <td>{Igf1r, Ncoa3, Ceacam1, Ift57, Tor1a, Myo5a, G...</td>\n",
       "      <td>[Abca12, Abcb1b, Abi1, Abi2, Abl1, Abl2, Actb,...</td>\n",
       "      <td>{Zeb2 -&gt; Rpgrip1l, Slc8a1 -&gt; Ophn1, Gna13 -&gt; I...</td>\n",
       "      <td>4</td>\n",
       "      <td>0.0</td>\n",
       "    </tr>\n",
       "    <tr>\n",
       "      <th>68</th>\n",
       "      <td>7900</td>\n",
       "      <td>GOCC_EXTRACELLULAR_SPACE</td>\n",
       "      <td>0.0</td>\n",
       "      <td>488</td>\n",
       "      <td>3425</td>\n",
       "      <td>3913</td>\n",
       "      <td>{Ccl9, Ceacam1, Hexb, Timp2, Fam3c, Nrn1, Ybx1...</td>\n",
       "      <td>[1700037H04Rik, 1810009J06Rik, 2310057J18Rik, ...</td>\n",
       "      <td>{Sparc -&gt; Hmgb1, Ppt1 -&gt; Psap, C1qa -&gt; Ctsz, I...</td>\n",
       "      <td>69</td>\n",
       "      <td>0.0</td>\n",
       "    </tr>\n",
       "    <tr>\n",
       "      <th>69</th>\n",
       "      <td>7946</td>\n",
       "      <td>GOCC_ENDOSOME</td>\n",
       "      <td>0.0</td>\n",
       "      <td>621</td>\n",
       "      <td>5853</td>\n",
       "      <td>6474</td>\n",
       "      <td>{Rab3c, Bloc1s6, Epn1, Plekhj1, Myo5a, Mcoln1,...</td>\n",
       "      <td>[2610528J11Rik, Abca1, Abca2, Abca3, Abca5, Ab...</td>\n",
       "      <td>{Phb -&gt; Sla, Gapvd1 -&gt; Lamp2, Rcsd1 -&gt; Wdr44, ...</td>\n",
       "      <td>70</td>\n",
       "      <td>0.0</td>\n",
       "    </tr>\n",
       "    <tr>\n",
       "      <th>41</th>\n",
       "      <td>6374</td>\n",
       "      <td>GOBP_IMPORT_INTO_CELL</td>\n",
       "      <td>0.0</td>\n",
       "      <td>427</td>\n",
       "      <td>4837</td>\n",
       "      <td>5264</td>\n",
       "      <td>{Epn1, Dock1, Ceacam1, Tor1a, Cdc42se1, Nedd4,...</td>\n",
       "      <td>[4933434E20Rik, AU018091, AU040320, Aak1, Abca...</td>\n",
       "      <td>{Rnf216 -&gt; Rabgap1l, Slc8a1 -&gt; Ophn1, Dnajc13 ...</td>\n",
       "      <td>42</td>\n",
       "      <td>0.0</td>\n",
       "    </tr>\n",
       "    <tr>\n",
       "      <th>71</th>\n",
       "      <td>7937</td>\n",
       "      <td>GOCC_MITOCHONDRION</td>\n",
       "      <td>0.0</td>\n",
       "      <td>1224</td>\n",
       "      <td>11339</td>\n",
       "      <td>12563</td>\n",
       "      <td>{Traf3ip3, Lyrm4, Mrps21, Pink1, Akap1, Slc35b...</td>\n",
       "      <td>[1110017D15Rik, 1600014C10Rik, 1700066M21Rik, ...</td>\n",
       "      <td>{Hemk1 -&gt; Tmem186, Ndufs7 -&gt; Ubb, Polg -&gt; Hk1,...</td>\n",
       "      <td>72</td>\n",
       "      <td>0.0</td>\n",
       "    </tr>\n",
       "    <tr>\n",
       "      <th>72</th>\n",
       "      <td>3622</td>\n",
       "      <td>GOBP_REGULATION_OF_PROGRAMMED_CELL_DEATH</td>\n",
       "      <td>0.0</td>\n",
       "      <td>1060</td>\n",
       "      <td>8221</td>\n",
       "      <td>9281</td>\n",
       "      <td>{Igf1r, Mien1, Ncoa3, Pink1, Ift57, Laptm5, St...</td>\n",
       "      <td>[4930453N24Rik, 4930486L24Rik, Aamdc, Aars, Aa...</td>\n",
       "      <td>{Smg9 -&gt; Eya4, Mrgbp -&gt; Krit1, Rest -&gt; Yme1l1,...</td>\n",
       "      <td>73</td>\n",
       "      <td>0.0</td>\n",
       "    </tr>\n",
       "    <tr>\n",
       "      <th>73</th>\n",
       "      <td>3624</td>\n",
       "      <td>GOBP_NEGATIVE_REGULATION_OF_PROGRAMMED_CELL_DEATH</td>\n",
       "      <td>0.0</td>\n",
       "      <td>400</td>\n",
       "      <td>5248</td>\n",
       "      <td>5648</td>\n",
       "      <td>{Igf1r, Mien1, Ncoa3, Pink1, Laptm5, Stxbp1, S...</td>\n",
       "      <td>[Aamdc, Aars, Aatf, Abl1, Abl2, Abraxas2, Acaa...</td>\n",
       "      <td>{Smg9 -&gt; Eya4, Hsp90ab1 -&gt; Pik3cb, Rb1 -&gt; Ago4...</td>\n",
       "      <td>74</td>\n",
       "      <td>0.0</td>\n",
       "    </tr>\n",
       "    <tr>\n",
       "      <th>74</th>\n",
       "      <td>3626</td>\n",
       "      <td>GOBP_POSITIVE_REGULATION_OF_CATALYTIC_ACTIVITY</td>\n",
       "      <td>0.0</td>\n",
       "      <td>569</td>\n",
       "      <td>5543</td>\n",
       "      <td>6112</td>\n",
       "      <td>{Stub1, Ccl9, Igf1r, Ceacam1, Ift57, Timp2, La...</td>\n",
       "      <td>[4930486L24Rik, Abi1, Abi2, Abi3, Abl1, Abl2, ...</td>\n",
       "      <td>{Gnai3 -&gt; Sdhaf4, Mapre2 -&gt; Pot1a, Pfkfb2 -&gt; R...</td>\n",
       "      <td>75</td>\n",
       "      <td>0.0</td>\n",
       "    </tr>\n",
       "    <tr>\n",
       "      <th>75</th>\n",
       "      <td>2264</td>\n",
       "      <td>GOBP_CELL_PROJECTION_ORGANIZATION</td>\n",
       "      <td>0.0</td>\n",
       "      <td>1087</td>\n",
       "      <td>8734</td>\n",
       "      <td>9821</td>\n",
       "      <td>{Bloc1s6, Lima1, Gdi2, Igf1r, Lst1, Mien1, Sta...</td>\n",
       "      <td>[1700012B09Rik, 2700049A03Rik, 4933427D14Rik, ...</td>\n",
       "      <td>{Zeb2 -&gt; Rpgrip1l, Tchp -&gt; Ep300, Dst -&gt; Pical...</td>\n",
       "      <td>76</td>\n",
       "      <td>0.0</td>\n",
       "    </tr>\n",
       "    <tr>\n",
       "      <th>76</th>\n",
       "      <td>3411</td>\n",
       "      <td>GOBP_GROWTH</td>\n",
       "      <td>0.0</td>\n",
       "      <td>450</td>\n",
       "      <td>5473</td>\n",
       "      <td>5923</td>\n",
       "      <td>{Igf1r, Ncoa3, Apba1, Ceacam1, Cacna2d2, Nrn1,...</td>\n",
       "      <td>[2810429I04Rik, 9630013A20Rik, Abl1, Abl2, Aca...</td>\n",
       "      <td>{Ppt1 -&gt; Psap, Tchp -&gt; Ep300, Usp9x -&gt; Ep300, ...</td>\n",
       "      <td>77</td>\n",
       "      <td>0.0</td>\n",
       "    </tr>\n",
       "    <tr>\n",
       "      <th>77</th>\n",
       "      <td>3414</td>\n",
       "      <td>GOBP_LOCOMOTION</td>\n",
       "      <td>0.0</td>\n",
       "      <td>674</td>\n",
       "      <td>5683</td>\n",
       "      <td>6357</td>\n",
       "      <td>{Ccl9, Igf1r, Dock1, Mien1, Ceacam1, Myo5a, Ph...</td>\n",
       "      <td>[Abcc1, Abcc8, Abhd2, Abhd6, Abi3, Abl1, Abl2,...</td>\n",
       "      <td>{Sparc -&gt; Hmgb1, Gab2 -&gt; Dock4, Pld1 -&gt; Mtor, ...</td>\n",
       "      <td>78</td>\n",
       "      <td>0.0</td>\n",
       "    </tr>\n",
       "    <tr>\n",
       "      <th>78</th>\n",
       "      <td>4598</td>\n",
       "      <td>GOBP_POSITIVE_REGULATION_OF_IMMUNE_RESPONSE</td>\n",
       "      <td>0.0</td>\n",
       "      <td>286</td>\n",
       "      <td>3776</td>\n",
       "      <td>4062</td>\n",
       "      <td>{Nfkbia, Laptm5, Stxbp1, Cd300a, Plekha1, Ecsi...</td>\n",
       "      <td>[2410137M14Rik, 6030468B19Rik, A2m, Abl1, Acod...</td>\n",
       "      <td>{C1qa -&gt; Laptm5, Prkcb -&gt; Lrrc14, Tmem126a -&gt; ...</td>\n",
       "      <td>79</td>\n",
       "      <td>0.0</td>\n",
       "    </tr>\n",
       "    <tr>\n",
       "      <th>79</th>\n",
       "      <td>819</td>\n",
       "      <td>GOBP_PROTEOLYSIS</td>\n",
       "      <td>0.0</td>\n",
       "      <td>1108</td>\n",
       "      <td>8732</td>\n",
       "      <td>9840</td>\n",
       "      <td>{Stub1, Fbxo3, Ift57, Timp2, Laptm5, Tor1a, Ub...</td>\n",
       "      <td>[1700016K19Rik, 1810009J06Rik, 4930486L24Rik, ...</td>\n",
       "      <td>{Otud5 -&gt; Topors, Hsf1 -&gt; Fhit, Bbs7 -&gt; Nupr1,...</td>\n",
       "      <td>80</td>\n",
       "      <td>0.0</td>\n",
       "    </tr>\n",
       "    <tr>\n",
       "      <th>30</th>\n",
       "      <td>2850</td>\n",
       "      <td>GOBP_REGULATION_OF_ORGANELLE_ORGANIZATION</td>\n",
       "      <td>0.0</td>\n",
       "      <td>667</td>\n",
       "      <td>7013</td>\n",
       "      <td>7680</td>\n",
       "      <td>{Lima1, Gdi2, Igf1r, Stau2, Pink1, Stxbp1, Mco...</td>\n",
       "      <td>[2610042L04Rik, 4930550C14Rik, Abcg1, Abi2, Ab...</td>\n",
       "      <td>{Clec16a -&gt; Limch1, Tchp -&gt; Ep300, Dynll1 -&gt; S...</td>\n",
       "      <td>31</td>\n",
       "      <td>0.0</td>\n",
       "    </tr>\n",
       "    <tr>\n",
       "      <th>8</th>\n",
       "      <td>4813</td>\n",
       "      <td>GOBP_REGULATION_OF_HYDROLASE_ACTIVITY</td>\n",
       "      <td>0.0</td>\n",
       "      <td>399</td>\n",
       "      <td>4738</td>\n",
       "      <td>5137</td>\n",
       "      <td>{Ccl9, Ift57, Timp2, Laptm5, Nuak1, Mtch1, Cd3...</td>\n",
       "      <td>[2810408A11Rik, 4930486L24Rik, A2m, A2ml1, Abc...</td>\n",
       "      <td>{Ppt1 -&gt; Psap, Tmbim6 -&gt; Ctsd, Ptafr -&gt; Plaa, ...</td>\n",
       "      <td>9</td>\n",
       "      <td>0.0</td>\n",
       "    </tr>\n",
       "    <tr>\n",
       "      <th>9</th>\n",
       "      <td>9139</td>\n",
       "      <td>GOMF_SIGNALING_RECEPTOR_BINDING</td>\n",
       "      <td>0.0</td>\n",
       "      <td>498</td>\n",
       "      <td>5995</td>\n",
       "      <td>6493</td>\n",
       "      <td>{Stub1, Ccl9, Igf1r, Ncoa3, Ceacam1, Timp2, Ne...</td>\n",
       "      <td>[2410137M14Rik, 6030468B19Rik, 9230019H11Rik, ...</td>\n",
       "      <td>{Snx2 -&gt; Arhgef11, Ankra2 -&gt; Actn1, Gna13 -&gt; C...</td>\n",
       "      <td>10</td>\n",
       "      <td>0.0</td>\n",
       "    </tr>\n",
       "    <tr>\n",
       "      <th>10</th>\n",
       "      <td>381</td>\n",
       "      <td>GOBP_LEUKOCYTE_DIFFERENTIATION</td>\n",
       "      <td>0.0</td>\n",
       "      <td>278</td>\n",
       "      <td>3650</td>\n",
       "      <td>3928</td>\n",
       "      <td>{Ccl9, Ceacam1, Laptm5, Hectd1, Cd27, Zbtb16, ...</td>\n",
       "      <td>[6030468B19Rik, Abl1, Abl2, Actb, Actl6a, Actl...</td>\n",
       "      <td>{Cbfb -&gt; Csf1r, Casp8 -&gt; Pbrm1, Wnt4 -&gt; Tnfrsf...</td>\n",
       "      <td>11</td>\n",
       "      <td>0.0</td>\n",
       "    </tr>\n",
       "    <tr>\n",
       "      <th>11</th>\n",
       "      <td>4738</td>\n",
       "      <td>GOBP_POSITIVE_REGULATION_OF_CELLULAR_COMPONENT...</td>\n",
       "      <td>0.0</td>\n",
       "      <td>688</td>\n",
       "      <td>6813</td>\n",
       "      <td>7501</td>\n",
       "      <td>{Stub1, Igf1r, Stau2, Epn1, Mien1, Ice1, Pink1...</td>\n",
       "      <td>[Abca1, Abca13, Abca3, Abca7, Abcb4, Abcb7, Ab...</td>\n",
       "      <td>{Clec16a -&gt; Limch1, Dynll1 -&gt; Sdcbp, Mapre2 -&gt;...</td>\n",
       "      <td>12</td>\n",
       "      <td>0.0</td>\n",
       "    </tr>\n",
       "    <tr>\n",
       "      <th>12</th>\n",
       "      <td>5121</td>\n",
       "      <td>GOBP_REGULATION_OF_CELL_DEVELOPMENT</td>\n",
       "      <td>0.0</td>\n",
       "      <td>423</td>\n",
       "      <td>4909</td>\n",
       "      <td>5332</td>\n",
       "      <td>{Ccl9, Stau2, Ceacam1, Nfkbia, Sh3glb1, Brpf1,...</td>\n",
       "      <td>[Abcb10, Abcc8, Abl1, Acan, Ace, Ache, Actb, A...</td>\n",
       "      <td>{Tbc1d24 -&gt; Rbm15, Pak1 -&gt; Acvr2a, Cbfb -&gt; Adr...</td>\n",
       "      <td>13</td>\n",
       "      <td>0.0</td>\n",
       "    </tr>\n",
       "    <tr>\n",
       "      <th>13</th>\n",
       "      <td>4776</td>\n",
       "      <td>GOBP_POSITIVE_REGULATION_OF_MULTICELLULAR_ORGA...</td>\n",
       "      <td>0.0</td>\n",
       "      <td>1060</td>\n",
       "      <td>8109</td>\n",
       "      <td>9169</td>\n",
       "      <td>{Traf3ip3, Bloc1s6, Gatm, Ccl9, Igf1r, Ncoa3, ...</td>\n",
       "      <td>[Abat, Abca1, Abca7, Abcc8, Abi3bp, Abl1, Abl2...</td>\n",
       "      <td>{Rab2b -&gt; Pibf1, Pak1 -&gt; Acvr2a, Tnfrsf11a -&gt; ...</td>\n",
       "      <td>14</td>\n",
       "      <td>0.0</td>\n",
       "    </tr>\n",
       "    <tr>\n",
       "      <th>26</th>\n",
       "      <td>8771</td>\n",
       "      <td>GOCC_CATALYTIC_COMPLEX</td>\n",
       "      <td>0.0</td>\n",
       "      <td>1503</td>\n",
       "      <td>11224</td>\n",
       "      <td>12727</td>\n",
       "      <td>{Lyrm4, Hexb, Cdk12, Rpp30, Slu7, Taf3, Atp6v1...</td>\n",
       "      <td>[0610010K14Rik, 4921509C19Rik, 4930415L06Rik, ...</td>\n",
       "      <td>{Gnai2 -&gt; Psma8, Rnf144b -&gt; Cul1, Ogdh -&gt; Tbc1...</td>\n",
       "      <td>27</td>\n",
       "      <td>0.0</td>\n",
       "    </tr>\n",
       "    <tr>\n",
       "      <th>27</th>\n",
       "      <td>9626</td>\n",
       "      <td>GOMF_TRANSFERASE_ACTIVITY_TRANSFERRING_PHOSPHO...</td>\n",
       "      <td>0.0</td>\n",
       "      <td>358</td>\n",
       "      <td>5282</td>\n",
       "      <td>5640</td>\n",
       "      <td>{Igf1r, Pink1, Cdk12, Dclk2, Tlk1, Nuak1, Map4...</td>\n",
       "      <td>[1810024B03Rik, 4921509C19Rik, Aak1, Aasdhppt,...</td>\n",
       "      <td>{Ptges3 -&gt; Fes, Pak1 -&gt; Acvr2a, Polg -&gt; Hk1, G...</td>\n",
       "      <td>28</td>\n",
       "      <td>0.0</td>\n",
       "    </tr>\n",
       "    <tr>\n",
       "      <th>28</th>\n",
       "      <td>417</td>\n",
       "      <td>GOBP_REGULATION_OF_IMMUNE_SYSTEM_PROCESS</td>\n",
       "      <td>0.0</td>\n",
       "      <td>1096</td>\n",
       "      <td>7336</td>\n",
       "      <td>8432</td>\n",
       "      <td>{Bloc1s6, Ccl9, Lst1, Zbtb24, Ceacam1, Nfkbia,...</td>\n",
       "      <td>[2410137M14Rik, 2610044O15Rik8, 5730507C01Rik,...</td>\n",
       "      <td>{C1qa -&gt; Laptm5, Sppl3 -&gt; Dock8, Zeb1 -&gt; Ywhaz...</td>\n",
       "      <td>29</td>\n",
       "      <td>0.0</td>\n",
       "    </tr>\n",
       "    <tr>\n",
       "      <th>29</th>\n",
       "      <td>419</td>\n",
       "      <td>GOBP_POSITIVE_REGULATION_OF_IMMUNE_SYSTEM_PROCESS</td>\n",
       "      <td>0.0</td>\n",
       "      <td>596</td>\n",
       "      <td>5336</td>\n",
       "      <td>5932</td>\n",
       "      <td>{Bloc1s6, Ccl9, Nfkbia, Laptm5, Stxbp1, Cd300a...</td>\n",
       "      <td>[2410137M14Rik, 6030468B19Rik, A2m, Abl1, Abl2...</td>\n",
       "      <td>{C1qa -&gt; Laptm5, Sppl3 -&gt; Dock8, H2-K1 -&gt; Cd37...</td>\n",
       "      <td>30</td>\n",
       "      <td>0.0</td>\n",
       "    </tr>\n",
       "    <tr>\n",
       "      <th>7</th>\n",
       "      <td>6329</td>\n",
       "      <td>GOBP_SUPRAMOLECULAR_FIBER_ORGANIZATION</td>\n",
       "      <td>0.0</td>\n",
       "      <td>286</td>\n",
       "      <td>4044</td>\n",
       "      <td>4330</td>\n",
       "      <td>{Lima1, Myo5a, Phactr1, Plekhh2, Dnajb6, Ccdc5...</td>\n",
       "      <td>[4930544G11Rik, Abi2, Abitram, Abl1, Abl2, Aca...</td>\n",
       "      <td>{Add3 -&gt; Arrb1, Tenm1 -&gt; Map3k1, Arhgap12 -&gt; M...</td>\n",
       "      <td>8</td>\n",
       "      <td>0.0</td>\n",
       "    </tr>\n",
       "    <tr>\n",
       "      <th>31</th>\n",
       "      <td>4596</td>\n",
       "      <td>GOBP_REGULATION_OF_IMMUNE_RESPONSE</td>\n",
       "      <td>0.0</td>\n",
       "      <td>428</td>\n",
       "      <td>4591</td>\n",
       "      <td>5019</td>\n",
       "      <td>{Ceacam1, Nfkbia, Laptm5, Stxbp1, Cd300a, Plek...</td>\n",
       "      <td>[2410137M14Rik, 6030468B19Rik, A2m, Abl1, Abr,...</td>\n",
       "      <td>{C1qa -&gt; Laptm5, H2-K1 -&gt; Cd37, Csnk1a1 -&gt; Usp...</td>\n",
       "      <td>32</td>\n",
       "      <td>0.0</td>\n",
       "    </tr>\n",
       "    <tr>\n",
       "      <th>19</th>\n",
       "      <td>358</td>\n",
       "      <td>GOBP_LEUKOCYTE_MEDIATED_IMMUNITY</td>\n",
       "      <td>0.0</td>\n",
       "      <td>170</td>\n",
       "      <td>1994</td>\n",
       "      <td>2164</td>\n",
       "      <td>{Rnf19b, Ulbp1, Ceacam1, Rif1, Dhx36, Stxbp1, ...</td>\n",
       "      <td>[2410137M14Rik, 6030468B19Rik, 9230019H11Rik, ...</td>\n",
       "      <td>{Ctsh -&gt; Cd81, Csf3r -&gt; Csf2rb2, Xrcc4 -&gt; Gab2...</td>\n",
       "      <td>20</td>\n",
       "      <td>0.0</td>\n",
       "    </tr>\n",
       "    <tr>\n",
       "      <th>18</th>\n",
       "      <td>4544</td>\n",
       "      <td>GOBP_MULTICELLULAR_ORGANISMAL_LEVEL_HOMEOSTASIS</td>\n",
       "      <td>0.0</td>\n",
       "      <td>319</td>\n",
       "      <td>4626</td>\n",
       "      <td>4945</td>\n",
       "      <td>{Gatm, Igf1r, Ceacam1, Glis2, Itgb1, Mir142hg,...</td>\n",
       "      <td>[Abat, Abca12, Abca3, Abca4, Abcb10, Abcc6, Ab...</td>\n",
       "      <td>{Nkiras1 -&gt; Nckap1l, Lgr4 -&gt; Cebpb, Trp53inp2 ...</td>\n",
       "      <td>19</td>\n",
       "      <td>0.0</td>\n",
       "    </tr>\n",
       "    <tr>\n",
       "      <th>17</th>\n",
       "      <td>4783</td>\n",
       "      <td>GOBP_POSITIVE_REGULATION_OF_RNA_METABOLIC_PROCESS</td>\n",
       "      <td>0.0</td>\n",
       "      <td>1323</td>\n",
       "      <td>9032</td>\n",
       "      <td>10355</td>\n",
       "      <td>{Igf1r, Ncoa3, Ebf1, Hexb, Cdk12, Ice1, Nfkbia...</td>\n",
       "      <td>[4931428L18Rik, Aamdc, Aatf, Abhd14b, Ablim1, ...</td>\n",
       "      <td>{Ikzf2 -&gt; Patz1, Jmjd6 -&gt; Mzf1, Trp53bp1 -&gt; Zc...</td>\n",
       "      <td>18</td>\n",
       "      <td>0.0</td>\n",
       "    </tr>\n",
       "    <tr>\n",
       "      <th>16</th>\n",
       "      <td>4779</td>\n",
       "      <td>GOBP_NEGATIVE_REGULATION_OF_PROTEIN_METABOLIC_...</td>\n",
       "      <td>0.0</td>\n",
       "      <td>462</td>\n",
       "      <td>5552</td>\n",
       "      <td>6014</td>\n",
       "      <td>{Ceacam1, Timp2, Akap1, Ybx1, Cd300a, Dnajb6, ...</td>\n",
       "      <td>[2610042L04Rik, A2m, A2ml1, Aatf, Abca7, Abl1,...</td>\n",
       "      <td>{Slc8a1 -&gt; Ophn1, Usp9x -&gt; Ep300, Axin1 -&gt; Gsk...</td>\n",
       "      <td>17</td>\n",
       "      <td>0.0</td>\n",
       "    </tr>\n",
       "    <tr>\n",
       "      <th>15</th>\n",
       "      <td>4778</td>\n",
       "      <td>GOBP_POSITIVE_REGULATION_OF_PROTEIN_METABOLIC_...</td>\n",
       "      <td>0.0</td>\n",
       "      <td>876</td>\n",
       "      <td>7478</td>\n",
       "      <td>8354</td>\n",
       "      <td>{Stub1, Ceacam1, Ift57, Nfkbia, Laptm5, Pink1,...</td>\n",
       "      <td>[4930486L24Rik, Abca2, Abcb10, Abcf1, Abcg1, A...</td>\n",
       "      <td>{Dyrk1a -&gt; Cd86, Ythdf2 -&gt; Pik3r3, Bbs7 -&gt; Nup...</td>\n",
       "      <td>16</td>\n",
       "      <td>0.0</td>\n",
       "    </tr>\n",
       "  </tbody>\n",
       "</table>\n",
       "</div>"
      ],
      "text/plain": [
       "     index                                            go_term  p_value    TP  \\\n",
       "91    3840  GOBP_BIOLOGICAL_PROCESS_INVOLVED_IN_INTERSPECI...      0.0  1005   \n",
       "81    2263                  GOBP_ACTIN_FILAMENT_BASED_PROCESS      0.0   324   \n",
       "82    3803   GOBP_REGULATION_OF_CELLULAR_COMPONENT_BIOGENESIS      0.0   468   \n",
       "83    3761                       GOBP_AMIDE_METABOLIC_PROCESS      0.0   460   \n",
       "84    8664                GOCC_BOUNDING_MEMBRANE_OF_ORGANELLE      0.0   737   \n",
       "85    8665                        GOCC_PLASMA_MEMBRANE_REGION      0.0   450   \n",
       "86    8498               GOCC_PERINUCLEAR_REGION_OF_CYTOPLASM      0.0   288   \n",
       "87    3930         GOBP_ESTABLISHMENT_OF_PROTEIN_LOCALIZATION      0.0  1434   \n",
       "88    1441                            GOBP_EMBRYO_DEVELOPMENT      0.0   525   \n",
       "89    9775                                GOMF_KINASE_BINDING      0.0   428   \n",
       "90    7960                               GOCC_GOLGI_APPARATUS      0.0   992   \n",
       "80    5980                GOBP_CIRCULATORY_SYSTEM_DEVELOPMENT      0.0   452   \n",
       "92    3779       GOBP_POST_TRANSLATIONAL_PROTEIN_MODIFICATION      0.0   587   \n",
       "93    9278                  GOMF_CYTOSKELETAL_PROTEIN_BINDING      0.0   432   \n",
       "94    8250                                      GOCC_ENVELOPE      0.0   581   \n",
       "95    1010                              GOBP_DEFENSE_RESPONSE      0.0  1179   \n",
       "4     1990              GOBP_PEPTIDYL_AMINO_ACID_MODIFICATION      0.0   443   \n",
       "5     1936                               GOBP_PHOSPHORYLATION      0.0  1193   \n",
       "38     297                       GOBP_IMMUNE_EFFECTOR_PROCESS      0.0   293   \n",
       "39    1553        GOBP_POSITIVE_REGULATION_OF_GENE_EXPRESSION      0.0   538   \n",
       "40    1554        GOBP_NEGATIVE_REGULATION_OF_GENE_EXPRESSION      0.0   571   \n",
       "70    7950                                       GOCC_VACUOLE      0.0   311   \n",
       "150   1138                           GOBP_CELL_CELL_SIGNALING      0.0   733   \n",
       "151   8052                      GOCC_MICROTUBULE_CYTOSKELETON      0.0   581   \n",
       "152   1171            GOBP_CENTRAL_NERVOUS_SYSTEM_DEVELOPMENT      0.0   342   \n",
       "153   6787     GOBP_ORGANONITROGEN_COMPOUND_CATABOLIC_PROCESS      0.0  1081   \n",
       "0     4762    GOBP_REGULATION_OF_PHOSPHORUS_METABOLIC_PROCESS      0.0   679   \n",
       "1     1920                    GOBP_VESICLE_MEDIATED_TRANSPORT      0.0  1258   \n",
       "2     4263                         GOBP_LYMPHOCYTE_ACTIVATION      0.0   320   \n",
       "3     5191                        GOBP_EPITHELIUM_DEVELOPMENT      0.0   434   \n",
       "68    7900                           GOCC_EXTRACELLULAR_SPACE      0.0   488   \n",
       "69    7946                                      GOCC_ENDOSOME      0.0   621   \n",
       "41    6374                              GOBP_IMPORT_INTO_CELL      0.0   427   \n",
       "71    7937                                 GOCC_MITOCHONDRION      0.0  1224   \n",
       "72    3622           GOBP_REGULATION_OF_PROGRAMMED_CELL_DEATH      0.0  1060   \n",
       "73    3624  GOBP_NEGATIVE_REGULATION_OF_PROGRAMMED_CELL_DEATH      0.0   400   \n",
       "74    3626     GOBP_POSITIVE_REGULATION_OF_CATALYTIC_ACTIVITY      0.0   569   \n",
       "75    2264                  GOBP_CELL_PROJECTION_ORGANIZATION      0.0  1087   \n",
       "76    3411                                        GOBP_GROWTH      0.0   450   \n",
       "77    3414                                    GOBP_LOCOMOTION      0.0   674   \n",
       "78    4598        GOBP_POSITIVE_REGULATION_OF_IMMUNE_RESPONSE      0.0   286   \n",
       "79     819                                   GOBP_PROTEOLYSIS      0.0  1108   \n",
       "30    2850          GOBP_REGULATION_OF_ORGANELLE_ORGANIZATION      0.0   667   \n",
       "8     4813              GOBP_REGULATION_OF_HYDROLASE_ACTIVITY      0.0   399   \n",
       "9     9139                    GOMF_SIGNALING_RECEPTOR_BINDING      0.0   498   \n",
       "10     381                     GOBP_LEUKOCYTE_DIFFERENTIATION      0.0   278   \n",
       "11    4738  GOBP_POSITIVE_REGULATION_OF_CELLULAR_COMPONENT...      0.0   688   \n",
       "12    5121                GOBP_REGULATION_OF_CELL_DEVELOPMENT      0.0   423   \n",
       "13    4776  GOBP_POSITIVE_REGULATION_OF_MULTICELLULAR_ORGA...      0.0  1060   \n",
       "26    8771                             GOCC_CATALYTIC_COMPLEX      0.0  1503   \n",
       "27    9626  GOMF_TRANSFERASE_ACTIVITY_TRANSFERRING_PHOSPHO...      0.0   358   \n",
       "28     417           GOBP_REGULATION_OF_IMMUNE_SYSTEM_PROCESS      0.0  1096   \n",
       "29     419  GOBP_POSITIVE_REGULATION_OF_IMMUNE_SYSTEM_PROCESS      0.0   596   \n",
       "7     6329             GOBP_SUPRAMOLECULAR_FIBER_ORGANIZATION      0.0   286   \n",
       "31    4596                 GOBP_REGULATION_OF_IMMUNE_RESPONSE      0.0   428   \n",
       "19     358                   GOBP_LEUKOCYTE_MEDIATED_IMMUNITY      0.0   170   \n",
       "18    4544    GOBP_MULTICELLULAR_ORGANISMAL_LEVEL_HOMEOSTASIS      0.0   319   \n",
       "17    4783  GOBP_POSITIVE_REGULATION_OF_RNA_METABOLIC_PROCESS      0.0  1323   \n",
       "16    4779  GOBP_NEGATIVE_REGULATION_OF_PROTEIN_METABOLIC_...      0.0   462   \n",
       "15    4778  GOBP_POSITIVE_REGULATION_OF_PROTEIN_METABOLIC_...      0.0   876   \n",
       "\n",
       "        FP      P                                           gene_set  \\\n",
       "91    7329   8334  {Traf3ip3, Ccl9, Fbxo3, Ceacam1, Mx1, Nfkbia, ...   \n",
       "81    4247   4571  {Lima1, Stau2, Myo5a, Phactr1, Plekhh2, Dnajb6...   \n",
       "82    5953   6421  {Stub1, Gdi2, Stau2, Epn1, Mien1, Ice1, Pink1,...   \n",
       "83    6557   7017  {Pum3, Pink1, Hexb, Mrps21, St3gal2, Mtif2, Yb...   \n",
       "84    7745   8482  {Rab3c, Reep5, Traf3ip3, Golga5, Chst1, Epn1, ...   \n",
       "85    6069   6519  {Lima1, Igf1r, Epn1, Apba1, Ceacam1, Akap1, St...   \n",
       "86    4120   4408  {Rab3c, Ncoa3, Pink1, Mx1, Laptm5, Stxbp1, Ybx...   \n",
       "87   10357  11791  {Rab3c, Bloc1s6, Gdi2, Rab18, Apba1, Copg1, Ic...   \n",
       "88    6331   6856  {Epn1, Ncoa3, Apba1, Ube2a, Ift57, Ttll4, Chto...   \n",
       "89    5383   5811  {Stub1, Stau2, Apba1, Ceacam1, Cdk12, Pink1, A...   \n",
       "90    8467   9459  {Traf3ip3, Golga5, Gdi2, Chst1, Rab18, Mppe1, ...   \n",
       "80    5412   5864  {Epn1, Ceacam1, Ift57, Ubp1, Nedd4, Stab1, Gre...   \n",
       "92    6913   7500  {Stub1, Ube2a, Pink1, Laptm5, Tor1a, Med17, Dd...   \n",
       "93    5618   6050  {Rab3c, Bloc1s6, Lima1, Stau2, Ccser2, Ceacam1...   \n",
       "94    7792   8373  {Traf3ip3, Gatm, Stau2, Snn, Mrps21, Pink1, Mx...   \n",
       "95    7194   8373  {Traf3ip3, Ccl9, Chst1, Ceacam1, Nfkbia, Mx1, ...   \n",
       "4     5833   6276  {Igf1r, Pink1, Tlk1, Dclk2, Dmap1, Ttll4, Cd30...   \n",
       "5     8779   9972  {Igf1r, Ceacam1, Cdk12, Dclk2, Pink1, Tlk1, Nu...   \n",
       "38    3070   3363  {Ceacam1, Laptm5, Stxbp1, Cd300a, Snx4, Pdpk1,...   \n",
       "39    6162   6700  {Traf3ip3, Ncoa3, Pink1, Laptm5, Ybx1, Sf3b4, ...   \n",
       "40    6180   6751  {Ceacam1, Pink1, Laptm5, Ybx1, Zfp281, Cirbp, ...   \n",
       "70    3867   4178  {Traf3ip3, Hexb, Laptm5, Myo5a, Mcoln1, Sh3glb...   \n",
       "150   7757   8490  {Igf1r, Stau2, Apba1, Pink1, Cacna2d2, Tor1a, ...   \n",
       "151   7598   8179  {Stau2, Ccser2, Ift57, Reep3, Nuak1, Ttll4, Dc...   \n",
       "152   4848   5190  {Igf1r, Dclk2, Glis2, Phactr1, Itgb1, Zbtb16, ...   \n",
       "153   7869   8950  {Stub1, Fbxo3, Ceacam1, Hexb, Laptm5, Timp2, T...   \n",
       "0     6804   7483  {Igf1r, Ceacam1, Cdk12, Pink1, Akap1, Nuak1, M...   \n",
       "1     8758  10016  {Rab3c, Tmem50a, Bloc1s6, Gdi2, Golga5, Epn1, ...   \n",
       "2     4329   4649  {Bloc1s6, Lst1, Ceacam1, Ddost, Laptm5, Nedd4,...   \n",
       "3     5317   5751  {Igf1r, Ncoa3, Ceacam1, Ift57, Tor1a, Myo5a, G...   \n",
       "68    3425   3913  {Ccl9, Ceacam1, Hexb, Timp2, Fam3c, Nrn1, Ybx1...   \n",
       "69    5853   6474  {Rab3c, Bloc1s6, Epn1, Plekhj1, Myo5a, Mcoln1,...   \n",
       "41    4837   5264  {Epn1, Dock1, Ceacam1, Tor1a, Cdc42se1, Nedd4,...   \n",
       "71   11339  12563  {Traf3ip3, Lyrm4, Mrps21, Pink1, Akap1, Slc35b...   \n",
       "72    8221   9281  {Igf1r, Mien1, Ncoa3, Pink1, Ift57, Laptm5, St...   \n",
       "73    5248   5648  {Igf1r, Mien1, Ncoa3, Pink1, Laptm5, Stxbp1, S...   \n",
       "74    5543   6112  {Stub1, Ccl9, Igf1r, Ceacam1, Ift57, Timp2, La...   \n",
       "75    8734   9821  {Bloc1s6, Lima1, Gdi2, Igf1r, Lst1, Mien1, Sta...   \n",
       "76    5473   5923  {Igf1r, Ncoa3, Apba1, Ceacam1, Cacna2d2, Nrn1,...   \n",
       "77    5683   6357  {Ccl9, Igf1r, Dock1, Mien1, Ceacam1, Myo5a, Ph...   \n",
       "78    3776   4062  {Nfkbia, Laptm5, Stxbp1, Cd300a, Plekha1, Ecsi...   \n",
       "79    8732   9840  {Stub1, Fbxo3, Ift57, Timp2, Laptm5, Tor1a, Ub...   \n",
       "30    7013   7680  {Lima1, Gdi2, Igf1r, Stau2, Pink1, Stxbp1, Mco...   \n",
       "8     4738   5137  {Ccl9, Ift57, Timp2, Laptm5, Nuak1, Mtch1, Cd3...   \n",
       "9     5995   6493  {Stub1, Ccl9, Igf1r, Ncoa3, Ceacam1, Timp2, Ne...   \n",
       "10    3650   3928  {Ccl9, Ceacam1, Laptm5, Hectd1, Cd27, Zbtb16, ...   \n",
       "11    6813   7501  {Stub1, Igf1r, Stau2, Epn1, Mien1, Ice1, Pink1...   \n",
       "12    4909   5332  {Ccl9, Stau2, Ceacam1, Nfkbia, Sh3glb1, Brpf1,...   \n",
       "13    8109   9169  {Traf3ip3, Bloc1s6, Gatm, Ccl9, Igf1r, Ncoa3, ...   \n",
       "26   11224  12727  {Lyrm4, Hexb, Cdk12, Rpp30, Slu7, Taf3, Atp6v1...   \n",
       "27    5282   5640  {Igf1r, Pink1, Cdk12, Dclk2, Tlk1, Nuak1, Map4...   \n",
       "28    7336   8432  {Bloc1s6, Ccl9, Lst1, Zbtb24, Ceacam1, Nfkbia,...   \n",
       "29    5336   5932  {Bloc1s6, Ccl9, Nfkbia, Laptm5, Stxbp1, Cd300a...   \n",
       "7     4044   4330  {Lima1, Myo5a, Phactr1, Plekhh2, Dnajb6, Ccdc5...   \n",
       "31    4591   5019  {Ceacam1, Nfkbia, Laptm5, Stxbp1, Cd300a, Plek...   \n",
       "19    1994   2164  {Rnf19b, Ulbp1, Ceacam1, Rif1, Dhx36, Stxbp1, ...   \n",
       "18    4626   4945  {Gatm, Igf1r, Ceacam1, Glis2, Itgb1, Mir142hg,...   \n",
       "17    9032  10355  {Igf1r, Ncoa3, Ebf1, Hexb, Cdk12, Ice1, Nfkbia...   \n",
       "16    5552   6014  {Ceacam1, Timp2, Akap1, Ybx1, Cd300a, Dnajb6, ...   \n",
       "15    7478   8354  {Stub1, Ceacam1, Ift57, Nfkbia, Laptm5, Pink1,...   \n",
       "\n",
       "                                         full_gene_set  \\\n",
       "91   [1500002F19Rik, 1810065E05Rik, 4931428L18Rik, ...   \n",
       "81   [4930544G11Rik, Abcc9, Abi2, Abi3bp, Abitram, ...   \n",
       "82   [Abca1, Abca2, Abca3, Abcb7, Abi2, Abi3, Abi3b...   \n",
       "83   [6430550D23Rik, 9130409I23Rik, Aadat, Aanat, A...   \n",
       "84   [0610009B22Rik, 4930550C14Rik, Abca12, Abca2, ...   \n",
       "85   [4930544G11Rik, Aak1, Abca1, Abca7, Abca8b, Ab...   \n",
       "86   [0610009B22Rik, 1110017D15Rik, Aanat, Abca1, A...   \n",
       "87   [1700009N14Rik, 2700049A03Rik, 4930550C14Rik, ...   \n",
       "88   [1700067K01Rik, 2610005L07Rik, 4933434E20Rik, ...   \n",
       "89   [4930544G11Rik, Aatf, Abl1, Acaca, Ace, Acp4, ...   \n",
       "90   [1810055G02Rik, 4930402F06Rik, 4930568D16Rik, ...   \n",
       "80   [2810429I04Rik, AW551984, Abcc8, Abcc9, Abi3bp...   \n",
       "92   [Abca2, Abcb11, Abl1, Abraxas1, Abraxas2, Actl...   \n",
       "93   [1110017D15Rik, Aatf, Abcg2, Abi3bp, Abitram, ...   \n",
       "94   [0610009B22Rik, 1600014C10Rik, 4930550C14Rik, ...   \n",
       "95   [9230019H11Rik, 9530003J23Rik, 9930111J21Rik1,...   \n",
       "4    [Aatk, Abi1, Abi2, Abi3, Abl1, Abl2, Ace, Actl...   \n",
       "5    [1810024B03Rik, 2610042L04Rik, 4921509C19Rik, ...   \n",
       "38   [2410137M14Rik, 6030468B19Rik, 9230019H11Rik, ...   \n",
       "39   [4930402K13Rik, 4930480E11Rik, 4931414P19Rik, ...   \n",
       "40   [4931406B18Rik, A1cf, Abcc2, Abcd1, Abcd2, Aca...   \n",
       "70   [4930486L24Rik, AY761185, Abca2, Abca3, Abca5,...   \n",
       "150  [2210016L21Rik, 2610042L04Rik, Aacs, Abat, Abc...   \n",
       "151  [1110017D15Rik, 1700012B09Rik, 1700029J07Rik, ...   \n",
       "152  [9630013A20Rik, Aars, Aatk, Abca2, Abcb1b, Abc...   \n",
       "153  [1700016K19Rik, 4930438A08Rik, 4930486L24Rik, ...   \n",
       "0    [2610042L04Rik, 2810408A11Rik, Abca2, Abca3, A...   \n",
       "1    [0610009B22Rik, 4933434E20Rik, 5730455P16Rik, ...   \n",
       "2    [6030468B19Rik, 9230019H11Rik, Abl1, Abl2, Act...   \n",
       "3    [Abca12, Abcb1b, Abi1, Abi2, Abl1, Abl2, Actb,...   \n",
       "68   [1700037H04Rik, 1810009J06Rik, 2310057J18Rik, ...   \n",
       "69   [2610528J11Rik, Abca1, Abca2, Abca3, Abca5, Ab...   \n",
       "41   [4933434E20Rik, AU018091, AU040320, Aak1, Abca...   \n",
       "71   [1110017D15Rik, 1600014C10Rik, 1700066M21Rik, ...   \n",
       "72   [4930453N24Rik, 4930486L24Rik, Aamdc, Aars, Aa...   \n",
       "73   [Aamdc, Aars, Aatf, Abl1, Abl2, Abraxas2, Acaa...   \n",
       "74   [4930486L24Rik, Abi1, Abi2, Abi3, Abl1, Abl2, ...   \n",
       "75   [1700012B09Rik, 2700049A03Rik, 4933427D14Rik, ...   \n",
       "76   [2810429I04Rik, 9630013A20Rik, Abl1, Abl2, Aca...   \n",
       "77   [Abcc1, Abcc8, Abhd2, Abhd6, Abi3, Abl1, Abl2,...   \n",
       "78   [2410137M14Rik, 6030468B19Rik, A2m, Abl1, Acod...   \n",
       "79   [1700016K19Rik, 1810009J06Rik, 4930486L24Rik, ...   \n",
       "30   [2610042L04Rik, 4930550C14Rik, Abcg1, Abi2, Ab...   \n",
       "8    [2810408A11Rik, 4930486L24Rik, A2m, A2ml1, Abc...   \n",
       "9    [2410137M14Rik, 6030468B19Rik, 9230019H11Rik, ...   \n",
       "10   [6030468B19Rik, Abl1, Abl2, Actb, Actl6a, Actl...   \n",
       "11   [Abca1, Abca13, Abca3, Abca7, Abcb4, Abcb7, Ab...   \n",
       "12   [Abcb10, Abcc8, Abl1, Acan, Ace, Ache, Actb, A...   \n",
       "13   [Abat, Abca1, Abca7, Abcc8, Abi3bp, Abl1, Abl2...   \n",
       "26   [0610010K14Rik, 4921509C19Rik, 4930415L06Rik, ...   \n",
       "27   [1810024B03Rik, 4921509C19Rik, Aak1, Aasdhppt,...   \n",
       "28   [2410137M14Rik, 2610044O15Rik8, 5730507C01Rik,...   \n",
       "29   [2410137M14Rik, 6030468B19Rik, A2m, Abl1, Abl2...   \n",
       "7    [4930544G11Rik, Abi2, Abitram, Abl1, Abl2, Aca...   \n",
       "31   [2410137M14Rik, 6030468B19Rik, A2m, Abl1, Abr,...   \n",
       "19   [2410137M14Rik, 6030468B19Rik, 9230019H11Rik, ...   \n",
       "18   [Abat, Abca12, Abca3, Abca4, Abcb10, Abcc6, Ab...   \n",
       "17   [4931428L18Rik, Aamdc, Aatf, Abhd14b, Ablim1, ...   \n",
       "16   [2610042L04Rik, A2m, A2ml1, Aatf, Abca7, Abl1,...   \n",
       "15   [4930486L24Rik, Abca2, Abcb10, Abcf1, Abcg1, A...   \n",
       "\n",
       "                                                TP_set  rank  adjust_p  \n",
       "91   {Gpx1 -> Ifitm3, Lgr4 -> Cebpb, H2-K1 -> Cd37,...    92       0.0  \n",
       "81   {Nedd4l -> Rap1gds1, Actb -> Lpin1, Tmsb4x -> ...    82       0.0  \n",
       "82   {Tchp -> Ep300, Dynll1 -> Sdcbp, Csnk1a1 -> Ar...    83       0.0  \n",
       "83   {Pld1 -> Mtor, H13 -> Bzw2, Tmed10 -> Trnt1, G...    84       0.0  \n",
       "84   {Dnajc13 -> Clint1, B4galt4 -> Calm2, Tprgl ->...    85       0.0  \n",
       "85   {Gna13 -> Cltc, Sh3bgrl3 -> Trappc4, Grik2 -> ...    86       0.0  \n",
       "86   {Kif5b -> Dnajb2, Sec31a -> Kcnma1, Apex1 -> L...    87       0.0  \n",
       "87   {Madd -> Smad2, Gapvd1 -> Lamp2, Ap3b2 -> Rab3...    88       0.0  \n",
       "88   {Smg9 -> Eya4, Zeb2 -> Rpgrip1l, Apba1 -> Spec...    89       0.0  \n",
       "89   {Rheb -> Ttc28, Sike1 -> Ksr1, Nek9 -> Frs2, G...    90       0.0  \n",
       "90   {Slc35a2 -> Slc50a1, Pld1 -> Mtor, Bst2 -> Nuc...    91       0.0  \n",
       "80   {Sparc -> Hmgb1, Hpgd -> Abl2, Gsk3b -> Ank2, ...    81       0.0  \n",
       "92   {Otud5 -> Topors, Rnf213 -> Rassf5, Usp9x -> E...    93       0.0  \n",
       "93   {Slc8a1 -> Ophn1, Dst -> Picalm, Arl4c -> Vamp...    94       0.0  \n",
       "94   {Nxt1 -> Nos1ap, Ndufs7 -> Ubb, Polg -> Hk1, A...    95       0.0  \n",
       "95   {C1qa -> Laptm5, Gpx1 -> Ifitm3, Cst3 -> Abhd1...    96       0.0  \n",
       "4    {Dph3 -> Nfyc, Cass4 -> Ttll7, Ptk2b -> Tpst2,...     5       0.0  \n",
       "5    {Ptges3 -> Fes, Dyrk1a -> Cd86, Dynll1 -> Sdcb...     6       0.0  \n",
       "38   {C1qa -> Laptm5, Il6ra -> Rac2, Ctsh -> Cd81, ...    39       0.0  \n",
       "39   {Icosl -> Tcf12, Dyrk1a -> Cd86, Rab2b -> Pibf...    40       0.0  \n",
       "40   {Eif4enif1 -> Fcgr2b, Axin1 -> Gsk3b, Kcnq1ot1...    41       0.0  \n",
       "70   {Arl8a -> Gaa, Shkbp1 -> Ctsl, Ppt1 -> Psap, S...    71       0.0  \n",
       "150  {Madd -> Smad2, Tmf1 -> Ina, Pak1 -> Acvr2a, R...   151       0.0  \n",
       "151  {Ttc28 -> Disc1, Dyrk1a -> Cd86, Dlg1 -> Cep70...   152       0.0  \n",
       "152  {Zeb2 -> Rpgrip1l, Ppt1 -> Psap, Ptprj -> Wdr6...   153       0.0  \n",
       "153  {Otud5 -> Topors, Nudt13 -> Ngly1, Bbs7 -> Nup...   154       0.0  \n",
       "0    {Dynll1 -> Sdcbp, Pak1 -> Acvr2a, Prkcd -> BC0...     1       0.0  \n",
       "1    {Rcsd1 -> Wdr44, Ptafr -> Plaa, Uevld -> Insr,...     2       0.0  \n",
       "2    {Gpr183 -> Syvn1, Trp53bp1 -> Zc3h8, H2-K1 -> ...     3       0.0  \n",
       "3    {Zeb2 -> Rpgrip1l, Slc8a1 -> Ophn1, Gna13 -> I...     4       0.0  \n",
       "68   {Sparc -> Hmgb1, Ppt1 -> Psap, C1qa -> Ctsz, I...    69       0.0  \n",
       "69   {Phb -> Sla, Gapvd1 -> Lamp2, Rcsd1 -> Wdr44, ...    70       0.0  \n",
       "41   {Rnf216 -> Rabgap1l, Slc8a1 -> Ophn1, Dnajc13 ...    42       0.0  \n",
       "71   {Hemk1 -> Tmem186, Ndufs7 -> Ubb, Polg -> Hk1,...    72       0.0  \n",
       "72   {Smg9 -> Eya4, Mrgbp -> Krit1, Rest -> Yme1l1,...    73       0.0  \n",
       "73   {Smg9 -> Eya4, Hsp90ab1 -> Pik3cb, Rb1 -> Ago4...    74       0.0  \n",
       "74   {Gnai3 -> Sdhaf4, Mapre2 -> Pot1a, Pfkfb2 -> R...    75       0.0  \n",
       "75   {Zeb2 -> Rpgrip1l, Tchp -> Ep300, Dst -> Pical...    76       0.0  \n",
       "76   {Ppt1 -> Psap, Tchp -> Ep300, Usp9x -> Ep300, ...    77       0.0  \n",
       "77   {Sparc -> Hmgb1, Gab2 -> Dock4, Pld1 -> Mtor, ...    78       0.0  \n",
       "78   {C1qa -> Laptm5, Prkcb -> Lrrc14, Tmem126a -> ...    79       0.0  \n",
       "79   {Otud5 -> Topors, Hsf1 -> Fhit, Bbs7 -> Nupr1,...    80       0.0  \n",
       "30   {Clec16a -> Limch1, Tchp -> Ep300, Dynll1 -> S...    31       0.0  \n",
       "8    {Ppt1 -> Psap, Tmbim6 -> Ctsd, Ptafr -> Plaa, ...     9       0.0  \n",
       "9    {Snx2 -> Arhgef11, Ankra2 -> Actn1, Gna13 -> C...    10       0.0  \n",
       "10   {Cbfb -> Csf1r, Casp8 -> Pbrm1, Wnt4 -> Tnfrsf...    11       0.0  \n",
       "11   {Clec16a -> Limch1, Dynll1 -> Sdcbp, Mapre2 ->...    12       0.0  \n",
       "12   {Tbc1d24 -> Rbm15, Pak1 -> Acvr2a, Cbfb -> Adr...    13       0.0  \n",
       "13   {Rab2b -> Pibf1, Pak1 -> Acvr2a, Tnfrsf11a -> ...    14       0.0  \n",
       "26   {Gnai2 -> Psma8, Rnf144b -> Cul1, Ogdh -> Tbc1...    27       0.0  \n",
       "27   {Ptges3 -> Fes, Pak1 -> Acvr2a, Polg -> Hk1, G...    28       0.0  \n",
       "28   {C1qa -> Laptm5, Sppl3 -> Dock8, Zeb1 -> Ywhaz...    29       0.0  \n",
       "29   {C1qa -> Laptm5, Sppl3 -> Dock8, H2-K1 -> Cd37...    30       0.0  \n",
       "7    {Add3 -> Arrb1, Tenm1 -> Map3k1, Arhgap12 -> M...     8       0.0  \n",
       "31   {C1qa -> Laptm5, H2-K1 -> Cd37, Csnk1a1 -> Usp...    32       0.0  \n",
       "19   {Ctsh -> Cd81, Csf3r -> Csf2rb2, Xrcc4 -> Gab2...    20       0.0  \n",
       "18   {Nkiras1 -> Nckap1l, Lgr4 -> Cebpb, Trp53inp2 ...    19       0.0  \n",
       "17   {Ikzf2 -> Patz1, Jmjd6 -> Mzf1, Trp53bp1 -> Zc...    18       0.0  \n",
       "16   {Slc8a1 -> Ophn1, Usp9x -> Ep300, Axin1 -> Gsk...    17       0.0  \n",
       "15   {Dyrk1a -> Cd86, Ythdf2 -> Pik3r3, Bbs7 -> Nup...    16       0.0  "
      ]
     },
     "execution_count": 14,
     "metadata": {},
     "output_type": "execute_result"
    }
   ],
   "source": [
    "go_jaccard.sort_values('adjust_p', ascending=True).head(60)"
   ]
  },
  {
   "cell_type": "code",
   "execution_count": 54,
   "id": "da98aefb-bcf7-4314-a1da-8560d13481ec",
   "metadata": {},
   "outputs": [
    {
     "name": "stderr",
     "output_type": "stream",
     "text": [
      "100%|██████████| 1701/1701 [01:41<00:00, 16.81it/s]\n"
     ]
    }
   ],
   "source": [
    "with open('pathway/m2.cp.v2023.2.Mm.json', 'r') as f:\n",
    "    cp = json.load(f)\n",
    "\n",
    "pw_jaccard = []\n",
    "for pw in tqdm(cp.keys(), total=len(cp)):\n",
    "    pw_gene_set = set([\n",
    "        g for g in cp[pw]['geneSymbols'] if \n",
    "        g in experiment_results['Microglia'].gene_names\n",
    "    ])\n",
    "    p_u_q = len(pw_gene_set) * (len(pw_gene_set)-1) \n",
    "    if p_u_q == 0:\n",
    "        pw_jaccard.append({'pathway': pw, 'jaccard': 0})\n",
    "    else:\n",
    "        p_n_q = 0\n",
    "        for gene in pw_gene_set:\n",
    "            if gene in experiment_results['Microglia'].gene_names:\n",
    "                gene_neighbor_df = experiment_results['Microglia'].extract_node_neighbors(\n",
    "                    gene, k=20\n",
    "                )\n",
    "                for i, r in gene_neighbor_df.iterrows():\n",
    "                    if r['Source'] in pw_gene_set and r['Target'] in pw_gene_set:\n",
    "                        p_n_q += 1\n",
    "        pw_jaccard.append({'pathway': pw, 'jaccard': p_n_q / p_u_q})"
   ]
  },
  {
   "cell_type": "code",
   "execution_count": 199,
   "id": "aab0f350-a708-4f22-bc49-162a818dafee",
   "metadata": {},
   "outputs": [
    {
     "ename": "ValueError",
     "evalue": "cannot insert level_0, already exists",
     "output_type": "error",
     "traceback": [
      "\u001b[0;31m---------------------------------------------------------------------------\u001b[0m",
      "\u001b[0;31mValueError\u001b[0m                                Traceback (most recent call last)",
      "\u001b[0;32m/tmp/ipykernel_63666/3699946582.py\u001b[0m in \u001b[0;36m?\u001b[0;34m()\u001b[0m\n\u001b[0;32m----> 1\u001b[0;31m \u001b[0mgo_jaccard\u001b[0m\u001b[0;34m.\u001b[0m\u001b[0msort_values\u001b[0m\u001b[0;34m(\u001b[0m\u001b[0;34m'adjust_p'\u001b[0m\u001b[0;34m,\u001b[0m \u001b[0mascending\u001b[0m\u001b[0;34m=\u001b[0m\u001b[0;32mTrue\u001b[0m\u001b[0;34m)\u001b[0m\u001b[0;34m.\u001b[0m\u001b[0mreset_index\u001b[0m\u001b[0;34m(\u001b[0m\u001b[0;34m)\u001b[0m\u001b[0;34m\u001b[0m\u001b[0;34m\u001b[0m\u001b[0m\n\u001b[0m",
      "\u001b[0;32m/cluster/tufts/slonimlab/hzhu07/miniconda3/envs/grn/lib/python3.11/site-packages/pandas/core/frame.py\u001b[0m in \u001b[0;36m?\u001b[0;34m(self, level, drop, inplace, col_level, col_fill, allow_duplicates, names)\u001b[0m\n\u001b[1;32m   6216\u001b[0m                     level_values = algorithms.take(\n\u001b[1;32m   6217\u001b[0m                         \u001b[0mlevel_values\u001b[0m\u001b[0;34m,\u001b[0m \u001b[0mlab\u001b[0m\u001b[0;34m,\u001b[0m \u001b[0mallow_fill\u001b[0m\u001b[0;34m=\u001b[0m\u001b[0;32mTrue\u001b[0m\u001b[0;34m,\u001b[0m \u001b[0mfill_value\u001b[0m\u001b[0;34m=\u001b[0m\u001b[0mlev\u001b[0m\u001b[0;34m.\u001b[0m\u001b[0m_na_value\u001b[0m\u001b[0;34m\u001b[0m\u001b[0;34m\u001b[0m\u001b[0m\n\u001b[1;32m   6218\u001b[0m                     )\n\u001b[1;32m   6219\u001b[0m \u001b[0;34m\u001b[0m\u001b[0m\n\u001b[0;32m-> 6220\u001b[0;31m                 new_obj.insert(\n\u001b[0m\u001b[1;32m   6221\u001b[0m                     \u001b[0;36m0\u001b[0m\u001b[0;34m,\u001b[0m\u001b[0;34m\u001b[0m\u001b[0;34m\u001b[0m\u001b[0m\n\u001b[1;32m   6222\u001b[0m                     \u001b[0mname\u001b[0m\u001b[0;34m,\u001b[0m\u001b[0;34m\u001b[0m\u001b[0;34m\u001b[0m\u001b[0m\n\u001b[1;32m   6223\u001b[0m                     \u001b[0mlevel_values\u001b[0m\u001b[0;34m,\u001b[0m\u001b[0;34m\u001b[0m\u001b[0;34m\u001b[0m\u001b[0m\n",
      "\u001b[0;32m/cluster/tufts/slonimlab/hzhu07/miniconda3/envs/grn/lib/python3.11/site-packages/pandas/core/frame.py\u001b[0m in \u001b[0;36m?\u001b[0;34m(self, loc, column, value, allow_duplicates)\u001b[0m\n\u001b[1;32m   4927\u001b[0m                 \u001b[0;34m\"'self.flags.allows_duplicate_labels' is False.\"\u001b[0m\u001b[0;34m\u001b[0m\u001b[0;34m\u001b[0m\u001b[0m\n\u001b[1;32m   4928\u001b[0m             )\n\u001b[1;32m   4929\u001b[0m         \u001b[0;32mif\u001b[0m \u001b[0;32mnot\u001b[0m \u001b[0mallow_duplicates\u001b[0m \u001b[0;32mand\u001b[0m \u001b[0mcolumn\u001b[0m \u001b[0;32min\u001b[0m \u001b[0mself\u001b[0m\u001b[0;34m.\u001b[0m\u001b[0mcolumns\u001b[0m\u001b[0;34m:\u001b[0m\u001b[0;34m\u001b[0m\u001b[0;34m\u001b[0m\u001b[0m\n\u001b[1;32m   4930\u001b[0m             \u001b[0;31m# Should this be a different kind of error??\u001b[0m\u001b[0;34m\u001b[0m\u001b[0;34m\u001b[0m\u001b[0m\n\u001b[0;32m-> 4931\u001b[0;31m             \u001b[0;32mraise\u001b[0m \u001b[0mValueError\u001b[0m\u001b[0;34m(\u001b[0m\u001b[0;34mf\"cannot insert {column}, already exists\"\u001b[0m\u001b[0;34m)\u001b[0m\u001b[0;34m\u001b[0m\u001b[0;34m\u001b[0m\u001b[0m\n\u001b[0m\u001b[1;32m   4932\u001b[0m         \u001b[0;32mif\u001b[0m \u001b[0;32mnot\u001b[0m \u001b[0mis_integer\u001b[0m\u001b[0;34m(\u001b[0m\u001b[0mloc\u001b[0m\u001b[0;34m)\u001b[0m\u001b[0;34m:\u001b[0m\u001b[0;34m\u001b[0m\u001b[0;34m\u001b[0m\u001b[0m\n\u001b[1;32m   4933\u001b[0m             \u001b[0;32mraise\u001b[0m \u001b[0mTypeError\u001b[0m\u001b[0;34m(\u001b[0m\u001b[0;34m\"loc must be int\"\u001b[0m\u001b[0;34m)\u001b[0m\u001b[0;34m\u001b[0m\u001b[0;34m\u001b[0m\u001b[0m\n\u001b[1;32m   4934\u001b[0m         \u001b[0;31m# convert non stdlib ints to satisfy typing checks\u001b[0m\u001b[0;34m\u001b[0m\u001b[0;34m\u001b[0m\u001b[0m\n",
      "\u001b[0;31mValueError\u001b[0m: cannot insert level_0, already exists"
     ]
    }
   ],
   "source": [
    "go_jaccard.sort_values('adjust_p', ascending=True).reset_index()"
   ]
  },
  {
   "cell_type": "code",
   "execution_count": 55,
   "id": "72869788-b695-419d-828b-50510c9c4e30",
   "metadata": {},
   "outputs": [],
   "source": [
    "pw_jaccard = pd.DataFrame(pw_jaccard)\n",
    "pw_jaccard.sort_values('jaccard', ascending=False).head(60)"
   ]
  },
  {
   "cell_type": "code",
   "execution_count": 57,
   "id": "e063fe80-442b-4de7-8aad-db44e89ddf15",
   "metadata": {},
   "outputs": [
    {
     "data": {
      "text/html": [
       "<div>\n",
       "<style scoped>\n",
       "    .dataframe tbody tr th:only-of-type {\n",
       "        vertical-align: middle;\n",
       "    }\n",
       "\n",
       "    .dataframe tbody tr th {\n",
       "        vertical-align: top;\n",
       "    }\n",
       "\n",
       "    .dataframe thead th {\n",
       "        text-align: right;\n",
       "    }\n",
       "</style>\n",
       "<table border=\"1\" class=\"dataframe\">\n",
       "  <thead>\n",
       "    <tr style=\"text-align: right;\">\n",
       "      <th></th>\n",
       "      <th>pathway</th>\n",
       "      <th>jaccard</th>\n",
       "    </tr>\n",
       "  </thead>\n",
       "  <tbody>\n",
       "    <tr>\n",
       "      <th>29</th>\n",
       "      <td>BIOCARTA_CLASSIC_PATHWAY</td>\n",
       "      <td>2.000000</td>\n",
       "    </tr>\n",
       "    <tr>\n",
       "      <th>1564</th>\n",
       "      <td>WP_COMPLEMENT_ACTIVATION_CLASSICAL_PATHWAY</td>\n",
       "      <td>1.000000</td>\n",
       "    </tr>\n",
       "    <tr>\n",
       "      <th>580</th>\n",
       "      <td>REACTOME_METABOLISM_OF_ANGIOTENSINOGEN_TO_ANGI...</td>\n",
       "      <td>0.666667</td>\n",
       "    </tr>\n",
       "    <tr>\n",
       "      <th>438</th>\n",
       "      <td>REACTOME_INITIAL_TRIGGERING_OF_COMPLEMENT</td>\n",
       "      <td>0.600000</td>\n",
       "    </tr>\n",
       "    <tr>\n",
       "      <th>1482</th>\n",
       "      <td>REACTOME_ATORVASTATIN_ADME</td>\n",
       "      <td>0.500000</td>\n",
       "    </tr>\n",
       "    <tr>\n",
       "      <th>442</th>\n",
       "      <td>REACTOME_TRAFFICKING_AND_PROCESSING_OF_ENDOSOM...</td>\n",
       "      <td>0.232143</td>\n",
       "    </tr>\n",
       "    <tr>\n",
       "      <th>30</th>\n",
       "      <td>BIOCARTA_COMP_PATHWAY</td>\n",
       "      <td>0.200000</td>\n",
       "    </tr>\n",
       "    <tr>\n",
       "      <th>436</th>\n",
       "      <td>REACTOME_COMPLEMENT_CASCADE</td>\n",
       "      <td>0.170330</td>\n",
       "    </tr>\n",
       "    <tr>\n",
       "      <th>1641</th>\n",
       "      <td>WP_NUCLEAR_RECEPTORS_IN_LIPID_METABOLISM_AND_T...</td>\n",
       "      <td>0.089286</td>\n",
       "    </tr>\n",
       "    <tr>\n",
       "      <th>349</th>\n",
       "      <td>REACTOME_COLLAGEN_DEGRADATION</td>\n",
       "      <td>0.089286</td>\n",
       "    </tr>\n",
       "    <tr>\n",
       "      <th>109</th>\n",
       "      <td>BIOCARTA_NUCLEARRS_PATHWAY</td>\n",
       "      <td>0.089286</td>\n",
       "    </tr>\n",
       "    <tr>\n",
       "      <th>1227</th>\n",
       "      <td>REACTOME_MRNA_EDITING</td>\n",
       "      <td>0.083333</td>\n",
       "    </tr>\n",
       "    <tr>\n",
       "      <th>709</th>\n",
       "      <td>REACTOME_SCAVENGING_BY_CLASS_A_RECEPTORS</td>\n",
       "      <td>0.083333</td>\n",
       "    </tr>\n",
       "    <tr>\n",
       "      <th>310</th>\n",
       "      <td>REACTOME_ENDOSOMAL_VACUOLAR_PATHWAY</td>\n",
       "      <td>0.071429</td>\n",
       "    </tr>\n",
       "    <tr>\n",
       "      <th>744</th>\n",
       "      <td>REACTOME_P130CAS_LINKAGE_TO_MAPK_SIGNALING_FOR...</td>\n",
       "      <td>0.071429</td>\n",
       "    </tr>\n",
       "    <tr>\n",
       "      <th>171</th>\n",
       "      <td>BIOCARTA_TH1TH2_PATHWAY</td>\n",
       "      <td>0.066667</td>\n",
       "    </tr>\n",
       "    <tr>\n",
       "      <th>579</th>\n",
       "      <td>REACTOME_ASSEMBLY_OF_COLLAGEN_FIBRILS_AND_OTHE...</td>\n",
       "      <td>0.055556</td>\n",
       "    </tr>\n",
       "    <tr>\n",
       "      <th>651</th>\n",
       "      <td>REACTOME_HYALURONAN_UPTAKE_AND_DEGRADATION</td>\n",
       "      <td>0.050000</td>\n",
       "    </tr>\n",
       "    <tr>\n",
       "      <th>856</th>\n",
       "      <td>REACTOME_BICARBONATE_TRANSPORTERS</td>\n",
       "      <td>0.050000</td>\n",
       "    </tr>\n",
       "    <tr>\n",
       "      <th>1316</th>\n",
       "      <td>REACTOME_RUNX3_REGULATES_CDKN1A_TRANSCRIPTION</td>\n",
       "      <td>0.050000</td>\n",
       "    </tr>\n",
       "    <tr>\n",
       "      <th>1613</th>\n",
       "      <td>WP_MICROGLIA_PATHOGEN_PHAGOCYTOSIS_PATHWAY</td>\n",
       "      <td>0.047619</td>\n",
       "    </tr>\n",
       "    <tr>\n",
       "      <th>173</th>\n",
       "      <td>BIOCARTA_CTLA4_PATHWAY</td>\n",
       "      <td>0.047619</td>\n",
       "    </tr>\n",
       "    <tr>\n",
       "      <th>777</th>\n",
       "      <td>REACTOME_CD28_DEPENDENT_VAV1_PATHWAY</td>\n",
       "      <td>0.041667</td>\n",
       "    </tr>\n",
       "    <tr>\n",
       "      <th>742</th>\n",
       "      <td>REACTOME_GRB2_SOS_PROVIDES_LINKAGE_TO_MAPK_SIG...</td>\n",
       "      <td>0.041667</td>\n",
       "    </tr>\n",
       "    <tr>\n",
       "      <th>895</th>\n",
       "      <td>REACTOME_INTERACTION_BETWEEN_L1_AND_ANKYRINS</td>\n",
       "      <td>0.035714</td>\n",
       "    </tr>\n",
       "    <tr>\n",
       "      <th>1343</th>\n",
       "      <td>REACTOME_PLASMA_LIPOPROTEIN_ASSEMBLY</td>\n",
       "      <td>0.035714</td>\n",
       "    </tr>\n",
       "    <tr>\n",
       "      <th>1232</th>\n",
       "      <td>REACTOME_DISSOLUTION_OF_FIBRIN_CLOT</td>\n",
       "      <td>0.033333</td>\n",
       "    </tr>\n",
       "    <tr>\n",
       "      <th>588</th>\n",
       "      <td>REACTOME_CS_DS_DEGRADATION</td>\n",
       "      <td>0.033333</td>\n",
       "    </tr>\n",
       "    <tr>\n",
       "      <th>582</th>\n",
       "      <td>REACTOME_KERATAN_SULFATE_DEGRADATION</td>\n",
       "      <td>0.033333</td>\n",
       "    </tr>\n",
       "    <tr>\n",
       "      <th>647</th>\n",
       "      <td>REACTOME_HYALURONAN_METABOLISM</td>\n",
       "      <td>0.033333</td>\n",
       "    </tr>\n",
       "    <tr>\n",
       "      <th>866</th>\n",
       "      <td>REACTOME_POST_TRANSCRIPTIONAL_SILENCING_BY_SMA...</td>\n",
       "      <td>0.033333</td>\n",
       "    </tr>\n",
       "    <tr>\n",
       "      <th>265</th>\n",
       "      <td>REACTOME_BH3_ONLY_PROTEINS_ASSOCIATE_WITH_AND_...</td>\n",
       "      <td>0.033333</td>\n",
       "    </tr>\n",
       "    <tr>\n",
       "      <th>354</th>\n",
       "      <td>REACTOME_DEGRADATION_OF_THE_EXTRACELLULAR_MATRIX</td>\n",
       "      <td>0.033333</td>\n",
       "    </tr>\n",
       "    <tr>\n",
       "      <th>695</th>\n",
       "      <td>REACTOME_ROLE_OF_LAT2_NTAL_LAB_ON_CALCIUM_MOBI...</td>\n",
       "      <td>0.030303</td>\n",
       "    </tr>\n",
       "    <tr>\n",
       "      <th>557</th>\n",
       "      <td>REACTOME_NICOTINAMIDE_SALVAGING</td>\n",
       "      <td>0.027778</td>\n",
       "    </tr>\n",
       "    <tr>\n",
       "      <th>1553</th>\n",
       "      <td>WP_IRON_HOMEOSTASIS</td>\n",
       "      <td>0.027778</td>\n",
       "    </tr>\n",
       "    <tr>\n",
       "      <th>611</th>\n",
       "      <td>REACTOME_NF_KB_IS_ACTIVATED_AND_SIGNALS_SURVIVAL</td>\n",
       "      <td>0.027778</td>\n",
       "    </tr>\n",
       "    <tr>\n",
       "      <th>110</th>\n",
       "      <td>BIOCARTA_ARENRF2_PATHWAY</td>\n",
       "      <td>0.027473</td>\n",
       "    </tr>\n",
       "    <tr>\n",
       "      <th>741</th>\n",
       "      <td>REACTOME_INTEGRIN_SIGNALING</td>\n",
       "      <td>0.025735</td>\n",
       "    </tr>\n",
       "    <tr>\n",
       "      <th>409</th>\n",
       "      <td>REACTOME_FORMATION_OF_ATP_BY_CHEMIOSMOTIC_COUP...</td>\n",
       "      <td>0.025641</td>\n",
       "    </tr>\n",
       "    <tr>\n",
       "      <th>656</th>\n",
       "      <td>REACTOME_DOWNREGULATION_OF_TGF_BETA_RECEPTOR_S...</td>\n",
       "      <td>0.025641</td>\n",
       "    </tr>\n",
       "    <tr>\n",
       "      <th>196</th>\n",
       "      <td>BIOCARTA_AMAN_PATHWAY</td>\n",
       "      <td>0.023810</td>\n",
       "    </tr>\n",
       "    <tr>\n",
       "      <th>308</th>\n",
       "      <td>REACTOME_ER_PHAGOSOME_PATHWAY</td>\n",
       "      <td>0.023810</td>\n",
       "    </tr>\n",
       "    <tr>\n",
       "      <th>1256</th>\n",
       "      <td>REACTOME_REGULATION_OF_IFNG_SIGNALING</td>\n",
       "      <td>0.023810</td>\n",
       "    </tr>\n",
       "    <tr>\n",
       "      <th>1002</th>\n",
       "      <td>REACTOME_RHO_GTPASES_ACTIVATE_IQGAPS</td>\n",
       "      <td>0.023684</td>\n",
       "    </tr>\n",
       "    <tr>\n",
       "      <th>1415</th>\n",
       "      <td>REACTOME_REGULATION_OF_SIGNALING_BY_CBL</td>\n",
       "      <td>0.023392</td>\n",
       "    </tr>\n",
       "    <tr>\n",
       "      <th>564</th>\n",
       "      <td>REACTOME_IMMUNOREGULATORY_INTERACTIONS_BETWEEN...</td>\n",
       "      <td>0.023077</td>\n",
       "    </tr>\n",
       "    <tr>\n",
       "      <th>356</th>\n",
       "      <td>REACTOME_COLLAGEN_FORMATION</td>\n",
       "      <td>0.022876</td>\n",
       "    </tr>\n",
       "    <tr>\n",
       "      <th>1238</th>\n",
       "      <td>REACTOME_PLATELET_AGGREGATION_PLUG_FORMATION</td>\n",
       "      <td>0.022876</td>\n",
       "    </tr>\n",
       "    <tr>\n",
       "      <th>1297</th>\n",
       "      <td>REACTOME_MET_ACTIVATES_RAP1_AND_RAC1</td>\n",
       "      <td>0.022222</td>\n",
       "    </tr>\n",
       "    <tr>\n",
       "      <th>427</th>\n",
       "      <td>REACTOME_SYNTHESIS_OF_PIPS_AT_THE_LATE_ENDOSOM...</td>\n",
       "      <td>0.022222</td>\n",
       "    </tr>\n",
       "    <tr>\n",
       "      <th>1001</th>\n",
       "      <td>REACTOME_RHO_GTPASES_ACTIVATE_KTN1</td>\n",
       "      <td>0.022222</td>\n",
       "    </tr>\n",
       "    <tr>\n",
       "      <th>1309</th>\n",
       "      <td>REACTOME_RUNX1_REGULATES_GENES_INVOLVED_IN_MEG...</td>\n",
       "      <td>0.022059</td>\n",
       "    </tr>\n",
       "    <tr>\n",
       "      <th>957</th>\n",
       "      <td>REACTOME_MYOGENESIS</td>\n",
       "      <td>0.019048</td>\n",
       "    </tr>\n",
       "    <tr>\n",
       "      <th>515</th>\n",
       "      <td>REACTOME_GAP_JUNCTION_DEGRADATION</td>\n",
       "      <td>0.018182</td>\n",
       "    </tr>\n",
       "    <tr>\n",
       "      <th>1405</th>\n",
       "      <td>REACTOME_ERYTHROPOIETIN_ACTIVATES_PHOSPHOINOSI...</td>\n",
       "      <td>0.018182</td>\n",
       "    </tr>\n",
       "    <tr>\n",
       "      <th>525</th>\n",
       "      <td>REACTOME_P75NTR_SIGNALS_VIA_NF_KB</td>\n",
       "      <td>0.018182</td>\n",
       "    </tr>\n",
       "    <tr>\n",
       "      <th>37</th>\n",
       "      <td>BIOCARTA_CELLCYCLE_PATHWAY</td>\n",
       "      <td>0.018182</td>\n",
       "    </tr>\n",
       "    <tr>\n",
       "      <th>1071</th>\n",
       "      <td>REACTOME_JOSEPHIN_DOMAIN_DUBS</td>\n",
       "      <td>0.017857</td>\n",
       "    </tr>\n",
       "    <tr>\n",
       "      <th>21</th>\n",
       "      <td>BIOCARTA_CBL_PATHWAY</td>\n",
       "      <td>0.017857</td>\n",
       "    </tr>\n",
       "  </tbody>\n",
       "</table>\n",
       "</div>"
      ],
      "text/plain": [
       "                                                pathway   jaccard\n",
       "29                             BIOCARTA_CLASSIC_PATHWAY  2.000000\n",
       "1564         WP_COMPLEMENT_ACTIVATION_CLASSICAL_PATHWAY  1.000000\n",
       "580   REACTOME_METABOLISM_OF_ANGIOTENSINOGEN_TO_ANGI...  0.666667\n",
       "438           REACTOME_INITIAL_TRIGGERING_OF_COMPLEMENT  0.600000\n",
       "1482                         REACTOME_ATORVASTATIN_ADME  0.500000\n",
       "442   REACTOME_TRAFFICKING_AND_PROCESSING_OF_ENDOSOM...  0.232143\n",
       "30                                BIOCARTA_COMP_PATHWAY  0.200000\n",
       "436                         REACTOME_COMPLEMENT_CASCADE  0.170330\n",
       "1641  WP_NUCLEAR_RECEPTORS_IN_LIPID_METABOLISM_AND_T...  0.089286\n",
       "349                       REACTOME_COLLAGEN_DEGRADATION  0.089286\n",
       "109                          BIOCARTA_NUCLEARRS_PATHWAY  0.089286\n",
       "1227                              REACTOME_MRNA_EDITING  0.083333\n",
       "709            REACTOME_SCAVENGING_BY_CLASS_A_RECEPTORS  0.083333\n",
       "310                 REACTOME_ENDOSOMAL_VACUOLAR_PATHWAY  0.071429\n",
       "744   REACTOME_P130CAS_LINKAGE_TO_MAPK_SIGNALING_FOR...  0.071429\n",
       "171                             BIOCARTA_TH1TH2_PATHWAY  0.066667\n",
       "579   REACTOME_ASSEMBLY_OF_COLLAGEN_FIBRILS_AND_OTHE...  0.055556\n",
       "651          REACTOME_HYALURONAN_UPTAKE_AND_DEGRADATION  0.050000\n",
       "856                   REACTOME_BICARBONATE_TRANSPORTERS  0.050000\n",
       "1316      REACTOME_RUNX3_REGULATES_CDKN1A_TRANSCRIPTION  0.050000\n",
       "1613         WP_MICROGLIA_PATHOGEN_PHAGOCYTOSIS_PATHWAY  0.047619\n",
       "173                              BIOCARTA_CTLA4_PATHWAY  0.047619\n",
       "777                REACTOME_CD28_DEPENDENT_VAV1_PATHWAY  0.041667\n",
       "742   REACTOME_GRB2_SOS_PROVIDES_LINKAGE_TO_MAPK_SIG...  0.041667\n",
       "895        REACTOME_INTERACTION_BETWEEN_L1_AND_ANKYRINS  0.035714\n",
       "1343               REACTOME_PLASMA_LIPOPROTEIN_ASSEMBLY  0.035714\n",
       "1232                REACTOME_DISSOLUTION_OF_FIBRIN_CLOT  0.033333\n",
       "588                          REACTOME_CS_DS_DEGRADATION  0.033333\n",
       "582                REACTOME_KERATAN_SULFATE_DEGRADATION  0.033333\n",
       "647                      REACTOME_HYALURONAN_METABOLISM  0.033333\n",
       "866   REACTOME_POST_TRANSCRIPTIONAL_SILENCING_BY_SMA...  0.033333\n",
       "265   REACTOME_BH3_ONLY_PROTEINS_ASSOCIATE_WITH_AND_...  0.033333\n",
       "354    REACTOME_DEGRADATION_OF_THE_EXTRACELLULAR_MATRIX  0.033333\n",
       "695   REACTOME_ROLE_OF_LAT2_NTAL_LAB_ON_CALCIUM_MOBI...  0.030303\n",
       "557                     REACTOME_NICOTINAMIDE_SALVAGING  0.027778\n",
       "1553                                WP_IRON_HOMEOSTASIS  0.027778\n",
       "611    REACTOME_NF_KB_IS_ACTIVATED_AND_SIGNALS_SURVIVAL  0.027778\n",
       "110                            BIOCARTA_ARENRF2_PATHWAY  0.027473\n",
       "741                         REACTOME_INTEGRIN_SIGNALING  0.025735\n",
       "409   REACTOME_FORMATION_OF_ATP_BY_CHEMIOSMOTIC_COUP...  0.025641\n",
       "656   REACTOME_DOWNREGULATION_OF_TGF_BETA_RECEPTOR_S...  0.025641\n",
       "196                               BIOCARTA_AMAN_PATHWAY  0.023810\n",
       "308                       REACTOME_ER_PHAGOSOME_PATHWAY  0.023810\n",
       "1256              REACTOME_REGULATION_OF_IFNG_SIGNALING  0.023810\n",
       "1002               REACTOME_RHO_GTPASES_ACTIVATE_IQGAPS  0.023684\n",
       "1415            REACTOME_REGULATION_OF_SIGNALING_BY_CBL  0.023392\n",
       "564   REACTOME_IMMUNOREGULATORY_INTERACTIONS_BETWEEN...  0.023077\n",
       "356                         REACTOME_COLLAGEN_FORMATION  0.022876\n",
       "1238       REACTOME_PLATELET_AGGREGATION_PLUG_FORMATION  0.022876\n",
       "1297               REACTOME_MET_ACTIVATES_RAP1_AND_RAC1  0.022222\n",
       "427   REACTOME_SYNTHESIS_OF_PIPS_AT_THE_LATE_ENDOSOM...  0.022222\n",
       "1001                 REACTOME_RHO_GTPASES_ACTIVATE_KTN1  0.022222\n",
       "1309  REACTOME_RUNX1_REGULATES_GENES_INVOLVED_IN_MEG...  0.022059\n",
       "957                                 REACTOME_MYOGENESIS  0.019048\n",
       "515                   REACTOME_GAP_JUNCTION_DEGRADATION  0.018182\n",
       "1405  REACTOME_ERYTHROPOIETIN_ACTIVATES_PHOSPHOINOSI...  0.018182\n",
       "525                   REACTOME_P75NTR_SIGNALS_VIA_NF_KB  0.018182\n",
       "37                           BIOCARTA_CELLCYCLE_PATHWAY  0.018182\n",
       "1071                      REACTOME_JOSEPHIN_DOMAIN_DUBS  0.017857\n",
       "21                                 BIOCARTA_CBL_PATHWAY  0.017857"
      ]
     },
     "execution_count": 57,
     "metadata": {},
     "output_type": "execute_result"
    }
   ],
   "source": []
  },
  {
   "cell_type": "code",
   "execution_count": 25,
   "id": "1968deac-4876-4563-9f1c-8e9e04ce30e7",
   "metadata": {},
   "outputs": [],
   "source": [
    "pathway_gene_dict = {}\n",
    "gene_pathway_dict = defaultdict(list)\n",
    "for pw in cp.keys():\n",
    "    pathway_gene_dict[pw] = cp[pw]['geneSymbols']\n",
    "    for gene in cp[pw]['geneSymbols']:\n",
    "        gene_pathway_dict[gene].append(pw)"
   ]
  },
  {
   "cell_type": "code",
   "execution_count": 36,
   "id": "7fab5194-dae2-4532-9e12-20bf1da7ba8f",
   "metadata": {},
   "outputs": [],
   "source": [
    "go_gene_dict = {}\n",
    "gene_go_dict = defaultdict(list)\n",
    "for go_term in go.keys():\n",
    "    go_gene_dict[go_term] = go[go_term]['geneSymbols']\n",
    "    for gene in go[go_term]['geneSymbols']:\n",
    "        gene_go_dict[gene].append(go_term)"
   ]
  },
  {
   "cell_type": "code",
   "execution_count": 15,
   "id": "ddfd4863-594e-4ced-b45c-6342e0b6d399",
   "metadata": {},
   "outputs": [],
   "source": [
    "gene_names = experiment_results['Microglia'].gene_names\n",
    "gene_lower = gene_names.str.lower()"
   ]
  },
  {
   "cell_type": "code",
   "execution_count": 28,
   "id": "951ab283-0489-446f-8bde-67c663465913",
   "metadata": {},
   "outputs": [
    {
     "data": {
      "text/plain": [
       "{'collection': 'M2:CP:BIOCARTA',\n",
       " 'systematicName': 'MM1339',\n",
       " 'pmid': '',\n",
       " 'exactSource': '',\n",
       " 'externalDetailsURL': 'https://data.broadinstitute.org/gsea-msigdb/msigdb/biocarta/mouse/m_relaPathway.gif',\n",
       " 'msigdbURL': 'https://www.gsea-msigdb.org/gsea/msigdb/mouse/geneset/BIOCARTA_RELA_PATHWAY',\n",
       " 'geneSymbols': ['Chuk',\n",
       "  'Crebbp',\n",
       "  'Ep300',\n",
       "  'Fadd',\n",
       "  'Ikbkb',\n",
       "  'Ikbkg',\n",
       "  'Nfkb1',\n",
       "  'Nfkbia',\n",
       "  'Rela',\n",
       "  'Ripk1',\n",
       "  'Tnf',\n",
       "  'Tnfrsf1a',\n",
       "  'Tnfrsf1b',\n",
       "  'Tradd',\n",
       "  'Traf6'],\n",
       " 'filteredBySimilarity': [],\n",
       " 'externalNamesForSimilarTerms': []}"
      ]
     },
     "execution_count": 28,
     "metadata": {},
     "output_type": "execute_result"
    }
   ],
   "source": [
    "cp['BIOCARTA_RELA_PATHWAY']"
   ]
  },
  {
   "cell_type": "code",
   "execution_count": 13,
   "id": "965c7c25-f418-42b5-b834-8ab118abd06b",
   "metadata": {},
   "outputs": [
    {
     "data": {
      "text/plain": [
       "dict_keys(['BIOCARTA_RELA_PATHWAY', 'BIOCARTA_CSK_PATHWAY', 'BIOCARTA_SRCRPTP_PATHWAY', 'BIOCARTA_ARAP_PATHWAY', 'BIOCARTA_AGR_PATHWAY', 'BIOCARTA_AKAP95_PATHWAY', 'BIOCARTA_AKT_PATHWAY', 'BIOCARTA_AT1R_PATHWAY', 'BIOCARTA_ACE2_PATHWAY', 'BIOCARTA_ASBCELL_PATHWAY', 'BIOCARTA_DNAFRAGMENT_PATHWAY', 'BIOCARTA_CHEMICAL_PATHWAY', 'BIOCARTA_ATM_PATHWAY', 'BIOCARTA_AGPCR_PATHWAY', 'BIOCARTA_BCELLSURVIVAL_PATHWAY', 'BIOCARTA_BLYMPHOCYTE_PATHWAY', 'BIOCARTA_BCR_PATHWAY', 'BIOCARTA_BIOPEPTIDES_PATHWAY', 'BIOCARTA_CACAM_PATHWAY', 'BIOCARTA_CDMAC_PATHWAY', 'BIOCARTA_CASPASE_PATHWAY', 'BIOCARTA_CBL_PATHWAY', 'BIOCARTA_CCR3_PATHWAY', 'BIOCARTA_CD40_PATHWAY', 'BIOCARTA_MCM_PATHWAY', 'BIOCARTA_G1_PATHWAY', 'BIOCARTA_G2_PATHWAY', 'BIOCARTA_CELL2CELL_PATHWAY', 'BIOCARTA_CERAMIDE_PATHWAY', 'BIOCARTA_CLASSIC_PATHWAY', 'BIOCARTA_COMP_PATHWAY', 'BIOCARTA_VDR_PATHWAY', 'BIOCARTA_HDAC_PATHWAY', 'BIOCARTA_GCR_PATHWAY', 'BIOCARTA_CTCF_PATHWAY', 'BIOCARTA_CTL_PATHWAY', 'BIOCARTA_CXCR4_PATHWAY', 'BIOCARTA_CELLCYCLE_PATHWAY', 'BIOCARTA_CFTR_PATHWAY', 'BIOCARTA_CYTOKINE_PATHWAY', 'BIOCARTA_INFLAM_PATHWAY', 'BIOCARTA_D4GDI_PATHWAY', 'BIOCARTA_P35ALZHEIMERS_PATHWAY', 'BIOCARTA_RNA_PATHWAY', 'BIOCARTA_MTA3_PATHWAY', 'BIOCARTA_SKP2E2F_PATHWAY', 'BIOCARTA_CALCINEURIN_PATHWAY', 'BIOCARTA_EGF_PATHWAY', 'BIOCARTA_NDKDYNAMIN_PATHWAY', 'BIOCARTA_EPHA4_PATHWAY', 'BIOCARTA_EPO_PATHWAY', 'BIOCARTA_ECM_PATHWAY', 'BIOCARTA_ERK_PATHWAY', 'BIOCARTA_ERYTH_PATHWAY', 'BIOCARTA_EPONFKB_PATHWAY', 'BIOCARTA_EIF_PATHWAY', 'BIOCARTA_EXTRINSIC_PATHWAY', 'BIOCARTA_FAS_PATHWAY', 'BIOCARTA_FCER1_PATHWAY', 'BIOCARTA_FIBRINOLYSIS_PATHWAY', 'BIOCARTA_FMLP_PATHWAY', 'BIOCARTA_FREE_PATHWAY', 'BIOCARTA_GABA_PATHWAY', 'BIOCARTA_GATA3_PATHWAY', 'BIOCARTA_SET_PATHWAY', 'BIOCARTA_GH_PATHWAY', 'BIOCARTA_TCAPOPTOSIS_PATHWAY', 'BIOCARTA_HIVNEF_PATHWAY', 'BIOCARTA_MPR_PATHWAY', 'BIOCARTA_HCMV_PATHWAY', 'BIOCARTA_IGF1_PATHWAY', 'BIOCARTA_IL17_PATHWAY', 'BIOCARTA_IL2_PATHWAY', 'BIOCARTA_IL3_PATHWAY', 'BIOCARTA_IL4_PATHWAY', 'BIOCARTA_IL5_PATHWAY', 'BIOCARTA_IL6_PATHWAY', 'BIOCARTA_IL10_PATHWAY', 'BIOCARTA_IL12_PATHWAY', 'BIOCARTA_IL2RB_PATHWAY', 'BIOCARTA_IL22BP_PATHWAY', 'BIOCARTA_IL7_PATHWAY', 'BIOCARTA_GSK3_PATHWAY', 'BIOCARTA_DEATH_PATHWAY', 'BIOCARTA_RACCYCD_PATHWAY', 'BIOCARTA_GLEEVEC_PATHWAY', 'BIOCARTA_INSULIN_PATHWAY', 'BIOCARTA_INTEGRIN_PATHWAY', 'BIOCARTA_INTRINSIC_PATHWAY', 'BIOCARTA_KERATINOCYTE_PATHWAY', 'BIOCARTA_TCRA_PATHWAY', 'BIOCARTA_LECTIN_PATHWAY', 'BIOCARTA_PYK2_PATHWAY', 'BIOCARTA_EGFR_SMRTE_PATHWAY', 'BIOCARTA_MAPK_PATHWAY', 'BIOCARTA_MCALPAIN_PATHWAY', 'BIOCARTA_ETS_PATHWAY', 'BIOCARTA_MONOCYTE_PATHWAY', 'BIOCARTA_MTOR_PATHWAY', 'BIOCARTA_IGF1R_PATHWAY', 'BIOCARTA_PITX2_PATHWAY', 'BIOCARTA_NGF_PATHWAY', 'BIOCARTA_VIP_PATHWAY', 'BIOCARTA_NFAT_PATHWAY', 'BIOCARTA_NTHI_PATHWAY', 'BIOCARTA_NFKB_PATHWAY', 'BIOCARTA_NOS1_PATHWAY', 'BIOCARTA_NO2IL12_PATHWAY', 'BIOCARTA_RARRXR_PATHWAY', 'BIOCARTA_NUCLEARRS_PATHWAY', 'BIOCARTA_ARENRF2_PATHWAY', 'BIOCARTA_P38MAPK_PATHWAY', 'BIOCARTA_P53_PATHWAY', 'BIOCARTA_PDGF_PATHWAY', 'BIOCARTA_CCR5_PATHWAY', 'BIOCARTA_PTDINS_PATHWAY', 'BIOCARTA_PLCE_PATHWAY', 'BIOCARTA_EDG1_PATHWAY', 'BIOCARTA_CDK5_PATHWAY', 'BIOCARTA_PLATELETAPP_PATHWAY', 'BIOCARTA_PS1_PATHWAY', 'BIOCARTA_AKAPCENTROSOME_PATHWAY', 'BIOCARTA_PTEN_PATHWAY', 'BIOCARTA_RAB_PATHWAY', 'BIOCARTA_RAC1_PATHWAY', 'BIOCARTA_RAS_PATHWAY', 'BIOCARTA_NKCELLS_PATHWAY', 'BIOCARTA_RB_PATHWAY', 'BIOCARTA_BAD_PATHWAY', 'BIOCARTA_CK1_PATHWAY', 'BIOCARTA_EIF2_PATHWAY', 'BIOCARTA_EIF4_PATHWAY', 'BIOCARTA_STEM_PATHWAY', 'BIOCARTA_P27_PATHWAY', 'BIOCARTA_PGC1A_PATHWAY', 'BIOCARTA_PML_PATHWAY', 'BIOCARTA_DREAM_PATHWAY', 'BIOCARTA_RHO_PATHWAY', 'BIOCARTA_AKAP13_PATHWAY', 'BIOCARTA_ATRBRCA_PATHWAY', 'BIOCARTA_CARDIACEGF_PATHWAY', 'BIOCARTA_HER2_PATHWAY', 'BIOCARTA_ERK5_PATHWAY', 'BIOCARTA_MAL_PATHWAY', 'BIOCARTA_MEF2D_PATHWAY', 'BIOCARTA_MITOCHONDRIA_PATHWAY', 'BIOCARTA_ACH_PATHWAY', 'BIOCARTA_PARKIN_PATHWAY', 'BIOCARTA_CDC42RAC_PATHWAY', 'BIOCARTA_RANMS_PATHWAY', 'BIOCARTA_BARR_MAPK_PATHWAY', 'BIOCARTA_TOB1_PATHWAY', 'BIOCARTA_BARRESTIN_SRC_PATHWAY', 'BIOCARTA_NKT_PATHWAY', 'BIOCARTA_IL1R_PATHWAY', 'BIOCARTA_MET_PATHWAY', 'BIOCARTA_GPCR_PATHWAY', 'BIOCARTA_IGF1MTOR_PATHWAY', 'BIOCARTA_SODD_PATHWAY', 'BIOCARTA_SHH_PATHWAY', 'BIOCARTA_PTC1_PATHWAY', 'BIOCARTA_SPRY_PATHWAY', 'BIOCARTA_BARRESTIN_PATHWAY', 'BIOCARTA_STATHMIN_PATHWAY', 'BIOCARTA_HSP27_PATHWAY', 'BIOCARTA_TCR_PATHWAY', 'BIOCARTA_TCYTOTOXIC_PATHWAY', 'BIOCARTA_THELPER_PATHWAY', 'BIOCARTA_TALL1_PATHWAY', 'BIOCARTA_TEL_PATHWAY', 'BIOCARTA_TGFB_PATHWAY', 'BIOCARTA_TH1TH2_PATHWAY', 'BIOCARTA_41BB_PATHWAY', 'BIOCARTA_CTLA4_PATHWAY', 'BIOCARTA_LONGEVITY_PATHWAY', 'BIOCARTA_PAR1_PATHWAY', 'BIOCARTA_STRESS_PATHWAY', 'BIOCARTA_TNFR1_PATHWAY', 'BIOCARTA_TNFR2_PATHWAY', 'BIOCARTA_TOLL_PATHWAY', 'BIOCARTA_TPO_PATHWAY', 'BIOCARTA_CREB_PATHWAY', 'BIOCARTA_CARM1_PATHWAY', 'BIOCARTA_TFF_PATHWAY', 'BIOCARTA_TRKA_PATHWAY', 'BIOCARTA_ARF_PATHWAY', 'BIOCARTA_UCALPAIN_PATHWAY', 'BIOCARTA_VITCB_PATHWAY', 'BIOCARTA_WNT_PATHWAY', 'BIOCARTA_ACTINY_PATHWAY', 'BIOCARTA_EICOSANOID_PATHWAY', 'BIOCARTA_CHREBP_PATHWAY', 'BIOCARTA_LIS1_PATHWAY', 'BIOCARTA_HSWI_SNF_PATHWAY', 'BIOCARTA_PCAF_PATHWAY', 'BIOCARTA_LYMPHOCYTE_PATHWAY', 'BIOCARTA_AMAN_PATHWAY', 'BIOCARTA_NEUTROPHIL_PATHWAY', 'BIOCARTA_EFP_PATHWAY', 'BIOCARTA_CREM_PATHWAY', 'BIOCARTA_ERAD_PATHWAY', 'BIOCARTA_BTG2_PATHWAY', 'BIOCARTA_TERT_PATHWAY', 'BIOCARTA_VOBESITY_PATHWAY', 'BIOCARTA_ERBB3_PATHWAY', 'BIOCARTA_CTBP1_PATHWAY', 'BIOCARTA_PRION_PATHWAY', 'BIOCARTA_FXR_PATHWAY', 'BIOCARTA_ACETAMINOPHEN_PATHWAY', 'BIOCARTA_PRC2_PATHWAY', 'BIOCARTA_RANBP2_PATHWAY', 'BIOCARTA_IRES_PATHWAY', 'BIOCARTA_PLC_PATHWAY', 'BIOCARTA_BBCELL_PATHWAY', 'BIOCARTA_CDC25_PATHWAY', 'BIOCARTA_DSP_PATHWAY', 'BIOCARTA_MELANOCYTE_PATHWAY', 'BIOCARTA_S1P_PATHWAY', 'BIOCARTA_HBX_PATHWAY', 'BIOCARTA_MALATEX_PATHWAY', 'BIOCARTA_TSP1_PATHWAY', 'BIOCARTA_NPP1_PATHWAY', 'BIOCARTA_CPSF_PATHWAY', 'BIOCARTA_HES_PATHWAY', 'BIOCARTA_ERBB4_PATHWAY', 'BIOCARTA_TERC_PATHWAY', 'BIOCARTA_EOSINOPHILS_PATHWAY', 'BIOCARTA_REELIN_PATHWAY', 'BIOCARTA_SAM68_PATHWAY', 'BIOCARTA_FBW7_PATHWAY', 'BIOCARTA_CB1R_PATHWAY', 'BIOCARTA_SUMO_PATHWAY', 'BIOCARTA_IFNA_PATHWAY', 'BIOCARTA_PKC_PATHWAY', 'BIOCARTA_PPARG_PATHWAY', 'BIOCARTA_ION_PATHWAY', 'BIOCARTA_PELP1_PATHWAY', 'BIOCARTA_STAT3_PATHWAY', 'BIOCARTA_EEA1_PATHWAY', 'BIOCARTA_CIRCADIAN_PATHWAY', 'BIOCARTA_RECK_PATHWAY', 'BIOCARTA_MSP_PATHWAY', 'BIOCARTA_SLRP_PATHWAY', 'BIOCARTA_ALTERNATIVE_PATHWAY', 'BIOCARTA_FOSB_PATHWAY', 'BIOCARTA_NOTCH_PATHWAY', 'BIOCARTA_TUBBY_PATHWAY', 'BIOCARTA_MRP_PATHWAY', 'BIOCARTA_PLCD_PATHWAY', 'BIOCARTA_WNT_LRP6_PATHWAY', 'BIOCARTA_PEPI_PATHWAY', 'BIOCARTA_IFNG_PATHWAY', 'REACTOME_INTERLEUKIN_6_SIGNALING', 'REACTOME_APOPTOSIS', 'REACTOME_HEMOSTASIS', 'REACTOME_INTRINSIC_PATHWAY_FOR_APOPTOSIS', 'REACTOME_MAPK3_ERK1_ACTIVATION', 'REACTOME_TRANSLESION_SYNTHESIS_BY_Y_FAMILY_DNA_POLYMERASES_BYPASSES_LESIONS_ON_DNA_TEMPLATE', 'REACTOME_RECOGNITION_OF_DNA_DAMAGE_BY_PCNA_CONTAINING_REPLICATION_COMPLEX', 'REACTOME_TRANSLESION_SYNTHESIS_BY_POLH', 'REACTOME_CLEAVAGE_OF_THE_DAMAGED_PYRIMIDINE', 'REACTOME_DISPLACEMENT_OF_DNA_GLYCOSYLASE_BY_APEX1', 'REACTOME_POLB_DEPENDENT_LONG_PATCH_BASE_EXCISION_REPAIR', 'REACTOME_RESOLUTION_OF_AP_SITES_VIA_THE_MULTIPLE_NUCLEOTIDE_PATCH_REPLACEMENT_PATHWAY', 'REACTOME_ACTIVATION_OF_BAD_AND_TRANSLOCATION_TO_MITOCHONDRIA', 'REACTOME_BH3_ONLY_PROTEINS_ASSOCIATE_WITH_AND_INACTIVATE_ANTI_APOPTOTIC_BCL_2_MEMBERS', 'REACTOME_RELEASE_OF_APOPTOTIC_FACTORS_FROM_THE_MITOCHONDRIA', 'REACTOME_FORMATION_OF_APOPTOSOME', 'REACTOME_ACTIVATION_OF_CASPASES_THROUGH_APOPTOSOME_MEDIATED_CLEAVAGE', 'REACTOME_CYTOCHROME_C_MEDIATED_APOPTOTIC_RESPONSE', 'REACTOME_APOPTOTIC_CLEAVAGE_OF_CELLULAR_PROTEINS', 'REACTOME_SMAC_XIAP_REGULATED_APOPTOTIC_RESPONSE', 'REACTOME_APOPTOTIC_FACTOR_MEDIATED_RESPONSE', 'REACTOME_OPIOID_SIGNALLING', 'REACTOME_PKA_MEDIATED_PHOSPHORYLATION_OF_CREB', 'REACTOME_CAMK_IV_MEDIATED_PHOSPHORYLATION_OF_CREB', 'REACTOME_CAM_PDE_1_ACTIVATION', 'REACTOME_CA_DEPENDENT_EVENTS', 'REACTOME_G_PROTEIN_MEDIATED_EVENTS', 'REACTOME_ELECTRIC_TRANSMISSION_ACROSS_GAP_JUNCTIONS', 'REACTOME_PRESYNAPTIC_DEPOLARIZATION_AND_CALCIUM_CHANNEL_OPENING', 'REACTOME_NEUROTRANSMITTER_RELEASE_CYCLE', 'REACTOME_NEUROTRANSMITTER_CLEARANCE', 'REACTOME_NEUROTRANSMITTER_RECEPTORS_AND_POSTSYNAPTIC_SIGNAL_TRANSMISSION', 'REACTOME_TRANSMISSION_ACROSS_CHEMICAL_SYNAPSES', 'REACTOME_NEURONAL_SYSTEM', 'REACTOME_FORMATION_OF_RNA_POL_II_ELONGATION_COMPLEX', 'REACTOME_IRS_MEDIATED_SIGNALLING', 'REACTOME_RAF_INDEPENDENT_MAPK1_3_ACTIVATION', 'REACTOME_MAPK1_ERK2_ACTIVATION', 'REACTOME_FORMATION_OF_THE_EARLY_ELONGATION_COMPLEX', 'REACTOME_INHIBITION_OF_REPLICATION_INITIATION_OF_DAMAGED_DNA_BY_RB1_E2F1', 'REACTOME_ACTIVATION_OF_BH3_ONLY_PROTEINS', 'REACTOME_EFFECTS_OF_PIP2_HYDROLYSIS', 'REACTOME_GPVI_MEDIATED_ACTIVATION_CASCADE', 'REACTOME_DOWNSTREAM_SIGNALING_EVENTS_OF_B_CELL_RECEPTOR_BCR', 'REACTOME_ACTIVATION_OF_NF_KAPPAB_IN_B_CELLS', 'REACTOME_ISG15_ANTIVIRAL_MECHANISM', 'REACTOME_ANTIVIRAL_MECHANISM_BY_IFN_STIMULATED_GENES', 'REACTOME_PROLACTIN_RECEPTOR_SIGNALING', 'REACTOME_SIGNALING_BY_NODAL', 'REACTOME_FERTILIZATION', 'REACTOME_ROS_AND_RNS_PRODUCTION_IN_PHAGOCYTES', 'REACTOME_SIGNALING_BY_ERBB2', 'REACTOME_REGULATION_OF_GENE_EXPRESSION_BY_HYPOXIA_INDUCIBLE_FACTOR', 'REACTOME_CELLULAR_RESPONSE_TO_HYPOXIA', 'REACTOME_SIGNALING_BY_ERBB4', 'REACTOME_CROSS_PRESENTATION_OF_PARTICULATE_EXOGENOUS_ANTIGENS_PHAGOSOMES', 'REACTOME_ER_PHAGOSOME_PATHWAY', 'REACTOME_ANTIGEN_PROCESSING_CROSS_PRESENTATION', 'REACTOME_ENDOSOMAL_VACUOLAR_PATHWAY', 'REACTOME_CROSS_PRESENTATION_OF_SOLUBLE_EXOGENOUS_ANTIGENS_ENDOSOMES', 'REACTOME_ERYTHROCYTES_TAKE_UP_CARBON_DIOXIDE_AND_RELEASE_OXYGEN', 'REACTOME_ERYTHROCYTES_TAKE_UP_OXYGEN_AND_RELEASE_CARBON_DIOXIDE', 'REACTOME_SHC1_EVENTS_IN_ERBB2_SIGNALING', 'REACTOME_PI3K_EVENTS_IN_ERBB4_SIGNALING', 'REACTOME_SHC1_EVENTS_IN_ERBB4_SIGNALING', 'REACTOME_NUCLEAR_SIGNALING_BY_ERBB4', 'REACTOME_DOWNREGULATION_OF_ERBB4_SIGNALING', 'REACTOME_INTERLEUKIN_7_SIGNALING', 'REACTOME_DEVELOPMENTAL_BIOLOGY', 'REACTOME_MITOCHONDRIAL_PROTEIN_IMPORT', 'REACTOME_CYTOKINE_SIGNALING_IN_IMMUNE_SYSTEM', 'REACTOME_ADAPTIVE_IMMUNE_SYSTEM', 'REACTOME_SPRY_REGULATION_OF_FGF_SIGNALING', 'REACTOME_ACTIVATION_OF_G_PROTEIN_GATED_POTASSIUM_CHANNELS', 'REACTOME_CA2_ACTIVATED_K_CHANNELS', 'REACTOME_INWARDLY_RECTIFYING_K_CHANNELS', 'REACTOME_POTASSIUM_CHANNELS', 'REACTOME_VOLTAGE_GATED_POTASSIUM_CHANNELS', 'REACTOME_TANDEM_PORE_DOMAIN_POTASSIUM_CHANNELS', 'REACTOME_SPERM_MOTILITY_AND_TAXES', 'REACTOME_ACROSOME_REACTION_AND_SPERM_OOCYTE_MEMBRANE_BINDING', 'REACTOME_DOWNREGULATION_OF_ERBB2_ERBB3_SIGNALING', 'REACTOME_MITOCHONDRIAL_IRON_SULFUR_CLUSTER_BIOGENESIS', 'REACTOME_ABC_TRANSPORTERS_IN_LIPID_HOMEOSTASIS', 'REACTOME_ELEVATION_OF_CYTOSOLIC_CA2_LEVELS', 'REACTOME_APOPTOSIS_INDUCED_DNA_FRAGMENTATION', 'REACTOME_CASPASE_ACTIVATION_VIA_DEATH_RECEPTORS_IN_THE_PRESENCE_OF_LIGAND', 'REACTOME_EXTRINSIC_PATHWAY_OF_FIBRIN_CLOT_FORMATION', 'REACTOME_INTRINSIC_PATHWAY_OF_FIBRIN_CLOT_FORMATION', 'REACTOME_COMMON_PATHWAY_OF_FIBRIN_CLOT_FORMATION', 'REACTOME_FORMATION_OF_FIBRIN_CLOT_CLOTTING_CASCADE', 'REACTOME_INHIBITION_OF_THE_PROTEOLYTIC_ACTIVITY_OF_APC_C_REQUIRED_FOR_THE_ONSET_OF_ANAPHASE_BY_MITOTIC_SPINDLE_CHECKPOINT_COMPONENTS', 'REACTOME_AMPLIFICATION_OF_SIGNAL_FROM_THE_KINETOCHORES', 'REACTOME_THE_CITRIC_ACID_TCA_CYCLE_AND_RESPIRATORY_ELECTRON_TRANSPORT', 'REACTOME_METABOLISM', 'REACTOME_SIGNALING_BY_SCF_KIT', 'REACTOME_REGULATION_OF_KIT_SIGNALING', 'REACTOME_COLLAGEN_DEGRADATION', 'REACTOME_BETA_DEFENSINS', 'REACTOME_DEFENSINS', 'REACTOME_ALPHA_DEFENSINS', 'REACTOME_TETRAHYDROBIOPTERIN_BH4_SYNTHESIS_RECYCLING_SALVAGE_AND_REGULATION', 'REACTOME_DEGRADATION_OF_THE_EXTRACELLULAR_MATRIX', 'REACTOME_EXTRACELLULAR_MATRIX_ORGANIZATION', 'REACTOME_COLLAGEN_FORMATION', 'REACTOME_REVERSIBLE_HYDRATION_OF_CARBON_DIOXIDE', 'REACTOME_ACYL_CHAIN_REMODELLING_OF_PC', 'REACTOME_ACYL_CHAIN_REMODELING_OF_CL', 'REACTOME_ACYL_CHAIN_REMODELLING_OF_PS', 'REACTOME_ACYL_CHAIN_REMODELLING_OF_PE', 'REACTOME_ACYL_CHAIN_REMODELING_OF_DAG_AND_TAG', 'REACTOME_ACYL_CHAIN_REMODELLING_OF_PI', 'REACTOME_ACYL_CHAIN_REMODELLING_OF_PG', 'REACTOME_HYDROLYSIS_OF_LPC', 'REACTOME_SYNTHESIS_OF_PA', 'REACTOME_SYNTHESIS_OF_PC', 'REACTOME_GLYCEROPHOSPHOLIPID_BIOSYNTHESIS', 'REACTOME_SYNTHESIS_OF_PE', 'REACTOME_SYNTHESIS_OF_PI', 'REACTOME_SYNTHESIS_OF_PIPS_AT_THE_ER_MEMBRANE', 'REACTOME_INOSITOL_PHOSPHATE_METABOLISM', 'REACTOME_PI_METABOLISM', 'REACTOME_PHOSPHOLIPID_METABOLISM', 'REACTOME_CELL_CELL_COMMUNICATION', 'REACTOME_SIGNALING_BY_ACTIVIN', 'REACTOME_G0_AND_EARLY_G1', 'REACTOME_PHASE_II_CONJUGATION_OF_COMPOUNDS', 'REACTOME_METHYLATION', 'REACTOME_CYTOSOLIC_SULFONATION_OF_SMALL_MOLECULES', 'REACTOME_AMINO_ACID_CONJUGATION', 'REACTOME_GLUCURONIDATION', 'REACTOME_GLUTATHIONE_CONJUGATION', 'REACTOME_ELASTIC_FIBRE_FORMATION', 'REACTOME_POLO_LIKE_KINASE_MEDIATED_EVENTS', 'REACTOME_EUKARYOTIC_TRANSLATION_ELONGATION', 'REACTOME_SIGNALING_BY_NOTCH', 'REACTOME_TELOMERE_MAINTENANCE', 'REACTOME_GAP_JUNCTION_TRAFFICKING_AND_REGULATION', 'REACTOME_METABOLISM_OF_NUCLEOTIDES', 'REACTOME_MITOCHONDRIAL_BIOGENESIS', 'REACTOME_TRANSPORT_OF_THE_SLBP_DEPENDANT_MATURE_MRNA', 'REACTOME_TRANSPORT_OF_MATURE_MRNAS_DERIVED_FROM_INTRONLESS_TRANSCRIPTS', 'REACTOME_ACTIVATION_OF_MATRIX_METALLOPROTEINASES', 'REACTOME_RECYCLING_OF_BILE_ACIDS_AND_SALTS', 'REACTOME_GAMMA_CARBOXYLATION_OF_PROTEIN_PRECURSORS', 'REACTOME_TRANSPORT_OF_GAMMA_CARBOXYLATED_PROTEIN_PRECURSORS_FROM_THE_ENDOPLASMIC_RETICULUM_TO_THE_GOLGI_APPARATUS', 'REACTOME_GAMMA_CARBOXYLATION_TRANSPORT_AND_AMINO_TERMINAL_CLEAVAGE_OF_PROTEINS', 'REACTOME_ZBP1_DAI_MEDIATED_INDUCTION_OF_TYPE_I_IFNS', 'REACTOME_SULFIDE_OXIDATION_TO_SULFATE', 'REACTOME_DEGRADATION_OF_CYSTEINE_AND_HOMOCYSTEINE', 'REACTOME_SULFUR_AMINO_ACID_METABOLISM', 'REACTOME_GOLGI_CISTERNAE_PERICENTRIOLAR_STACK_REORGANIZATION', 'REACTOME_SYNTHESIS_OF_GLYCOSYLPHOSPHATIDYLINOSITOL_GPI', 'REACTOME_ATTACHMENT_OF_GPI_ANCHOR_TO_UPAR', 'REACTOME_GLYCOSAMINOGLYCAN_METABOLISM', 'REACTOME_POST_TRANSLATIONAL_MODIFICATION_SYNTHESIS_OF_GPI_ANCHORED_PROTEINS', 'REACTOME_RESPIRATORY_ELECTRON_TRANSPORT_ATP_SYNTHESIS_BY_CHEMIOSMOTIC_COUPLING_AND_HEAT_PRODUCTION_BY_UNCOUPLING_PROTEINS', 'REACTOME_FORMATION_OF_ATP_BY_CHEMIOSMOTIC_COUPLING', 'REACTOME_MACROAUTOPHAGY', 'REACTOME_GLUCAGON_SIGNALING_IN_METABOLIC_REGULATION', 'REACTOME_TRIGLYCERIDE_CATABOLISM', 'REACTOME_AMPK_INHIBITS_CHREBP_TRANSCRIPTIONAL_ACTIVATION_ACTIVITY', 'REACTOME_INTEGRATION_OF_ENERGY_METABOLISM', 'REACTOME_KERATAN_SULFATE_KERATIN_METABOLISM', 'REACTOME_HEPARAN_SULFATE_HEPARIN_HS_GAG_METABOLISM', 'REACTOME_GAMMA_CARBOXYLATION_HYPUSINYLATION_HYDROXYLATION_AND_ARYLSULFATASE_ACTIVATION', 'REACTOME_CELL_CYCLE', 'REACTOME_PKA_ACTIVATION_IN_GLUCAGON_SIGNALLING', 'REACTOME_COLLAGEN_BIOSYNTHESIS_AND_MODIFYING_ENZYMES', 'REACTOME_MTOR_SIGNALLING', 'REACTOME_REGULATION_OF_CHOLESTEROL_BIOSYNTHESIS_BY_SREBP_SREBF', 'REACTOME_TOLL_LIKE_RECEPTOR_4_TLR4_CASCADE', 'REACTOME_SYNTHESIS_OF_PIPS_AT_THE_PLASMA_MEMBRANE', 'REACTOME_SYNTHESIS_OF_PIPS_AT_THE_GOLGI_MEMBRANE', 'REACTOME_SYNTHESIS_OF_PIPS_AT_THE_EARLY_ENDOSOME_MEMBRANE', 'REACTOME_SYNTHESIS_OF_PIPS_AT_THE_LATE_ENDOSOME_MEMBRANE', 'REACTOME_MYD88_MAL_TIRAP_CASCADE_INITIATED_ON_PLASMA_MEMBRANE', 'REACTOME_SPHINGOLIPID_DE_NOVO_BIOSYNTHESIS', 'REACTOME_GLYCOSPHINGOLIPID_METABOLISM', 'REACTOME_MYD88_INDEPENDENT_TLR4_CASCADE', 'REACTOME_MITOCHONDRIAL_UNCOUPLING', 'REACTOME_MTORC1_MEDIATED_SIGNALLING', 'REACTOME_THE_ACTIVATION_OF_ARYLSULFATASES', 'REACTOME_SIGNALING_BY_NTRKS', 'REACTOME_COMPLEMENT_CASCADE', 'REACTOME_LECTIN_PATHWAY_OF_COMPLEMENT_ACTIVATION', 'REACTOME_INITIAL_TRIGGERING_OF_COMPLEMENT', 'REACTOME_TERMINAL_PATHWAY_OF_COMPLEMENT', 'REACTOME_SIGNALLING_TO_RAS', 'REACTOME_THE_FATTY_ACID_CYCLING_MODEL', 'REACTOME_TRAFFICKING_AND_PROCESSING_OF_ENDOSOMAL_TLR', 'REACTOME_TOLL_LIKE_RECEPTOR_9_TLR9_CASCADE', 'REACTOME_INNATE_IMMUNE_SYSTEM', 'REACTOME_IMMUNE_SYSTEM', 'REACTOME_NOD1_2_SIGNALING_PATHWAY', 'REACTOME_NUCLEOTIDE_BINDING_DOMAIN_LEUCINE_RICH_REPEAT_CONTAINING_RECEPTOR_NLR_SIGNALING_PATHWAYS', 'REACTOME_TOLL_LIKE_RECEPTOR_CASCADES', 'REACTOME_DDX58_IFIH1_MEDIATED_INDUCTION_OF_INTERFERON_ALPHA_BETA', 'REACTOME_PROLONGED_ERK_ACTIVATION_EVENTS', 'REACTOME_ADENYLATE_CYCLASE_ACTIVATING_PATHWAY', 'REACTOME_ADENYLATE_CYCLASE_INHIBITORY_PATHWAY', 'REACTOME_SIGNALING_BY_TGF_BETA_RECEPTOR_COMPLEX', 'REACTOME_ARMS_MEDIATED_ACTIVATION', 'REACTOME_P38MAPK_EVENTS', 'REACTOME_TELOMERE_EXTENSION_BY_TELOMERASE', 'REACTOME_ALTERNATIVE_COMPLEMENT_ACTIVATION', 'REACTOME_APC_C_CDC20_MEDIATED_DEGRADATION_OF_CYCLIN_B', 'REACTOME_SCF_BETA_TRCP_MEDIATED_DEGRADATION_OF_EMI1', 'REACTOME_APC_C_MEDIATED_DEGRADATION_OF_CELL_CYCLE_PROTEINS', 'REACTOME_APC_C_CDH1_MEDIATED_DEGRADATION_OF_CDC20_AND_OTHER_APC_C_CDH1_TARGETED_PROTEINS_IN_LATE_MITOSIS_EARLY_G1', 'REACTOME_TRANSPORT_AND_SYNTHESIS_OF_PAPS', 'REACTOME_GLUTATHIONE_SYNTHESIS_AND_RECYCLING', 'REACTOME_POLYMERASE_SWITCHING_ON_THE_C_STRAND_OF_THE_TELOMERE', 'REACTOME_PROCESSIVE_SYNTHESIS_ON_THE_C_STRAND_OF_THE_TELOMERE', 'REACTOME_TELOMERE_C_STRAND_LAGGING_STRAND_SYNTHESIS', 'REACTOME_TELOMERE_C_STRAND_SYNTHESIS_INITIATION', 'REACTOME_ACTIVATION_OF_C3_AND_C5', 'REACTOME_PLASMA_LIPOPROTEIN_ASSEMBLY_REMODELING_AND_CLEARANCE', 'REACTOME_ACTIVATION_OF_ATR_IN_RESPONSE_TO_REPLICATION_STRESS', 'REACTOME_CONVERSION_FROM_APC_C_CDC20_TO_APC_C_CDH1_IN_LATE_ANAPHASE', 'REACTOME_REGULATION_OF_APC_C_ACTIVATORS_BETWEEN_G1_S_AND_EARLY_ANAPHASE', 'REACTOME_PHOSPHORYLATION_OF_THE_APC_C', 'REACTOME_PHOSPHORYLATION_OF_EMI1', 'REACTOME_ACTIVATION_OF_APC_C_AND_APC_C_CDC20_MEDIATED_DEGRADATION_OF_MITOTIC_PROTEINS', 'REACTOME_CONJUGATION_OF_SALICYLATE_WITH_GLYCINE', 'REACTOME_RETROGRADE_NEUROTROPHIN_SIGNALLING', 'REACTOME_SIGNALING_BY_EGFR', 'REACTOME_CHONDROITIN_SULFATE_DERMATAN_SULFATE_METABOLISM', 'REACTOME_APC_CDC20_MEDIATED_DEGRADATION_OF_NEK2A', 'REACTOME_DARPP_32_EVENTS', 'REACTOME_GAB1_SIGNALOSOME', 'REACTOME_SHC1_EVENTS_IN_EGFR_SIGNALING', 'REACTOME_SEROTONIN_NEUROTRANSMITTER_RELEASE_CYCLE', 'REACTOME_NOREPINEPHRINE_NEUROTRANSMITTER_RELEASE_CYCLE', 'REACTOME_ACETYLCHOLINE_BINDING_AND_DOWNSTREAM_EVENTS', 'REACTOME_EGFR_DOWNREGULATION', 'REACTOME_STING_MEDIATED_INDUCTION_OF_HOST_IMMUNE_RESPONSES', 'REACTOME_CYTOSOLIC_SENSORS_OF_PATHOGEN_ASSOCIATED_DNA', 'REACTOME_ORGANELLE_BIOGENESIS_AND_MAINTENANCE', 'REACTOME_SYNTHESIS_OF_PYROPHOSPHATES_IN_THE_CYTOSOL', 'REACTOME_SYNTHESIS_OF_IP2_IP_AND_INS_IN_THE_CYTOSOL', 'REACTOME_SYNTHESIS_OF_IP3_AND_IP4_IN_THE_CYTOSOL', 'REACTOME_DOWNSTREAM_SIGNAL_TRANSDUCTION', 'REACTOME_SIGNALING_BY_PDGF', 'REACTOME_SIGNALING_BY_NTRK1_TRKA', 'REACTOME_SCF_SKP2_MEDIATED_DEGRADATION_OF_P27_P21', 'REACTOME_SIGNALLING_TO_ERKS', 'REACTOME_DIGESTION_OF_DIETARY_CARBOHYDRATE', 'REACTOME_CELLULAR_HEXOSE_TRANSPORT', 'REACTOME_METABOLISM_OF_PORPHYRINS', 'REACTOME_HEME_BIOSYNTHESIS', 'REACTOME_HEME_DEGRADATION', 'REACTOME_SIGNALING_BY_FGFR', 'REACTOME_FGFR3_LIGAND_BINDING_AND_ACTIVATION', 'REACTOME_FGFR2_LIGAND_BINDING_AND_ACTIVATION', 'REACTOME_FGFR1_LIGAND_BINDING_AND_ACTIVATION', 'REACTOME_FGFR1B_LIGAND_BINDING_AND_ACTIVATION', 'REACTOME_FGFR3B_LIGAND_BINDING_AND_ACTIVATION', 'REACTOME_FGFR1C_LIGAND_BINDING_AND_ACTIVATION', 'REACTOME_FGFR2C_LIGAND_BINDING_AND_ACTIVATION', 'REACTOME_FGFR2B_LIGAND_BINDING_AND_ACTIVATION', 'REACTOME_GAP_JUNCTION_ASSEMBLY', 'REACTOME_TRANSPORT_OF_CONNEXONS_TO_THE_PLASMA_MEMBRANE', 'REACTOME_GAP_JUNCTION_DEGRADATION', 'REACTOME_PRE_NOTCH_PROCESSING_IN_GOLGI', 'REACTOME_PRE_NOTCH_EXPRESSION_AND_PROCESSING', 'REACTOME_CHOLESTEROL_BIOSYNTHESIS', 'REACTOME_SNRNP_ASSEMBLY', 'REACTOME_SYNTHESIS_OF_BILE_ACIDS_AND_BILE_SALTS', 'REACTOME_DIGESTION_OF_DIETARY_LIPID', 'REACTOME_ANDROGEN_BIOSYNTHESIS', 'REACTOME_ESTROGEN_BIOSYNTHESIS', 'REACTOME_SYNTHESIS_OF_BILE_ACIDS_AND_BILE_SALTS_VIA_7ALPHA_HYDROXYCHOLESTEROL', 'REACTOME_P75NTR_SIGNALS_VIA_NF_KB', 'REACTOME_NRAGE_SIGNALS_DEATH_THROUGH_JNK', 'REACTOME_REGULATED_PROTEOLYSIS_OF_P75NTR', 'REACTOME_P75NTR_REGULATES_AXONOGENESIS', 'REACTOME_P75_NTR_RECEPTOR_MEDIATED_SIGNALLING', 'REACTOME_SYNTHESIS_OF_BILE_ACIDS_AND_BILE_SALTS_VIA_24_HYDROXYCHOLESTEROL', 'REACTOME_SYNTHESIS_OF_BILE_ACIDS_AND_BILE_SALTS_VIA_27_HYDROXYCHOLESTEROL', 'REACTOME_MINERALOCORTICOID_BIOSYNTHESIS', 'REACTOME_GLUCOCORTICOID_BIOSYNTHESIS', 'REACTOME_BILE_ACID_AND_BILE_SALT_METABOLISM', 'REACTOME_SIGNALING_BY_VEGF', 'REACTOME_VEGF_LIGAND_RECEPTOR_INTERACTIONS', 'REACTOME_DEGRADATION_OF_BETA_CATENIN_BY_THE_DESTRUCTION_COMPLEX', 'REACTOME_RHO_GTPASE_EFFECTORS', 'REACTOME_SIGNALING_BY_WNT', 'REACTOME_METABOLISM_OF_STEROID_HORMONES', 'REACTOME_PREGNENOLONE_BIOSYNTHESIS', 'REACTOME_BETA_CATENIN_PHOSPHORYLATION_CASCADE', 'REACTOME_GRB2_EVENTS_IN_ERBB2_SIGNALING', 'REACTOME_PI3K_EVENTS_IN_ERBB2_SIGNALING', 'REACTOME_COBALAMIN_CBL_VITAMIN_B12_TRANSPORT_AND_METABOLISM', 'REACTOME_METABOLISM_OF_FOLATE_AND_PTERINES', 'REACTOME_BIOTIN_TRANSPORT_AND_METABOLISM', 'REACTOME_COENZYME_A_BIOSYNTHESIS', 'REACTOME_VITAMIN_D_CALCIFEROL_METABOLISM', 'REACTOME_NICOTINATE_METABOLISM', 'REACTOME_VITAMIN_B1_THIAMIN_METABOLISM', 'REACTOME_VITAMIN_C_ASCORBATE_METABOLISM', 'REACTOME_VITAMIN_B2_RIBOFLAVIN_METABOLISM', 'REACTOME_METABOLISM_OF_WATER_SOLUBLE_VITAMINS_AND_COFACTORS', 'REACTOME_METABOLISM_OF_VITAMINS_AND_COFACTORS', 'REACTOME_A_TETRASACCHARIDE_LINKER_SEQUENCE_IS_REQUIRED_FOR_GAG_SYNTHESIS', 'REACTOME_NICOTINAMIDE_SALVAGING', 'REACTOME_SIGNALING_BY_NOTCH1', 'REACTOME_PI3K_AKT_ACTIVATION', 'REACTOME_AKT_PHOSPHORYLATES_TARGETS_IN_THE_CYTOSOL', 'REACTOME_AKT_PHOSPHORYLATES_TARGETS_IN_THE_NUCLEUS', 'REACTOME_NUCLEAR_EVENTS_KINASE_AND_TRANSCRIPTION_FACTOR_ACTIVATION', 'REACTOME_ERK_MAPK_TARGETS', 'REACTOME_IMMUNOREGULATORY_INTERACTIONS_BETWEEN_A_LYMPHOID_AND_A_NON_LYMPHOID_CELL', 'REACTOME_VITAMIN_B5_PANTOTHENATE_METABOLISM', 'REACTOME_NEGATIVE_REGULATION_OF_THE_PI3K_AKT_NETWORK', 'REACTOME_CREB_PHOSPHORYLATION', 'REACTOME_ER_TO_GOLGI_ANTEROGRADE_TRANSPORT', 'REACTOME_MEMBRANE_TRAFFICKING', 'REACTOME_TRANS_GOLGI_NETWORK_VESICLE_BUDDING', 'REACTOME_CARNITINE_METABOLISM', 'REACTOME_SIGNALING_BY_BMP', 'REACTOME_SIGNALING_BY_ALK', 'REACTOME_TCF_DEPENDENT_SIGNALING_IN_RESPONSE_TO_WNT', 'REACTOME_WNT_MEDIATED_ACTIVATION_OF_DVL', 'REACTOME_FORMATION_OF_THE_BETA_CATENIN_TCF_TRANSACTIVATING_COMPLEX', 'REACTOME_G_PROTEIN_ACTIVATION', 'REACTOME_METABOLISM_OF_NITRIC_OXIDE_NOS3_ACTIVATION_AND_REGULATION', 'REACTOME_ASSEMBLY_OF_COLLAGEN_FIBRILS_AND_OTHER_MULTIMERIC_STRUCTURES', 'REACTOME_METABOLISM_OF_ANGIOTENSINOGEN_TO_ANGIOTENSINS', 'REACTOME_KERATAN_SULFATE_BIOSYNTHESIS', 'REACTOME_KERATAN_SULFATE_DEGRADATION', 'REACTOME_CHONDROITIN_SULFATE_BIOSYNTHESIS', 'REACTOME_DERMATAN_SULFATE_BIOSYNTHESIS', 'REACTOME_HS_GAG_BIOSYNTHESIS', 'REACTOME_TCR_SIGNALING', 'REACTOME_HS_GAG_DEGRADATION', 'REACTOME_CS_DS_DEGRADATION', 'REACTOME_DOWNSTREAM_TCR_SIGNALING', 'REACTOME_PHOSPHORYLATION_OF_CD3_AND_TCR_ZETA_CHAINS', 'REACTOME_TRANSLOCATION_OF_ZAP_70_TO_IMMUNOLOGICAL_SYNAPSE', 'REACTOME_GENERATION_OF_SECOND_MESSENGER_MOLECULES', 'REACTOME_CALCINEURIN_ACTIVATES_NFAT', 'REACTOME_ERKS_ARE_INACTIVATED', 'REACTOME_CELL_SURFACE_INTERACTIONS_AT_THE_VASCULAR_WALL', 'REACTOME_SIGNALING_BY_HIPPO', 'REACTOME_FCGAMMA_RECEPTOR_FCGR_DEPENDENT_PHAGOCYTOSIS', 'REACTOME_ROLE_OF_PHOSPHOLIPIDS_IN_PHAGOCYTOSIS', 'REACTOME_YAP1_AND_WWTR1_TAZ_STIMULATED_GENE_EXPRESSION', 'REACTOME_ENOS_ACTIVATION', 'REACTOME_MICRORNA_MIRNA_BIOGENESIS', 'REACTOME_COPII_MEDIATED_VESICLE_TRANSPORT', 'REACTOME_REGULATION_OF_PYRUVATE_DEHYDROGENASE_PDH_COMPLEX', 'REACTOME_ALPHA_LINOLENIC_OMEGA3_AND_LINOLEIC_OMEGA6_ACID_METABOLISM', 'REACTOME_LINOLEIC_ACID_LA_METABOLISM', 'REACTOME_HYPUSINE_SYNTHESIS_FROM_EIF5A_LYSINE', 'REACTOME_CELL_DEATH_SIGNALLING_VIA_NRAGE_NRIF_AND_NADE', 'REACTOME_NADE_MODULATES_DEATH_SIGNALLING', 'REACTOME_NRIF_SIGNALS_CELL_DEATH_FROM_THE_NUCLEUS', 'REACTOME_P75NTR_RECRUITS_SIGNALLING_COMPLEXES', 'REACTOME_NF_KB_IS_ACTIVATED_AND_SIGNALS_SURVIVAL', 'REACTOME_METABOLISM_OF_AMINE_DERIVED_HORMONES', 'REACTOME_GLYCOPROTEIN_HORMONES', 'REACTOME_SEROTONIN_AND_MELATONIN_BIOSYNTHESIS', 'REACTOME_PEPTIDE_HORMONE_BIOSYNTHESIS', 'REACTOME_THYROXINE_BIOSYNTHESIS', 'REACTOME_GLUTAMATE_NEUROTRANSMITTER_RELEASE_CYCLE', 'REACTOME_PECAM1_INTERACTIONS', 'REACTOME_TIE2_SIGNALING', 'REACTOME_GENE_SILENCING_BY_RNA', 'REACTOME_BIOLOGICAL_OXIDATIONS', 'REACTOME_CYTOCHROME_P450_ARRANGED_BY_SUBSTRATE_TYPE', 'REACTOME_VITAMINS', 'REACTOME_FATTY_ACIDS', 'REACTOME_PHASE_I_FUNCTIONALIZATION_OF_COMPOUNDS', 'REACTOME_MISCELLANEOUS_SUBSTRATES', 'REACTOME_ENDOGENOUS_STEROLS', 'REACTOME_EICOSANOIDS', 'REACTOME_XENOBIOTICS', 'REACTOME_CYP2E1_REACTIONS', 'REACTOME_EPIGENETIC_REGULATION_OF_GENE_EXPRESSION', 'REACTOME_ACTIVATED_NOTCH1_TRANSMITS_SIGNAL_TO_THE_NUCLEUS', 'REACTOME_PRC2_METHYLATES_HISTONES_AND_DNA', 'REACTOME_GENERIC_TRANSCRIPTION_PATHWAY', 'REACTOME_DOPAMINE_NEUROTRANSMITTER_RELEASE_CYCLE', 'REACTOME_EGFR_INTERACTS_WITH_PHOSPHOLIPASE_C_GAMMA', 'REACTOME_MOLECULES_ASSOCIATED_WITH_ELASTIC_FIBRES', 'REACTOME_MHC_CLASS_II_ANTIGEN_PRESENTATION', 'REACTOME_SYNTHESIS_OF_EPOXY_EET_AND_DIHYDROXYEICOSATRIENOIC_ACIDS_DHET', 'REACTOME_SYNTHESIS_OF_5_EICOSATETRAENOIC_ACIDS', 'REACTOME_SYNTHESIS_OF_LEUKOTRIENES_LT_AND_EOXINS_EX', 'REACTOME_SYNTHESIS_OF_LIPOXINS_LX', 'REACTOME_SYNTHESIS_OF_12_EICOSATETRAENOIC_ACID_DERIVATIVES', 'REACTOME_ARACHIDONIC_ACID_METABOLISM', 'REACTOME_SYNTHESIS_OF_15_EICOSATETRAENOIC_ACID_DERIVATIVES', 'REACTOME_SYNTHESIS_OF_16_20_HYDROXYEICOSATETRAENOIC_ACIDS_HETE', 'REACTOME_HYALURONAN_METABOLISM', 'REACTOME_HYALURONAN_BIOSYNTHESIS_AND_EXPORT', 'REACTOME_TRANSCRIPTIONAL_ACTIVATION_OF_MITOCHONDRIAL_BIOGENESIS', 'REACTOME_INTEGRIN_CELL_SURFACE_INTERACTIONS', 'REACTOME_HYALURONAN_UPTAKE_AND_DEGRADATION', 'REACTOME_ABACAVIR_ADME', 'REACTOME_SYNTHESIS_OF_PROSTAGLANDINS_PG_AND_THROMBOXANES_TX', 'REACTOME_DAP12_INTERACTIONS', 'REACTOME_BINDING_AND_UPTAKE_OF_LIGANDS_BY_SCAVENGER_RECEPTORS', 'REACTOME_DOWNREGULATION_OF_TGF_BETA_RECEPTOR_SIGNALING', 'REACTOME_TGF_BETA_RECEPTOR_SIGNALING_ACTIVATES_SMADS', 'REACTOME_TGF_BETA_RECEPTOR_SIGNALING_IN_EMT_EPITHELIAL_TO_MESENCHYMAL_TRANSITION', 'REACTOME_TRANSCRIPTIONAL_ACTIVITY_OF_SMAD2_SMAD3_SMAD4_HETEROTRIMER', 'REACTOME_DOWNREGULATION_OF_SMAD2_3_SMAD4_TRANSCRIPTIONAL_ACTIVITY', 'REACTOME_SMAD2_SMAD3_SMAD4_HETEROTRIMER_REGULATES_TRANSCRIPTION', 'REACTOME_EGFR_TRANSACTIVATION_BY_GASTRIN', 'REACTOME_THE_RETINOID_CYCLE_IN_CONES_DAYLIGHT_VISION', 'REACTOME_VISUAL_PHOTOTRANSDUCTION', 'REACTOME_CROSSLINKING_OF_COLLAGEN_FIBRILS', 'REACTOME_CONDENSATION_OF_PROPHASE_CHROMOSOMES', 'REACTOME_PHOSPHATE_BOND_HYDROLYSIS_BY_NUDT_PROTEINS', 'REACTOME_SIGNALING_BY_TYPE_1_INSULIN_LIKE_GROWTH_FACTOR_1_RECEPTOR_IGF1R', 'REACTOME_DAP12_SIGNALING', 'REACTOME_SHC_RELATED_EVENTS_TRIGGERED_BY_IGF1R', 'REACTOME_THE_CANONICAL_RETINOID_CYCLE_IN_RODS_TWILIGHT_VISION', 'REACTOME_FC_EPSILON_RECEPTOR_FCERI_SIGNALING', 'REACTOME_SEPARATION_OF_SISTER_CHROMATIDS', 'REACTOME_ESTABLISHMENT_OF_SISTER_CHROMATID_COHESION', 'REACTOME_COHESIN_LOADING_ONTO_CHROMATIN', 'REACTOME_ACTIVATION_OF_THE_PHOTOTRANSDUCTION_CASCADE', 'REACTOME_RESOLUTION_OF_SISTER_CHROMATID_COHESION', 'REACTOME_CONDENSATION_OF_PROMETAPHASE_CHROMOSOMES', 'REACTOME_THE_PHOTOTRANSDUCTION_CASCADE', 'REACTOME_INTERACTION_WITH_CUMULUS_CELLS_AND_THE_ZONA_PELLUCIDA', 'REACTOME_MITOTIC_METAPHASE_AND_ANAPHASE', 'REACTOME_OXIDATIVE_STRESS_INDUCED_SENESCENCE', 'REACTOME_SENESCENCE_ASSOCIATED_SECRETORY_PHENOTYPE_SASP', 'REACTOME_CELLULAR_SENESCENCE', 'REACTOME_FORMATION_OF_SENESCENCE_ASSOCIATED_HETEROCHROMATIN_FOCI_SAHF', 'REACTOME_ONCOGENE_INDUCED_SENESCENCE', 'REACTOME_DNA_DAMAGE_TELOMERE_STRESS_INDUCED_SENESCENCE', 'REACTOME_TRIF_MEDIATED_PROGRAMMED_CELL_DEATH', 'REACTOME_REGULATION_OF_PLK1_ACTIVITY_AT_G2_M_TRANSITION', 'REACTOME_ACETYLCHOLINE_NEUROTRANSMITTER_RELEASE_CYCLE', 'REACTOME_CASPASE_MEDIATED_CLEAVAGE_OF_CYTOSKELETAL_PROTEINS', 'REACTOME_INSULIN_PROCESSING', 'REACTOME_STIMULI_SENSING_CHANNELS', 'REACTOME_EPH_EPHRIN_SIGNALING', 'REACTOME_ROLE_OF_LAT2_NTAL_LAB_ON_CALCIUM_MOBILIZATION', 'REACTOME_FCERI_MEDIATED_MAPK_ACTIVATION', 'REACTOME_FCERI_MEDIATED_CA_2_MOBILIZATION', 'REACTOME_FCERI_MEDIATED_NF_KB_ACTIVATION', 'REACTOME_PEPTIDE_HORMONE_METABOLISM', 'REACTOME_NUCLEAR_ENVELOPE_BREAKDOWN', 'REACTOME_ACTIVATION_OF_NIMA_KINASES_NEK9_NEK6_NEK7', 'REACTOME_SUMOYLATION', 'REACTOME_INITIATION_OF_NUCLEAR_ENVELOPE_NE_REFORMATION', 'REACTOME_NUCLEAR_ENVELOPE_NE_REASSEMBLY', 'REACTOME_LAMININ_INTERACTIONS', 'REACTOME_SYNDECAN_INTERACTIONS', 'REACTOME_NON_INTEGRIN_MEMBRANE_ECM_INTERACTIONS', 'REACTOME_ECM_PROTEOGLYCANS', 'REACTOME_SCAVENGING_BY_CLASS_A_RECEPTORS', 'REACTOME_SUMO_IS_TRANSFERRED_FROM_E1_TO_E2_UBE2I_UBC9', 'REACTOME_SUMO_IS_PROTEOLYTICALLY_PROCESSED', 'REACTOME_SUMOYLATION_OF_DNA_DAMAGE_RESPONSE_AND_REPAIR_PROTEINS', 'REACTOME_DEX_H_BOX_HELICASES_ACTIVATE_TYPE_I_IFN_AND_INFLAMMATORY_CYTOKINES_PRODUCTION', 'REACTOME_REGULATION_OF_INNATE_IMMUNE_RESPONSES_TO_CYTOSOLIC_DNA', 'REACTOME_HDACS_DEACETYLATE_HISTONES', 'REACTOME_PKMTS_METHYLATE_HISTONE_LYSINES', 'REACTOME_HDMS_DEMETHYLATE_HISTONES', 'REACTOME_HATS_ACETYLATE_HISTONES', 'REACTOME_RMTS_METHYLATE_HISTONE_ARGININES', 'REACTOME_PROCESSING_AND_ACTIVATION_OF_SUMO', 'REACTOME_SUMOYLATION_OF_TRANSCRIPTION_FACTORS', 'REACTOME_SUMOYLATION_OF_UBIQUITINYLATION_PROTEINS', 'REACTOME_WNT_LIGAND_BIOGENESIS_AND_TRAFFICKING', 'REACTOME_CHROMATIN_MODIFYING_ENZYMES', 'REACTOME_IRF3_MEDIATED_INDUCTION_OF_TYPE_I_IFN', 'REACTOME_TRP_CHANNELS', 'REACTOME_DETOXIFICATION_OF_REACTIVE_OXYGEN_SPECIES', 'REACTOME_NUCLEAR_PORE_COMPLEX_NPC_DISASSEMBLY', 'REACTOME_GLYCOGEN_SYNTHESIS', 'REACTOME_REGULATION_BY_C_FLIP', 'REACTOME_REGULATION_OF_HSF1_MEDIATED_HEAT_SHOCK_RESPONSE', 'REACTOME_HSP90_CHAPERONE_CYCLE_FOR_STEROID_HORMONE_RECEPTORS_SHR_IN_THE_PRESENCE_OF_LIGAND', 'REACTOME_HSF1_ACTIVATION', 'REACTOME_CELLULAR_RESPONSE_TO_HEAT_STRESS', 'REACTOME_ATTENUATION_PHASE', 'REACTOME_HSF1_DEPENDENT_TRANSACTIVATION', 'REACTOME_NOTCH_HLH_TRANSCRIPTION_PATHWAY', 'REACTOME_METABOLISM_OF_POLYAMINES', 'REACTOME_APOPTOTIC_CLEAVAGE_OF_CELL_ADHESION_PROTEINS', 'REACTOME_AMINO_ACID_TRANSPORT_ACROSS_THE_PLASMA_MEMBRANE', 'REACTOME_INTEGRIN_SIGNALING', 'REACTOME_GRB2_SOS_PROVIDES_LINKAGE_TO_MAPK_SIGNALING_FOR_INTEGRINS', 'REACTOME_TRANSCRIPTIONAL_REGULATION_BY_TP53', 'REACTOME_P130CAS_LINKAGE_TO_MAPK_SIGNALING_FOR_INTEGRINS', 'REACTOME_SIGNALING_BY_GPCR', 'REACTOME_CLASS_A_1_RHODOPSIN_LIKE_RECEPTORS', 'REACTOME_CLASS_B_2_SECRETIN_FAMILY_RECEPTORS', 'REACTOME_NETRIN_1_SIGNALING', 'REACTOME_NEPHRIN_FAMILY_INTERACTIONS', 'REACTOME_SEMAPHORIN_INTERACTIONS', 'REACTOME_L1CAM_INTERACTIONS', 'REACTOME_NCAM_SIGNALING_FOR_NEURITE_OUT_GROWTH', 'REACTOME_PEPTIDE_LIGAND_BINDING_RECEPTORS', 'REACTOME_AMINE_LIGAND_BINDING_RECEPTORS', 'REACTOME_HORMONE_LIGAND_BINDING_RECEPTORS', 'REACTOME_DSCAM_INTERACTIONS', 'REACTOME_SIGNALING_BY_ROBO_RECEPTORS', 'REACTOME_DEACTIVATION_OF_THE_BETA_CATENIN_TRANSACTIVATING_COMPLEX', 'REACTOME_NEGATIVE_REGULATION_OF_TCF_DEPENDENT_SIGNALING_BY_WNT_LIGAND_ANTAGONISTS', 'REACTOME_TACHYKININ_RECEPTORS_BIND_TACHYKININS', 'REACTOME_CHEMOKINE_RECEPTORS_BIND_CHEMOKINES', 'REACTOME_RECRUITMENT_OF_NUMA_TO_MITOTIC_CENTROSOMES', 'REACTOME_ENERGY_DEPENDENT_REGULATION_OF_MTOR_BY_LKB1_AMPK', 'REACTOME_UNFOLDED_PROTEIN_RESPONSE_UPR', 'REACTOME_REGULATION_OF_INSULIN_LIKE_GROWTH_FACTOR_IGF_TRANSPORT_AND_UPTAKE_BY_INSULIN_LIKE_GROWTH_FACTOR_BINDING_PROTEINS_IGFBPS', 'REACTOME_GLUCAGON_LIKE_PEPTIDE_1_GLP1_REGULATES_INSULIN_SECRETION', 'REACTOME_OLFACTORY_SIGNALING_PATHWAY', 'REACTOME_TRANSPORT_OF_SMALL_MOLECULES', 'REACTOME_ABC_FAMILY_PROTEINS_MEDIATED_TRANSPORT', 'REACTOME_NUCLEAR_RECEPTOR_TRANSCRIPTION_PATHWAY', 'REACTOME_BETA_CATENIN_INDEPENDENT_WNT_SIGNALING', 'REACTOME_VASOPRESSIN_LIKE_RECEPTORS', 'REACTOME_COSTIMULATION_BY_THE_CD28_FAMILY', 'REACTOME_RECEPTOR_TYPE_TYROSINE_PROTEIN_PHOSPHATASES', 'REACTOME_CD28_CO_STIMULATION', 'REACTOME_CD28_DEPENDENT_PI3K_AKT_SIGNALING', 'REACTOME_CD28_DEPENDENT_VAV1_PATHWAY', 'REACTOME_OREXIN_AND_NEUROPEPTIDES_FF_AND_QRFP_BIND_TO_THEIR_RESPECTIVE_RECEPTORS', 'REACTOME_CTLA4_INHIBITORY_SIGNALING', 'REACTOME_ALPHA_OXIDATION_OF_PHYTANATE', 'REACTOME_GLYOXYLATE_METABOLISM_AND_GLYCINE_DEGRADATION', 'REACTOME_BETA_OXIDATION_OF_PRISTANOYL_COA', 'REACTOME_SUMOYLATION_OF_TRANSCRIPTION_COFACTORS', 'REACTOME_PD_1_SIGNALING', 'REACTOME_BETA_OXIDATION_OF_VERY_LONG_CHAIN_FATTY_ACIDS', 'REACTOME_CHAPERONIN_MEDIATED_PROTEIN_FOLDING', 'REACTOME_ASSOCIATION_OF_TRIC_CCT_WITH_TARGET_PROTEINS_DURING_BIOSYNTHESIS', 'REACTOME_STRIATED_MUSCLE_CONTRACTION', 'REACTOME_MUSCARINIC_ACETYLCHOLINE_RECEPTORS', 'REACTOME_DOPAMINE_RECEPTORS', 'REACTOME_SEROTONIN_RECEPTORS', 'REACTOME_ADRENOCEPTORS', 'REACTOME_PEROXISOMAL_LIPID_METABOLISM', 'REACTOME_SIGNAL_REGULATORY_PROTEIN_FAMILY_INTERACTIONS', 'REACTOME_EICOSANOID_LIGAND_BINDING_RECEPTORS', 'REACTOME_LEUKOTRIENE_RECEPTORS', 'REACTOME_PROSTANOID_LIGAND_RECEPTORS', 'REACTOME_NITRIC_OXIDE_STIMULATES_GUANYLATE_CYCLASE', 'REACTOME_ADP_SIGNALLING_THROUGH_P2Y_PURINOCEPTOR_12', 'REACTOME_G_BETA_GAMMA_SIGNALLING_THROUGH_PI3KGAMMA', 'REACTOME_METABOLISM_OF_PROTEINS', 'REACTOME_RAP1_SIGNALLING', 'REACTOME_SIGNAL_AMPLIFICATION', 'REACTOME_PROSTACYCLIN_SIGNALLING_THROUGH_PROSTACYCLIN_RECEPTOR', 'REACTOME_EPHB_MEDIATED_FORWARD_SIGNALING', 'REACTOME_EPHA_MEDIATED_GROWTH_CONE_COLLAPSE', 'REACTOME_EPHRIN_SIGNALING', 'REACTOME_EPH_EPHRIN_MEDIATED_REPULSION_OF_CELLS', 'REACTOME_MUSCLE_CONTRACTION', 'REACTOME_G_PROTEIN_BETA_GAMMA_SIGNALLING', 'REACTOME_TRAFFICKING_OF_AMPA_RECEPTORS', 'REACTOME_SEMA3A_PAK_DEPENDENT_AXON_REPULSION', 'REACTOME_SEMA3A_PLEXIN_REPULSION_SIGNALING_BY_INHIBITING_INTEGRIN_ADHESION', 'REACTOME_CRMPS_IN_SEMA3A_SIGNALING', 'REACTOME_ACETYLCHOLINE_REGULATES_INSULIN_SECRETION', 'REACTOME_ADRENALINE_NORADRENALINE_INHIBITS_INSULIN_SECRETION', 'REACTOME_REGULATION_OF_LIPID_METABOLISM_BY_PPARALPHA', 'REACTOME_FREE_FATTY_ACIDS_REGULATE_INSULIN_SECRETION', 'REACTOME_INCRETIN_SYNTHESIS_SECRETION_AND_INACTIVATION', 'REACTOME_SEMA4D_IN_SEMAPHORIN_SIGNALING', 'REACTOME_SIALIC_ACID_METABOLISM', 'REACTOME_SUMOYLATION_OF_SUMOYLATION_PROTEINS', 'REACTOME_CA2_PATHWAY', 'REACTOME_PCP_CE_PATHWAY', 'REACTOME_SUMOYLATION_OF_INTRACELLULAR_RECEPTORS', 'REACTOME_G_ALPHA_Q_SIGNALLING_EVENTS', 'REACTOME_G_ALPHA_12_13_SIGNALLING_EVENTS', 'REACTOME_SEMA4D_MEDIATED_INHIBITION_OF_CELL_ATTACHMENT_AND_MIGRATION', 'REACTOME_SEMA4D_INDUCED_CELL_MIGRATION_AND_GROWTH_CONE_COLLAPSE', 'REACTOME_OTHER_SEMAPHORIN_INTERACTIONS', 'REACTOME_TRAFFICKING_OF_GLUR2_CONTAINING_AMPA_RECEPTORS', 'REACTOME_P2Y_RECEPTORS', 'REACTOME_NUCLEOTIDE_LIKE_PURINERGIC_RECEPTORS', 'REACTOME_PLATELET_HOMEOSTASIS', 'REACTOME_REDUCTION_OF_CYTOSOLIC_CA_LEVELS', 'REACTOME_PLATELET_CALCIUM_HOMEOSTASIS', 'REACTOME_CGMP_EFFECTS', 'REACTOME_G_ALPHA_S_SIGNALLING_EVENTS', 'REACTOME_ADP_SIGNALLING_THROUGH_P2Y_PURINOCEPTOR_1', 'REACTOME_G_ALPHA_I_SIGNALLING_EVENTS', 'REACTOME_G_ALPHA_Z_SIGNALLING_EVENTS', 'REACTOME_DCC_MEDIATED_ATTRACTIVE_SIGNALING', 'REACTOME_ADHERENS_JUNCTIONS_INTERACTIONS', 'REACTOME_NCAM1_INTERACTIONS', 'REACTOME_LYSOSPHINGOLIPID_AND_LPA_RECEPTORS', 'REACTOME_OPSINS', 'REACTOME_CALCITONIN_LIKE_LIGAND_RECEPTORS', 'REACTOME_TIGHT_JUNCTION_INTERACTIONS', 'REACTOME_GLUCAGON_TYPE_LIGAND_RECEPTORS', 'REACTOME_CLASS_C_3_METABOTROPIC_GLUTAMATE_PHEROMONE_RECEPTORS', 'REACTOME_NECTIN_NECL_TRANS_HETERODIMERIZATION', 'REACTOME_CELL_CELL_JUNCTION_ORGANIZATION', 'REACTOME_SYNTHESIS_SECRETION_AND_DEACYLATION_OF_GHRELIN', 'REACTOME_REGULATION_OF_INSULIN_SECRETION', 'REACTOME_TRANSPORT_OF_BILE_SALTS_AND_ORGANIC_ACIDS_METAL_IONS_AND_AMINE_COMPOUNDS', 'REACTOME_BICARBONATE_TRANSPORTERS', 'REACTOME_TRANSPORT_OF_INORGANIC_CATIONS_ANIONS_AND_AMINO_ACIDS_OLIGOPEPTIDES', 'REACTOME_TRANSPORT_OF_VITAMINS_NUCLEOSIDES_AND_RELATED_MOLECULES', 'REACTOME_SLC_MEDIATED_TRANSMEMBRANE_TRANSPORT', 'REACTOME_METAL_ION_SLC_TRANSPORTERS', 'REACTOME_SODIUM_CALCIUM_EXCHANGERS', 'REACTOME_SODIUM_PROTON_EXCHANGERS', 'REACTOME_ARACHIDONATE_PRODUCTION_FROM_DAG', 'REACTOME_CATION_COUPLED_CHLORIDE_COTRANSPORTERS', 'REACTOME_SMALL_INTERFERING_RNA_SIRNA_BIOGENESIS', 'REACTOME_POST_TRANSCRIPTIONAL_SILENCING_BY_SMALL_RNAS', 'REACTOME_MULTIFUNCTIONAL_ANION_EXCHANGERS', 'REACTOME_SODIUM_COUPLED_PHOSPHATE_COTRANSPORTERS', 'REACTOME_SPHINGOLIPID_METABOLISM', 'REACTOME_ORGANIC_ANION_TRANSPORTERS', 'REACTOME_THROMBOXANE_SIGNALLING_THROUGH_TP_RECEPTOR', 'REACTOME_DEADENYLATION_DEPENDENT_MRNA_DECAY', 'REACTOME_DEADENYLATION_OF_MRNA', 'REACTOME_MRNA_DECAY_BY_3_TO_5_EXORIBONUCLEASE', 'REACTOME_MRNA_DECAY_BY_5_TO_3_EXORIBONUCLEASE', 'REACTOME_GP1B_IX_V_ACTIVATION_SIGNALLING', 'REACTOME_VASOPRESSIN_REGULATES_RENAL_WATER_HOMEOSTASIS_VIA_AQUAPORINS', 'REACTOME_PASSIVE_TRANSPORT_BY_AQUAPORINS', 'REACTOME_PLATELET_SENSITIZATION_BY_LDL', 'REACTOME_LYSOSOME_VESICLE_BIOGENESIS', 'REACTOME_GOLGI_ASSOCIATED_VESICLE_BIOGENESIS', 'REACTOME_SODIUM_COUPLED_SULPHATE_DI_AND_TRI_CARBOXYLATE_TRANSPORTERS', 'REACTOME_FATTY_ACIDS_BOUND_TO_GPR40_FFAR1_REGULATE_INSULIN_SECRETION', 'REACTOME_ZINC_TRANSPORTERS', 'REACTOME_RECYCLING_PATHWAY_OF_L1', 'REACTOME_POST_NMDA_RECEPTOR_ACTIVATION_EVENTS', 'REACTOME_UNBLOCKING_OF_NMDA_RECEPTORS_GLUTAMATE_BINDING_AND_ACTIVATION', 'REACTOME_DEPOLYMERIZATION_OF_THE_NUCLEAR_LAMINA', 'REACTOME_ZINC_INFLUX_INTO_CELLS_BY_THE_SLC39_GENE_FAMILY', 'REACTOME_NA_CL_DEPENDENT_NEUROTRANSMITTER_TRANSPORTERS', 'REACTOME_CREB1_PHOSPHORYLATION_THROUGH_NMDA_RECEPTOR_MEDIATED_ACTIVATION_OF_RAS_SIGNALING', 'REACTOME_ACTIVATION_OF_NMDA_RECEPTORS_AND_POSTSYNAPTIC_EVENTS', 'REACTOME_FORMYL_PEPTIDE_RECEPTORS_BIND_FORMYL_PEPTIDES_AND_MANY_OTHER_LIGANDS', 'REACTOME_RELAXIN_RECEPTORS', 'REACTOME_INTERACTION_BETWEEN_L1_AND_ANKYRINS', 'REACTOME_SIGNAL_TRANSDUCTION_BY_L1', 'REACTOME_SMOOTH_MUSCLE_CONTRACTION', 'REACTOME_AQUAPORIN_MEDIATED_TRANSPORT', 'REACTOME_TAK1_DEPENDENT_IKK_AND_NF_KAPPA_B_ACTIVATION', 'REACTOME_TYPE_I_HEMIDESMOSOME_ASSEMBLY', 'REACTOME_BIOSYNTHESIS_OF_THE_N_GLYCAN_PRECURSOR_DOLICHOL_LIPID_LINKED_OLIGOSACCHARIDE_LLO_AND_TRANSFER_TO_A_NASCENT_PROTEIN', 'REACTOME_SYNTHESIS_OF_DOLICHYL_PHOSPHATE', 'REACTOME_ASPARAGINE_N_LINKED_GLYCOSYLATION', 'REACTOME_SYNTHESIS_OF_UDP_N_ACETYL_GLUCOSAMINE', 'REACTOME_SYNTHESIS_OF_SUBSTRATES_IN_N_GLYCAN_BIOSYTHESIS', 'REACTOME_CELL_EXTRACELLULAR_MATRIX_INTERACTIONS', 'REACTOME_REGULATION_OF_CYTOSKELETAL_REMODELING_AND_CELL_SPREADING_BY_IPP_COMPLEX_COMPONENTS', 'REACTOME_INTERLEUKIN_1_FAMILY_SIGNALING', 'REACTOME_CELL_JUNCTION_ORGANIZATION', 'REACTOME_INTERLEUKIN_12_FAMILY_SIGNALING', 'REACTOME_INTERLEUKIN_17_SIGNALING', 'REACTOME_INTERLEUKIN_1_PROCESSING', 'REACTOME_SIGNALING_BY_INTERLEUKINS', 'REACTOME_OTHER_INTERLEUKIN_SIGNALING', 'REACTOME_MAPK_TARGETS_NUCLEAR_EVENTS_MEDIATED_BY_MAP_KINASES', 'REACTOME_ACTIVATED_TAK1_MEDIATES_P38_MAPK_ACTIVATION', 'REACTOME_JNK_C_JUN_KINASES_PHOSPHORYLATION_AND_ACTIVATION_MEDIATED_BY_ACTIVATED_HUMAN_TAK1', 'REACTOME_ACTIVATION_OF_THE_AP_1_FAMILY_OF_TRANSCRIPTION_FACTORS', 'REACTOME_BUTYRATE_RESPONSE_FACTOR_1_BRF1_BINDS_AND_DESTABILIZES_MRNA', 'REACTOME_AUF1_HNRNP_D0_BINDS_AND_DESTABILIZES_MRNA', 'REACTOME_TRISTETRAPROLIN_TTP_ZFP36_BINDS_AND_DESTABILIZES_MRNA', 'REACTOME_HUR_ELAVL1_BINDS_AND_STABILIZES_MRNA', 'REACTOME_REGULATION_OF_MRNA_STABILITY_BY_PROTEINS_THAT_BIND_AU_RICH_ELEMENTS', 'REACTOME_KSRP_KHSRP_BINDS_AND_DESTABILIZES_MRNA', 'REACTOME_IONOTROPIC_ACTIVITY_OF_KAINATE_RECEPTORS', 'REACTOME_ACTIVATION_OF_KAINATE_RECEPTORS_UPON_GLUTAMATE_BINDING', 'REACTOME_INTERLEUKIN_2_FAMILY_SIGNALING', 'REACTOME_MITOTIC_G2_G2_M_PHASES', 'REACTOME_MITOTIC_G1_PHASE_AND_G1_S_TRANSITION', 'REACTOME_SUMOYLATION_OF_CHROMATIN_ORGANIZATION_PROTEINS', 'REACTOME_THROMBIN_SIGNALLING_THROUGH_PROTEINASE_ACTIVATED_RECEPTORS_PARS', 'REACTOME_SUMOYLATION_OF_RNA_BINDING_PROTEINS', 'REACTOME_ASYMMETRIC_LOCALIZATION_OF_PCP_PROTEINS', 'REACTOME_SUMOYLATION_OF_DNA_REPLICATION_PROTEINS', 'REACTOME_DEGRADATION_OF_AXIN', 'REACTOME_DEGRADATION_OF_DVL', 'REACTOME_DISASSEMBLY_OF_THE_DESTRUCTION_COMPLEX_AND_RECRUITMENT_OF_AXIN_TO_THE_MEMBRANE', 'REACTOME_REGULATION_OF_FZD_BY_UBIQUITINATION', 'REACTOME_REPRESSION_OF_WNT_TARGET_GENES', 'REACTOME_SUMOYLATION_OF_IMMUNE_RESPONSE_PROTEINS', 'REACTOME_INTERCONVERSION_OF_NUCLEOTIDE_DI_AND_TRIPHOSPHATES', 'REACTOME_PRESYNAPTIC_FUNCTION_OF_KAINATE_RECEPTORS', 'REACTOME_GPCR_LIGAND_BINDING', 'REACTOME_WNT5A_DEPENDENT_INTERNALIZATION_OF_FZD4', 'REACTOME_INTERLEUKIN_3_INTERLEUKIN_5_AND_GM_CSF_SIGNALING', 'REACTOME_WNT5A_DEPENDENT_INTERNALIZATION_OF_FZD2_FZD5_AND_ROR2', 'REACTOME_O_LINKED_GLYCOSYLATION', 'REACTOME_O_GLYCOSYLATION_OF_TSR_DOMAIN_CONTAINING_PROTEINS', 'REACTOME_MITOPHAGY', 'REACTOME_PINK1_PRKN_MEDIATED_MITOPHAGY', 'REACTOME_RIPK1_MEDIATED_REGULATED_NECROSIS', 'REACTOME_REGULATED_NECROSIS', 'REACTOME_VEGFR2_MEDIATED_VASCULAR_PERMEABILITY', 'REACTOME_VEGFR2_MEDIATED_CELL_PROLIFERATION', 'REACTOME_MISCELLANEOUS_TRANSPORT_AND_BINDING_EVENTS', 'REACTOME_POSITIVE_EPIGENETIC_REGULATION_OF_RRNA_EXPRESSION', 'REACTOME_MYOGENESIS', 'REACTOME_N_GLYCAN_TRIMMING_IN_THE_ER_AND_CALNEXIN_CALRETICULIN_CYCLE', 'REACTOME_CASPASE_ACTIVATION_VIA_EXTRINSIC_APOPTOTIC_SIGNALLING_PATHWAY', 'REACTOME_TNFR1_INDUCED_PROAPOPTOTIC_SIGNALING', 'REACTOME_PROGRAMMED_CELL_DEATH', 'REACTOME_REGULATION_OF_TNFR1_SIGNALING', 'REACTOME_TNFR1_INDUCED_NF_KAPPA_B_SIGNALING_PATHWAY', 'REACTOME_HEDGEHOG_LIGAND_BIOGENESIS', 'REACTOME_SIGNALING_BY_HEDGEHOG', 'REACTOME_SYNTHESIS_OF_DIPHTHAMIDE_EEF2', 'REACTOME_MISMATCH_REPAIR', 'REACTOME_MISMATCH_REPAIR_MMR_DIRECTED_BY_MSH2_MSH3_MUTSBETA', 'REACTOME_SIGNALING_BY_RETINOIC_ACID', 'REACTOME_RELEASE_OF_HH_NP_FROM_THE_SECRETING_CELL', 'REACTOME_RA_BIOSYNTHESIS_PATHWAY', 'REACTOME_MITOCHONDRIAL_TRANSLATION', 'REACTOME_AFLATOXIN_ACTIVATION_AND_DETOXIFICATION', 'REACTOME_ORGANIC_CATION_TRANSPORT', 'REACTOME_ORGANIC_CATION_ANION_ZWITTERION_TRANSPORT', 'REACTOME_METABOLISM_OF_LIPIDS', 'REACTOME_PHASE_4_RESTING_MEMBRANE_POTENTIAL', 'REACTOME_PHASE_3_RAPID_REPOLARISATION', 'REACTOME_CARDIAC_CONDUCTION', 'REACTOME_PHASE_0_RAPID_DEPOLARISATION', 'REACTOME_PHASE_2_PLATEAU_PHASE', 'REACTOME_PHASE_1_INACTIVATION_OF_FAST_NA_CHANNELS', 'REACTOME_TRANSCRIPTIONAL_REGULATION_BY_SMALL_RNAS', 'REACTOME_PHYSIOLOGICAL_FACTORS', 'REACTOME_ION_HOMEOSTASIS', 'REACTOME_DECTIN_1_MEDIATED_NONCANONICAL_NF_KB_SIGNALING', 'REACTOME_CLEC7A_DECTIN_1_SIGNALING', 'REACTOME_GLI3_IS_PROCESSED_TO_GLI3R_BY_THE_PROTEASOME', 'REACTOME_HEDGEHOG_OFF_STATE', 'REACTOME_ANCHORING_OF_THE_BASAL_BODY_TO_THE_PLASMA_MEMBRANE', 'REACTOME_VXPX_CARGO_TARGETING_TO_CILIUM', 'REACTOME_CARGO_TRAFFICKING_TO_THE_PERICILIARY_MEMBRANE', 'REACTOME_BBSOME_MEDIATED_CARGO_TARGETING_TO_CILIUM', 'REACTOME_INTRAFLAGELLAR_TRANSPORT', 'REACTOME_PYROPTOSIS', 'REACTOME_DECTIN_2_FAMILY', 'REACTOME_C_TYPE_LECTIN_RECEPTORS_CLRS', 'REACTOME_CD209_DC_SIGN_SIGNALING', 'REACTOME_RHO_GTPASES_ACTIVATE_PKNS', 'REACTOME_RHO_GTPASES_ACTIVATE_CIT', 'REACTOME_RHO_GTPASES_ACTIVATE_KTN1', 'REACTOME_RHO_GTPASES_ACTIVATE_IQGAPS', 'REACTOME_TNFR1_MEDIATED_CERAMIDE_PRODUCTION', 'REACTOME_RHO_GTPASES_ACTIVATE_ROCKS', 'REACTOME_RHO_GTPASES_ACTIVATE_PAKS', 'REACTOME_TP53_REGULATES_METABOLIC_GENES', 'REACTOME_LIGAND_RECEPTOR_INTERACTIONS', 'REACTOME_HEDGEHOG_ON_STATE', 'REACTOME_REGULATION_OF_TP53_ACTIVITY', 'REACTOME_TP53_REGULATES_TRANSCRIPTION_OF_CELL_DEATH_GENES', 'REACTOME_ACTIVATION_OF_SMO', 'REACTOME_APEX1_INDEPENDENT_RESOLUTION_OF_AP_SITES_VIA_THE_SINGLE_NUCLEOTIDE_REPLACEMENT_PATHWAY', 'REACTOME_PCNA_DEPENDENT_LONG_PATCH_BASE_EXCISION_REPAIR', 'REACTOME_FRUCTOSE_METABOLISM', 'REACTOME_VESICLE_MEDIATED_TRANSPORT', 'REACTOME_PHOSPHOLIPASE_C_MEDIATED_CASCADE_FGFR1', 'REACTOME_PHOSPHOLIPASE_C_MEDIATED_CASCADE_FGFR2', 'REACTOME_PHOSPHOLIPASE_C_MEDIATED_CASCADE_FGFR4', 'REACTOME_DOWNSTREAM_SIGNALING_OF_ACTIVATED_FGFR1', 'REACTOME_SHC_MEDIATED_CASCADE_FGFR1', 'REACTOME_PI_3K_CASCADE_FGFR1', 'REACTOME_FRS_MEDIATED_FGFR1_SIGNALING', 'REACTOME_PI_3K_CASCADE_FGFR2', 'REACTOME_DOWNSTREAM_SIGNALING_OF_ACTIVATED_FGFR2', 'REACTOME_SHC_MEDIATED_CASCADE_FGFR2', 'REACTOME_FRS_MEDIATED_FGFR2_SIGNALING', 'REACTOME_SHC_MEDIATED_CASCADE_FGFR3', 'REACTOME_FRS_MEDIATED_FGFR3_SIGNALING', 'REACTOME_DOWNSTREAM_SIGNALING_OF_ACTIVATED_FGFR3', 'REACTOME_PI_3K_CASCADE_FGFR3', 'REACTOME_FRS_MEDIATED_FGFR4_SIGNALING', 'REACTOME_DOWNSTREAM_SIGNALING_OF_ACTIVATED_FGFR4', 'REACTOME_SHC_MEDIATED_CASCADE_FGFR4', 'REACTOME_PI_3K_CASCADE_FGFR4', 'REACTOME_NEGATIVE_REGULATION_OF_FGFR2_SIGNALING', 'REACTOME_NEGATIVE_REGULATION_OF_FGFR3_SIGNALING', 'REACTOME_NEGATIVE_REGULATION_OF_FGFR4_SIGNALING', 'REACTOME_SIGNALING_BY_FGFR1', 'REACTOME_SIGNALING_BY_FGFR2', 'REACTOME_SIGNALING_BY_FGFR3', 'REACTOME_SIGNALING_BY_FGFR4', 'REACTOME_TRANSLESION_SYNTHESIS_BY_POLK', 'REACTOME_TERMINATION_OF_TRANSLESION_DNA_SYNTHESIS', 'REACTOME_REGULATION_OF_RAS_BY_GAPS', 'REACTOME_FGFRL1_MODULATION_OF_FGFR1_SIGNALING', 'REACTOME_FORMATION_OF_XYLULOSE_5_PHOSPHATE', 'REACTOME_MELANIN_BIOSYNTHESIS', 'REACTOME_RHO_GTPASES_ACTIVATE_WASPS_AND_WAVES', 'REACTOME_RHO_GTPASES_ACTIVATE_FORMINS', 'REACTOME_RHO_GTPASES_ACTIVATE_RHOTEKIN_AND_RHOPHILINS', 'REACTOME_TNFR2_NON_CANONICAL_NF_KB_PATHWAY', 'REACTOME_RHO_GTPASES_ACTIVATE_NADPH_OXIDASES', 'REACTOME_TNFS_BIND_THEIR_PHYSIOLOGICAL_RECEPTORS', 'REACTOME_RAF_ACTIVATION', 'REACTOME_MAP2K_AND_MAPK_ACTIVATION', 'REACTOME_NEGATIVE_FEEDBACK_REGULATION_OF_MAPK_PATHWAY', 'REACTOME_NEGATIVE_REGULATION_OF_MAPK_PATHWAY', 'REACTOME_TNF_RECEPTOR_SUPERFAMILY_TNFSF_MEMBERS_MEDIATING_NON_CANONICAL_NF_KB_PATHWAY', 'REACTOME_PROTEIN_REPAIR', 'REACTOME_LGI_ADAM_INTERACTIONS', 'REACTOME_MAPK_FAMILY_SIGNALING_CASCADES', 'REACTOME_SURFACTANT_METABOLISM', 'REACTOME_MAP3K8_TPL2_DEPENDENT_MAPK1_3_ACTIVATION', 'REACTOME_HDR_THROUGH_SINGLE_STRAND_ANNEALING_SSA', 'REACTOME_HDR_THROUGH_MMEJ_ALT_NHEJ', 'REACTOME_HDR_THROUGH_HOMOLOGOUS_RECOMBINATION_HRR', 'REACTOME_REGULATION_OF_TLR_BY_ENDOGENOUS_LIGAND', 'REACTOME_MAPK6_MAPK4_SIGNALING', 'REACTOME_DEUBIQUITINATION', 'REACTOME_UCH_PROTEINASES', 'REACTOME_JOSEPHIN_DOMAIN_DUBS', 'REACTOME_UB_SPECIFIC_PROCESSING_PROTEASES', 'REACTOME_OVARIAN_TUMOR_DOMAIN_PROTEASES', 'REACTOME_METALLOPROTEASE_DUBS', 'REACTOME_DNA_DOUBLE_STRAND_BREAK_REPAIR', 'REACTOME_RESOLUTION_OF_D_LOOP_STRUCTURES', 'REACTOME_HOMOLOGY_DIRECTED_REPAIR', 'REACTOME_SENSING_OF_DNA_DOUBLE_STRAND_BREAKS', 'REACTOME_NONHOMOLOGOUS_END_JOINING_NHEJ', 'REACTOME_HOMOLOGOUS_DNA_PAIRING_AND_STRAND_EXCHANGE', 'REACTOME_DNA_DOUBLE_STRAND_BREAK_RESPONSE', 'REACTOME_PROCESSING_OF_DNA_DOUBLE_STRAND_BREAK_ENDS', 'REACTOME_CARGO_CONCENTRATION_IN_THE_ER', 'REACTOME_DNA_DAMAGE_RECOGNITION_IN_GG_NER', 'REACTOME_FORMATION_OF_INCISION_COMPLEX_IN_GG_NER', 'REACTOME_GAP_FILLING_DNA_REPAIR_SYNTHESIS_AND_LIGATION_IN_GG_NER', 'REACTOME_NUCLEOTIDE_EXCISION_REPAIR', 'REACTOME_GLOBAL_GENOME_NUCLEOTIDE_EXCISION_REPAIR_GG_NER', 'REACTOME_DUAL_INCISION_IN_GG_NER', 'REACTOME_POST_TRANSLATIONAL_PROTEIN_MODIFICATION', 'REACTOME_DEPOSITION_OF_NEW_CENPA_CONTAINING_NUCLEOSOMES_AT_THE_CENTROMERE', 'REACTOME_RESPIRATORY_ELECTRON_TRANSPORT', 'REACTOME_INFLAMMASOMES', 'REACTOME_HIGHLY_SODIUM_PERMEABLE_POSTSYNAPTIC_ACETYLCHOLINE_NICOTINIC_RECEPTORS', 'REACTOME_HIGHLY_CALCIUM_PERMEABLE_POSTSYNAPTIC_NICOTINIC_ACETYLCHOLINE_RECEPTORS', 'REACTOME_HIGHLY_CALCIUM_PERMEABLE_NICOTINIC_ACETYLCHOLINE_RECEPTORS', 'REACTOME_RNA_POLYMERASE_II_PRE_TRANSCRIPTION_EVENTS', 'REACTOME_FORMATION_OF_TC_NER_PRE_INCISION_COMPLEX', 'REACTOME_TRANSCRIPTION_COUPLED_NUCLEOTIDE_EXCISION_REPAIR_TC_NER', 'REACTOME_DUAL_INCISION_IN_TC_NER', 'REACTOME_FANCONI_ANEMIA_PATHWAY', 'REACTOME_INTERLEUKIN_6_FAMILY_SIGNALING', 'REACTOME_ERBB2_REGULATES_CELL_MOTILITY', 'REACTOME_INTERLEUKIN_4_AND_INTERLEUKIN_13_SIGNALING', 'REACTOME_GDP_FUCOSE_BIOSYNTHESIS', 'REACTOME_IL_6_TYPE_CYTOKINE_RECEPTOR_LIGAND_INTERACTIONS', 'REACTOME_MAJOR_PATHWAY_OF_RRNA_PROCESSING_IN_THE_NUCLEOLUS_AND_CYTOSOL', 'REACTOME_TP53_REGULATES_TRANSCRIPTION_OF_CELL_CYCLE_GENES', 'REACTOME_NEUREXINS_AND_NEUROLIGINS', 'REACTOME_PROTEIN_PROTEIN_INTERACTIONS_AT_SYNAPSES', 'REACTOME_TP53_REGULATES_TRANSCRIPTION_OF_DNA_REPAIR_GENES', 'REACTOME_CHOLINE_CATABOLISM', 'REACTOME_NEUTROPHIL_DEGRANULATION', 'REACTOME_COMPLEX_I_BIOGENESIS', 'REACTOME_ANTIMICROBIAL_PEPTIDES', 'REACTOME_TP53_REGULATES_TRANSCRIPTION_OF_GENES_INVOLVED_IN_CYTOCHROME_C_RELEASE', 'REACTOME_FGFR2_ALTERNATIVE_SPLICING', 'REACTOME_TP53_REGULATES_TRANSCRIPTION_OF_GENES_INVOLVED_IN_G2_CELL_CYCLE_ARREST', 'REACTOME_TP53_REGULATES_TRANSCRIPTION_OF_ADDITIONAL_CELL_CYCLE_GENES_WHOSE_EXACT_ROLE_IN_THE_P53_PATHWAY_REMAIN_UNCERTAIN', 'REACTOME_TP53_REGULATES_TRANSCRIPTION_OF_GENES_INVOLVED_IN_G1_CELL_CYCLE_ARREST', 'REACTOME_REGULATION_OF_TP53_ACTIVITY_THROUGH_PHOSPHORYLATION', 'REACTOME_REGULATION_OF_TP53_DEGRADATION', 'REACTOME_REGULATION_OF_TP53_ACTIVITY_THROUGH_ACETYLATION', 'REACTOME_REGULATION_OF_TP53_ACTIVITY_THROUGH_ASSOCIATION_WITH_CO_FACTORS', 'REACTOME_REGULATION_OF_TP53_ACTIVITY_THROUGH_METHYLATION', 'REACTOME_KERATINIZATION', 'REACTOME_METABOLISM_OF_FAT_SOLUBLE_VITAMINS', 'REACTOME_SIGNALING_BY_MET', 'REACTOME_MET_RECEPTOR_ACTIVATION', 'REACTOME_NEGATIVE_REGULATION_OF_MET_ACTIVITY', 'REACTOME_PTEN_REGULATION', 'REACTOME_RNA_POLYMERASE_II_TRANSCRIBES_SNRNA_GENES', 'REACTOME_COPI_MEDIATED_ANTEROGRADE_TRANSPORT', 'REACTOME_FORMATION_OF_THE_CORNIFIED_ENVELOPE', 'REACTOME_COPI_DEPENDENT_GOLGI_TO_ER_RETROGRADE_TRAFFIC', 'REACTOME_COPI_INDEPENDENT_GOLGI_TO_ER_RETROGRADE_TRAFFIC', 'REACTOME_INTRA_GOLGI_TRAFFIC', 'REACTOME_RETROGRADE_TRANSPORT_AT_THE_TRANS_GOLGI_NETWORK', 'REACTOME_INTRA_GOLGI_AND_RETROGRADE_GOLGI_TO_ER_TRAFFIC', 'REACTOME_PI5P_REGULATES_TP53_ACETYLATION', 'REACTOME_ASSEMBLY_OF_THE_ORC_COMPLEX_AT_THE_ORIGIN_OF_REPLICATION', 'REACTOME_CDC6_ASSOCIATION_WITH_THE_ORC_ORIGIN_COMPLEX', 'REACTOME_ASSEMBLY_OF_THE_PRE_REPLICATIVE_COMPLEX', 'REACTOME_MITOTIC_PROPHASE', 'REACTOME_MITOTIC_PROMETAPHASE', 'REACTOME_MITOTIC_TELOPHASE_CYTOKINESIS', 'REACTOME_M_PHASE', 'REACTOME_G2_PHASE', 'REACTOME_ORC1_REMOVAL_FROM_CHROMATIN', 'REACTOME_DNA_REPLICATION_INITIATION', 'REACTOME_ACTIVATION_OF_THE_PRE_REPLICATIVE_COMPLEX', 'REACTOME_DNA_REPLICATION_PRE_INITIATION', 'REACTOME_CDK_MEDIATED_PHOSPHORYLATION_AND_REMOVAL_OF_CDC6', 'REACTOME_SWITCHING_OF_ORIGINS_TO_A_POST_REPLICATIVE_STATE', 'REACTOME_POLYMERASE_SWITCHING', 'REACTOME_PROCESSIVE_SYNTHESIS_ON_THE_LAGGING_STRAND', 'REACTOME_LAGGING_STRAND_SYNTHESIS', 'REACTOME_DNA_STRAND_ELONGATION', 'REACTOME_G1_S_TRANSITION', 'REACTOME_CYCLIN_D_ASSOCIATED_EVENTS_IN_G1', 'REACTOME_S_PHASE', 'REACTOME_CYCLIN_A_B1_B2_ASSOCIATED_EVENTS_DURING_G2_M_TRANSITION', 'REACTOME_DNA_REPLICATION', 'REACTOME_G2_M_DNA_DAMAGE_CHECKPOINT', 'REACTOME_G2_M_DNA_REPLICATION_CHECKPOINT', 'REACTOME_G2_M_CHECKPOINTS', 'REACTOME_STABILIZATION_OF_P53', 'REACTOME_UBIQUITIN_MEDIATED_DEGRADATION_OF_PHOSPHORYLATED_CDC25A', 'REACTOME_G1_S_DNA_DAMAGE_CHECKPOINTS', 'REACTOME_MITOTIC_SPINDLE_CHECKPOINT', 'REACTOME_CELL_CYCLE_CHECKPOINTS', 'REACTOME_CYCLIN_A_CDK2_ASSOCIATED_EVENTS_AT_S_PHASE_ENTRY', 'REACTOME_GLYCOLYSIS', 'REACTOME_GLYCOGEN_BREAKDOWN_GLYCOGENOLYSIS', 'REACTOME_GLUCONEOGENESIS', 'REACTOME_PYRUVATE_METABOLISM', 'REACTOME_GLUCOSE_METABOLISM', 'REACTOME_FRUCTOSE_CATABOLISM', 'REACTOME_UREA_CYCLE', 'REACTOME_BRANCHED_CHAIN_AMINO_ACID_CATABOLISM', 'REACTOME_HISTIDINE_CATABOLISM', 'REACTOME_PROPIONYL_COA_CATABOLISM', 'REACTOME_LYSINE_CATABOLISM', 'REACTOME_TRYPTOPHAN_CATABOLISM', 'REACTOME_CREATINE_METABOLISM', 'REACTOME_METABOLISM_OF_AMINO_ACIDS_AND_DERIVATIVES', 'REACTOME_PENTOSE_PHOSPHATE_PATHWAY', 'REACTOME_ETHANOL_OXIDATION', 'REACTOME_METABOLISM_OF_CARBOHYDRATES', 'REACTOME_CITRIC_ACID_CYCLE_TCA_CYCLE', 'REACTOME_PYRUVATE_METABOLISM_AND_CITRIC_ACID_TCA_CYCLE', 'REACTOME_MRNA_CAPPING', 'REACTOME_MRNA_SPLICING_MINOR_PATHWAY', 'REACTOME_MRNA_SPLICING', 'REACTOME_MRNA_EDITING_C_TO_U_CONVERSION', 'REACTOME_TRANSPORT_OF_MATURE_TRANSCRIPT_TO_CYTOPLASM', 'REACTOME_PROCESSING_OF_CAPPED_INTRON_CONTAINING_PRE_MRNA', 'REACTOME_EUKARYOTIC_TRANSLATION_INITIATION', 'REACTOME_ACTIVATION_OF_THE_MRNA_UPON_BINDING_OF_THE_CAP_BINDING_COMPLEX_AND_EIFS_AND_SUBSEQUENT_BINDING_TO_43S', 'REACTOME_RECYCLING_OF_EIF2_GDP', 'REACTOME_EUKARYOTIC_TRANSLATION_TERMINATION', 'REACTOME_TRANSLATION', 'REACTOME_TRANSPORT_OF_NUCLEOTIDE_SUGARS', 'REACTOME_PYRIMIDINE_SALVAGE', 'REACTOME_PYRIMIDINE_CATABOLISM', 'REACTOME_RNA_POLYMERASE_II_PROMOTER_ESCAPE', 'REACTOME_PURINE_RIBONUCLEOSIDE_MONOPHOSPHATE_BIOSYNTHESIS', 'REACTOME_RNA_POLYMERASE_II_TRANSCRIPTION_TERMINATION', 'REACTOME_RNA_POLYMERASE_I_TRANSCRIPTION_TERMINATION', 'REACTOME_RNA_POLYMERASE_I_TRANSCRIPTION', 'REACTOME_BASE_EXCISION_REPAIR', 'REACTOME_CHROMOSOME_MAINTENANCE', 'REACTOME_DEATH_RECEPTOR_SIGNALING', 'REACTOME_DNA_DAMAGE_BYPASS', 'REACTOME_DNA_REPAIR', 'REACTOME_BASE_EXCISION_REPAIR_AP_SITE_FORMATION', 'REACTOME_RNA_POLYMERASE_III_TRANSCRIPTION', 'REACTOME_GENE_EXPRESSION_TRANSCRIPTION', 'REACTOME_KETONE_BODY_METABOLISM', 'REACTOME_PURINE_SALVAGE', 'REACTOME_PURINE_CATABOLISM', 'REACTOME_SIGNAL_ATTENUATION', 'REACTOME_INSULIN_RECEPTOR_SIGNALLING_CASCADE', 'REACTOME_SIGNALING_BY_INSULIN_RECEPTOR', 'REACTOME_CHK1_CHK2_CDS1_MEDIATED_INACTIVATION_OF_CYCLIN_B_CDK1_COMPLEX', 'REACTOME_PROCESSING_OF_CAPPED_INTRONLESS_PRE_MRNA', 'REACTOME_MRNA_EDITING', 'REACTOME_FATTY_ACYL_COA_BIOSYNTHESIS', 'REACTOME_TRIGLYCERIDE_BIOSYNTHESIS', 'REACTOME_APOPTOTIC_EXECUTION_PHASE', 'REACTOME_TRAIL_SIGNALING', 'REACTOME_DISSOLUTION_OF_FIBRIN_CLOT', 'REACTOME_SYNTHESIS_OF_VERY_LONG_CHAIN_FATTY_ACYL_COAS', 'REACTOME_PLATELET_ADHESION_TO_EXPOSED_COLLAGEN', 'REACTOME_TNF_SIGNALING', 'REACTOME_PLATELET_ACTIVATION_SIGNALING_AND_AGGREGATION', 'REACTOME_RESPONSE_TO_ELEVATED_PLATELET_CYTOSOLIC_CA2', 'REACTOME_PLATELET_AGGREGATION_PLUG_FORMATION', 'REACTOME_RNA_POLYMERASE_III_TRANSCRIPTION_INITIATION_FROM_TYPE_1_PROMOTER', 'REACTOME_RNA_POLYMERASE_III_TRANSCRIPTION_INITIATION_FROM_TYPE_3_PROMOTER', 'REACTOME_UTILIZATION_OF_KETONE_BODIES', 'REACTOME_SYNTHESIS_OF_KETONE_BODIES', 'REACTOME_MITOCHONDRIAL_FATTY_ACID_BETA_OXIDATION_OF_SATURATED_FATTY_ACIDS', 'REACTOME_MITOCHONDRIAL_FATTY_ACID_BETA_OXIDATION', 'REACTOME_BETA_OXIDATION_OF_LAUROYL_COA_TO_DECANOYL_COA_COA', 'REACTOME_BETA_OXIDATION_OF_DECANOYL_COA_TO_OCTANOYL_COA_COA', 'REACTOME_BETA_OXIDATION_OF_OCTANOYL_COA_TO_HEXANOYL_COA', 'REACTOME_BETA_OXIDATION_OF_HEXANOYL_COA_TO_BUTANOYL_COA', 'REACTOME_INSULIN_RECEPTOR_RECYCLING', 'REACTOME_SLBP_DEPENDENT_PROCESSING_OF_REPLICATION_DEPENDENT_HISTONE_PRE_MRNAS', 'REACTOME_PROCESSING_OF_INTRONLESS_PRE_MRNAS', 'REACTOME_TRANSPORT_OF_FATTY_ACIDS', 'REACTOME_TRANSPORT_OF_NUCLEOSIDES_AND_FREE_PURINE_AND_PYRIMIDINE_BASES_ACROSS_THE_PLASMA_MEMBRANE', 'REACTOME_THE_NLRP3_INFLAMMASOME', 'REACTOME_INTERFERON_GAMMA_SIGNALING', 'REACTOME_REGULATION_OF_IFNG_SIGNALING', 'REACTOME_ADVANCED_GLYCOSYLATION_ENDPRODUCT_RECEPTOR_SIGNALING', 'REACTOME_TRANSPORT_OF_ORGANIC_ANIONS', 'REACTOME_GASTRIN_CREB_SIGNALLING_PATHWAY_VIA_PKC_AND_MAPK', 'REACTOME_ERBB2_ACTIVATES_PTK6_SIGNALING', 'REACTOME_SIGNALING_BY_PTK6', 'REACTOME_WAX_AND_PLASMALOGEN_BIOSYNTHESIS', 'REACTOME_PTK6_REGULATES_PROTEINS_INVOLVED_IN_RNA_PROCESSING', 'REACTOME_PTK6_REGULATES_RTKS_AND_THEIR_EFFECTORS_AKT1_AND_DOK1', 'REACTOME_PTK6_REGULATES_CELL_CYCLE', 'REACTOME_PTK6_REGULATES_RHO_GTPASES_RAS_GTPASE_AND_MAP_KINASES', 'REACTOME_SYNAPTIC_ADHESION_LIKE_MOLECULES', 'REACTOME_PHOSPHATE_BOND_HYDROLYSIS_BY_NTPDASE_PROTEINS', 'REACTOME_BUTYROPHILIN_BTN_FAMILY_INTERACTIONS', 'REACTOME_MET_ACTIVATES_RAS_SIGNALING', 'REACTOME_MET_ACTIVATES_PI3K_AKT_SIGNALING', 'REACTOME_PROTEIN_UBIQUITINATION', 'REACTOME_THE_ROLE_OF_GTSE1_IN_G2_M_PROGRESSION_AFTER_G2_CHECKPOINT', 'REACTOME_SIGNALING_BY_MST1', 'REACTOME_RET_SIGNALING', 'REACTOME_TBC_RABGAPS', 'REACTOME_AURKA_ACTIVATION_BY_TPX2', 'REACTOME_INTERLEUKIN_20_FAMILY_SIGNALING', 'REACTOME_GOLGI_TO_ER_RETROGRADE_TRANSPORT', 'REACTOME_CARGO_RECOGNITION_FOR_CLATHRIN_MEDIATED_ENDOCYTOSIS', 'REACTOME_CLATHRIN_MEDIATED_ENDOCYTOSIS', 'REACTOME_PTK6_PROMOTES_HIF1A_STABILIZATION', 'REACTOME_DOWNREGULATION_OF_ERBB2_SIGNALING', 'REACTOME_TRANSCRIPTIONAL_REGULATION_BY_THE_AP_2_TFAP2_FAMILY_OF_TRANSCRIPTION_FACTORS', 'REACTOME_MET_ACTIVATES_PTPN11', 'REACTOME_REELIN_SIGNALLING_PATHWAY', 'REACTOME_VLDL_ASSEMBLY', 'REACTOME_VLDLR_INTERNALISATION_AND_DEGRADATION', 'REACTOME_SYNTHESIS_OF_ACTIVE_UBIQUITIN_ROLES_OF_E1_AND_E2_ENZYMES', 'REACTOME_E3_UBIQUITIN_LIGASES_UBIQUITINATE_TARGET_PROTEINS', 'REACTOME_NEGATIVE_REGULATION_OF_ACTIVITY_OF_TFAP2_AP_2_FAMILY_TRANSCRIPTION_FACTORS', 'REACTOME_ACTIVATION_OF_THE_TFAP2_AP_2_FAMILY_OF_TRANSCRIPTION_FACTORS', 'REACTOME_RAB_GERANYLGERANYLATION', 'REACTOME_MET_ACTIVATES_PTK2_SIGNALING', 'REACTOME_CREB3_FACTORS_ACTIVATE_GENES', 'REACTOME_MET_INTERACTS_WITH_TNS_PROTEINS', 'REACTOME_MET_ACTIVATES_RAP1_AND_RAC1', 'REACTOME_MET_RECEPTOR_RECYCLING', 'REACTOME_MET_PROMOTES_CELL_MOTILITY', 'REACTOME_RAB_GEFS_EXCHANGE_GTP_FOR_GDP_ON_RABS', 'REACTOME_PROTEIN_METHYLATION', 'REACTOME_TRANSCRIPTIONAL_REGULATION_BY_RUNX3', 'REACTOME_TRANSCRIPTIONAL_REGULATION_BY_RUNX2', 'REACTOME_TRANSCRIPTIONAL_REGULATION_BY_RUNX1', 'REACTOME_GABA_SYNTHESIS_RELEASE_REUPTAKE_AND_DEGRADATION', 'REACTOME_REGULATION_OF_RUNX1_EXPRESSION_AND_ACTIVITY', 'REACTOME_RECEPTOR_MEDIATED_MITOPHAGY', 'REACTOME_DIGESTION', 'REACTOME_RUNX1_REGULATES_GENES_INVOLVED_IN_MEGAKARYOCYTE_DIFFERENTIATION_AND_PLATELET_FUNCTION', 'REACTOME_ARYL_HYDROCARBON_RECEPTOR_SIGNALLING', 'REACTOME_ESR_MEDIATED_SIGNALING', 'REACTOME_RUNX1_REGULATES_TRANSCRIPTION_OF_GENES_INVOLVED_IN_DIFFERENTIATION_OF_HSCS', 'REACTOME_RUNX1_INTERACTS_WITH_CO_FACTORS_WHOSE_PRECISE_EFFECT_ON_RUNX1_TARGETS_IS_NOT_KNOWN', 'REACTOME_REGULATION_OF_RUNX2_EXPRESSION_AND_ACTIVITY', 'REACTOME_RUNX2_REGULATES_BONE_DEVELOPMENT', 'REACTOME_RUNX3_REGULATES_CDKN1A_TRANSCRIPTION', 'REACTOME_RUNX3_REGULATES_NOTCH_SIGNALING', 'REACTOME_REGULATION_OF_RUNX3_EXPRESSION_AND_ACTIVITY', 'REACTOME_REGULATION_OF_PTEN_GENE_TRANSCRIPTION', 'REACTOME_COLLAGEN_CHAIN_TRIMERIZATION', 'REACTOME_REGULATION_OF_PTEN_LOCALIZATION', 'REACTOME_REGULATION_OF_PTEN_STABILITY_AND_ACTIVITY', 'REACTOME_MITOCHONDRIAL_CALCIUM_ION_TRANSPORT', 'REACTOME_RUNX3_REGULATES_WNT_SIGNALING', 'REACTOME_NEDDYLATION', 'REACTOME_RUNX3_REGULATES_YAP1_MEDIATED_TRANSCRIPTION', 'REACTOME_RUNX3_REGULATES_P14_ARF', 'REACTOME_TRANSCRIPTIONAL_REGULATION_BY_E2F6', 'REACTOME_METABOLISM_OF_RNA', 'REACTOME_CELLULAR_RESPONSES_TO_STIMULI', 'REACTOME_CARBOXYTERMINAL_POST_TRANSLATIONAL_MODIFICATIONS_OF_TUBULIN', 'REACTOME_NUCLEOTIDE_CATABOLISM', 'REACTOME_NUCLEOTIDE_BIOSYNTHESIS', 'REACTOME_NUCLEOTIDE_SALVAGE', 'REACTOME_METABOLISM_OF_STEROIDS', 'REACTOME_TYROSINE_CATABOLISM', 'REACTOME_PHENYLALANINE_AND_TYROSINE_METABOLISM', 'REACTOME_ASPARTATE_AND_ASPARAGINE_METABOLISM', 'REACTOME_DIGESTION_AND_ABSORPTION', 'REACTOME_CHYLOMICRON_ASSEMBLY', 'REACTOME_ASSEMBLY_OF_ACTIVE_LPL_AND_LIPC_LIPASE_COMPLEXES', 'REACTOME_HDL_ASSEMBLY', 'REACTOME_PLASMA_LIPOPROTEIN_ASSEMBLY', 'REACTOME_PLASMA_LIPOPROTEIN_REMODELING', 'REACTOME_CHYLOMICRON_REMODELING', 'REACTOME_CHYLOMICRON_CLEARANCE', 'REACTOME_LDL_CLEARANCE', 'REACTOME_PLASMA_LIPOPROTEIN_CLEARANCE', 'REACTOME_VLDL_CLEARANCE', 'REACTOME_HDL_REMODELING', 'REACTOME_PHENYLALANINE_METABOLISM', 'REACTOME_GLUTAMATE_AND_GLUTAMINE_METABOLISM', 'REACTOME_LIPID_PARTICLE_ORGANIZATION', 'REACTOME_G_BETA_GAMMA_SIGNALLING_THROUGH_CDC42', 'REACTOME_FATTY_ACID_METABOLISM', 'REACTOME_METABOLISM_OF_COFACTORS', 'REACTOME_TRIGLYCERIDE_METABOLISM', 'REACTOME_RHOA_GTPASE_CYCLE', 'REACTOME_GLYCOGEN_METABOLISM', 'REACTOME_INTERLEUKIN_15_SIGNALING', 'REACTOME_OAS_ANTIVIRAL_RESPONSE', 'REACTOME_INTERLEUKIN_35_SIGNALLING', 'REACTOME_INTERLEUKIN_9_SIGNALING', 'REACTOME_TRANSCRIPTIONAL_REGULATION_BY_MECP2', 'REACTOME_SIGNALING_BY_NTRK2_TRKB', 'REACTOME_SIGNALING_BY_ERYTHROPOIETIN', 'REACTOME_INTRACELLULAR_SIGNALING_BY_SECOND_MESSENGERS', 'REACTOME_SIGNALING_BY_NUCLEAR_RECEPTORS', 'REACTOME_SIGNALING_BY_RECEPTOR_TYROSINE_KINASES', 'REACTOME_SIGNALING_BY_TGFB_FAMILY_MEMBERS', 'REACTOME_RAB_REGULATION_OF_TRAFFICKING', 'REACTOME_EXTRA_NUCLEAR_ESTROGEN_SIGNALING', 'REACTOME_ER_QUALITY_CONTROL_COMPARTMENT_ERQC', 'REACTOME_CALNEXIN_CALRETICULIN_CYCLE', 'REACTOME_REGULATION_OF_EXPRESSION_OF_SLITS_AND_ROBOS', 'REACTOME_SIGNALING_BY_NOTCH3', 'REACTOME_RHO_GTPASE_CYCLE', 'REACTOME_RHOB_GTPASE_CYCLE', 'REACTOME_RHOC_GTPASE_CYCLE', 'REACTOME_CDC42_GTPASE_CYCLE', 'REACTOME_RAC1_GTPASE_CYCLE', 'REACTOME_RAC2_GTPASE_CYCLE', 'REACTOME_RHOD_GTPASE_CYCLE', 'REACTOME_RHOQ_GTPASE_CYCLE', 'REACTOME_RHOH_GTPASE_CYCLE', 'REACTOME_RHOG_GTPASE_CYCLE', 'REACTOME_RHOJ_GTPASE_CYCLE', 'REACTOME_RHOBTB2_GTPASE_CYCLE', 'REACTOME_RHOU_GTPASE_CYCLE', 'REACTOME_RHOBTB1_GTPASE_CYCLE', 'REACTOME_RAC3_GTPASE_CYCLE', 'REACTOME_RHOV_GTPASE_CYCLE', 'REACTOME_INTERLEUKIN_36_PATHWAY', 'REACTOME_NONCANONICAL_ACTIVATION_OF_NOTCH3', 'REACTOME_ESTROGEN_DEPENDENT_GENE_EXPRESSION', 'REACTOME_BIOSYNTHESIS_OF_SPECIALIZED_PRORESOLVING_MEDIATORS_SPMS', 'REACTOME_BIOSYNTHESIS_OF_EPA_DERIVED_SPMS', 'REACTOME_BIOSYNTHESIS_OF_MARESINS', 'REACTOME_BIOSYNTHESIS_OF_E_SERIES_18_S_RESOLVINS', 'REACTOME_INTERLEUKIN_2_SIGNALING', 'REACTOME_INTERLEUKIN_23_SIGNALING', 'REACTOME_INTERLEUKIN_27_SIGNALING', 'REACTOME_INTERLEUKIN_21_SIGNALING', 'REACTOME_NR1H2_AND_NR1H3_MEDIATED_SIGNALING', 'REACTOME_ERYTHROPOIETIN_ACTIVATES_PHOSPHOINOSITIDE_3_KINASE_PI3K', 'REACTOME_ERYTHROPOIETIN_ACTIVATES_RAS', 'REACTOME_BIOSYNTHESIS_OF_MARESIN_LIKE_SPMS', 'REACTOME_ACTIVATED_NTRK2_SIGNALS_THROUGH_FRS2_AND_FRS3', 'REACTOME_NGF_STIMULATED_TRANSCRIPTION', 'REACTOME_PEROXISOMAL_PROTEIN_IMPORT', 'REACTOME_BLOOD_GROUP_SYSTEMS_BIOSYNTHESIS', 'REACTOME_RHOF_GTPASE_CYCLE', 'REACTOME_INTERFERON_ALPHA_BETA_SIGNALING', 'REACTOME_INTERLEUKIN_RECEPTOR_SHC_SIGNALING', 'REACTOME_REGULATION_OF_SIGNALING_BY_CBL', 'REACTOME_REGULATION_OF_IFNA_IFNB_SIGNALING', 'REACTOME_INTERFERON_SIGNALING', 'REACTOME_O_LINKED_GLYCOSYLATION_OF_MUCINS', 'REACTOME_ENDOSOMAL_SORTING_COMPLEX_REQUIRED_FOR_TRANSPORT_ESCRT', 'REACTOME_IRON_UPTAKE_AND_TRANSPORT', 'REACTOME_TRANSFERRIN_ENDOCYTOSIS_AND_RECYCLING', 'REACTOME_NONSENSE_MEDIATED_DECAY_NMD', 'REACTOME_TRAF6_MEDIATED_NF_KB_ACTIVATION', 'REACTOME_NEGATIVE_REGULATORS_OF_DDX58_IFIH1_SIGNALING', 'REACTOME_ION_TRANSPORT_BY_P_TYPE_ATPASES', 'REACTOME_ACTIVATION_OF_IRF3_IRF7_MEDIATED_BY_TBK1_IKBKE', 'REACTOME_IRAK1_RECRUITS_IKK_COMPLEX', 'REACTOME_IKK_COMPLEX_RECRUITMENT_MEDIATED_BY_RIP1', 'REACTOME_IRAK2_MEDIATED_ACTIVATION_OF_TAK1_COMPLEX', 'REACTOME_TRAF6_MEDIATED_INDUCTION_OF_TAK1_COMPLEX_WITHIN_TLR4_COMPLEX', 'REACTOME_MOLYBDENUM_COFACTOR_BIOSYNTHESIS', 'REACTOME_TRANSPORT_TO_THE_GOLGI_AND_SUBSEQUENT_MODIFICATION', 'REACTOME_CLASS_I_PEROXISOMAL_MEMBRANE_PROTEIN_IMPORT', 'REACTOME_FLT3_SIGNALING', 'REACTOME_PROTEIN_LOCALIZATION', 'REACTOME_INSERTION_OF_TAIL_ANCHORED_PROTEINS_INTO_THE_ENDOPLASMIC_RETICULUM_MEMBRANE', 'REACTOME_ASSEMBLY_AND_CELL_SURFACE_PRESENTATION_OF_NMDA_RECEPTORS', 'REACTOME_FOXO_MEDIATED_TRANSCRIPTION', 'REACTOME_REGULATION_OF_LOCALIZATION_OF_FOXO_TRANSCRIPTION_FACTORS', 'REACTOME_POSTMITOTIC_NUCLEAR_PORE_COMPLEX_NPC_REFORMATION', 'REACTOME_TRANSCRIPTIONAL_REGULATION_OF_GRANULOPOIESIS', 'REACTOME_REGULATION_OF_FOXO_TRANSCRIPTIONAL_ACTIVITY_BY_ACETYLATION', 'REACTOME_FOXO_MEDIATED_TRANSCRIPTION_OF_CELL_CYCLE_GENES', 'REACTOME_ACTIVATION_OF_RAC1_DOWNSTREAM_OF_NMDARS', 'REACTOME_NR1H2_NR1H3_REGULATE_GENE_EXPRESSION_TO_CONTROL_BILE_ACID_HOMEOSTASIS', 'REACTOME_PROTEIN_HYDROXYLATION', 'REACTOME_GPER1_SIGNALING', 'REACTOME_ESTROGEN_STIMULATED_SIGNALING_THROUGH_PRKCZ', 'REACTOME_ESTROGEN_DEPENDENT_NUCLEAR_EVENTS_DOWNSTREAM_OF_ESR_MEMBRANE_SIGNALING', 'REACTOME_TRANSCRIPTIONAL_REGULATION_BY_NPAS4', 'REACTOME_AMINO_ACIDS_REGULATE_MTORC1', 'REACTOME_ALPHA_PROTEIN_KINASE_1_SIGNALING_PATHWAY', 'REACTOME_AGGREPHAGY', 'REACTOME_N_GLYCAN_TRIMMING_AND_ELONGATION_IN_THE_CIS_GOLGI', 'REACTOME_RAS_PROCESSING', 'REACTOME_SELECTIVE_AUTOPHAGY', 'REACTOME_PEXOPHAGY', 'REACTOME_SEALING_OF_THE_NUCLEAR_ENVELOPE_NE_BY_ESCRT_III', 'REACTOME_SIGNALING_BY_CSF3_G_CSF', 'REACTOME_NERVOUS_SYSTEM_DEVELOPMENT', 'REACTOME_RND3_GTPASE_CYCLE', 'REACTOME_RND2_GTPASE_CYCLE', 'REACTOME_RND1_GTPASE_CYCLE', 'REACTOME_INACTIVATION_OF_CSF3_G_CSF_SIGNALING', 'REACTOME_RHOBTB3_ATPASE_CYCLE', 'REACTOME_NEGATIVE_REGULATION_OF_FLT3', 'REACTOME_RHOBTB_GTPASE_CYCLE', 'REACTOME_CYTOPROTECTION_BY_HMOX1', 'REACTOME_HEME_SIGNALING', 'REACTOME_REGULATION_OF_BACH1_ACTIVITY', 'REACTOME_SENSORY_PERCEPTION', 'REACTOME_CELLULAR_RESPONSE_TO_CHEMICAL_STRESS', 'REACTOME_MIRO_GTPASE_CYCLE', 'REACTOME_SIGNALING_BY_RHO_GTPASES_MIRO_GTPASES_AND_RHOBTB3', 'REACTOME_SENSORY_PERCEPTION_OF_TASTE', 'REACTOME_IFNG_SIGNALING_ACTIVATES_MAPKS', 'REACTOME_DRUG_ADME', 'REACTOME_AZATHIOPRINE_ADME', 'REACTOME_ASPIRIN_ADME', 'REACTOME_PARACETAMOL_ADME', 'REACTOME_DRUG_MEDIATED_INHIBITION_OF_CDK4_CDK6_ACTIVITY', 'REACTOME_ATORVASTATIN_ADME', 'REACTOME_RIBAVIRIN_ADME', 'REACTOME_KEAP1_NFE2L2_PATHWAY', 'REACTOME_N_GLYCAN_ANTENNAE_ELONGATION_IN_THE_MEDIAL_TRANS_GOLGI', 'REACTOME_N_GLYCAN_ANTENNAE_ELONGATION', 'REACTOME_REACTIONS_SPECIFIC_TO_THE_COMPLEX_N_GLYCAN_SYNTHESIS_PATHWAY', 'REACTOME_PREDNISONE_ADME', 'REACTOME_REGULATION_OF_NF_KAPPA_B_SIGNALING', 'REACTOME_TRANSPORT_OF_RCBL_WITHIN_THE_BODY', 'REACTOME_NUCLEAR_EVENTS_MEDIATED_BY_NFE2L2', 'REACTOME_COBALAMIN_CBL_METABOLISM', 'REACTOME_REGULATION_OF_CDH11_EXPRESSION_AND_FUNCTION', 'REACTOME_NONSENSE_MEDIATED_DECAY_NMD_INDEPENDENT_OF_THE_EXON_JUNCTION_COMPLEX_EJC', 'REACTOME_REGULATION_OF_CDH11_FUNCTION', 'REACTOME_TERMINATION_OF_O_GLYCAN_BIOSYNTHESIS', 'REACTOME_FORMATION_OF_WDR5_CONTAINING_HISTONE_MODIFYING_COMPLEXES', 'REACTOME_SERINE_BIOSYNTHESIS', 'REACTOME_GABA_RECEPTOR_ACTIVATION', 'REACTOME_GABA_B_RECEPTOR_ACTIVATION', 'REACTOME_GROWTH_HORMONE_RECEPTOR_SIGNALING', 'REACTOME_ANTIGEN_PROCESSING_UBIQUITINATION_PROTEASOME_DEGRADATION', 'REACTOME_CLASS_I_MHC_MEDIATED_ANTIGEN_PROCESSING_PRESENTATION', 'REACTOME_ANTIGEN_PRESENTATION_FOLDING_ASSEMBLY_AND_PEPTIDE_LOADING_OF_CLASS_I_MHC', 'REACTOME_KINESINS', 'REACTOME_FACTORS_INVOLVED_IN_MEGAKARYOCYTE_DEVELOPMENT_AND_PLATELET_PRODUCTION', 'REACTOME_PKR_MEDIATED_SIGNALING', 'REACTOME_ANTIGEN_ACTIVATES_B_CELL_RECEPTOR_BCR_LEADING_TO_GENERATION_OF_SECOND_MESSENGERS', 'REACTOME_SIGNALING_BY_THE_B_CELL_RECEPTOR_BCR', 'REACTOME_ION_CHANNEL_TRANSPORT', 'REACTOME_GLYCOSPHINGOLIPID_BIOSYNTHESIS', 'REACTOME_GLYCOSPHINGOLIPID_CATABOLISM', 'WP_STATIN_PATHWAY', 'WP_IL_9_SIGNALING_PATHWAY', 'WP_CHOLESTEROL_BIOSYNTHESIS', 'WP_SELENIUM_METABOLISM_SELENOPROTEINS', 'WP_TGF_BETA_SIGNALING_PATHWAY', 'WP_HEDGEHOG_SIGNALING_PATHWAY', 'WP_GLUCURONIDATION', 'WP_NON_HOMOLOGOUS_END_JOINING', 'WP_EBV_LMP1_SIGNALING', 'WP_ESTROGEN_SIGNALING', 'WP_TRANSCRIPTIONAL_ACTIVATION_BY_NFE2L2_IN_RESPONSE_TO_PHYTOCHEMICALS', 'WP_METHYLATION', 'WP_OXIDATIVE_PHOSPHORYLATION', 'WP_EPO_RECEPTOR_SIGNALING', 'WP_METAPATHWAY_BIOTRANSFORMATION', 'WP_TYPE_II_INTERFERON_SIGNALING_IFNG', 'WP_APOPTOSIS', 'WP_NOD_LIKE_RECEPTOR_NLR_SIGNALING_PATHWAY', 'WP_MISMATCH_REPAIR', 'WP_HOMOLOGOUS_RECOMBINATION', 'WP_RETINOL_METABOLISM', 'WP_ERBB_SIGNALING_PATHWAY', 'WP_AFLATOXIN_B1_METABOLISM', 'WP_MITOCHONDRIAL_GENE_EXPRESSION', 'WP_ESTROGEN_METABOLISM', 'WP_SIDS_SUSCEPTIBILITY_PATHWAYS', 'WP_FATTY_ACID_BETA_OXIDATION', 'WP_ENDOCHONDRAL_OSSIFICATION', 'WP_SELENIUM_MICRONUTRIENT_NETWORK', 'WP_FOLIC_ACID_NETWORK', 'WP_OXIDATION_BY_CYTOCHROME_P450', 'WP_GPCRS_NON_ODORANT', 'WP_GPCRS_ODORANT', 'WP_GPCRS_ORPHAN', 'WP_OXIDATIVE_DAMAGE_RESPONSE', 'WP_DOPAMINERGIC_NEUROGENESIS', 'WP_IL_5_SIGNALING_PATHWAY', 'WP_REGULATION_OF_CARDIAC_HYPERTROPHY_BY_MIR_208', 'WP_MICRORNAS_IN_CARDIOMYOCYTE_HYPERTROPHY', 'WP_GLYCOLYSIS_AND_GLUCONEOGENESIS', 'WP_IRON_HOMEOSTASIS', 'WP_CYTOPLASMIC_RIBOSOMAL_PROTEINS', 'WP_GLUTATHIONE_METABOLISM', 'WP_APOPTOSIS_MODULATION_BY_HSP70', 'WP_ACETYLCHOLINE_SYNTHESIS', 'WP_MECHANISMS_ASSOCIATED_WITH_PLURIPOTENCY', 'WP_ONE_CARBON_METABOLISM_AND_RELATED_PATHWAYS', 'WP_KENNEDY_PATHWAY', 'WP_HEME_BIOSYNTHESIS', 'WP_GPCRS_CLASS_A_RHODOPSIN_LIKE', 'WP_SPLICING_FACTOR_NOVA_REGULATED_SYNAPTIC_PROTEINS', 'WP_COMPLEMENT_ACTIVATION_CLASSICAL_PATHWAY', 'WP_PTF1A_RELATED_REGULATORY_PATHWAY', 'WP_HYPERTROPHY_MODEL', 'WP_HEART_DEVELOPMENT', 'WP_NUCLEOTIDE_GPCRS', 'WP_NEURAL_CREST_DIFFERENTIATION', 'WP_ALZHEIMER_39_S_DISEASE', 'WP_SREBF_AND_MIR33_IN_CHOLESTEROL_AND_LIPID_HOMEOSTASIS', 'WP_SEROTONIN_AND_ANXIETY_RELATED_EVENTS', 'WP_SEROTONIN_AND_ANXIETY', 'WP_BDNF_PATHWAY', 'WP_PURINE_METABOLISM', 'WP_CYTOKINES_AND_INFLAMMATORY_RESPONSE', 'WP_MACROPHAGE_MARKERS', 'WP_CHEMOKINE_SIGNALING_PATHWAY', 'WP_PPAR_SIGNALING_PATHWAY', 'WP_FATTY_ACID_OXIDATION', 'WP_G_PROTEIN_SIGNALING_PATHWAYS', 'WP_GPCRS_PEPTIDE', 'WP_MIRNAS_AND_TFS_IN_IPS_CELL_GENERATION', 'WP_OSTEOBLAST_SIGNALING', 'WP_ALANINE_AND_ASPARTATE_METABOLISM', 'WP_SPINAL_CORD_INJURY', 'WP_MAPK_CASCADE', 'WP_PRIMARY_FOCAL_SEGMENTAL_GLOMERULOSCLEROSIS_FSGS', 'WP_DELTA_NOTCH_SIGNALING_PATHWAY', 'WP_OVARIAN_INFERTILITY', 'WP_FOCAL_ADHESION_PI3K_AKT_MTOR_SIGNALING_PATHWAY', 'WP_GENE_REGULATORY_NETWORK_MODELLING_SOMITOGENESIS', 'WP_WHITE_FAT_CELL_DIFFERENTIATION', 'WP_NOTCH_SIGNALING_PATHWAY', 'WP_P53_SIGNALING', 'WP_MECP2_AND_ASSOCIATED_RETT_SYNDROME', 'WP_ELECTRON_TRANSPORT_CHAIN', 'WP_IL_7_SIGNALING_PATHWAY', 'WP_G13_SIGNALING_PATHWAY', 'WP_HISTONE_MODIFICATIONS', 'WP_TRANSLATION_FACTORS', 'WP_MRNA_PROCESSING', 'WP_GLYCOGEN_METABOLISM', 'WP_EICOSANOID_SYNTHESIS', 'WP_GPCRS_CLASS_C_METABOTROPIC_GLUTAMATE_PHEROMONE', 'WP_FATTY_ACID_OMEGA_OXIDATION', 'WP_FATTY_ACID_BIOSYNTHESIS', 'WP_ESC_PLURIPOTENCY_PATHWAYS', 'WP_P38_MAPK_SIGNALING_PATHWAY', 'WP_GPCRS_SMALL_LIGAND', 'WP_APOE_AND_MIR_146_IN_INFLAMMATION_AND_ATHEROSCLEROSIS', 'WP_TYROBP_CAUSAL_NETWORK_IN_MICROGLIA', 'WP_MICROGLIA_PATHOGEN_PHAGOCYTOSIS_PATHWAY', 'WP_LUNG_FIBROSIS', 'WP_PARKINSON_39_S_DISEASE', 'WP_EDA_SIGNALING_IN_HAIR_FOLLICLE_DEVELOPMENT', 'WP_NOVEL_JUN_DMP1_PATHWAY', 'WP_BMP_SIGNALING_PATHWAY_IN_EYELID_DEVELOPMENT', 'WP_HFE_EFFECT_ON_HEPCIDIN_PRODUCTION', 'WP_FACTORS_AND_PATHWAYS_AFFECTING_INSULIN_LIKE_GROWTH_FACTOR_IGF1_AKT_SIGNALING', 'WP_IL_1_SIGNALING_PATHWAY', 'WP_IL_3_SIGNALING_PATHWAY', 'WP_PROSTAGLANDIN_SYNTHESIS_AND_REGULATION', 'WP_MYOMETRIAL_RELAXATION_AND_CONTRACTION_PATHWAYS', 'WP_DYSREGULATED_MIRNA_TARGETING_IN_INSULIN_PI3K_AKT_SIGNALING', 'WP_WNT_SIGNALING_IN_KIDNEY_DISEASE', 'WP_TRIACYLGLYCERIDE_SYNTHESIS', 'WP_ROBO4_AND_VEGF_SIGNALING_PATHWAYS_CROSSTALK', 'WP_IL_6_SIGNALING_PATHWAY', 'WP_ACE_INHIBITOR_PATHWAY', 'WP_MIR_193A_AND_MVP_IN_COLON_CANCER_METASTASIS', 'WP_MIR_127_IN_MESENDODERM_DIFFERENTIATION', 'WP_MITOCHONDRIAL_LONG_CHAIN_FATTY_ACID_BETA_OXIDATION', 'WP_WNT_SIGNALING_PATHWAY_WP403', 'WP_KIT_RECEPTOR_SIGNALING_PATHWAY', 'WP_GPCRS_OTHER', 'WP_OXIDATIVE_STRESS_RESPONSE', 'WP_G1_TO_S_CELL_CYCLE_CONTROL', 'WP_DISTAL_CONVOLUTED_TUBULE_1_DCT1_CELL', 'WP_ETHANOL_METABOLISM_RESULTING_IN_PRODUCTION_OF_ROS_BY_CYP2E1', 'WP_NUCLEAR_RECEPTORS_IN_LIPID_METABOLISM_AND_TOXICITY', 'WP_EICOSANOID_LIPID_SYNTHESIS_MAP', 'WP_TCA_CYCLE', 'WP_SPHINGOLIPID_METABOLISM_OVERVIEW', 'WP_GLYCEROLIPIDS_AND_GLYCEROPHOSPHOLIPIDS_WP4345', 'WP_CHOLESTEROL_METABOLISM_WITH_BLOCH_AND_KANDUTSCH_RUSSELL_PATHWAYS', 'WP_EICOSANOID_METABOLISM_VIA_CYCLOOXYGENASES_COX', 'WP_EICOSANOID_METABOLISM_VIA_LIPOXYGENASES_LOX', 'WP_EICOSANOID_METABOLISM_VIA_CYTOCHROME_P450_MONOOXYGENASES', 'WP_ONE_CARBON_METABOLISM', 'WP_OMEGA_3_OMEGA_6_FATTY_ACID_SYNTHESIS', 'WP_OMEGA_9_FATTY_ACID_SYNTHESIS', 'WP_MATRIX_METALLOPROTEINASES', 'WP_OXIDATIVE_STRESS_AND_REDOX_PATHWAY', 'WP_ADIPOGENESIS_GENES', 'WP_ELONGATION_OF_VERY_LONG_CHAIN_FATTY_ACIDS', 'WP_IL_2_SIGNALING_PATHWAY', 'WP_OSTEOCLAST_SIGNALING', 'WP_GPCRS_CLASS_B_SECRETIN_LIKE', 'WP_INFLAMMATORY_RESPONSE_PATHWAY', 'WP_BLOOD_CLOTTING_CASCADE', 'WP_SPHINGOLIPID_METABOLISM_INTEGRATED_PATHWAY', 'WP_GDNF_RET_SIGNALING_AXIS', 'WP_PEROXIREDOXIN_2_INDUCED_OVARIAN_FAILURE', 'WP_ALPHA_6_BETA_4_INTEGRIN_SIGNALING_PATHWAY', 'WP_MAPK_SIGNALING_PATHWAY', 'WP_HYPOXIA_DEPENDENT_SELF_RENEWAL_OF_MYOBLASTS', 'WP_HYPOXIA_DEPENDENT_PROLIFERATION_OF_MYOBLASTS', 'WP_HYPOXIA_DEPENDENT_DIFFERENTIATION_OF_MYOBLASTS', 'WP_BURN_WOUND_HEALING', 'WP_NUCLEAR_RECEPTORS', 'WP_ID_SIGNALING_PATHWAY', 'WP_FIBRIN_COMPLEMENT_RECEPTOR_3_SIGNALING_PATHWAY', 'WP_PROTEASOME_DEGRADATION', 'WP_BIOGENIC_AMINE_SYNTHESIS', 'WP_REGULATION_OF_ACTIN_CYTOSKELETON', 'WP_COMPREHENSIVE_IL_17A_SIGNALING', 'WP_GLYCEROLIPIDS_AND_GLYCEROPHOSPHOLIPIDS_WP5296', 'WP_DRAVET_SYNDROME_SCN1A_A1783V_POINT_MUTATION_MODEL', 'WP_WNT_SIGNALING_PATHWAY_WP539', 'WP_SYNTHESIS_AND_DEGRADATION_OF_KETONE_BODIES', 'WP_EXERCISE_INDUCED_CIRCADIAN_REGULATION', 'WP_STEROID_BIOSYNTHESIS', 'WP_CALCIUM_REGULATION_IN_CARDIAC_CELLS', 'WP_EUKARYOTIC_TRANSCRIPTION_INITIATION', 'WP_SIGNAL_TRANSDUCTION_OF_S1P_RECEPTOR', 'WP_MONOAMINE_GPCRS', 'WP_FAS_PATHWAY_AND_STRESS_INDUCTION_OF_HSP_REGULATION', 'WP_EGFR1_SIGNALING_PATHWAY', 'WP_LEPTIN_INSULIN_SIGNALING_OVERLAP', 'WP_INTEGRIN_MEDIATED_CELL_ADHESION', 'WP_PENTOSE_PHOSPHATE_PATHWAY', 'WP_INSULIN_SIGNALING', 'WP_AMINO_ACID_METABOLISM', 'WP_LEPTIN_AND_ADIPONECTIN', 'WP_WNT_SIGNALING_PATHWAY_AND_PLURIPOTENCY', 'WP_GLUTATHIONE_AND_ONE_CARBON_METABOLISM', 'WP_TRYPTOPHAN_METABOLISM', 'WP_FOCAL_ADHESION', 'WP_TOLL_LIKE_RECEPTOR_SIGNALING'])"
      ]
     },
     "execution_count": 13,
     "metadata": {},
     "output_type": "execute_result"
    }
   ],
   "source": [
    "cp.keys()"
   ]
  },
  {
   "cell_type": "code",
   "execution_count": 20,
   "id": "60815b87-73aa-44ae-8fe2-3ca6d71323c1",
   "metadata": {},
   "outputs": [
    {
     "name": "stdout",
     "output_type": "stream",
     "text": [
      "Warning: When  cdn_resources is 'local' jupyter notebook has issues displaying graphics on chrome/safari. Use cdn_resources='in_line' or cdn_resources='remote' if you have issues viewing graphics in a notebook.\n",
      "test.html\n"
     ]
    },
    {
     "data": {
      "text/html": [
       "\n",
       "        <iframe\n",
       "            width=\"100%\"\n",
       "            height=\"600px\"\n",
       "            src=\"test.html\"\n",
       "            frameborder=\"0\"\n",
       "            allowfullscreen\n",
       "            \n",
       "        ></iframe>\n",
       "        "
      ],
      "text/plain": [
       "<IPython.lib.display.IFrame at 0x2b557d2b09d0>"
      ]
     },
     "execution_count": 20,
     "metadata": {},
     "output_type": "execute_result"
    }
   ],
   "source": [
    "adj_table = experiment_results['Microglia'].extract_node_neighborhood('Apoe', k=20, hop=2)   \n",
    "adj_table.weight = adj_table.weight.map(lambda x: [0, 0.5, 1, 3][x])\n",
    "adj_nx = nx.from_pandas_edgelist(adj_table, edge_attr='weight')\n",
    "g=net.Network(notebook=True)\n",
    "g.from_nx(adj_nx)\n",
    "# options = 'var options = {\"physics\": {\"solver\": \"forceAtlas2Based\", \"forceAtlas2Based\": {\"avoidOverlap\": 0.0}}}'\n",
    "\n",
    "# Set the options\n",
    "# g.set_options(options)\n",
    "g.repulsion()\n",
    "g.show('test.html')"
   ]
  },
  {
   "cell_type": "markdown",
   "id": "8229d19e-f751-4590-8e00-48c405008ed9",
   "metadata": {},
   "source": [
    "## Macrophage"
   ]
  },
  {
   "cell_type": "code",
   "execution_count": 5,
   "id": "ab892d9d-922f-4d3f-a2ff-ecd33f96d702",
   "metadata": {},
   "outputs": [
    {
     "name": "stderr",
     "output_type": "stream",
     "text": [
      "/r/bcb/hao/miniconda3/envs/grn/lib/python3.10/site-packages/scanpy/preprocessing/_simple.py:248: ImplicitModificationWarning: Trying to modify attribute `.var` of view, initializing view as actual.\n",
      "  adata.var['n_counts'] = number\n",
      "Training loss: 0.255: 100%|██████████| 200/200 [01:01<00:00,  3.23it/s]\n"
     ]
    },
    {
     "name": "stdout",
     "output_type": "stream",
     "text": [
      "Inferred GRN by {self.training_method}: 9,500 TFs x 9,500 Target Genes\n",
      " on 280 cells using RegDiffusion Time cost: 62 s\n"
     ]
    },
    {
     "data": {
      "image/png": "[encoded data removed]",
      "text/plain": [
       "<Figure size 640x480 with 1 Axes>"
      ]
     },
     "metadata": {},
     "output_type": "display_data"
    }
   ],
   "source": [
    "# Run experiment\n",
    "configs = DEFAULT_REGDIFFUSION_CONFIGS\n",
    "configs['verbose'] = True\n",
    "configs['n_epoch'] = 200\n",
    "configs['lr_adj'] = 1e-5\n",
    "configs['eval_on_n_steps'] = 1\n",
    "experiment_results['Macrophage'] = run_cerebellum_experiment('Macrophage', configs)\n",
    "\n",
    "print(experiment_results['Macrophage'])\n",
    "# Training Plot\n",
    "loss_plot = sns.lineplot(experiment_results['Macrophage'].training_losses)\n",
    "loss_plot.set(xlabel='Steps', ylabel='Training Loss')\n",
    "plt.show()\n",
    "\n",
    "# Saving adjacency list\n",
    "experiment_results['Macrophage'].generate_adj_list(\n",
    "    threshold=0.0003\n",
    ").head(1000000).to_csv(\n",
    "    'results/202401/Atlas_Macrophage_adjlist_top1M.csv', index=False\n",
    ")\n",
    "\n",
    "# Saving neighborhood plots\n",
    "for gene in ['Apoe', 'Tmem176a', 'Ms4a6c']:\n",
    "    adj_table = experiment_results['Microglia'].extract_node_neighborhood(gene, k=20, hop=2, threshold=0.0002)    \n",
    "    adj_nx = nx.from_pandas_edgelist(adj_table)\n",
    "    g=net.Network()\n",
    "    g.from_nx(adj_nx)\n",
    "    g.save_graph(f\"results/202401/Atlas_Macrophage_{gene}.html\")"
   ]
  },
  {
   "cell_type": "code",
   "execution_count": 66,
   "id": "795a5ea4-2282-491c-88dd-d21cd3641545",
   "metadata": {},
   "outputs": [
    {
     "name": "stderr",
     "output_type": "stream",
     "text": [
      "/r/bcb/hao/miniconda3/envs/grn/lib/python3.10/site-packages/scanpy/preprocessing/_simple.py:248: ImplicitModificationWarning: Trying to modify attribute `.var` of view, initializing view as actual.\n",
      "  adata.var['n_counts'] = number\n",
      "Training loss: 0.335: 100%|██████████| 30/30 [02:38<00:00,  5.27s/it]\n"
     ]
    },
    {
     "name": "stdout",
     "output_type": "stream",
     "text": [
      "Inferred GRN by {self.training_method}: 10,015 TFs x 10,015 Target Genes\n",
      " on 3989 cells using RegDiffusion Time cost: 158 s\n"
     ]
    },
    {
     "data": {
      "image/png": "[encoded data removed]",
      "text/plain": [
       "<Figure size 640x480 with 1 Axes>"
      ]
     },
     "metadata": {},
     "output_type": "display_data"
    }
   ],
   "source": [
    "# Run experiment\n",
    "configs = DEFAULT_REGDIFFUSION_CONFIGS\n",
    "configs['verbose'] = True\n",
    "configs['n_epoch'] = 30\n",
    "configs['lr_adj'] = 1e-5\n",
    "configs['eval_on_n_steps'] = 1\n",
    "experiment_results['Golgi'] = run_cerebellum_experiment('Golgi', configs)\n",
    "\n",
    "print(experiment_results['Golgi'])\n",
    "# Training Plot\n",
    "loss_plot = sns.lineplot(experiment_results['Golgi'].training_losses)\n",
    "loss_plot.set(xlabel='Steps', ylabel='Training Loss')\n",
    "plt.show()"
   ]
  },
  {
   "cell_type": "code",
   "execution_count": null,
   "id": "1f233a44-9530-43df-b807-e3c9fd88cd44",
   "metadata": {},
   "outputs": [],
   "source": []
  },
  {
   "cell_type": "code",
   "execution_count": null,
   "id": "1b76fc30-7efb-4805-af3f-62e357fc3967",
   "metadata": {},
   "outputs": [],
   "source": []
  },
  {
   "cell_type": "markdown",
   "id": "e8439989-b538-40f1-a678-b2fc8e57dbb3",
   "metadata": {},
   "source": [
    "# Hammond"
   ]
  },
  {
   "cell_type": "code",
   "execution_count": null,
   "id": "7570970c-f687-4eb1-9b1b-6c9a4fabf692",
   "metadata": {},
   "outputs": [
    {
     "name": "stderr",
     "output_type": "stream",
     "text": [
      "/cluster/tufts/slonimlab/hzhu07/miniconda3/envs/grn/lib/python3.11/site-packages/scanpy/preprocessing/_simple.py:248: ImplicitModificationWarning: Trying to modify attribute `.var` of view, initializing view as actual.\n",
      "  adata.var['n_counts'] = number\n"
     ]
    },
    {
     "name": "stdout",
     "output_type": "stream",
     "text": [
      "(8259, 11484)\n"
     ]
    }
   ],
   "source": [
    "hammond_ann = sc.read_csv('../grnvae/data/other_data/Hammond_processed/final/male_p100_data.csv')\n",
    "hammond_ann = hammond_ann.transpose()\n",
    "hammond_ann = hammond_ann[:, ~hammond_ann.var_names.str.startswith('Gm')]\n",
    "hammond_ann = hammond_ann[:, ~hammond_ann.var_names.str.startswith('mt')]\n",
    "hammond_ann = hammond_ann[:, ~hammond_ann.var_names.str.startswith('Rpl')]\n",
    "hammond_ann = hammond_ann[:, ~hammond_ann.var_names.str.startswith('Rps')]\n",
    "\n",
    "sc.pp.filter_genes(hammond_ann, min_counts=10)\n",
    "print(hammond_ann.shape)\n",
    "\n",
    "configs = DEFAULT_REGDIFFUSION_CONFIGS\n",
    "configs['verbose'] = True\n",
    "configs['n_epoch'] = 40\n",
    "configs['lr_adj'] = 1e-5\n",
    "configs['eval_on_n_steps'] = 1\n",
    "\n",
    "hammond_net = runRegDiffusion(hammond_ann.X, configs, \n",
    "                                gene_names = hammond_ann.var_names)\n",
    "\n",
    "print(hammond_net)\n",
    "# Training Plot\n",
    "loss_plot = sns.lineplot(hammond_net.training_losses)\n",
    "loss_plot.set(xlabel='Steps', ylabel='Training Loss')\n",
    "plt.show()\n",
    "\n",
    "# # Saving adjacency list\n",
    "# hammond_net.generate_adj_list(\n",
    "#     threshold=0.0003\n",
    "# ).head(1000000).to_csv(\n",
    "#     'results/202401/Hammond_Microglia_adjlist_top1M.csv', index=False\n",
    "# )\n",
    "\n",
    "# # Saving neighborhood plots\n",
    "# for gene in ['Apoe', 'Tmem119', 'Selplg', 'Cx3cr1', 'P2ry12']:\n",
    "#     adj_table = hammond_net.extract_node_neighborhood(gene, k=20, hop=2, threshold=0.0002)    \n",
    "#     adj_nx = nx.from_pandas_edgelist(adj_table)\n",
    "#     g=net.Network()\n",
    "#     g.from_nx(adj_nx)\n",
    "#     g.save_graph(f\"results/202401/Hammond_Microglia_{gene}.html\", )"
   ]
  },
  {
   "cell_type": "code",
   "execution_count": null,
   "id": "a2373fe0-e6bb-4f19-b5e8-b648b1129822",
   "metadata": {},
   "outputs": [],
   "source": [
    "hammond_net.inferred_adj[hammond_net.gene_indices['Ap4e1'], hammond_net.gene_indices['Ap4b1']]"
   ]
  },
  {
   "cell_type": "code",
   "execution_count": 59,
   "id": "1175a283-3e88-4feb-abd3-9f7cf396407f",
   "metadata": {},
   "outputs": [
    {
     "data": {
      "text/html": [
       "<div>\n",
       "<style scoped>\n",
       "    .dataframe tbody tr th:only-of-type {\n",
       "        vertical-align: middle;\n",
       "    }\n",
       "\n",
       "    .dataframe tbody tr th {\n",
       "        vertical-align: top;\n",
       "    }\n",
       "\n",
       "    .dataframe thead th {\n",
       "        text-align: right;\n",
       "    }\n",
       "</style>\n",
       "<table border=\"1\" class=\"dataframe\">\n",
       "  <thead>\n",
       "    <tr style=\"text-align: right;\">\n",
       "      <th></th>\n",
       "      <th>source</th>\n",
       "      <th>target</th>\n",
       "      <th>weight</th>\n",
       "      <th>score</th>\n",
       "    </tr>\n",
       "  </thead>\n",
       "  <tbody>\n",
       "    <tr>\n",
       "      <th>0</th>\n",
       "      <td>Apoe</td>\n",
       "      <td>Lyz2</td>\n",
       "      <td>3</td>\n",
       "      <td>0.001067</td>\n",
       "    </tr>\n",
       "    <tr>\n",
       "      <th>1</th>\n",
       "      <td>Lyz2</td>\n",
       "      <td>Apoe</td>\n",
       "      <td>3</td>\n",
       "      <td>0.000650</td>\n",
       "    </tr>\n",
       "    <tr>\n",
       "      <th>2</th>\n",
       "      <td>Cd74</td>\n",
       "      <td>Apoe</td>\n",
       "      <td>3</td>\n",
       "      <td>0.000541</td>\n",
       "    </tr>\n",
       "    <tr>\n",
       "      <th>3</th>\n",
       "      <td>Apoe</td>\n",
       "      <td>B2m</td>\n",
       "      <td>3</td>\n",
       "      <td>0.000537</td>\n",
       "    </tr>\n",
       "    <tr>\n",
       "      <th>4</th>\n",
       "      <td>Apoe</td>\n",
       "      <td>Cd74</td>\n",
       "      <td>3</td>\n",
       "      <td>0.000502</td>\n",
       "    </tr>\n",
       "    <tr>\n",
       "      <th>...</th>\n",
       "      <td>...</td>\n",
       "      <td>...</td>\n",
       "      <td>...</td>\n",
       "      <td>...</td>\n",
       "    </tr>\n",
       "    <tr>\n",
       "      <th>277</th>\n",
       "      <td>Ftl1</td>\n",
       "      <td>Mt1</td>\n",
       "      <td>1</td>\n",
       "      <td>0.000373</td>\n",
       "    </tr>\n",
       "    <tr>\n",
       "      <th>278</th>\n",
       "      <td>Cd9</td>\n",
       "      <td>Mt1</td>\n",
       "      <td>1</td>\n",
       "      <td>0.000372</td>\n",
       "    </tr>\n",
       "    <tr>\n",
       "      <th>279</th>\n",
       "      <td>Mt1</td>\n",
       "      <td>Ctsa</td>\n",
       "      <td>1</td>\n",
       "      <td>0.000370</td>\n",
       "    </tr>\n",
       "    <tr>\n",
       "      <th>280</th>\n",
       "      <td>Mt1</td>\n",
       "      <td>Myeov2</td>\n",
       "      <td>1</td>\n",
       "      <td>0.000369</td>\n",
       "    </tr>\n",
       "    <tr>\n",
       "      <th>281</th>\n",
       "      <td>Mt1</td>\n",
       "      <td>Rgs2</td>\n",
       "      <td>1</td>\n",
       "      <td>0.000368</td>\n",
       "    </tr>\n",
       "  </tbody>\n",
       "</table>\n",
       "<p>282 rows × 4 columns</p>\n",
       "</div>"
      ],
      "text/plain": [
       "    source  target  weight     score\n",
       "0     Apoe    Lyz2       3  0.001067\n",
       "1     Lyz2    Apoe       3  0.000650\n",
       "2     Cd74    Apoe       3  0.000541\n",
       "3     Apoe     B2m       3  0.000537\n",
       "4     Apoe    Cd74       3  0.000502\n",
       "..     ...     ...     ...       ...\n",
       "277   Ftl1     Mt1       1  0.000373\n",
       "278    Cd9     Mt1       1  0.000372\n",
       "279    Mt1    Ctsa       1  0.000370\n",
       "280    Mt1  Myeov2       1  0.000369\n",
       "281    Mt1    Rgs2       1  0.000368\n",
       "\n",
       "[282 rows x 4 columns]"
      ]
     },
     "execution_count": 59,
     "metadata": {},
     "output_type": "execute_result"
    }
   ],
   "source": [
    "all_edges "
   ]
  },
  {
   "cell_type": "code",
   "execution_count": null,
   "id": "edbfbbf0-081b-4ba7-9ecb-8e9908c0c5d4",
   "metadata": {},
   "outputs": [],
   "source": [
    "adj_table = hammond_net.extract_node_neighborhood('Apoe', k=15, hop=2)   \n",
    "adj_table.weight = adj_table.weight.map(lambda x: [0, 0.5, 1, 3][x])\n",
    "adj_nx = nx.from_pandas_edgelist(adj_table, edge_attr='weight')\n",
    "g=net.Network(notebook=True)\n",
    "g.from_nx(adj_nx)\n",
    "# options = 'var options = {\"physics\": {\"solver\": \"forceAtlas2Based\", \"forceAtlas2Based\": {\"avoidOverlap\": 0.0}}}'\n",
    "\n",
    "# Set the options\n",
    "# g.set_options(options)\n",
    "g.repulsion()\n",
    "g.show('test.html')"
   ]
  },
  {
   "cell_type": "code",
   "execution_count": 90,
   "id": "9ddc35de-340e-4be8-bfb4-85222792ab9c",
   "metadata": {},
   "outputs": [],
   "source": [
    "np.save('check', experiment_results['Microglia'].inferred_adj)"
   ]
  },
  {
   "cell_type": "code",
   "execution_count": 102,
   "id": "117153ff-5fd5-4f02-b139-2ec49b52712a",
   "metadata": {},
   "outputs": [],
   "source": [
    "from scipy.sparse import csr_matrix, csc_matrix, coo_matrix, save_npz"
   ]
  },
  {
   "cell_type": "code",
   "execution_count": 110,
   "id": "5e8d5a5a-54df-4862-a293-c0698941dd58",
   "metadata": {},
   "outputs": [],
   "source": [
    "adj_cut = experiment_results['Microglia'].inferred_adj.copy()"
   ]
  },
  {
   "cell_type": "code",
   "execution_count": 114,
   "id": "0daa6396-56c4-49c9-a1d5-80582d01f997",
   "metadata": {},
   "outputs": [],
   "source": [
    "adj_cut[np.abs(adj_cut) < 0.0002] = 0"
   ]
  },
  {
   "cell_type": "code",
   "execution_count": 115,
   "id": "738f903c-972d-4c07-901a-135bc2503a7f",
   "metadata": {},
   "outputs": [],
   "source": [
    "adj_cut_csr = csr_matrix(adj_cut)\n",
    "# adj_cut_csc = csc_matrix(adj_cut)\n",
    "# adj_cut_coo = coo_matrix(adj_cut)"
   ]
  },
  {
   "cell_type": "code",
   "execution_count": 123,
   "id": "d7882e77-bb98-4e15-b9c6-9140971462e4",
   "metadata": {},
   "outputs": [
    {
     "data": {
      "text/plain": [
       "0.9520724929416238"
      ]
     },
     "execution_count": 123,
     "metadata": {},
     "output_type": "execute_result"
    }
   ],
   "source": [
    "np.sum(np.abs(adj_cut) < 0.0002) / adj_cut.shape[0] / adj_cut.shape[1]"
   ]
  },
  {
   "cell_type": "code",
   "execution_count": 121,
   "id": "31b3e6ee-9359-495a-9f8f-0816575d17e3",
   "metadata": {},
   "outputs": [
    {
     "data": {
      "text/plain": [
       "0.0"
      ]
     },
     "execution_count": 121,
     "metadata": {},
     "output_type": "execute_result"
    }
   ],
   "source": [
    "np.percentile(np.abs(adj_cut), 0.999999)"
   ]
  },
  {
   "cell_type": "code",
   "execution_count": 157,
   "id": "aa66b9db-00c5-4973-9f66-cf936a7a4a46",
   "metadata": {},
   "outputs": [],
   "source": [
    "inferred_adj = experiment_results['Microglia'].inferred_adj"
   ]
  },
  {
   "cell_type": "code",
   "execution_count": null,
   "id": "ad203d43-c2b9-4a79-af1a-aae8d0ba5587",
   "metadata": {},
   "outputs": [],
   "source": []
  },
  {
   "cell_type": "code",
   "execution_count": 156,
   "id": "368e4018-7dcf-4522-9804-6a12938f2761",
   "metadata": {},
   "outputs": [
    {
     "data": {
      "text/plain": [
       "0.0001674367769737728"
      ]
     },
     "execution_count": 156,
     "metadata": {},
     "output_type": "execute_result"
    }
   ],
   "source": [
    "inferred_adj = experiment_results['Microglia'].inferred_adj\n",
    "random_row_idx = np.random.randint(0, inferred_adj.shape[0], 10000)\n",
    "random_col_idx = np.random.randint(0, inferred_adj.shape[1], 10000)\n",
    "\n",
    "sampled_values = inferred_adj[random_row_idx, random_col_idx]\n",
    "np.percentile(np.abs(sampled_values), 90)"
   ]
  },
  {
   "cell_type": "code",
   "execution_count": 163,
   "id": "af95af1b-ede3-4583-b398-7b3d25f4b65f",
   "metadata": {},
   "outputs": [],
   "source": [
    "inferred_adj = hammond_net.inferred_adj.copy()"
   ]
  },
  {
   "cell_type": "code",
   "execution_count": 165,
   "id": "2ccd78c0-9116-4fdc-b9e7-27910b69d897",
   "metadata": {},
   "outputs": [],
   "source": [
    "random_row_idx = np.random.randint(0, inferred_adj.shape[0], 10000)\n",
    "random_col_idx = np.random.randint(0, inferred_adj.shape[1], 10000)\n",
    "\n",
    "sampled_values = inferred_adj[random_row_idx, random_col_idx]\n",
    "cutoff = np.percentile(np.abs(sampled_values), 95)\n",
    "inferred_adj[np.abs(inferred_adj) < cutoff] = 0"
   ]
  },
  {
   "cell_type": "code",
   "execution_count": 166,
   "id": "21ab6f72-f122-4074-a4d6-0167561ce269",
   "metadata": {},
   "outputs": [],
   "source": [
    "adj_t = inferred_adj.transpose()"
   ]
  },
  {
   "cell_type": "code",
   "execution_count": 167,
   "id": "df4dc293-629c-432b-9595-03c17362120c",
   "metadata": {},
   "outputs": [],
   "source": [
    "adj_bw = np.concatenate([inferred_adj, adj_t], axis=1)"
   ]
  },
  {
   "cell_type": "code",
   "execution_count": 168,
   "id": "b68c4a34-20db-4651-9864-ac9cb5d8a8b3",
   "metadata": {},
   "outputs": [],
   "source": [
    "adj_bw_sparse = csr_matrix(adj_bw)"
   ]
  },
  {
   "cell_type": "code",
   "execution_count": 177,
   "id": "a19cb9fc-dcc7-4626-94ab-cb8ea7401d17",
   "metadata": {},
   "outputs": [],
   "source": [
    "gene_connections_sparse = adj_bw_sparse[0, :]"
   ]
  },
  {
   "cell_type": "code",
   "execution_count": 180,
   "id": "1ffea3f4-8b31-4de2-82af-a0f29fa23db9",
   "metadata": {},
   "outputs": [
    {
     "data": {
      "text/plain": [
       "array([  19, 1267,   39, ...,    2, 1626,  813])"
      ]
     },
     "execution_count": 180,
     "metadata": {},
     "output_type": "execute_result"
    }
   ],
   "source": [
    "np.argpartition(aaa.data, 20)"
   ]
  },
  {
   "cell_type": "code",
   "execution_count": 181,
   "id": "dcf2b1cb-93a8-43ea-ba08-d6d72b56f516",
   "metadata": {},
   "outputs": [
    {
     "data": {
      "text/plain": [
       "array([  293, 18255,   587, ...,    28, 22942, 11243], dtype=int32)"
      ]
     },
     "execution_count": 181,
     "metadata": {},
     "output_type": "execute_result"
    }
   ],
   "source": [
    "aaa.indices[np.argpartition(aaa.data, 20)]"
   ]
  },
  {
   "cell_type": "code",
   "execution_count": 170,
   "id": "ecac382f-5c85-4817-868d-e29d7d680e7f",
   "metadata": {},
   "outputs": [],
   "source": [
    "save_npz('test', adj_bw_sparse)"
   ]
  },
  {
   "cell_type": "code",
   "execution_count": 11,
   "id": "a9a5a637-7fb8-484b-bb36-9783f494e8f0",
   "metadata": {},
   "outputs": [],
   "source": [
    "import pickle\n",
    "with open('trash', 'wb') as f:\n",
    "    pickle.dump(experiment_results['Microglia'], f)"
   ]
  },
  {
   "cell_type": "code",
   "execution_count": 10,
   "id": "45f305a3-7a8b-4980-97aa-61804d67c5de",
   "metadata": {},
   "outputs": [
    {
     "name": "stdout",
     "output_type": "stream",
     "text": [
      "0.06716\n"
     ]
    }
   ],
   "source": [
    "start = datetime.now()\n",
    "experiment_results['Microglia'].extract_node_neighborhood('Apoe', k=20, hop=2)\n",
    "end = datetime.now()\n",
    "print((end - start).total_seconds())"
   ]
  },
  {
   "cell_type": "code",
   "execution_count": 158,
   "id": "e23d9596-ab1f-4cec-a523-4f0a97cf288b",
   "metadata": {},
   "outputs": [
    {
     "name": "stdout",
     "output_type": "stream",
     "text": [
      "0.076552\n"
     ]
    }
   ],
   "source": [
    "start = datetime.now()\n",
    "hammond_net.extract_node_neighborhood('Apoe', k=20, hop=2)\n",
    "end = datetime.now()\n",
    "print((end - start).total_seconds())"
   ]
  },
  {
   "cell_type": "code",
   "execution_count": 171,
   "id": "21e50d97-39c0-43cc-928b-20d83b8044b0",
   "metadata": {},
   "outputs": [
    {
     "ename": "TypeError",
     "evalue": "'Inferred_GRN' object is not subscriptable",
     "output_type": "error",
     "traceback": [
      "\u001b[0;31m---------------------------------------------------------------------------\u001b[0m",
      "\u001b[0;31mTypeError\u001b[0m                                 Traceback (most recent call last)",
      "Cell \u001b[0;32mIn[171], line 1\u001b[0m\n\u001b[0;32m----> 1\u001b[0m \u001b[43mhammond_net\u001b[49m\u001b[43m[\u001b[49m\u001b[38;5;241;43m0\u001b[39;49m\u001b[43m,\u001b[49m\u001b[43m \u001b[49m\u001b[43m:\u001b[49m\u001b[43m]\u001b[49m\n",
      "\u001b[0;31mTypeError\u001b[0m: 'Inferred_GRN' object is not subscriptable"
     ]
    }
   ],
   "source": [
    "hammond_net[0, :]"
   ]
  },
  {
   "cell_type": "code",
   "execution_count": 125,
   "id": "695c541f-5bed-4e0e-b07f-76955b8e2195",
   "metadata": {},
   "outputs": [],
   "source": [
    "inferred_adj_flat = inferred_adj.flatten()"
   ]
  },
  {
   "cell_type": "code",
   "execution_count": 142,
   "id": "b9c7ad57-1936-4c84-a06c-58c18582e77c",
   "metadata": {},
   "outputs": [
    {
     "data": {
      "text/plain": [
       "0.00019746503239730372"
      ]
     },
     "execution_count": 142,
     "metadata": {},
     "output_type": "execute_result"
    }
   ],
   "source": [
    "sampled_numbers = np.random.choice(inferred_adj_flat, 10000)\n",
    "np.percentile(np.abs(sampled_numbers), 95)"
   ]
  },
  {
   "cell_type": "code",
   "execution_count": 129,
   "id": "7fee1d5a-9e05-4907-99eb-26f578ae1bba",
   "metadata": {},
   "outputs": [
    {
     "data": {
      "text/plain": [
       "1.2405037680309761e-06"
      ]
     },
     "execution_count": 129,
     "metadata": {},
     "output_type": "execute_result"
    }
   ],
   "source": [
    "random_r_idx = np.random.choice(inferred_adj.shape[0], 10000)"
   ]
  },
  {
   "cell_type": "code",
   "execution_count": 126,
   "id": "a27716d1-49a0-4470-9b39-2658cccdb421",
   "metadata": {},
   "outputs": [
    {
     "name": "stdout",
     "output_type": "stream",
     "text": [
      "0.163269\n"
     ]
    }
   ],
   "source": [
    "start = datetime.now()\n",
    "inferred_adj_flat = inferred_adj.flatten()\n",
    "end = datetime.now()\n",
    "print((end - start).total_seconds())"
   ]
  },
  {
   "cell_type": "code",
   "execution_count": 153,
   "id": "841b1516-cf7d-4feb-a9ad-c396119c2928",
   "metadata": {},
   "outputs": [
    {
     "name": "stdout",
     "output_type": "stream",
     "text": [
      "Warning: When  cdn_resources is 'local' jupyter notebook has issues displaying graphics on chrome/safari. Use cdn_resources='in_line' or cdn_resources='remote' if you have issues viewing graphics in a notebook.\n",
      "check.html\n"
     ]
    },
    {
     "data": {
      "text/html": [
       "\n",
       "        <iframe\n",
       "            width=\"100%\"\n",
       "            height=\"600px\"\n",
       "            src=\"check.html\"\n",
       "            frameborder=\"0\"\n",
       "            allowfullscreen\n",
       "            \n",
       "        ></iframe>\n",
       "        "
      ],
      "text/plain": [
       "<IPython.lib.display.IFrame at 0x7fc9a88a8580>"
      ]
     },
     "execution_count": 153,
     "metadata": {},
     "output_type": "execute_result"
    }
   ],
   "source": [
    "adj_table = hammond_net.extract_node_neighborhood('Apoe', k=20, hop=2, threshold=0.00014)    \n",
    "adj_nx = nx.from_pandas_edgelist(adj_table)\n",
    "g=net.Network(notebook=True)\n",
    "g.from_nx(adj_nx)\n",
    "\n",
    "for n in g.nodes:\n",
    "    if n['id'] == 'Apoe':\n",
    "        n['color'] = '#FF0000'\n",
    "g.show('check.html')\n",
    "\n",
    "# g.save_graph(f\"results/202401/Hammond_Microglia_{gene}.html\", )"
   ]
  },
  {
   "cell_type": "code",
   "execution_count": 89,
   "id": "0054b715-7f27-4920-9b1f-07f87e9ef801",
   "metadata": {},
   "outputs": [
    {
     "name": "stdout",
     "output_type": "stream",
     "text": [
      "Warning: When  cdn_resources is 'local' jupyter notebook has issues displaying graphics on chrome/safari. Use cdn_resources='in_line' or cdn_resources='remote' if you have issues viewing graphics in a notebook.\n",
      "check.html\n"
     ]
    },
    {
     "data": {
      "text/html": [
       "\n",
       "        <iframe\n",
       "            width=\"100%\"\n",
       "            height=\"600px\"\n",
       "            src=\"check.html\"\n",
       "            frameborder=\"0\"\n",
       "            allowfullscreen\n",
       "            \n",
       "        ></iframe>\n",
       "        "
      ],
      "text/plain": [
       "<IPython.lib.display.IFrame at 0x7fc9a3a28850>"
      ]
     },
     "execution_count": 89,
     "metadata": {},
     "output_type": "execute_result"
    }
   ],
   "source": [
    "adj_table = experiment_results['Microglia'].extract_node_neighborhood('B2m', k=15, hop=3, threshold=0.0002)    \n",
    "adj_nx = nx.from_pandas_edgelist(adj_table)\n",
    "g=net.Network(notebook=True)\n",
    "g.from_nx(adj_nx)\n",
    "\n",
    "for n in g.nodes:\n",
    "    if n['id'] == 'B2m':\n",
    "        n['color'] = '#FF0000'\n",
    "g.show_buttons()\n",
    "g.show('check.html')\n",
    "\n",
    "# g.save_graph(f\"results/202401/Hammond_Microglia_{gene}.html\", )"
   ]
  },
  {
   "cell_type": "code",
   "execution_count": 88,
   "id": "fa6395ab-10f8-481b-adaa-cdb16e86f6b3",
   "metadata": {},
   "outputs": [
    {
     "data": {
      "text/plain": [
       "[{'color': '#97c2fc',\n",
       "  'size': 10,\n",
       "  'id': 'Cst3',\n",
       "  'label': 'Cst3',\n",
       "  'shape': 'dot'},\n",
       " {'color': '#97c2fc', 'size': 10, 'id': 'B2m', 'label': 'B2m', 'shape': 'dot'},\n",
       " {'color': '#97c2fc',\n",
       "  'size': 10,\n",
       "  'id': 'C1qa',\n",
       "  'label': 'C1qa',\n",
       "  'shape': 'dot'},\n",
       " {'color': '#97c2fc',\n",
       "  'size': 10,\n",
       "  'id': 'C1qb',\n",
       "  'label': 'C1qb',\n",
       "  'shape': 'dot'},\n",
       " {'color': '#97c2fc',\n",
       "  'size': 10,\n",
       "  'id': 'C1qc',\n",
       "  'label': 'C1qc',\n",
       "  'shape': 'dot'},\n",
       " {'color': '#97c2fc',\n",
       "  'size': 10,\n",
       "  'id': 'Ctsd',\n",
       "  'label': 'Ctsd',\n",
       "  'shape': 'dot'},\n",
       " {'color': '#97c2fc',\n",
       "  'size': 10,\n",
       "  'id': 'Cd81',\n",
       "  'label': 'Cd81',\n",
       "  'shape': 'dot'},\n",
       " {'color': '#97c2fc',\n",
       "  'size': 10,\n",
       "  'id': 'Ctss',\n",
       "  'label': 'Ctss',\n",
       "  'shape': 'dot'},\n",
       " {'color': '#97c2fc',\n",
       "  'size': 10,\n",
       "  'id': 'Itm2b',\n",
       "  'label': 'Itm2b',\n",
       "  'shape': 'dot'},\n",
       " {'color': '#97c2fc',\n",
       "  'size': 10,\n",
       "  'id': 'Hexb',\n",
       "  'label': 'Hexb',\n",
       "  'shape': 'dot'},\n",
       " {'color': '#97c2fc',\n",
       "  'size': 10,\n",
       "  'id': 'Tmsb4x',\n",
       "  'label': 'Tmsb4x',\n",
       "  'shape': 'dot'},\n",
       " {'color': '#97c2fc',\n",
       "  'size': 10,\n",
       "  'id': 'Ctsz',\n",
       "  'label': 'Ctsz',\n",
       "  'shape': 'dot'},\n",
       " {'color': '#97c2fc',\n",
       "  'size': 10,\n",
       "  'id': 'Laptm5',\n",
       "  'label': 'Laptm5',\n",
       "  'shape': 'dot'},\n",
       " {'color': '#97c2fc',\n",
       "  'size': 10,\n",
       "  'id': 'Ctsl',\n",
       "  'label': 'Ctsl',\n",
       "  'shape': 'dot'},\n",
       " {'color': '#97c2fc',\n",
       "  'size': 10,\n",
       "  'id': 'Fth1',\n",
       "  'label': 'Fth1',\n",
       "  'shape': 'dot'},\n",
       " {'color': '#97c2fc',\n",
       "  'size': 10,\n",
       "  'id': 'Tmem119',\n",
       "  'label': 'Tmem119',\n",
       "  'shape': 'dot'},\n",
       " {'color': '#97c2fc',\n",
       "  'size': 10,\n",
       "  'id': 'Actb',\n",
       "  'label': 'Actb',\n",
       "  'shape': 'dot'},\n",
       " {'color': '#97c2fc',\n",
       "  'size': 10,\n",
       "  'id': 'Lgmn',\n",
       "  'label': 'Lgmn',\n",
       "  'shape': 'dot'},\n",
       " {'color': '#97c2fc',\n",
       "  'size': 10,\n",
       "  'id': 'Csf1r',\n",
       "  'label': 'Csf1r',\n",
       "  'shape': 'dot'},\n",
       " {'color': '#97c2fc', 'size': 10, 'id': 'Cd9', 'label': 'Cd9', 'shape': 'dot'},\n",
       " {'color': '#97c2fc',\n",
       "  'size': 10,\n",
       "  'id': 'Trem2',\n",
       "  'label': 'Trem2',\n",
       "  'shape': 'dot'},\n",
       " {'color': '#97c2fc',\n",
       "  'size': 10,\n",
       "  'id': 'Csmd3',\n",
       "  'label': 'Csmd3',\n",
       "  'shape': 'dot'}]"
      ]
     },
     "execution_count": 88,
     "metadata": {},
     "output_type": "execute_result"
    }
   ],
   "source": [
    "g.nodes"
   ]
  },
  {
   "cell_type": "code",
   "execution_count": 70,
   "id": "a27e672c-aa8c-4134-8edb-92dfaf81c21c",
   "metadata": {},
   "outputs": [
    {
     "name": "stdout",
     "output_type": "stream",
     "text": [
      "Warning: When  cdn_resources is 'local' jupyter notebook has issues displaying graphics on chrome/safari. Use cdn_resources='in_line' or cdn_resources='remote' if you have issues viewing graphics in a notebook.\n",
      "check.html\n"
     ]
    },
    {
     "data": {
      "text/html": [
       "\n",
       "        <iframe\n",
       "            width=\"100%\"\n",
       "            height=\"600px\"\n",
       "            src=\"check.html\"\n",
       "            frameborder=\"0\"\n",
       "            allowfullscreen\n",
       "            \n",
       "        ></iframe>\n",
       "        "
      ],
      "text/plain": [
       "<IPython.lib.display.IFrame at 0x7fc9a362bcd0>"
      ]
     },
     "execution_count": 70,
     "metadata": {},
     "output_type": "execute_result"
    }
   ],
   "source": [
    "adj_table = experiment_results['Golgi'].extract_node_neighborhood('Creb3', k=20, hop=2, threshold=0.0002)    \n",
    "adj_nx = nx.from_pandas_edgelist(adj_table)\n",
    "g=net.Network(notebook=True)\n",
    "g.from_nx(adj_nx)\n",
    "g.show('check.html')\n",
    "# g.save_graph(f\"results/202401/Hammond_Microglia_{gene}.html\", )"
   ]
  },
  {
   "cell_type": "code",
   "execution_count": 52,
   "id": "eaa52d14-d96f-47c6-8e39-b4af7d930376",
   "metadata": {},
   "outputs": [],
   "source": [
    "import pickle"
   ]
  },
  {
   "cell_type": "code",
   "execution_count": 54,
   "id": "8e2dee32-112c-4420-a536-8affde46118a",
   "metadata": {},
   "outputs": [],
   "source": [
    "with open('results/202401/all_exps.pkl', 'wb') as f:\n",
    "    pickle.dump((experiment_results, hammond_net), f)"
   ]
  },
  {
   "cell_type": "code",
   "execution_count": 49,
   "id": "79c4c812-2f1e-4756-a593-6188f0b00042",
   "metadata": {},
   "outputs": [],
   "source": [
    "def compare_similarity(res1, res2):\n",
    "    res1_mask = np.array([i for i, g in enumerate(res1.gene_names) if g in res2.gene_names])\n",
    "    res2_mask = np.array([i for i, g in enumerate(res2.gene_names) if g in res1.gene_names])\n",
    "    res1_shared_adj = res1.inferred_adj[res1_mask, :][:, res1_mask]\n",
    "    res2_shared_adj = res2.inferred_adj[res2_mask, :][:, res2_mask]\n",
    "    cosine_similarity = torch.cosine_similarity(\n",
    "        torch.tensor(res1_shared_adj),\n",
    "        torch.tensor(res2_shared_adj)\n",
    "    ).mean().item()\n",
    "    return cosine_similarity"
   ]
  },
  {
   "cell_type": "code",
   "execution_count": 50,
   "id": "12b750a6-f2eb-478b-b1ed-1442f7f9924b",
   "metadata": {},
   "outputs": [
    {
     "data": {
      "text/plain": [
       "0.4537639319896698"
      ]
     },
     "execution_count": 50,
     "metadata": {},
     "output_type": "execute_result"
    }
   ],
   "source": [
    "compare_similarity(hammond_net, experiment_results['Microglia'])"
   ]
  },
  {
   "cell_type": "code",
   "execution_count": 51,
   "id": "63de0475-ad22-4589-8132-6feead169387",
   "metadata": {},
   "outputs": [
    {
     "data": {
      "text/plain": [
       "0.37204214930534363"
      ]
     },
     "execution_count": 51,
     "metadata": {},
     "output_type": "execute_result"
    }
   ],
   "source": [
    "compare_similarity(hammond_net, experiment_results['Macrophage'])"
   ]
  },
  {
   "cell_type": "code",
   "execution_count": 18,
   "id": "25f318d6-9041-4d03-a23b-27bfa26efc21",
   "metadata": {},
   "outputs": [],
   "source": [
    "res1 = experiment_results['Microglia']\n",
    "res2 = experiment_results['Macrophage']"
   ]
  },
  {
   "cell_type": "code",
   "execution_count": 61,
   "id": "949542cd-d1c5-4f2f-9a12-87de6bfa80f3",
   "metadata": {},
   "outputs": [
    {
     "data": {
      "text/plain": [
       "0.5110369324684143"
      ]
     },
     "execution_count": 61,
     "metadata": {},
     "output_type": "execute_result"
    }
   ],
   "source": [
    "compare_similarity(experiment_results['Fibroblast'], hammond_net)"
   ]
  },
  {
   "cell_type": "code",
   "execution_count": 16,
   "id": "e78ee3c3-a52b-4761-81a4-3668acd2ae43",
   "metadata": {},
   "outputs": [],
   "source": [
    "import torch"
   ]
  },
  {
   "cell_type": "code",
   "execution_count": 40,
   "id": "eda003db-415c-4656-89b1-49861fbe3add",
   "metadata": {},
   "outputs": [
    {
     "data": {
      "text/plain": [
       "0.36666497588157654"
      ]
     },
     "execution_count": 40,
     "metadata": {},
     "output_type": "execute_result"
    }
   ],
   "source": [
    "torch.cosine_similarity(\n",
    "    torch.tensor(res1_shared_adj),\n",
    "    torch.tensor(res2_shared_adj)\n",
    ").mean().item()"
   ]
  },
  {
   "cell_type": "code",
   "execution_count": null,
   "id": "9d518e68-18ac-495b-a018-1ad2f1d35818",
   "metadata": {},
   "outputs": [],
   "source": []
  }
 ],
 "metadata": {
  "kernelspec": {
   "display_name": "grn",
   "language": "python",
   "name": "grn"
  },
  "language_info": {
   "codemirror_mode": {
    "name": "ipython",
    "version": 3
   },
   "file_extension": ".py",
   "mimetype": "text/x-python",
   "name": "python",
   "nbconvert_exporter": "python",
   "pygments_lexer": "ipython3",
   "version": "3.11.7"
  }
 },
 "nbformat": 4,
 "nbformat_minor": 5
}
