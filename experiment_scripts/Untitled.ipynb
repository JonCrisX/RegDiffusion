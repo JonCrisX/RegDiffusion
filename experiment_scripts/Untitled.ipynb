{
 "cells": [
  {
   "cell_type": "code",
   "execution_count": 1,
   "id": "4a1d5813-2bdb-43f5-b9a0-a72af54d78fe",
   "metadata": {},
   "outputs": [],
   "source": [
    "import regdiffusion as rd\n",
    "import numpy as np"
   ]
  },
  {
   "cell_type": "code",
   "execution_count": 2,
   "id": "97b80d4d-ff8e-430d-9376-b4498874161a",
   "metadata": {},
   "outputs": [],
   "source": [
    "bl_dt, bl_gt = rd.data.load_beeline(\n",
    "    benchmark_data='hESC', benchmark_setting='1000_STRING'\n",
    ")"
   ]
  },
  {
   "cell_type": "code",
   "execution_count": 3,
   "id": "4674a50a-25ad-4dc4-ac78-8c7059431dd6",
   "metadata": {},
   "outputs": [
    {
     "name": "stderr",
     "output_type": "stream",
     "text": [
      "Training loss: 0.362, Change on Adj: 0.000: 100%|██████████| 1000/1000 [00:07<00:00, 136.90it/s]\n"
     ]
    },
    {
     "data": {
      "text/plain": [
       "{'AUROC': 0.6533446246342199,\n",
       " 'AUPR': 0.050893988334687695,\n",
       " 'AUPRR': 2.459783849870275,\n",
       " 'EP': 564,\n",
       " 'EPR': 5.294033339593344}"
      ]
     },
     "execution_count": 3,
     "metadata": {},
     "output_type": "execute_result"
    }
   ],
   "source": [
    "rd_trainer = rd.RegDiffusionTrainer(bl_dt.X, init_coef = 3, hidden_dims=[16, 16, 16])\n",
    "rd_trainer.train()\n",
    "evaluator = rd.evaluator.GRNEvaluator(bl_gt, bl_dt.var_names)\n",
    "inferred_adj = rd_trainer.get_adj()\n",
    "evaluator.evaluate(inferred_adj)"
   ]
  },
  {
   "cell_type": "code",
   "execution_count": 4,
   "id": "eb37b866-3374-4846-ac06-4fc461000044",
   "metadata": {},
   "outputs": [],
   "source": [
    "rd_trainer = rd.RegDiffusionTrainer(bl_dt.X, init_coef = 3, hidden_dims=[16, 16, 16])\n"
   ]
  },
  {
   "cell_type": "code",
   "execution_count": 5,
   "id": "2bd8d490-b3dc-42f8-ac97-5a92607a2854",
   "metadata": {},
   "outputs": [
    {
     "data": {
      "text/plain": [
       "Parameter containing:\n",
       "tensor([[0.0021, 0.0021, 0.0021,  ..., 0.0021, 0.0021, 0.0021],\n",
       "        [0.0021, 0.0021, 0.0021,  ..., 0.0021, 0.0021, 0.0021],\n",
       "        [0.0021, 0.0021, 0.0021,  ..., 0.0021, 0.0021, 0.0021],\n",
       "        ...,\n",
       "        [0.0021, 0.0021, 0.0021,  ..., 0.0021, 0.0021, 0.0021],\n",
       "        [0.0021, 0.0021, 0.0021,  ..., 0.0021, 0.0021, 0.0021],\n",
       "        [0.0021, 0.0021, 0.0021,  ..., 0.0021, 0.0021, 0.0021]],\n",
       "       device='cuda:0', requires_grad=True)"
      ]
     },
     "execution_count": 5,
     "metadata": {},
     "output_type": "execute_result"
    }
   ],
   "source": [
    "rd_trainer.model.adj_A"
   ]
  },
  {
   "cell_type": "code",
   "execution_count": null,
   "id": "f179cc5c-cfa5-45c9-9585-d810598b87d7",
   "metadata": {},
   "outputs": [],
   "source": []
  }
 ],
 "metadata": {
  "kernelspec": {
   "display_name": "grn",
   "language": "python",
   "name": "grn"
  },
  "language_info": {
   "codemirror_mode": {
    "name": "ipython",
    "version": 3
   },
   "file_extension": ".py",
   "mimetype": "text/x-python",
   "name": "python",
   "nbconvert_exporter": "python",
   "pygments_lexer": "ipython3",
   "version": "3.11.7"
  }
 },
 "nbformat": 4,
 "nbformat_minor": 5
}
