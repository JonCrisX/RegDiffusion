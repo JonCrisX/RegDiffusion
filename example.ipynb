{
 "cells": [
  {
   "cell_type": "markdown",
   "id": "b302fe93-4e4e-40d9-b873-d6561c90f344",
   "metadata": {},
   "source": [
    "# Getting Startted with GRN inference using diffusion model\n",
    "\n",
    "Diffusion model has been widely used in generative AI, especially in the vision domain. In our paper, we proposed RegDiffusion, a diffusion based model for GRN inference. Compared with previous model, RegDiffusion completes inference within a fraction of time and yield better benchmarking results. \n",
    "\n",
    "In this tutorial, we provide an example of running GRN inference using RegDiffusion and generating biological insights from the inferred network. "
   ]
  },
  {
   "cell_type": "markdown",
   "id": "7513859b-886a-4ca2-bbec-d8ba9163d7bc",
   "metadata": {},
   "source": [
    "## Requirements\n",
    "\n",
    "We will need the python package `regdiffusion` for GRN inference. For accelerated inference speed, you may want to run `regdiffusion` on GPU devices with the latest CUDA installation. \n",
    "\n",
    "For network visualization and interpretation, we will need `networkx` and `pyvis`. \n",
    "\n",
    "```\n",
    "pip install regdiffusion, networkx, pyvis\n",
    "```"
   ]
  },
  {
   "cell_type": "code",
   "execution_count": 1,
   "id": "835ad442-8eb4-4ead-8dc9-caeadaa08454",
   "metadata": {},
   "outputs": [],
   "source": [
    "import regdiffusion as rd\n",
    "import numpy as np\n",
    "\n",
    "import networkx as nx\n",
    "from pyvis import network as net"
   ]
  },
  {
   "cell_type": "markdown",
   "id": "ff0c7b2c-09d3-47f6-aa21-2e4e87247444",
   "metadata": {},
   "source": [
    "## Data loading\n",
    "\n",
    "The input of `regdiffusion` is simply a single-cell gene expression matrix, where the columns are genes and rows are cells. We expect you to log transform your data. RegDiffusion is capable to infer GRNs among 10,000+ genes (depending on GPU hardware) within minutes so there is no need to apply heavy gene filtering. The only genes you may want to remove are genes that are not expressed at all (total raw count on all cells == 0). \n",
    "\n",
    "The `regdiffusion` package comes with a set of preprocessed data, including the [BEELINE benchmarks](https://pubmed.ncbi.nlm.nih.gov/31907445/), [Hammond microglia](https://pubmed.ncbi.nlm.nih.gov/30471926/) in male adult mice, and another labelled microglia subset from a [mice cerebellum atlas project](https://singlecell.broadinstitute.org/single_cell/study/SCP795/a-transcriptomic-atlas-of-the-mouse-cerebellum#study-summary). \n",
    "\n",
    "Here we use the `mESC` data from the BEELINE benchmark. The `mESC` data comes from [Mouse embryonic stem cells](https://www.nature.com/articles/s41467-018-02866-0). It has 421 cells and 1,620 genes. \n",
    "\n",
    "If you want to see the inference on a larger network with 14,000+ genes and 8,000+ cells, check out the other example. "
   ]
  },
  {
   "cell_type": "code",
   "execution_count": 6,
   "id": "75c76238-8880-4d03-a7c2-264287345807",
   "metadata": {},
   "outputs": [],
   "source": [
    "bl_dt, bl_gt = rd.data.load_beeline(\n",
    "    benchmark_data='mESC', benchmark_setting='1000_STRING'\n",
    ")"
   ]
  },
  {
   "cell_type": "markdown",
   "id": "896ae204-36b3-48a1-a206-f6079f218474",
   "metadata": {},
   "source": [
    "Here, `load_beeline` gives you a tuple, where the first element is an anndata of the single cell experession data and the second element is an array of all the ground truth links (based on the STRING network in this case). "
   ]
  },
  {
   "cell_type": "code",
   "execution_count": 4,
   "id": "e78917fe-72ef-472b-bd76-5686bcec3cb8",
   "metadata": {},
   "outputs": [
    {
     "data": {
      "text/plain": [
       "AnnData object with n_obs × n_vars = 421 × 1620\n",
       "    obs: 'cell_type', 'cell_type_index'"
      ]
     },
     "execution_count": 4,
     "metadata": {},
     "output_type": "execute_result"
    }
   ],
   "source": [
    "bl_dt"
   ]
  },
  {
   "cell_type": "code",
   "execution_count": 5,
   "id": "ade5041f-5fb4-4b06-b250-956008e0a085",
   "metadata": {},
   "outputs": [
    {
     "data": {
      "text/plain": [
       "array([['KLF6', 'JUN'],\n",
       "       ['JUN', 'KLF6'],\n",
       "       ['KLF6', 'ATF3'],\n",
       "       ...,\n",
       "       ['SIN3A', 'TET1'],\n",
       "       ['MEF2C', 'TCF12'],\n",
       "       ['TCF12', 'MEF2C']], dtype=object)"
      ]
     },
     "execution_count": 5,
     "metadata": {},
     "output_type": "execute_result"
    }
   ],
   "source": [
    "bl_gt"
   ]
  },
  {
   "cell_type": "code",
   "execution_count": null,
   "id": "bc3a63a5-b5dc-4ec3-82b6-b8cb2dd341b1",
   "metadata": {},
   "outputs": [],
   "source": [
    "rd_trainer = rd.RegDiffusionTrainer(bl_dt.X, compile=False)\n",
    "rd_trainer.train()\n",
    "evaluator = rd.evaluator.GRNEvaluator(bl_gt, bl_dt.var_names)\n",
    "evaluator.evaluate(rd_trainer.get_adj())"
   ]
  },
  {
   "cell_type": "code",
   "execution_count": 32,
   "id": "52ea6e49-9f2e-4662-914d-c6f5c9d92a85",
   "metadata": {},
   "outputs": [
    {
     "name": "stdout",
     "output_type": "stream",
     "text": [
      "Warning: When  cdn_resources is 'local' jupyter notebook has issues displaying graphics on chrome/safari. Use cdn_resources='in_line' or cdn_resources='remote' if you have issues viewing graphics in a notebook.\n",
      "test.html\n"
     ]
    },
    {
     "data": {
      "text/html": [
       "\n",
       "        <iframe\n",
       "            width=\"100%\"\n",
       "            height=\"600px\"\n",
       "            src=\"test.html\"\n",
       "            frameborder=\"0\"\n",
       "            allowfullscreen\n",
       "            \n",
       "        ></iframe>\n",
       "        "
      ],
      "text/plain": [
       "<IPython.lib.display.IFrame at 0x2b83521bbf50>"
      ]
     },
     "execution_count": 32,
     "metadata": {},
     "output_type": "execute_result"
    }
   ],
   "source": [
    "grn = rd_trainer.generate_grn(bl_dt.var_names)\n",
    "adj_table = grn.extract_node_2hop_neighborhood('HIST1H1D', k=40)\n",
    "adj_table.weight = adj_table.weight.map(lambda x: [3, 1, 0.5][x])\n",
    "adj_nx = nx.from_pandas_edgelist(adj_table, edge_attr='weight')\n",
    "g=net.Network(notebook=True)\n",
    "g.from_nx(adj_nx)\n",
    "# options = 'var options = {\"physics\": {\"solver\": \"forceAtlas2Based\", \"forceAtlas2Based\": {\"avoidOverlap\": 0.0}}}'\n",
    "\n",
    "# Set the options\n",
    "# g.set_options(options)\n",
    "g.repulsion()\n",
    "g.show('test.html')"
   ]
  },
  {
   "cell_type": "code",
   "execution_count": 55,
   "id": "1b31020b-cf04-4895-a2ee-ebcc8542be61",
   "metadata": {},
   "outputs": [
    {
     "name": "stdout",
     "output_type": "stream",
     "text": [
      "Clusters:\n",
      "Cluster 1: ['ABTB1', 'UHRF1', 'GM10184', 'KNTC1', 'MCM7', 'TAF1', 'RAD54B', 'MCM10', 'FBXO5', 'RRM2', 'ZFP367', 'RBBP4', 'HIST1H2AF', 'TOP2A', 'TIMELESS', 'HIST1H1A', 'EGR1', 'PCNA', 'MAZ', 'HIST1H2BB', 'DNMT1', 'HIST1H2AC', 'BARD1', 'H1F0', 'HIST1H2BN', 'HIST1H2AI', 'HIST1H2BK', 'ATF4', 'HIST1H3H', 'HIST1H2BF', 'DEK', 'MCM6', 'HIST1H2AG', 'MCM4', 'BRCA1', 'HIST1H1B', 'RAD51', 'RANBP17', 'HIST1H2AK', 'MCM5', 'HIST1H4K', 'GM26448', 'HIST1H2BL', 'POLR3B', 'E2F1', 'HIST1H1D', 'MCM3']\n",
      "Cluster 2: ['GM44335']\n",
      "Cluster 3: ['KANK3']\n"
     ]
    }
   ],
   "source": [
    "import networkx as nx\n",
    "\n",
    "adj_table = grn.extract_node_2hop_neighborhood('HIST1H1D', 40)\n",
    "adj_table.weight = adj_table.weight.map(lambda x: [3, 1, 0.5][x])\n",
    "adj_nx = nx.from_pandas_edgelist(adj_table, edge_attr='weight')\n",
    "# Create a graph\n",
    "G = adj_nx\n",
    "\n",
    "# Calculate betweenness centrality\n",
    "betweenness_centrality = nx.betweenness_centrality(G)\n",
    "\n",
    "# Sort nodes based on betweenness centrality\n",
    "sorted_nodes = sorted(betweenness_centrality.items(), key=lambda x: x[1], reverse=True)\n",
    "\n",
    "# Remove edges with highest betweenness centrality\n",
    "num_edges_to_remove = len(G.edges()) // 8 # Remove 1/3 of edges\n",
    "edges_to_remove = []\n",
    "for node1, node2 in sorted(G.edges(), key=lambda x: betweenness_centrality[x[0]] + betweenness_centrality[x[1]], reverse=True)[:num_edges_to_remove]:\n",
    "    edges_to_remove.append((node1, node2))\n",
    "\n",
    "G.remove_edges_from(edges_to_remove)\n",
    "\n",
    "# Find connected components (clusters)\n",
    "clusters = list(nx.connected_components(G))\n",
    "\n",
    "# Print the clusters\n",
    "print(\"Clusters:\")\n",
    "for i, cluster in enumerate(clusters):\n",
    "    print(f\"Cluster {i+1}: {list(cluster)}\")"
   ]
  },
  {
   "cell_type": "code",
   "execution_count": 64,
   "id": "b74eebce-1f79-4152-99a4-e2491dd76a0a",
   "metadata": {},
   "outputs": [
    {
     "name": "stderr",
     "output_type": "stream",
     "text": [
      "Computing transition probabilities: 100%|██████████| 49/49 [00:00<00:00, 1758.87it/s]\n",
      "Generating walks (CPU: 1): 100%|██████████| 50/50 [00:00<00:00, 159.72it/s]\n",
      "Generating walks (CPU: 2): 100%|██████████| 50/50 [00:00<00:00, 158.36it/s]\n",
      "Generating walks (CPU: 3): 100%|██████████| 50/50 [00:00<00:00, 156.69it/s]\n",
      "Generating walks (CPU: 4): 100%|██████████| 50/50 [00:00<00:00, 158.20it/s]\n"
     ]
    },
    {
     "name": "stdout",
     "output_type": "stream",
     "text": [
      "Clusters:\n",
      "Cluster 0: RAD51,RRM2,MCM10,UHRF1,PCNA,E2F1,TIMELESS,BARD1,MCM6,MCM5,MCM4,RBBP4,MCM3,ZFP367,MCM7\n",
      "Cluster 1: GM44335,TOP2A,POLR3B,GM10184,H1F0,KANK3,ATF4,MAZ\n",
      "Cluster 2: HIST1H2BL,HIST1H1D,HIST1H2AC,HIST1H1B,HIST1H2BN,HIST1H1A,HIST1H4K,HIST1H2BK,HIST1H2AK,HIST1H2BF,HIST1H3H,HIST1H2AF,HIST1H2AI,HIST1H2AG,HIST1H2BB,DNMT1,FBXO5,KNTC1,RAD54B,BRCA1,ABTB1,TAF1,RANBP17,DEK\n",
      "Cluster 3: GM26448,EGR1\n"
     ]
    },
    {
     "name": "stderr",
     "output_type": "stream",
     "text": [
      "/cluster/tufts/slonimlab/hzhu07/miniconda3/envs/grn/lib/python3.11/site-packages/sklearn/cluster/_kmeans.py:1416: FutureWarning: The default value of `n_init` will change from 10 to 'auto' in 1.4. Set the value of `n_init` explicitly to suppress the warning\n",
      "  super()._check_params_vs_input(X, default_n_init=10)\n"
     ]
    }
   ],
   "source": [
    "import networkx as nx\n",
    "from sklearn.cluster import KMeans\n",
    "from node2vec import Node2Vec\n",
    "\n",
    "# Create a graph\n",
    "adj_table = grn.extract_node_2hop_neighborhood('HIST1H1D', 40)\n",
    "adj_table.weight = adj_table.weight.map(lambda x: [3, 1, 0.5][x])\n",
    "adj_nx = nx.from_pandas_edgelist(adj_table, edge_attr='weight')\n",
    "# Create a graph\n",
    "G = adj_nx\n",
    "\n",
    "# Learn node embeddings using Node2Vec\n",
    "node2vec = Node2Vec(G, dimensions=64, walk_length=30, num_walks=200, workers=4)\n",
    "model = node2vec.fit(window=10, min_count=1, batch_words=4)\n",
    "\n",
    "# Get the node embeddings\n",
    "node_embeddings = [model.wv.get_vector(str(node)) for node in G.nodes()]\n",
    "\n",
    "# Perform k-means clustering\n",
    "kmeans = KMeans(n_clusters=4, random_state=0).fit(node_embeddings)\n",
    "node_labels = kmeans.labels_\n",
    "\n",
    "# Print the clusters\n",
    "print(\"Clusters:\")\n",
    "for cluster_id in range(max(node_labels) + 1):\n",
    "    cluster_nodes = [node for node, label in zip(G.nodes(), node_labels) if label == cluster_id]\n",
    "    print(f\"Cluster {cluster_id}: {','.join(cluster_nodes)}\")"
   ]
  },
  {
   "cell_type": "code",
   "execution_count": null,
   "id": "0be3946c-0830-495d-94c2-5a9401960cdd",
   "metadata": {},
   "outputs": [],
   "source": []
  },
  {
   "cell_type": "code",
   "execution_count": 37,
   "id": "10b07967-9a4e-4326-923f-e4b269855ee0",
   "metadata": {},
   "outputs": [
    {
     "data": {
      "image/png": "[encoded data removed]",
      "text/plain": [
       "<Figure size 640x480 with 1 Axes>"
      ]
     },
     "metadata": {},
     "output_type": "display_data"
    }
   ],
   "source": [
    "# Optionally, visualize the final graph\n",
    "G = nx.karate_club_graph()\n",
    "\n",
    "nx.draw(G, with_labels=True)\n",
    "plt.show()"
   ]
  },
  {
   "cell_type": "code",
   "execution_count": 23,
   "id": "d4234aff-7973-40c5-b638-67f9a2050396",
   "metadata": {},
   "outputs": [],
   "source": [
    "starting_edge = np.unravel_index(grn.adj_matrix.argmax(), grn.adj_matrix.shape)"
   ]
  },
  {
   "cell_type": "code",
   "execution_count": 24,
   "id": "1d991373-0301-4502-8034-012b77f336b1",
   "metadata": {},
   "outputs": [],
   "source": [
    "all_sources = []\n",
    "all_targets = []\n",
    "for i in range(len(grn.gene_names)):\n",
    "    all_sources.append(\n",
    "        grn.extract_node_sources(grn.gene_names[i], 20, return_raw_indices=True)['tf_indices']\n",
    "    )\n",
    "for i in range(len(grn.tf_names)):\n",
    "    all_targets.append(\n",
    "        grn.extract_node_targets(grn.tf_names[i], 20, return_raw_indices=True)['gene_indices']\n",
    "    )"
   ]
  },
  {
   "cell_type": "code",
   "execution_count": 25,
   "id": "d32371a5-c033-4109-b363-ebd471d00028",
   "metadata": {},
   "outputs": [
    {
     "data": {
      "text/plain": [
       "{'tf_indices': array([1068, 1557,  721, 1476,  684,  665, 1216,  556,  299, 1347,  345,\n",
       "        1037,  970,  143,  505,  122,  892,  497,  493,  864]),\n",
       " 'weights': array([ 7.37 ,  7.492,  7.64 ,  7.824,  9.1  , 15.94 , 15.586, 14.45 ,\n",
       "        14.29 , 15.664, 14.98 , 15.56 , 15.4  ,  7.83 , 12.59 , 15.1  ,\n",
       "        13.516, 15.35 , 15.16 , 15.34 ], dtype=float16)}"
      ]
     },
     "execution_count": 25,
     "metadata": {},
     "output_type": "execute_result"
    }
   ],
   "source": [
    "grn.extract_node_sources(grn.gene_names[starting_edge[0]], 20, return_raw_indices=True)"
   ]
  },
  {
   "cell_type": "code",
   "execution_count": 42,
   "id": "a3a27894-bc9a-48a1-a228-729e34549459",
   "metadata": {},
   "outputs": [
    {
     "data": {
      "text/plain": [
       "(array([2858, 2859, 5894, 5895, 5896, 5897, 5898, 5899, 5900, 5901, 5902,\n",
       "        5903, 5904, 5905, 5906, 5907]),)"
      ]
     },
     "execution_count": 42,
     "metadata": {},
     "output_type": "execute_result"
    }
   ],
   "source": []
  },
  {
   "cell_type": "code",
   "execution_count": 44,
   "id": "669b8f63-14f9-45fe-905b-16635d916bfb",
   "metadata": {},
   "outputs": [
    {
     "data": {
      "text/plain": [
       "array([[['RB1', 'HIST1H1D'],\n",
       "        ['HIST1H1D', 'RB1'],\n",
       "        ['HIST1H1D', 'HMGB2'],\n",
       "        ['HMGB2', 'HIST1H1D'],\n",
       "        ['HIST1H1D', 'H1F0'],\n",
       "        ['H1F0', 'HIST1H1D'],\n",
       "        ['HIST1H1D', 'HIST1H1B'],\n",
       "        ['HIST1H1B', 'HIST1H1D'],\n",
       "        ['HIST1H1D', 'EP400'],\n",
       "        ['EP400', 'HIST1H1D'],\n",
       "        ['HIST1H1D', 'HMGA2'],\n",
       "        ['HMGA2', 'HIST1H1D'],\n",
       "        ['HIST1H1D', 'HIST1H1A'],\n",
       "        ['HIST1H1D', 'TRP53'],\n",
       "        ['TRP53', 'HIST1H1D'],\n",
       "        ['HIST1H1D', 'HIST1H4K']]], dtype=object)"
      ]
     },
     "execution_count": 44,
     "metadata": {},
     "output_type": "execute_result"
    }
   ],
   "source": [
    "bl_gt[np.where((bl_gt == 'HIST1H1D').sum(1) != 0),]"
   ]
  },
  {
   "cell_type": "code",
   "execution_count": null,
   "id": "dcb2a21a-6bf0-4c55-a397-c89abc6a7990",
   "metadata": {},
   "outputs": [],
   "source": [
    "bl_g,]"
   ]
  },
  {
   "cell_type": "code",
   "execution_count": 53,
   "id": "3e13b5bd-4286-4bfc-97f8-20cd3ccc689c",
   "metadata": {},
   "outputs": [
    {
     "name": "stdout",
     "output_type": "stream",
     "text": [
      "Warning: When  cdn_resources is 'local' jupyter notebook has issues displaying graphics on chrome/safari. Use cdn_resources='in_line' or cdn_resources='remote' if you have issues viewing graphics in a notebook.\n",
      "test.html\n"
     ]
    },
    {
     "data": {
      "text/html": [
       "\n",
       "        <iframe\n",
       "            width=\"100%\"\n",
       "            height=\"600px\"\n",
       "            src=\"test.html\"\n",
       "            frameborder=\"0\"\n",
       "            allowfullscreen\n",
       "            \n",
       "        ></iframe>\n",
       "        "
      ],
      "text/plain": [
       "<IPython.lib.display.IFrame at 0x2b833fbd3dd0>"
      ]
     },
     "execution_count": 53,
     "metadata": {},
     "output_type": "execute_result"
    }
   ],
   "source": [
    "adj_table = grn.extract_node_2hop_neighborhood('HIST1H1D', 40)\n",
    "adj_table.weight = adj_table.weight.map(lambda x: [3, 1, 0.5][x])\n",
    "adj_nx = nx.from_pandas_edgelist(adj_table, edge_attr='weight')\n",
    "g=net.Network(notebook=True)\n",
    "g.from_nx(adj_nx)\n",
    "# options = 'var options = {\"physics\": {\"solver\": \"forceAtlas2Based\", \"forceAtlas2Based\": {\"avoidOverlap\": 0.0}}}'\n",
    "\n",
    "# Set the options\n",
    "# g.set_options(options)\n",
    "g.repulsion()\n",
    "g.show('test.html')"
   ]
  },
  {
   "cell_type": "code",
   "execution_count": 26,
   "id": "fa663344-86df-4b83-a6af-5dea79de417e",
   "metadata": {},
   "outputs": [
    {
     "data": {
      "text/plain": [
       "'HIST1H1D'"
      ]
     },
     "execution_count": 26,
     "metadata": {},
     "output_type": "execute_result"
    }
   ],
   "source": [
    "grn.gene_names[starting_edge[0]]"
   ]
  },
  {
   "cell_type": "code",
   "execution_count": 60,
   "id": "fcb6e86c-50e0-49ab-bd5b-5029b296f819",
   "metadata": {},
   "outputs": [
    {
     "data": {
      "text/plain": [
       "<Axes: ylabel='Count'>"
      ]
     },
     "execution_count": 60,
     "metadata": {},
     "output_type": "execute_result"
    },
    {
     "data": {
      "image/png": "[encoded data removed]",
      "text/plain": [
       "<Figure size 640x480 with 1 Axes>"
      ]
     },
     "metadata": {},
     "output_type": "display_data"
    }
   ],
   "source": [
    "sns.histplot(adj.flatten())"
   ]
  },
  {
   "cell_type": "code",
   "execution_count": 7,
   "id": "ce543efa-4de6-461d-9370-bdc43b8af8df",
   "metadata": {},
   "outputs": [
    {
     "data": {
      "text/plain": [
       "0.5324218392295718"
      ]
     },
     "execution_count": 7,
     "metadata": {},
     "output_type": "execute_result"
    }
   ],
   "source": [
    "np.sum(np.abs(adj) > 0.1) / adj.shape[0] / adj.shape[0] "
   ]
  },
  {
   "cell_type": "code",
   "execution_count": 20,
   "id": "875bc37f-1fa6-4493-84a1-0ebdd80c0e94",
   "metadata": {},
   "outputs": [],
   "source": [
    "cb_microglia = rd.data.load_atlas_microglia()"
   ]
  },
  {
   "cell_type": "code",
   "execution_count": 21,
   "id": "7acfee3b-b944-442b-98db-303ca7675e2d",
   "metadata": {},
   "outputs": [],
   "source": [
    "rd_trainer = rd.RegDiffusionTrainer(cb_microglia.X, compile=False, celltype_dim=4)"
   ]
  },
  {
   "cell_type": "code",
   "execution_count": 22,
   "id": "cadfdea7-cc33-40b4-84f9-f0b3979ac1a6",
   "metadata": {},
   "outputs": [
    {
     "name": "stderr",
     "output_type": "stream",
     "text": [
      "Training loss: 0.220, Change on Adj: -0.000: 100%|██████████| 1000/1000 [02:30<00:00,  6.65it/s]\n"
     ]
    }
   ],
   "source": [
    "rd_trainer.train()"
   ]
  },
  {
   "cell_type": "code",
   "execution_count": 23,
   "id": "776785f2-02ef-479d-a329-6050417fd9a8",
   "metadata": {},
   "outputs": [],
   "source": [
    "adj = rd_trainer.get_adj()\n",
    "np.save('cb_adj_f16', adj)"
   ]
  },
  {
   "cell_type": "code",
   "execution_count": 52,
   "id": "84497018-5d6d-43af-861f-be66b845cdf8",
   "metadata": {},
   "outputs": [
    {
     "name": "stdout",
     "output_type": "stream",
     "text": [
      "adj_A\n",
      "sampled_adj_row_nonparam\n",
      "sampled_adj_col_nonparam\n",
      "zeros_nonparam\n",
      "eye_nonparam\n",
      "mask_nonparam\n",
      "time_mlp.1.weight\n",
      "time_mlp.1.bias\n",
      "gene_emb.0.gene_emb\n",
      "blocks.0.time_mlp.weight\n",
      "blocks.0.time_mlp.bias\n",
      "blocks.0.celltype_mlp.weight\n",
      "blocks.0.celltype_mlp.bias\n",
      "blocks.0.l1.weight\n",
      "blocks.0.l1.bias\n",
      "blocks.0.l2.weight\n",
      "blocks.0.l2.bias\n",
      "blocks.1.time_mlp.weight\n",
      "blocks.1.time_mlp.bias\n",
      "blocks.1.celltype_mlp.weight\n",
      "blocks.1.celltype_mlp.bias\n",
      "blocks.1.l1.weight\n",
      "blocks.1.l1.bias\n",
      "blocks.1.l2.weight\n",
      "blocks.1.l2.bias\n",
      "final.weight\n",
      "final.bias\n"
     ]
    }
   ],
   "source": [
    "for name, param in rd_trainer.model.named_parameters():\n",
    "    print(name)"
   ]
  },
  {
   "cell_type": "code",
   "execution_count": 4,
   "id": "847de94c-f283-4e64-ab01-7a6751c2361b",
   "metadata": {},
   "outputs": [
    {
     "name": "stderr",
     "output_type": "stream",
     "text": [
      "Training loss: 0.790, Change on Adj: -0.006:  10%|▉         | 95/1000 [00:36<05:49,  2.59it/s] \n"
     ]
    },
    {
     "ename": "KeyboardInterrupt",
     "evalue": "",
     "output_type": "error",
     "traceback": [
      "\u001b[0;31m---------------------------------------------------------------------------\u001b[0m",
      "\u001b[0;31mKeyboardInterrupt\u001b[0m                         Traceback (most recent call last)",
      "Cell \u001b[0;32mIn[4], line 1\u001b[0m\n\u001b[0;32m----> 1\u001b[0m \u001b[43mrd_trainer\u001b[49m\u001b[38;5;241;43m.\u001b[39;49m\u001b[43mtrain\u001b[49m\u001b[43m(\u001b[49m\u001b[43m)\u001b[49m\n",
      "File \u001b[0;32m/cluster/tufts/slonimlab/hzhu07/grn-diffusion/regdiffusion/trainer.py:214\u001b[0m, in \u001b[0;36mRegDiffusionTrainer.train\u001b[0;34m(self, n_steps)\u001b[0m\n\u001b[1;32m    212\u001b[0m     loss\u001b[38;5;241m.\u001b[39mbackward()\n\u001b[1;32m    213\u001b[0m     \u001b[38;5;28mself\u001b[39m\u001b[38;5;241m.\u001b[39mopt\u001b[38;5;241m.\u001b[39mstep()\n\u001b[0;32m--> 214\u001b[0m     epoch_loss\u001b[38;5;241m.\u001b[39mappend(\u001b[43mloss\u001b[49m\u001b[38;5;241;43m.\u001b[39;49m\u001b[43mitem\u001b[49m\u001b[43m(\u001b[49m\u001b[43m)\u001b[49m)\n\u001b[1;32m    215\u001b[0m train_loss \u001b[38;5;241m=\u001b[39m np\u001b[38;5;241m.\u001b[39mmean(epoch_loss)\n\u001b[1;32m    216\u001b[0m sampled_adj_new \u001b[38;5;241m=\u001b[39m \u001b[38;5;28mself\u001b[39m\u001b[38;5;241m.\u001b[39mmodel\u001b[38;5;241m.\u001b[39mget_sampled_adj_()\n",
      "\u001b[0;31mKeyboardInterrupt\u001b[0m: "
     ]
    }
   ],
   "source": [
    "rd_trainer.train()"
   ]
  },
  {
   "cell_type": "code",
   "execution_count": 6,
   "id": "2c6f6b97-0284-47c9-b1e1-27822f0f8565",
   "metadata": {},
   "outputs": [],
   "source": [
    "n_steps = 10\n",
    "with torch.no_grad():\n",
    "    a = rd_trainer.model.get_adj_()\n"
   ]
  },
  {
   "cell_type": "code",
   "execution_count": null,
   "id": "f7301dd1-a529-48d6-8349-c609e7fea9aa",
   "metadata": {},
   "outputs": [],
   "source": [
    "batch = next(iter(rd_trainer.train_dataloader))"
   ]
  },
  {
   "cell_type": "code",
   "execution_count": null,
   "id": "1e83ac25-d051-4a86-be1f-e65379489dae",
   "metadata": {},
   "outputs": [],
   "source": [
    ":\n",
    "    x_0, ct = batch\n",
    "    x_0 = x_0.to(self.device)\n",
    "    ct = ct.to(self.device)\n",
    "    self.opt.zero_grad()\n",
    "    t = torch.randint(\n",
    "        0, self.hp['T'], (x_0.shape[0],), \n",
    "        device=self.device\n",
    "    ).long()\n",
    "\n",
    "    x_noisy, noise = self.forward_pass(x_0, t)\n",
    "    z = self.model(x_noisy, t, ct)\n",
    "    loss_ = F.mse_loss(noise, z, reduction='none')\n",
    "    loss = loss_.mean()\n",
    "\n",
    "    adj_m = self.model.get_adj_()\n",
    "    loss_sparse = adj_m.mean() * self.hp['sparse_loss_coef']\n",
    "            \n",
    "    if epoch > 3:\n",
    "        loss = loss + loss_sparse\n",
    "    loss.backward()\n",
    "    self.opt.step()\n",
    "    epoch_loss.append(loss.item())\n",
    "train_loss = np.mean(epoch_loss)\n",
    "sampled_adj_new = adj_m[self.sampled_adj_row, self.sampled_adj_col]\n",
    "adj_diff = (sampled_adj_new - sampled_adj).mean().item()*(self.n_gene-1)\n",
    "sampled_adj = sampled_adj_new\n",
    "pbar.set_description(\n",
    "    f'Training loss: {train_loss:.3f}, Change on Adj: {adj_diff:.3f}')\n",
    "epoch_log = {'train_loss': train_loss, 'adj_change': adj_diff}\n",
    "if epoch % self.hp['eval_on_n_steps'] == self.hp['eval_on_n_steps'] - 1:\n",
    "    if self.evaluator is not None:\n",
    "        eval_result = self.evaluator.evaluate(self.model.get_adj())\n",
    "        for k in eval_result.keys():\n",
    "            epoch_log[k] = eval_result[k]\n",
    "    if self.hp['train_split'] < 1:\n",
    "        with torch.no_grad():\n",
    "            val_epoch_loss = []\n",
    "            for step, batch in enumerate(self.val_dataloader):\n",
    "                x_0, ct = batch\n",
    "                x_0 = x_0.to(self.device)\n",
    "                ct = ct.to(self.device)\n",
    "                t = torch.randint(\n",
    "                    0, self.hp['T'], (x_0.shape[0],), \n",
    "                    device=self.device).long()\n",
    "\n",
    "                x_noisy, noise = self.forward_pass(x_0, t)\n",
    "                z = self.model(x_noisy, t, ct)\n",
    "                step_val_loss = F.mse_loss(noise, z, reduction='mean').item()\n",
    "                val_epoch_loss.append(step_val_loss)\n",
    "            epoch_log['val_loss'] = np.mean(val_epoch_loss)\n",
    "self.logger.log(epoch_log)"
   ]
  },
  {
   "cell_type": "code",
   "execution_count": 14,
   "id": "54ac3a04-6340-48d8-9895-15c2bc227c89",
   "metadata": {},
   "outputs": [
    {
     "name": "stderr",
     "output_type": "stream",
     "text": [
      "STAGE:2024-03-08 09:26:43 17925:17925 ActivityProfilerController.cpp:312] Completed Stage: Warm Up\n",
      "Training loss: 0.203, Change on Adj: -0.000: 100%|██████████| 100/100 [00:11<00:00,  8.50it/s]\n",
      "[W CPUAllocator.cpp:235] Memory block of unknown size was allocated before the profiling started, profiler results will not include the deallocation event\n",
      "STAGE:2024-03-08 09:26:55 17925:17925 ActivityProfilerController.cpp:318] Completed Stage: Collection\n",
      "STAGE:2024-03-08 09:26:56 17925:17925 ActivityProfilerController.cpp:322] Completed Stage: Post Processing\n"
     ]
    }
   ],
   "source": [
    "with profile(activities=[\n",
    "        ProfilerActivity.CPU, ProfilerActivity.CUDA], record_shapes=True,  profile_memory=True) as prof:\n",
    "    with record_function(\"model_inference\"):\n",
    "        rd_trainer.train(100)"
   ]
  },
  {
   "cell_type": "code",
   "execution_count": 24,
   "id": "6e8c4ad8-d809-4c0c-acc4-3e4eba5df1a4",
   "metadata": {},
   "outputs": [],
   "source": [
    "import pickle"
   ]
  },
  {
   "cell_type": "code",
   "execution_count": 27,
   "id": "90472c97-27bb-43b1-8ce2-ec7ceeb88760",
   "metadata": {},
   "outputs": [],
   "source": [
    "torch.save(rd_trainer.opt, 'opt.save')"
   ]
  },
  {
   "cell_type": "code",
   "execution_count": 29,
   "id": "b8dbddbc-e7c5-471f-b286-7862058db43e",
   "metadata": {},
   "outputs": [],
   "source": [
    "torch.save(rd_trainer, 'all')"
   ]
  },
  {
   "cell_type": "code",
   "execution_count": null,
   "id": "f9acc523-853b-4afc-85ad-05ee40b91170",
   "metadata": {},
   "outputs": [],
   "source": []
  }
 ],
 "metadata": {
  "kernelspec": {
   "display_name": "grn",
   "language": "python",
   "name": "grn"
  },
  "language_info": {
   "codemirror_mode": {
    "name": "ipython",
    "version": 3
   },
   "file_extension": ".py",
   "mimetype": "text/x-python",
   "name": "python",
   "nbconvert_exporter": "python",
   "pygments_lexer": "ipython3",
   "version": "3.11.7"
  }
 },
 "nbformat": 4,
 "nbformat_minor": 5
}
