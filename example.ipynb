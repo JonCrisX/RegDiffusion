{
 "cells": [
  {
   "cell_type": "markdown",
   "id": "b302fe93-4e4e-40d9-b873-d6561c90f344",
   "metadata": {},
   "source": [
    "# Getting Startted with GRN inference using diffusion model\n",
    "\n",
    "Diffusion model has been widely used in generative AI, especially in the vision domain. In our paper, we proposed RegDiffusion, a diffusion based model for GRN inference. Compared with previous model, RegDiffusion completes inference within a fraction of time and yield better benchmarking results. \n",
    "\n",
    "In this tutorial, we provide an example of running GRN inference using RegDiffusion and generating biological insights from the inferred network. "
   ]
  },
  {
   "cell_type": "markdown",
   "id": "7513859b-886a-4ca2-bbec-d8ba9163d7bc",
   "metadata": {},
   "source": [
    "## Requirements\n",
    "\n",
    "We will need the python package `regdiffusion` for GRN inference. For accelerated inference speed, you may want to run `regdiffusion` on GPU devices with the latest CUDA installation. "
   ]
  },
  {
   "cell_type": "code",
   "execution_count": 17,
   "id": "835ad442-8eb4-4ead-8dc9-caeadaa08454",
   "metadata": {},
   "outputs": [],
   "source": [
    "import regdiffusion as rd\n",
    "import numpy as np\n",
    "\n",
    "# For displaying visualization in notebook\n",
    "from IPython.core.display import HTML"
   ]
  },
  {
   "cell_type": "markdown",
   "id": "ff0c7b2c-09d3-47f6-aa21-2e4e87247444",
   "metadata": {},
   "source": [
    "## Data loading\n",
    "\n",
    "The input of `regdiffusion` is simply a single-cell gene expression matrix, where the columns are genes and rows are cells. We expect you to log transform your data. RegDiffusion is capable to infer GRNs among 10,000+ genes (depending on GPU hardware) within minutes so there is no need to apply heavy gene filtering. The only genes you may want to remove are genes that are not expressed at all (total raw count on all cells == 0). \n",
    "\n",
    "The `regdiffusion` package comes with a set of preprocessed data, including the [BEELINE benchmarks](https://pubmed.ncbi.nlm.nih.gov/31907445/), [Hammond microglia](https://pubmed.ncbi.nlm.nih.gov/30471926/) in male adult mice, and another labelled microglia subset from a [mice cerebellum atlas project](https://singlecell.broadinstitute.org/single_cell/study/SCP795/a-transcriptomic-atlas-of-the-mouse-cerebellum#study-summary). \n",
    "\n",
    "Here we use the `mESC` data from the BEELINE benchmark. The `mESC` data comes from [Mouse embryonic stem cells](https://www.nature.com/articles/s41467-018-02866-0). It has 421 cells and 1,620 genes. \n",
    "\n",
    "If you want to see the inference on a larger network with 14,000+ genes and 8,000+ cells, check out the other example. "
   ]
  },
  {
   "cell_type": "code",
   "execution_count": 2,
   "id": "75c76238-8880-4d03-a7c2-264287345807",
   "metadata": {},
   "outputs": [],
   "source": [
    "bl_dt, bl_gt = rd.data.load_beeline(\n",
    "    benchmark_data='mESC', benchmark_setting='1000_STRING'\n",
    ")"
   ]
  },
  {
   "cell_type": "markdown",
   "id": "896ae204-36b3-48a1-a206-f6079f218474",
   "metadata": {},
   "source": [
    "Here, `load_beeline` gives you a tuple, where the first element is an anndata of the single cell experession data and the second element is an array of all the ground truth links (based on the STRING network in this case). "
   ]
  },
  {
   "cell_type": "code",
   "execution_count": 3,
   "id": "e78917fe-72ef-472b-bd76-5686bcec3cb8",
   "metadata": {},
   "outputs": [
    {
     "data": {
      "text/plain": [
       "AnnData object with n_obs × n_vars = 421 × 1620\n",
       "    obs: 'cell_type', 'cell_type_index'"
      ]
     },
     "execution_count": 3,
     "metadata": {},
     "output_type": "execute_result"
    }
   ],
   "source": [
    "bl_dt"
   ]
  },
  {
   "cell_type": "code",
   "execution_count": 4,
   "id": "ade5041f-5fb4-4b06-b250-956008e0a085",
   "metadata": {},
   "outputs": [
    {
     "data": {
      "text/plain": [
       "array([['KLF6', 'JUN'],\n",
       "       ['JUN', 'KLF6'],\n",
       "       ['KLF6', 'ATF3'],\n",
       "       ...,\n",
       "       ['SIN3A', 'TET1'],\n",
       "       ['MEF2C', 'TCF12'],\n",
       "       ['TCF12', 'MEF2C']], dtype=object)"
      ]
     },
     "execution_count": 4,
     "metadata": {},
     "output_type": "execute_result"
    }
   ],
   "source": [
    "bl_gt"
   ]
  },
  {
   "cell_type": "markdown",
   "id": "9b59fcae-3e62-4134-9153-0bfa28f2c84d",
   "metadata": {},
   "source": [
    "# GRN Inference\n",
    "\n",
    "You are recommended to use the provided trainer to train a RegDiffusion Model. You need to provide the expression data in a numpy array to the trainer. \n",
    "\n",
    "During the training process, the training loss and the average amount of change on the adjacency matrix are provided on the progress bar. The model converges when the step change n the adjacency matrix is near-zero. By default, the `train` method will train the model for 1,000 iterations. It should be sufficient in most cases. If you want to keep training the model afterwards, you can simply call the `train` methods again with the desired number of iterations. "
   ]
  },
  {
   "cell_type": "code",
   "execution_count": 5,
   "id": "bc3a63a5-b5dc-4ec3-82b6-b8cb2dd341b1",
   "metadata": {},
   "outputs": [
    {
     "name": "stderr",
     "output_type": "stream",
     "text": [
      "Training loss: 0.251, Change on Adj: -0.000: 100%|████████████████████████████████████████████████████████████████████████████| 1000/1000 [00:08<00:00, 119.87it/s]\n"
     ]
    }
   ],
   "source": [
    "rd_trainer = rd.RegDiffusionTrainer(bl_dt.X)\n",
    "rd_trainer.train()"
   ]
  },
  {
   "cell_type": "markdown",
   "id": "a3cd5f82-7765-469f-b2d7-b0906cf20aea",
   "metadata": {},
   "source": [
    "When ground truth links are avaiable, you can test the inference performance by setting up an evaluator. You need to provide both the ground truth links and the gene names. Note that the order of the provided gene names here should be the same as the column order in the expression table (and the inferred adjacency matrix). "
   ]
  },
  {
   "cell_type": "code",
   "execution_count": 6,
   "id": "31bd6acc-bf8f-4e67-a0e7-fdc85ed1abde",
   "metadata": {},
   "outputs": [
    {
     "data": {
      "text/plain": [
       "{'AUROC': 0.6128314776240764,\n",
       " 'AUPR': 0.051967174752646526,\n",
       " 'AUPRR': 2.443609451710688,\n",
       " 'EP': 750,\n",
       " 'EPR': 4.159291109741152}"
      ]
     },
     "execution_count": 6,
     "metadata": {},
     "output_type": "execute_result"
    }
   ],
   "source": [
    "evaluator = rd.evaluator.GRNEvaluator(bl_gt, bl_dt.var_names)\n",
    "inferred_adj = rd_trainer.get_adj()\n",
    "evaluator.evaluate(inferred_adj)"
   ]
  },
  {
   "cell_type": "markdown",
   "id": "9f0c6503-077b-4547-8cb3-da324b97f572",
   "metadata": {},
   "source": [
    "## GRN object\n",
    "\n",
    "In order to facilitate the downstream analyses on GRN, we defined an `GRN` object in the `regdiffusion` package. You need to provide the gene names in the same order as in your expression table."
   ]
  },
  {
   "cell_type": "code",
   "execution_count": 7,
   "id": "52ea6e49-9f2e-4662-914d-c6f5c9d92a85",
   "metadata": {},
   "outputs": [
    {
     "data": {
      "text/plain": [
       "Inferred GRN: 1,620 TFs x 1,620 Target Genes"
      ]
     },
     "execution_count": 7,
     "metadata": {},
     "output_type": "execute_result"
    }
   ],
   "source": [
    "grn = rd_trainer.get_grn(bl_dt.var_names)\n",
    "grn"
   ]
  },
  {
   "cell_type": "markdown",
   "id": "5a735fbb-0772-49ce-bfe2-cebe5cb3490c",
   "metadata": {},
   "source": [
    "You can easily export the GRN object as a HDF5 file. Right now, HDF5 is the only supported export format but more formats will be added in the future."
   ]
  },
  {
   "cell_type": "code",
   "execution_count": 8,
   "id": "b95aa491-7029-4e19-8742-774cde5e7eb3",
   "metadata": {},
   "outputs": [],
   "source": [
    "grn.to_hdf5('demo_mESC_grn.hdf5')"
   ]
  },
  {
   "cell_type": "markdown",
   "id": "5d484f90-26b9-45f4-9de7-a8d28d373bc8",
   "metadata": {},
   "source": [
    "## Inspecting the local network around particular genes\n",
    "\n",
    "In this example, we run GRN inference on one of the BEELINE benchmark single cell datasets. The provided ground truth makes it possible to validate through standard statistical metrics. However, such ground truth is in fact very noisy and incomplete. \n",
    "\n",
    "In our paper, we proposed a method to visualize the local 2-hop to 3-hop neighborhood around selected genes. We find that genes with similar function will be topologically bounded together and form obvious functional groups. Inspecting these local networks gives us confidence that the inferred networks are biologically meaningful. Here we show an example of using these inferred networks to discover novel findings. \n",
    "\n",
    "### Step 1. Discover target genes\n",
    "\n",
    "There are many ways to discover target genes to study the local networks. For example, you can put your lens on the most varied genes or the top genes that are up/down regulated, using any methods you prefer. Here, we simply pick the gene that has the strongest single regulation based on the inferred adjacency matrix. "
   ]
  },
  {
   "cell_type": "code",
   "execution_count": 9,
   "id": "1d5bac96-23f4-4aa8-87b9-f5ecd6362e60",
   "metadata": {},
   "outputs": [
    {
     "data": {
      "text/plain": [
       "'HIST1H1D'"
      ]
     },
     "execution_count": 9,
     "metadata": {},
     "output_type": "execute_result"
    }
   ],
   "source": [
    "grn.gene_names[np.argmax(grn.adj_matrix.max(1))]"
   ]
  },
  {
   "cell_type": "markdown",
   "id": "e814e0f1-9104-47d6-bab3-77cfb9d566ca",
   "metadata": {},
   "source": [
    "### Step 2. Visualize the local network around the selected gene\n",
    "\n",
    "The `visualize_local_neighborhood` method of an `GRN` object extracts the 2-hop top-k neighborhood around a selected gene and visualize it using `pyvis`/`vis.js`. The default `k` here is 20. However, in cases when the regulatory relationships are strong and bidirectional, `k=20` only gives a very simple network. You may increase the magnitude of `k` to find some meaningful results to you. "
   ]
  },
  {
   "cell_type": "code",
   "execution_count": 11,
   "id": "b74eebce-1f79-4152-99a4-e2491dd76a0a",
   "metadata": {},
   "outputs": [
    {
     "name": "stderr",
     "output_type": "stream",
     "text": [
      "/cluster/tufts/slonimlab/hzhu07/miniconda3/envs/grn/lib/python3.11/site-packages/tqdm/auto.py:21: TqdmWarning: IProgress not found. Please update jupyter and ipywidgets. See https://ipywidgets.readthedocs.io/en/stable/user_install.html\n",
      "  from .autonotebook import tqdm as notebook_tqdm\n",
      "Computing transition probabilities: 100%|████████████████████████████████████████████████████████████████████████████████████████| 49/49 [00:00<00:00, 1448.14it/s]\n",
      "Generating walks (CPU: 4): 100%|██████████████████████████████████████████████████████████████████████████████████████████████████| 50/50 [00:00<00:00, 154.17it/s]\n",
      "Generating walks (CPU: 2): 100%|██████████████████████████████████████████████████████████████████████████████████████████████████| 50/50 [00:00<00:00, 152.38it/s]\n",
      "Generating walks (CPU: 1): 100%|██████████████████████████████████████████████████████████████████████████████████████████████████| 50/50 [00:00<00:00, 152.20it/s]\n",
      "Generating walks (CPU: 3): 100%|██████████████████████████████████████████████████████████████████████████████████████████████████| 50/50 [00:00<00:00, 151.50it/s]\n",
      "/cluster/tufts/slonimlab/hzhu07/miniconda3/envs/grn/lib/python3.11/site-packages/sklearn/cluster/_kmeans.py:1416: FutureWarning: The default value of `n_init` will change from 10 to 'auto' in 1.4. Set the value of `n_init` explicitly to suppress the warning\n",
      "  super()._check_params_vs_input(X, default_n_init=10)\n"
     ]
    },
    {
     "name": "stdout",
     "output_type": "stream",
     "text": [
      "Clusters:\n",
      "Cluster 0: HIST1H1D,HIST1H2BN,HIST1H2BK,HIST1H1B,HIST1H2BL,HIST1H2AK,HIST1H1A,HIST1H2AC,HIST1H2BF,HIST1H4K,HIST1H3H,HIST1H2AF,HIST1H2AI,HIST1H2AG,HIST1H2BB,DNMT1,BRCA1,KNTC1,RAD54B,GM44335,FBXO5,TAF1,ABTB1,DEK,KANK3\n",
      "Cluster 1: MCM10,TIMELESS,RAD51,RBBP4,RRM2,MCM6,PCNA,E2F1,UHRF1,MCM4,MCM5,UNG,MCM7,MCM3,ZFP367,EZH2,BARD1\n",
      "Cluster 2: TOP2A,MAZ,POLR3B,GM10184,ATF4\n",
      "Cluster 3: GM26448,EGR1\n"
     ]
    }
   ],
   "source": [
    "import networkx as nx\n",
    "from sklearn.cluster import KMeans\n",
    "from node2vec import Node2Vec\n",
    "\n",
    "adj_table = grn.extract_node_2hop_neighborhood('HIST1H1D', 40)\n",
    "nxg = nx.from_pandas_edgelist(adj_table)\n",
    "\n",
    "node2vec = Node2Vec(nxg, dimensions=64, walk_length=30, num_walks=200, \n",
    "                    workers=4, seed=123)\n",
    "model = node2vec.fit(window=10, min_count=1, batch_words=4)\n",
    "\n",
    "node_embeddings = [model.wv.get_vector(str(node)) for node in nxg.nodes()]\n",
    "\n",
    "kmeans = KMeans(n_clusters=4, random_state=0).fit(node_embeddings)\n",
    "node_labels = kmeans.labels_\n",
    "\n",
    "print(\"Clusters:\")\n",
    "for cluster_id in range(max(node_labels) + 1):\n",
    "    cluster_nodes = [node for node, label in zip(nxg.nodes(), node_labels) if label == cluster_id]\n",
    "    print(f\"Cluster {cluster_id}: {','.join(cluster_nodes)}\")"
   ]
  },
  {
   "cell_type": "code",
   "execution_count": 31,
   "id": "6c64e64a-9d05-41b2-ad8e-611347dcc074",
   "metadata": {},
   "outputs": [
    {
     "data": {
      "text/html": [
       "<html>\n",
       "    <head>\n",
       "        <meta charset=\"utf-8\">\n",
       "        \n",
       "            <script>function neighbourhoodHighlight(params) {\n",
       "  // console.log(\"in nieghbourhoodhighlight\");\n",
       "  allNodes = nodes.get({ returnType: \"Object\" });\n",
       "  // originalNodes = JSON.parse(JSON.stringify(allNodes));\n",
       "  // if something is selected:\n",
       "  if (params.nodes.length > 0) {\n",
       "    highlightActive = true;\n",
       "    var i, j;\n",
       "    var selectedNode = params.nodes[0];\n",
       "    var degrees = 2;\n",
       "\n",
       "    // mark all nodes as hard to read.\n",
       "    for (let nodeId in allNodes) {\n",
       "      // nodeColors[nodeId] = allNodes[nodeId].color;\n",
       "      allNodes[nodeId].color = \"rgba(200,200,200,0.5)\";\n",
       "      if (allNodes[nodeId].hiddenLabel === undefined) {\n",
       "        allNodes[nodeId].hiddenLabel = allNodes[nodeId].label;\n",
       "        allNodes[nodeId].label = undefined;\n",
       "      }\n",
       "    }\n",
       "    var connectedNodes = network.getConnectedNodes(selectedNode);\n",
       "    var allConnectedNodes = [];\n",
       "\n",
       "    // get the second degree nodes\n",
       "    for (i = 1; i < degrees; i++) {\n",
       "      for (j = 0; j < connectedNodes.length; j++) {\n",
       "        allConnectedNodes = allConnectedNodes.concat(\n",
       "          network.getConnectedNodes(connectedNodes[j])\n",
       "        );\n",
       "      }\n",
       "    }\n",
       "\n",
       "    // all second degree nodes get a different color and their label back\n",
       "    for (i = 0; i < allConnectedNodes.length; i++) {\n",
       "      // allNodes[allConnectedNodes[i]].color = \"pink\";\n",
       "      allNodes[allConnectedNodes[i]].color = \"rgba(150,150,150,0.75)\";\n",
       "      if (allNodes[allConnectedNodes[i]].hiddenLabel !== undefined) {\n",
       "        allNodes[allConnectedNodes[i]].label =\n",
       "          allNodes[allConnectedNodes[i]].hiddenLabel;\n",
       "        allNodes[allConnectedNodes[i]].hiddenLabel = undefined;\n",
       "      }\n",
       "    }\n",
       "\n",
       "    // all first degree nodes get their own color and their label back\n",
       "    for (i = 0; i < connectedNodes.length; i++) {\n",
       "      // allNodes[connectedNodes[i]].color = undefined;\n",
       "      allNodes[connectedNodes[i]].color = nodeColors[connectedNodes[i]];\n",
       "      if (allNodes[connectedNodes[i]].hiddenLabel !== undefined) {\n",
       "        allNodes[connectedNodes[i]].label =\n",
       "          allNodes[connectedNodes[i]].hiddenLabel;\n",
       "        allNodes[connectedNodes[i]].hiddenLabel = undefined;\n",
       "      }\n",
       "    }\n",
       "\n",
       "    // the main node gets its own color and its label back.\n",
       "    // allNodes[selectedNode].color = undefined;\n",
       "    allNodes[selectedNode].color = nodeColors[selectedNode];\n",
       "    if (allNodes[selectedNode].hiddenLabel !== undefined) {\n",
       "      allNodes[selectedNode].label = allNodes[selectedNode].hiddenLabel;\n",
       "      allNodes[selectedNode].hiddenLabel = undefined;\n",
       "    }\n",
       "  } else if (highlightActive === true) {\n",
       "    // console.log(\"highlightActive was true\");\n",
       "    // reset all nodes\n",
       "    for (let nodeId in allNodes) {\n",
       "      // allNodes[nodeId].color = \"purple\";\n",
       "      allNodes[nodeId].color = nodeColors[nodeId];\n",
       "      // delete allNodes[nodeId].color;\n",
       "      if (allNodes[nodeId].hiddenLabel !== undefined) {\n",
       "        allNodes[nodeId].label = allNodes[nodeId].hiddenLabel;\n",
       "        allNodes[nodeId].hiddenLabel = undefined;\n",
       "      }\n",
       "    }\n",
       "    highlightActive = false;\n",
       "  }\n",
       "\n",
       "  // transform the object into an array\n",
       "  var updateArray = [];\n",
       "  if (params.nodes.length > 0) {\n",
       "    for (let nodeId in allNodes) {\n",
       "      if (allNodes.hasOwnProperty(nodeId)) {\n",
       "        // console.log(allNodes[nodeId]);\n",
       "        updateArray.push(allNodes[nodeId]);\n",
       "      }\n",
       "    }\n",
       "    nodes.update(updateArray);\n",
       "  } else {\n",
       "    // console.log(\"Nothing was selected\");\n",
       "    for (let nodeId in allNodes) {\n",
       "      if (allNodes.hasOwnProperty(nodeId)) {\n",
       "        // console.log(allNodes[nodeId]);\n",
       "        // allNodes[nodeId].color = {};\n",
       "        updateArray.push(allNodes[nodeId]);\n",
       "      }\n",
       "    }\n",
       "    nodes.update(updateArray);\n",
       "  }\n",
       "}\n",
       "\n",
       "function filterHighlight(params) {\n",
       "  allNodes = nodes.get({ returnType: \"Object\" });\n",
       "  // if something is selected:\n",
       "  if (params.nodes.length > 0) {\n",
       "    filterActive = true;\n",
       "    let selectedNodes = params.nodes;\n",
       "\n",
       "    // hiding all nodes and saving the label\n",
       "    for (let nodeId in allNodes) {\n",
       "      allNodes[nodeId].hidden = true;\n",
       "      if (allNodes[nodeId].savedLabel === undefined) {\n",
       "        allNodes[nodeId].savedLabel = allNodes[nodeId].label;\n",
       "        allNodes[nodeId].label = undefined;\n",
       "      }\n",
       "    }\n",
       "\n",
       "    for (let i=0; i < selectedNodes.length; i++) {\n",
       "      allNodes[selectedNodes[i]].hidden = false;\n",
       "      if (allNodes[selectedNodes[i]].savedLabel !== undefined) {\n",
       "        allNodes[selectedNodes[i]].label = allNodes[selectedNodes[i]].savedLabel;\n",
       "        allNodes[selectedNodes[i]].savedLabel = undefined;\n",
       "      }\n",
       "    }\n",
       "\n",
       "  } else if (filterActive === true) {\n",
       "    // reset all nodes\n",
       "    for (let nodeId in allNodes) {\n",
       "      allNodes[nodeId].hidden = false;\n",
       "      if (allNodes[nodeId].savedLabel !== undefined) {\n",
       "        allNodes[nodeId].label = allNodes[nodeId].savedLabel;\n",
       "        allNodes[nodeId].savedLabel = undefined;\n",
       "      }\n",
       "    }\n",
       "    filterActive = false;\n",
       "  }\n",
       "\n",
       "  // transform the object into an array\n",
       "  var updateArray = [];\n",
       "  if (params.nodes.length > 0) {\n",
       "    for (let nodeId in allNodes) {\n",
       "      if (allNodes.hasOwnProperty(nodeId)) {\n",
       "        updateArray.push(allNodes[nodeId]);\n",
       "      }\n",
       "    }\n",
       "    nodes.update(updateArray);\n",
       "  } else {\n",
       "    for (let nodeId in allNodes) {\n",
       "      if (allNodes.hasOwnProperty(nodeId)) {\n",
       "        updateArray.push(allNodes[nodeId]);\n",
       "      }\n",
       "    }\n",
       "    nodes.update(updateArray);\n",
       "  }\n",
       "}\n",
       "\n",
       "function selectNode(nodes) {\n",
       "  network.selectNodes(nodes);\n",
       "  neighbourhoodHighlight({ nodes: nodes });\n",
       "  return nodes;\n",
       "}\n",
       "\n",
       "function selectNodes(nodes) {\n",
       "  network.selectNodes(nodes);\n",
       "  filterHighlight({nodes: nodes});\n",
       "  return nodes;\n",
       "}\n",
       "\n",
       "function highlightFilter(filter) {\n",
       "  let selectedNodes = []\n",
       "  let selectedProp = filter['property']\n",
       "  if (filter['item'] === 'node') {\n",
       "    let allNodes = nodes.get({ returnType: \"Object\" });\n",
       "    for (let nodeId in allNodes) {\n",
       "      if (allNodes[nodeId][selectedProp] && filter['value'].includes((allNodes[nodeId][selectedProp]).toString())) {\n",
       "        selectedNodes.push(nodeId)\n",
       "      }\n",
       "    }\n",
       "  }\n",
       "  else if (filter['item'] === 'edge'){\n",
       "    let allEdges = edges.get({returnType: 'object'});\n",
       "    // check if the selected property exists for selected edge and select the nodes connected to the edge\n",
       "    for (let edge in allEdges) {\n",
       "      if (allEdges[edge][selectedProp] && filter['value'].includes((allEdges[edge][selectedProp]).toString())) {\n",
       "        selectedNodes.push(allEdges[edge]['from'])\n",
       "        selectedNodes.push(allEdges[edge]['to'])\n",
       "      }\n",
       "    }\n",
       "  }\n",
       "  selectNodes(selectedNodes)\n",
       "}</script>\n",
       "            <link rel=\"stylesheet\" href=\"https://cdnjs.cloudflare.com/ajax/libs/vis-network/9.1.2/dist/dist/vis-network.min.css\" integrity=\"sha512-WgxfT5LWjfszlPHXRmBWHkV2eceiWTOBvrKCNbdgDYTHrT2AeLCGbF4sZlZw3UMN3WtL0tGUoIAKsu8mllg/XA==\" crossorigin=\"anonymous\" referrerpolicy=\"no-referrer\" />\n",
       "            <script src=\"https://cdnjs.cloudflare.com/ajax/libs/vis-network/9.1.2/dist/vis-network.min.js\" integrity=\"sha512-LnvoEWDFrqGHlHmDD2101OrLcbsfkrzoSpvtSQtxK3RMnRV0eOkhhBN2dXHKRrUU8p2DGRTk35n4O8nWSVe1mQ==\" crossorigin=\"anonymous\" referrerpolicy=\"no-referrer\"></script>\n",
       "            \n",
       "            \n",
       "            \n",
       "            \n",
       "            \n",
       "            \n",
       "\n",
       "        \n",
       "<center>\n",
       "<h1></h1>\n",
       "</center>\n",
       "\n",
       "<!-- <link rel=\"stylesheet\" href=\"../node_modules/vis/dist/vis.min.css\" type=\"text/css\" />\n",
       "<script type=\"text/javascript\" src=\"../node_modules/vis/dist/vis.js\"> </script>-->\n",
       "        <link\n",
       "          href=\"https://cdn.jsdelivr.net/npm/bootstrap@5.0.0-beta3/dist/css/bootstrap.min.css\"\n",
       "          rel=\"stylesheet\"\n",
       "          integrity=\"sha384-eOJMYsd53ii+scO/bJGFsiCZc+5NDVN2yr8+0RDqr0Ql0h+rP48ckxlpbzKgwra6\"\n",
       "          crossorigin=\"anonymous\"\n",
       "        />\n",
       "        <script\n",
       "          src=\"https://cdn.jsdelivr.net/npm/bootstrap@5.0.0-beta3/dist/js/bootstrap.bundle.min.js\"\n",
       "          integrity=\"sha384-JEW9xMcG8R+pH31jmWH6WWP0WintQrMb4s7ZOdauHnUtxwoG2vI5DkLtS3qm9Ekf\"\n",
       "          crossorigin=\"anonymous\"\n",
       "        ></script>\n",
       "\n",
       "\n",
       "        <center>\n",
       "          <h1></h1>\n",
       "        </center>\n",
       "        <style type=\"text/css\">\n",
       "\n",
       "             #mynetwork {\n",
       "                 width: 100%;\n",
       "                 height: 600px;\n",
       "                 background-color: #ffffff;\n",
       "                 border: 1px solid lightgray;\n",
       "                 position: relative;\n",
       "                 float: left;\n",
       "             }\n",
       "\n",
       "             \n",
       "\n",
       "             \n",
       "\n",
       "             \n",
       "        </style>\n",
       "    </head>\n",
       "\n",
       "\n",
       "    <body>\n",
       "        <div class=\"card\" style=\"width: 100%\">\n",
       "            \n",
       "            \n",
       "            <div id=\"mynetwork\" class=\"card-body\"></div>\n",
       "        </div>\n",
       "\n",
       "        \n",
       "        \n",
       "\n",
       "        <script type=\"text/javascript\">\n",
       "\n",
       "              // initialize global variables.\n",
       "              var edges;\n",
       "              var nodes;\n",
       "              var allNodes;\n",
       "              var allEdges;\n",
       "              var nodeColors;\n",
       "              var originalNodes;\n",
       "              var network;\n",
       "              var container;\n",
       "              var options, data;\n",
       "              var filter = {\n",
       "                  item : '',\n",
       "                  property : '',\n",
       "                  value : []\n",
       "              };\n",
       "\n",
       "              \n",
       "\n",
       "              \n",
       "\n",
       "              // This method is responsible for drawing the graph, returns the drawn network\n",
       "              function drawGraph() {\n",
       "                  var container = document.getElementById('mynetwork');\n",
       "\n",
       "                  \n",
       "\n",
       "                  // parsing and collecting nodes and edges from the python\n",
       "                  nodes = new vis.DataSet([{\"group\": \"0\", \"id\": \"HIST1H4K\", \"label\": \"HIST1H4K\", \"shape\": \"dot\", \"size\": 8}, {\"group\": \"0\", \"id\": \"DNMT1\", \"label\": \"DNMT1\", \"shape\": \"dot\", \"size\": 8}, {\"group\": \"0\", \"id\": \"DEK\", \"label\": \"DEK\", \"shape\": \"dot\", \"size\": 8}, {\"group\": \"1\", \"id\": \"MCM4\", \"label\": \"MCM4\", \"shape\": \"dot\", \"size\": 8}, {\"group\": \"2\", \"id\": \"POLR3B\", \"label\": \"POLR3B\", \"shape\": \"dot\", \"size\": 8}, {\"group\": \"0\", \"id\": \"KNTC1\", \"label\": \"KNTC1\", \"shape\": \"dot\", \"size\": 8}, {\"group\": \"1\", \"id\": \"E2F1\", \"label\": \"E2F1\", \"shape\": \"dot\", \"size\": 8}, {\"group\": \"1\", \"id\": \"MCM3\", \"label\": \"MCM3\", \"shape\": \"dot\", \"size\": 8}, {\"group\": \"0\", \"id\": \"HIST1H2BF\", \"label\": \"HIST1H2BF\", \"shape\": \"dot\", \"size\": 8}, {\"group\": \"0\", \"id\": \"HIST1H2AG\", \"label\": \"HIST1H2AG\", \"shape\": \"dot\", \"size\": 8}, {\"group\": \"0\", \"id\": \"BRCA1\", \"label\": \"BRCA1\", \"shape\": \"dot\", \"size\": 8}, {\"group\": \"0\", \"id\": \"HIST1H1D\", \"label\": \"HIST1H1D\", \"shape\": \"star\", \"size\": 8}, {\"group\": \"1\", \"id\": \"UHRF1\", \"label\": \"UHRF1\", \"shape\": \"dot\", \"size\": 8}, {\"group\": \"1\", \"id\": \"RBBP4\", \"label\": \"RBBP4\", \"shape\": \"dot\", \"size\": 8}, {\"group\": \"0\", \"id\": \"FBXO5\", \"label\": \"FBXO5\", \"shape\": \"dot\", \"size\": 8}, {\"group\": \"0\", \"id\": \"HIST1H2BB\", \"label\": \"HIST1H2BB\", \"shape\": \"dot\", \"size\": 8}, {\"group\": \"0\", \"id\": \"HIST1H2BN\", \"label\": \"HIST1H2BN\", \"shape\": \"dot\", \"size\": 8}, {\"group\": \"0\", \"id\": \"HIST1H2BL\", \"label\": \"HIST1H2BL\", \"shape\": \"dot\", \"size\": 8}, {\"group\": \"1\", \"id\": \"RRM2\", \"label\": \"RRM2\", \"shape\": \"dot\", \"size\": 8}, {\"group\": \"2\", \"id\": \"MAZ\", \"label\": \"MAZ\", \"shape\": \"dot\", \"size\": 8}, {\"group\": \"1\", \"id\": \"PCNA\", \"label\": \"PCNA\", \"shape\": \"dot\", \"size\": 8}, {\"group\": \"1\", \"id\": \"TIMELESS\", \"label\": \"TIMELESS\", \"shape\": \"dot\", \"size\": 8}, {\"group\": \"0\", \"id\": \"RAD54B\", \"label\": \"RAD54B\", \"shape\": \"dot\", \"size\": 8}, {\"group\": \"3\", \"id\": \"GM26448\", \"label\": \"GM26448\", \"shape\": \"dot\", \"size\": 8}, {\"group\": \"0\", \"id\": \"ABTB1\", \"label\": \"ABTB1\", \"shape\": \"dot\", \"size\": 8}, {\"group\": \"2\", \"id\": \"ATF4\", \"label\": \"ATF4\", \"shape\": \"dot\", \"size\": 8}, {\"group\": \"0\", \"id\": \"HIST1H2AI\", \"label\": \"HIST1H2AI\", \"shape\": \"dot\", \"size\": 8}, {\"group\": \"0\", \"id\": \"HIST1H3H\", \"label\": \"HIST1H3H\", \"shape\": \"dot\", \"size\": 8}, {\"group\": \"3\", \"id\": \"EGR1\", \"label\": \"EGR1\", \"shape\": \"dot\", \"size\": 8}, {\"group\": \"0\", \"id\": \"HIST1H2BK\", \"label\": \"HIST1H2BK\", \"shape\": \"dot\", \"size\": 8}, {\"group\": \"1\", \"id\": \"MCM10\", \"label\": \"MCM10\", \"shape\": \"dot\", \"size\": 8}, {\"group\": \"0\", \"id\": \"HIST1H2AC\", \"label\": \"HIST1H2AC\", \"shape\": \"dot\", \"size\": 8}, {\"group\": \"1\", \"id\": \"RAD51\", \"label\": \"RAD51\", \"shape\": \"dot\", \"size\": 8}, {\"group\": \"2\", \"id\": \"GM10184\", \"label\": \"GM10184\", \"shape\": \"dot\", \"size\": 8}, {\"group\": \"0\", \"id\": \"KANK3\", \"label\": \"KANK3\", \"shape\": \"dot\", \"size\": 8}, {\"group\": \"1\", \"id\": \"ZFP367\", \"label\": \"ZFP367\", \"shape\": \"dot\", \"size\": 8}, {\"group\": \"1\", \"id\": \"UNG\", \"label\": \"UNG\", \"shape\": \"dot\", \"size\": 8}, {\"group\": \"1\", \"id\": \"MCM5\", \"label\": \"MCM5\", \"shape\": \"dot\", \"size\": 8}, {\"group\": \"2\", \"id\": \"TOP2A\", \"label\": \"TOP2A\", \"shape\": \"dot\", \"size\": 8}, {\"group\": \"1\", \"id\": \"BARD1\", \"label\": \"BARD1\", \"shape\": \"dot\", \"size\": 8}, {\"group\": \"0\", \"id\": \"HIST1H2AK\", \"label\": \"HIST1H2AK\", \"shape\": \"dot\", \"size\": 8}, {\"group\": \"0\", \"id\": \"HIST1H1B\", \"label\": \"HIST1H1B\", \"shape\": \"dot\", \"size\": 8}, {\"group\": \"0\", \"id\": \"HIST1H1A\", \"label\": \"HIST1H1A\", \"shape\": \"dot\", \"size\": 8}, {\"group\": \"1\", \"id\": \"MCM6\", \"label\": \"MCM6\", \"shape\": \"dot\", \"size\": 8}, {\"group\": \"0\", \"id\": \"TAF1\", \"label\": \"TAF1\", \"shape\": \"dot\", \"size\": 8}, {\"group\": \"0\", \"id\": \"HIST1H2AF\", \"label\": \"HIST1H2AF\", \"shape\": \"dot\", \"size\": 8}, {\"group\": \"1\", \"id\": \"EZH2\", \"label\": \"EZH2\", \"shape\": \"dot\", \"size\": 8}, {\"group\": \"0\", \"id\": \"GM44335\", \"label\": \"GM44335\", \"shape\": \"dot\", \"size\": 8}, {\"group\": \"1\", \"id\": \"MCM7\", \"label\": \"MCM7\", \"shape\": \"dot\", \"size\": 8}]);\n",
       "                  edges = new vis.DataSet([{\"from\": \"HIST1H1D\", \"to\": \"HIST1H2BN\", \"width\": 2.0}, {\"from\": \"HIST1H2BK\", \"to\": \"HIST1H1D\", \"width\": 2.0}, {\"from\": \"HIST1H1D\", \"to\": \"HIST1H1B\", \"width\": 2.0}, {\"from\": \"HIST1H1D\", \"to\": \"HIST1H2BL\", \"width\": 2.0}, {\"from\": \"HIST1H2AK\", \"to\": \"HIST1H1D\", \"width\": 2.0}, {\"from\": \"HIST1H1D\", \"to\": \"HIST1H1A\", \"width\": 2.0}, {\"from\": \"HIST1H1D\", \"to\": \"HIST1H2AC\", \"width\": 2.0}, {\"from\": \"HIST1H2BF\", \"to\": \"HIST1H1D\", \"width\": 2.0}, {\"from\": \"HIST1H4K\", \"to\": \"HIST1H1D\", \"width\": 2.0}, {\"from\": \"HIST1H3H\", \"to\": \"HIST1H1D\", \"width\": 2.0}, {\"from\": \"HIST1H1D\", \"to\": \"HIST1H2AF\", \"width\": 2.0}, {\"from\": \"HIST1H1D\", \"to\": \"HIST1H2AI\", \"width\": 2.0}, {\"from\": \"HIST1H2AG\", \"to\": \"HIST1H1D\", \"width\": 2.0}, {\"from\": \"HIST1H2BB\", \"to\": \"HIST1H1D\", \"width\": 2.0}, {\"from\": \"DNMT1\", \"to\": \"HIST1H1D\", \"width\": 2.0}, {\"from\": \"HIST1H1D\", \"to\": \"BRCA1\", \"width\": 2.0}, {\"from\": \"KNTC1\", \"to\": \"HIST1H1D\", \"width\": 2.0}, {\"from\": \"RAD54B\", \"to\": \"HIST1H1D\", \"width\": 2.0}, {\"from\": \"HIST1H1D\", \"to\": \"GM44335\", \"width\": 2.0}, {\"from\": \"HIST1H1D\", \"to\": \"FBXO5\", \"width\": 2.0}, {\"from\": \"RAD54B\", \"to\": \"BRCA1\", \"width\": 1.0}, {\"from\": \"RAD54B\", \"to\": \"HIST1H1B\", \"width\": 1.0}, {\"from\": \"HIST1H1A\", \"to\": \"RAD54B\", \"width\": 1.0}, {\"from\": \"HIST1H2BK\", \"to\": \"RAD54B\", \"width\": 1.0}, {\"from\": \"HIST1H2AK\", \"to\": \"RAD54B\", \"width\": 1.0}, {\"from\": \"RAD54B\", \"to\": \"HIST1H3H\", \"width\": 1.0}, {\"from\": \"HIST1H2BN\", \"to\": \"RAD54B\", \"width\": 1.0}, {\"from\": \"RAD54B\", \"to\": \"KNTC1\", \"width\": 1.0}, {\"from\": \"RAD54B\", \"to\": \"HIST1H2BL\", \"width\": 1.0}, {\"from\": \"HIST1H4K\", \"to\": \"RAD54B\", \"width\": 1.0}, {\"from\": \"RAD54B\", \"to\": \"HIST1H2AC\", \"width\": 1.0}, {\"from\": \"RAD54B\", \"to\": \"MCM10\", \"width\": 1.0}, {\"from\": \"DNMT1\", \"to\": \"RAD54B\", \"width\": 1.0}, {\"from\": \"RAD54B\", \"to\": \"HIST1H2AF\", \"width\": 1.0}, {\"from\": \"RAD54B\", \"to\": \"TAF1\", \"width\": 1.0}, {\"from\": \"ABTB1\", \"to\": \"RAD54B\", \"width\": 1.0}, {\"from\": \"RAD54B\", \"to\": \"TIMELESS\", \"width\": 1.0}, {\"from\": \"RAD54B\", \"to\": \"RAD51\", \"width\": 1.0}, {\"from\": \"RAD54B\", \"to\": \"FBXO5\", \"width\": 1.0}, {\"from\": \"HIST1H2BF\", \"to\": \"RAD54B\", \"width\": 1.0}, {\"from\": \"RAD54B\", \"to\": \"HIST1H2AG\", \"width\": 1.0}, {\"from\": \"HIST1H2BN\", \"to\": \"HIST1H4K\", \"width\": 1.0}, {\"from\": \"HIST1H2BK\", \"to\": \"HIST1H4K\", \"width\": 1.0}, {\"from\": \"HIST1H4K\", \"to\": \"HIST1H2AC\", \"width\": 1.0}, {\"from\": \"HIST1H4K\", \"to\": \"HIST1H1A\", \"width\": 1.0}, {\"from\": \"HIST1H2BL\", \"to\": \"HIST1H4K\", \"width\": 1.0}, {\"from\": \"HIST1H4K\", \"to\": \"HIST1H2AK\", \"width\": 1.0}, {\"from\": \"HIST1H4K\", \"to\": \"HIST1H1B\", \"width\": 1.0}, {\"from\": \"HIST1H4K\", \"to\": \"HIST1H3H\", \"width\": 1.0}, {\"from\": \"HIST1H4K\", \"to\": \"HIST1H2AI\", \"width\": 1.0}, {\"from\": \"HIST1H2BF\", \"to\": \"HIST1H4K\", \"width\": 1.0}, {\"from\": \"HIST1H2AF\", \"to\": \"HIST1H4K\", \"width\": 1.0}, {\"from\": \"HIST1H2AG\", \"to\": \"HIST1H4K\", \"width\": 1.0}, {\"from\": \"HIST1H4K\", \"to\": \"HIST1H2BB\", \"width\": 1.0}, {\"from\": \"DNMT1\", \"to\": \"HIST1H4K\", \"width\": 1.0}, {\"from\": \"GM44335\", \"to\": \"HIST1H4K\", \"width\": 1.0}, {\"from\": \"FBXO5\", \"to\": \"HIST1H4K\", \"width\": 1.0}, {\"from\": \"HIST1H4K\", \"to\": \"KNTC1\", \"width\": 1.0}, {\"from\": \"HIST1H4K\", \"to\": \"RBBP4\", \"width\": 1.0}, {\"from\": \"HIST1H4K\", \"to\": \"DEK\", \"width\": 1.0}, {\"from\": \"HIST1H2BK\", \"to\": \"HIST1H2AI\", \"width\": 1.0}, {\"from\": \"HIST1H2AI\", \"to\": \"HIST1H2BL\", \"width\": 1.0}, {\"from\": \"HIST1H2AI\", \"to\": \"HIST1H2AC\", \"width\": 1.0}, {\"from\": \"HIST1H2AI\", \"to\": \"HIST1H2BN\", \"width\": 1.0}, {\"from\": \"HIST1H2AI\", \"to\": \"HIST1H1A\", \"width\": 1.0}, {\"from\": \"HIST1H2AK\", \"to\": \"HIST1H2AI\", \"width\": 1.0}, {\"from\": \"HIST1H1B\", \"to\": \"HIST1H2AI\", \"width\": 1.0}, {\"from\": \"HIST1H2AI\", \"to\": \"HIST1H3H\", \"width\": 1.0}, {\"from\": \"HIST1H2BF\", \"to\": \"HIST1H2AI\", \"width\": 1.0}, {\"from\": \"HIST1H2AI\", \"to\": \"HIST1H2AF\", \"width\": 1.0}, {\"from\": \"HIST1H2AG\", \"to\": \"HIST1H2AI\", \"width\": 1.0}, {\"from\": \"HIST1H2AI\", \"to\": \"HIST1H2BB\", \"width\": 1.0}, {\"from\": \"DNMT1\", \"to\": \"HIST1H2AI\", \"width\": 1.0}, {\"from\": \"HIST1H2AI\", \"to\": \"DEK\", \"width\": 1.0}, {\"from\": \"HIST1H2AI\", \"to\": \"GM44335\", \"width\": 1.0}, {\"from\": \"HIST1H2AI\", \"to\": \"FBXO5\", \"width\": 1.0}, {\"from\": \"BRCA1\", \"to\": \"HIST1H2AI\", \"width\": 1.0}, {\"from\": \"HIST1H2AI\", \"to\": \"KNTC1\", \"width\": 1.0}, {\"from\": \"HIST1H2BK\", \"to\": \"DNMT1\", \"width\": 1.0}, {\"from\": \"HIST1H2BN\", \"to\": \"DNMT1\", \"width\": 1.0}, {\"from\": \"RRM2\", \"to\": \"DNMT1\", \"width\": 1.0}, {\"from\": \"HIST1H1A\", \"to\": \"DNMT1\", \"width\": 1.0}, {\"from\": \"HIST1H2AC\", \"to\": \"DNMT1\", \"width\": 1.0}, {\"from\": \"HIST1H2BL\", \"to\": \"DNMT1\", \"width\": 1.0}, {\"from\": \"DNMT1\", \"to\": \"BRCA1\", \"width\": 1.0}, {\"from\": \"HIST1H1B\", \"to\": \"DNMT1\", \"width\": 1.0}, {\"from\": \"DNMT1\", \"to\": \"MCM6\", \"width\": 1.0}, {\"from\": \"HIST1H2AK\", \"to\": \"DNMT1\", \"width\": 1.0}, {\"from\": \"RAD51\", \"to\": \"DNMT1\", \"width\": 1.0}, {\"from\": \"PCNA\", \"to\": \"DNMT1\", \"width\": 1.0}, {\"from\": \"TOP2A\", \"to\": \"DNMT1\", \"width\": 1.0}, {\"from\": \"DNMT1\", \"to\": \"FBXO5\", \"width\": 1.0}, {\"from\": \"DNMT1\", \"to\": \"HIST1H3H\", \"width\": 1.0}, {\"from\": \"DNMT1\", \"to\": \"MCM10\", \"width\": 1.0}, {\"from\": \"HIST1H2BF\", \"to\": \"DNMT1\", \"width\": 1.0}, {\"from\": \"HIST1H2AC\", \"to\": \"HIST1H3H\", \"width\": 1.0}, {\"from\": \"HIST1H3H\", \"to\": \"HIST1H2BL\", \"width\": 1.0}, {\"from\": \"HIST1H3H\", \"to\": \"HIST1H2BK\", \"width\": 1.0}, {\"from\": \"HIST1H2AK\", \"to\": \"HIST1H3H\", \"width\": 1.0}, {\"from\": \"HIST1H2BN\", \"to\": \"HIST1H3H\", \"width\": 1.0}, {\"from\": \"HIST1H3H\", \"to\": \"HIST1H1A\", \"width\": 1.0}, {\"from\": \"HIST1H1B\", \"to\": \"HIST1H3H\", \"width\": 1.0}, {\"from\": \"HIST1H2AF\", \"to\": \"HIST1H3H\", \"width\": 1.0}, {\"from\": \"HIST1H3H\", \"to\": \"HIST1H2BF\", \"width\": 1.0}, {\"from\": \"HIST1H2AG\", \"to\": \"HIST1H3H\", \"width\": 1.0}, {\"from\": \"HIST1H2BB\", \"to\": \"HIST1H3H\", \"width\": 1.0}, {\"from\": \"HIST1H3H\", \"to\": \"BRCA1\", \"width\": 1.0}, {\"from\": \"HIST1H3H\", \"to\": \"DEK\", \"width\": 1.0}, {\"from\": \"HIST1H3H\", \"to\": \"GM44335\", \"width\": 1.0}, {\"from\": \"HIST1H3H\", \"to\": \"KNTC1\", \"width\": 1.0}, {\"from\": \"HIST1H3H\", \"to\": \"FBXO5\", \"width\": 1.0}, {\"from\": \"KNTC1\", \"to\": \"RAD51\", \"width\": 1.0}, {\"from\": \"KNTC1\", \"to\": \"BRCA1\", \"width\": 1.0}, {\"from\": \"KNTC1\", \"to\": \"FBXO5\", \"width\": 1.0}, {\"from\": \"HIST1H2BK\", \"to\": \"KNTC1\", \"width\": 1.0}, {\"from\": \"KNTC1\", \"to\": \"HIST1H2BL\", \"width\": 1.0}, {\"from\": \"DNMT1\", \"to\": \"KNTC1\", \"width\": 1.0}, {\"from\": \"HIST1H2BN\", \"to\": \"KNTC1\", \"width\": 1.0}, {\"from\": \"KNTC1\", \"to\": \"HIST1H1A\", \"width\": 1.0}, {\"from\": \"KNTC1\", \"to\": \"MCM10\", \"width\": 1.0}, {\"from\": \"RRM2\", \"to\": \"KNTC1\", \"width\": 1.0}, {\"from\": \"KNTC1\", \"to\": \"HIST1H2AK\", \"width\": 1.0}, {\"from\": \"E2F1\", \"to\": \"KNTC1\", \"width\": 1.0}, {\"from\": \"HIST1H2AC\", \"to\": \"KNTC1\", \"width\": 1.0}, {\"from\": \"KNTC1\", \"to\": \"UHRF1\", \"width\": 1.0}, {\"from\": \"KNTC1\", \"to\": \"HIST1H2AF\", \"width\": 1.0}, {\"from\": \"KNTC1\", \"to\": \"HIST1H1B\", \"width\": 1.0}, {\"from\": \"KNTC1\", \"to\": \"PCNA\", \"width\": 1.0}, {\"from\": \"HIST1H2BK\", \"to\": \"HIST1H1A\", \"width\": 1.0}, {\"from\": \"HIST1H2BK\", \"to\": \"HIST1H2AK\", \"width\": 1.0}, {\"from\": \"HIST1H2BL\", \"to\": \"HIST1H2BK\", \"width\": 1.0}, {\"from\": \"HIST1H2BK\", \"to\": \"HIST1H1B\", \"width\": 1.0}, {\"from\": \"HIST1H2BK\", \"to\": \"HIST1H2BN\", \"width\": 1.0}, {\"from\": \"HIST1H2BK\", \"to\": \"HIST1H2AC\", \"width\": 1.0}, {\"from\": \"HIST1H2BF\", \"to\": \"HIST1H2BK\", \"width\": 1.0}, {\"from\": \"HIST1H2AF\", \"to\": \"HIST1H2BK\", \"width\": 1.0}, {\"from\": \"HIST1H2BK\", \"to\": \"HIST1H2AG\", \"width\": 1.0}, {\"from\": \"HIST1H2BB\", \"to\": \"HIST1H2BK\", \"width\": 1.0}, {\"from\": \"HIST1H2BK\", \"to\": \"GM44335\", \"width\": 1.0}, {\"from\": \"HIST1H2BK\", \"to\": \"FBXO5\", \"width\": 1.0}, {\"from\": \"HIST1H2BK\", \"to\": \"BRCA1\", \"width\": 1.0}, {\"from\": \"HIST1H2BK\", \"to\": \"DEK\", \"width\": 1.0}, {\"from\": \"HIST1H2AC\", \"to\": \"HIST1H2BL\", \"width\": 1.0}, {\"from\": \"HIST1H2AC\", \"to\": \"HIST1H1B\", \"width\": 1.0}, {\"from\": \"HIST1H2AC\", \"to\": \"HIST1H2BN\", \"width\": 1.0}, {\"from\": \"HIST1H2AC\", \"to\": \"HIST1H2AK\", \"width\": 1.0}, {\"from\": \"HIST1H1A\", \"to\": \"HIST1H2AC\", \"width\": 1.0}, {\"from\": \"HIST1H2BF\", \"to\": \"HIST1H2AC\", \"width\": 1.0}, {\"from\": \"HIST1H2AF\", \"to\": \"HIST1H2AC\", \"width\": 1.0}, {\"from\": \"HIST1H2AC\", \"to\": \"HIST1H2AG\", \"width\": 1.0}, {\"from\": \"HIST1H2AC\", \"to\": \"HIST1H2BB\", \"width\": 1.0}, {\"from\": \"MCM4\", \"to\": \"HIST1H2AC\", \"width\": 1.0}, {\"from\": \"HIST1H2AC\", \"to\": \"FBXO5\", \"width\": 1.0}, {\"from\": \"HIST1H2AC\", \"to\": \"BRCA1\", \"width\": 1.0}, {\"from\": \"E2F1\", \"to\": \"HIST1H2AC\", \"width\": 1.0}, {\"from\": \"HIST1H2AC\", \"to\": \"RRM2\", \"width\": 1.0}, {\"from\": \"HIST1H2BF\", \"to\": \"HIST1H1B\", \"width\": 1.0}, {\"from\": \"HIST1H2BF\", \"to\": \"HIST1H2BL\", \"width\": 1.0}, {\"from\": \"HIST1H2BN\", \"to\": \"HIST1H2BF\", \"width\": 1.0}, {\"from\": \"HIST1H2BF\", \"to\": \"HIST1H2AK\", \"width\": 1.0}, {\"from\": \"HIST1H1A\", \"to\": \"HIST1H2BF\", \"width\": 1.0}, {\"from\": \"HIST1H2AF\", \"to\": \"HIST1H2BF\", \"width\": 1.0}, {\"from\": \"HIST1H2BF\", \"to\": \"HIST1H2AG\", \"width\": 1.0}, {\"from\": \"HIST1H2BB\", \"to\": \"HIST1H2BF\", \"width\": 1.0}, {\"from\": \"HIST1H2BF\", \"to\": \"TAF1\", \"width\": 1.0}, {\"from\": \"HIST1H2BF\", \"to\": \"DEK\", \"width\": 1.0}, {\"from\": \"HIST1H2BF\", \"to\": \"GM44335\", \"width\": 1.0}, {\"from\": \"HIST1H2BF\", \"to\": \"BRCA1\", \"width\": 1.0}, {\"from\": \"HIST1H2BF\", \"to\": \"KNTC1\", \"width\": 1.0}, {\"from\": \"HIST1H2AG\", \"to\": \"HIST1H1A\", \"width\": 1.0}, {\"from\": \"HIST1H2AG\", \"to\": \"HIST1H1B\", \"width\": 1.0}, {\"from\": \"HIST1H2BN\", \"to\": \"HIST1H2AG\", \"width\": 1.0}, {\"from\": \"HIST1H2AG\", \"to\": \"HIST1H2BL\", \"width\": 1.0}, {\"from\": \"HIST1H2AK\", \"to\": \"HIST1H2AG\", \"width\": 1.0}, {\"from\": \"HIST1H2AF\", \"to\": \"HIST1H2AG\", \"width\": 1.0}, {\"from\": \"HIST1H2AG\", \"to\": \"HIST1H2BB\", \"width\": 1.0}, {\"from\": \"HIST1H2AG\", \"to\": \"DNMT1\", \"width\": 1.0}, {\"from\": \"MCM4\", \"to\": \"HIST1H2AG\", \"width\": 1.0}, {\"from\": \"HIST1H2AG\", \"to\": \"DEK\", \"width\": 1.0}, {\"from\": \"HIST1H2AG\", \"to\": \"BRCA1\", \"width\": 1.0}, {\"from\": \"HIST1H2AG\", \"to\": \"RBBP4\", \"width\": 1.0}, {\"from\": \"HIST1H2AG\", \"to\": \"MCM6\", \"width\": 1.0}, {\"from\": \"HIST1H2AG\", \"to\": \"MCM5\", \"width\": 1.0}, {\"from\": \"RRM2\", \"to\": \"BRCA1\", \"width\": 1.0}, {\"from\": \"MCM10\", \"to\": \"BRCA1\", \"width\": 1.0}, {\"from\": \"MCM4\", \"to\": \"BRCA1\", \"width\": 1.0}, {\"from\": \"UHRF1\", \"to\": \"BRCA1\", \"width\": 1.0}, {\"from\": \"MCM6\", \"to\": \"BRCA1\", \"width\": 1.0}, {\"from\": \"RAD51\", \"to\": \"BRCA1\", \"width\": 1.0}, {\"from\": \"PCNA\", \"to\": \"BRCA1\", \"width\": 1.0}, {\"from\": \"BRCA1\", \"to\": \"FBXO5\", \"width\": 1.0}, {\"from\": \"HIST1H1A\", \"to\": \"BRCA1\", \"width\": 1.0}, {\"from\": \"E2F1\", \"to\": \"BRCA1\", \"width\": 1.0}, {\"from\": \"HIST1H2BN\", \"to\": \"BRCA1\", \"width\": 1.0}, {\"from\": \"UNG\", \"to\": \"BRCA1\", \"width\": 1.0}, {\"from\": \"MCM7\", \"to\": \"BRCA1\", \"width\": 1.0}, {\"from\": \"MCM3\", \"to\": \"BRCA1\", \"width\": 1.0}, {\"from\": \"HIST1H2BL\", \"to\": \"BRCA1\", \"width\": 1.0}, {\"from\": \"ZFP367\", \"to\": \"BRCA1\", \"width\": 1.0}, {\"from\": \"HIST1H2AK\", \"to\": \"BRCA1\", \"width\": 1.0}, {\"from\": \"EZH2\", \"to\": \"BRCA1\", \"width\": 1.0}, {\"from\": \"RRM2\", \"to\": \"FBXO5\", \"width\": 1.0}, {\"from\": \"FBXO5\", \"to\": \"TOP2A\", \"width\": 1.0}, {\"from\": \"FBXO5\", \"to\": \"HIST1H1A\", \"width\": 1.0}, {\"from\": \"HIST1H2BN\", \"to\": \"FBXO5\", \"width\": 1.0}, {\"from\": \"FBXO5\", \"to\": \"MCM10\", \"width\": 1.0}, {\"from\": \"HIST1H2BL\", \"to\": \"FBXO5\", \"width\": 1.0}, {\"from\": \"UHRF1\", \"to\": \"FBXO5\", \"width\": 1.0}, {\"from\": \"HIST1H1B\", \"to\": \"FBXO5\", \"width\": 1.0}, {\"from\": \"FBXO5\", \"to\": \"MAZ\", \"width\": 1.0}, {\"from\": \"BARD1\", \"to\": \"FBXO5\", \"width\": 1.0}, {\"from\": \"HIST1H2AK\", \"to\": \"FBXO5\", \"width\": 1.0}, {\"from\": \"RAD51\", \"to\": \"FBXO5\", \"width\": 1.0}, {\"from\": \"HIST1H2AK\", \"to\": \"HIST1H1B\", \"width\": 1.0}, {\"from\": \"HIST1H2AK\", \"to\": \"HIST1H2BN\", \"width\": 1.0}, {\"from\": \"HIST1H2AK\", \"to\": \"HIST1H2BL\", \"width\": 1.0}, {\"from\": \"HIST1H1A\", \"to\": \"HIST1H2AK\", \"width\": 1.0}, {\"from\": \"HIST1H2AF\", \"to\": \"HIST1H2AK\", \"width\": 1.0}, {\"from\": \"HIST1H2BB\", \"to\": \"HIST1H2AK\", \"width\": 1.0}, {\"from\": \"HIST1H2AK\", \"to\": \"GM44335\", \"width\": 1.0}, {\"from\": \"MCM4\", \"to\": \"HIST1H2AK\", \"width\": 1.0}, {\"from\": \"HIST1H2AK\", \"to\": \"RAD51\", \"width\": 1.0}, {\"from\": \"HIST1H2BN\", \"to\": \"HIST1H1B\", \"width\": 1.0}, {\"from\": \"HIST1H2BL\", \"to\": \"HIST1H1B\", \"width\": 1.0}, {\"from\": \"HIST1H1B\", \"to\": \"HIST1H1A\", \"width\": 1.0}, {\"from\": \"HIST1H2AF\", \"to\": \"HIST1H1B\", \"width\": 1.0}, {\"from\": \"HIST1H2BB\", \"to\": \"HIST1H1B\", \"width\": 1.0}, {\"from\": \"GM44335\", \"to\": \"HIST1H1B\", \"width\": 1.0}, {\"from\": \"HIST1H1B\", \"to\": \"TAF1\", \"width\": 1.0}, {\"from\": \"BRCA1\", \"to\": \"HIST1H1B\", \"width\": 1.0}, {\"from\": \"HIST1H2BB\", \"to\": \"HIST1H2BN\", \"width\": 1.0}, {\"from\": \"HIST1H2BB\", \"to\": \"HIST1H2BL\", \"width\": 1.0}, {\"from\": \"HIST1H2BB\", \"to\": \"HIST1H1A\", \"width\": 1.0}, {\"from\": \"HIST1H2BB\", \"to\": \"HIST1H2AF\", \"width\": 1.0}, {\"from\": \"HIST1H2BB\", \"to\": \"DNMT1\", \"width\": 1.0}, {\"from\": \"HIST1H2BB\", \"to\": \"RAD54B\", \"width\": 1.0}, {\"from\": \"HIST1H2BB\", \"to\": \"TAF1\", \"width\": 1.0}, {\"from\": \"GM26448\", \"to\": \"HIST1H2BB\", \"width\": 1.0}, {\"from\": \"HIST1H2BB\", \"to\": \"EGR1\", \"width\": 1.0}, {\"from\": \"GM44335\", \"to\": \"HIST1H2BB\", \"width\": 1.0}, {\"from\": \"HIST1H2BB\", \"to\": \"PCNA\", \"width\": 1.0}, {\"from\": \"HIST1H2BL\", \"to\": \"HIST1H1A\", \"width\": 1.0}, {\"from\": \"HIST1H2BN\", \"to\": \"HIST1H1A\", \"width\": 1.0}, {\"from\": \"HIST1H1A\", \"to\": \"HIST1H2AF\", \"width\": 1.0}, {\"from\": \"RRM2\", \"to\": \"HIST1H1A\", \"width\": 1.0}, {\"from\": \"HIST1H2BL\", \"to\": \"HIST1H2BN\", \"width\": 1.0}, {\"from\": \"HIST1H2BL\", \"to\": \"HIST1H2AF\", \"width\": 1.0}, {\"from\": \"MCM4\", \"to\": \"HIST1H2BL\", \"width\": 1.0}, {\"from\": \"HIST1H2BL\", \"to\": \"GM44335\", \"width\": 1.0}, {\"from\": \"RRM2\", \"to\": \"HIST1H2BL\", \"width\": 1.0}, {\"from\": \"HIST1H2AF\", \"to\": \"HIST1H2BN\", \"width\": 1.0}, {\"from\": \"RRM2\", \"to\": \"HIST1H2BN\", \"width\": 1.0}, {\"from\": \"MCM4\", \"to\": \"HIST1H2BN\", \"width\": 1.0}, {\"from\": \"HIST1H2AF\", \"to\": \"DNMT1\", \"width\": 1.0}, {\"from\": \"HIST1H2AF\", \"to\": \"GM44335\", \"width\": 1.0}, {\"from\": \"HIST1H2AF\", \"to\": \"BRCA1\", \"width\": 1.0}, {\"from\": \"HIST1H2AF\", \"to\": \"TAF1\", \"width\": 1.0}, {\"from\": \"HIST1H2AF\", \"to\": \"FBXO5\", \"width\": 1.0}, {\"from\": \"GM44335\", \"to\": \"TOP2A\", \"width\": 1.0}, {\"from\": \"HIST1H2BN\", \"to\": \"GM44335\", \"width\": 1.0}, {\"from\": \"GM44335\", \"to\": \"HIST1H1A\", \"width\": 1.0}, {\"from\": \"GM44335\", \"to\": \"HIST1H2AC\", \"width\": 1.0}, {\"from\": \"GM44335\", \"to\": \"POLR3B\", \"width\": 1.0}, {\"from\": \"GM44335\", \"to\": \"GM10184\", \"width\": 1.0}, {\"from\": \"HIST1H2AG\", \"to\": \"GM44335\", \"width\": 1.0}, {\"from\": \"KANK3\", \"to\": \"GM44335\", \"width\": 1.0}, {\"from\": \"GM44335\", \"to\": \"ATF4\", \"width\": 1.0}, {\"from\": \"GM44335\", \"to\": \"DNMT1\", \"width\": 1.0}, {\"from\": \"TOP2A\", \"to\": \"ATF4\", \"width\": 0.5}, {\"from\": \"GM10184\", \"to\": \"ATF4\", \"width\": 0.5}, {\"from\": \"DEK\", \"to\": \"RBBP4\", \"width\": 0.5}, {\"from\": \"UNG\", \"to\": \"MCM4\", \"width\": 0.5}, {\"from\": \"MCM4\", \"to\": \"MCM6\", \"width\": 0.5}, {\"from\": \"MCM4\", \"to\": \"RRM2\", \"width\": 0.5}, {\"from\": \"MCM4\", \"to\": \"MCM3\", \"width\": 0.5}, {\"from\": \"MCM4\", \"to\": \"MCM5\", \"width\": 0.5}, {\"from\": \"E2F1\", \"to\": \"MCM4\", \"width\": 0.5}, {\"from\": \"MCM4\", \"to\": \"UHRF1\", \"width\": 0.5}, {\"from\": \"MCM4\", \"to\": \"PCNA\", \"width\": 0.5}, {\"from\": \"MCM10\", \"to\": \"MCM4\", \"width\": 0.5}, {\"from\": \"MCM7\", \"to\": \"MCM4\", \"width\": 0.5}, {\"from\": \"MCM4\", \"to\": \"RAD51\", \"width\": 0.5}, {\"from\": \"MCM4\", \"to\": \"ZFP367\", \"width\": 0.5}, {\"from\": \"MCM4\", \"to\": \"TIMELESS\", \"width\": 0.5}, {\"from\": \"MCM4\", \"to\": \"RBBP4\", \"width\": 0.5}, {\"from\": \"POLR3B\", \"to\": \"TOP2A\", \"width\": 0.5}, {\"from\": \"POLR3B\", \"to\": \"GM10184\", \"width\": 0.5}, {\"from\": \"MCM10\", \"to\": \"RRM2\", \"width\": 0.5}, {\"from\": \"UHRF1\", \"to\": \"MCM10\", \"width\": 0.5}, {\"from\": \"MCM3\", \"to\": \"MCM10\", \"width\": 0.5}, {\"from\": \"E2F1\", \"to\": \"MCM10\", \"width\": 0.5}, {\"from\": \"MCM10\", \"to\": \"RAD51\", \"width\": 0.5}, {\"from\": \"MCM10\", \"to\": \"MCM5\", \"width\": 0.5}, {\"from\": \"MCM10\", \"to\": \"PCNA\", \"width\": 0.5}, {\"from\": \"MCM10\", \"to\": \"UNG\", \"width\": 0.5}, {\"from\": \"MCM6\", \"to\": \"MCM10\", \"width\": 0.5}, {\"from\": \"ZFP367\", \"to\": \"MCM10\", \"width\": 0.5}, {\"from\": \"MCM7\", \"to\": \"MCM10\", \"width\": 0.5}, {\"from\": \"MCM10\", \"to\": \"BARD1\", \"width\": 0.5}, {\"from\": \"E2F1\", \"to\": \"UNG\", \"width\": 0.5}, {\"from\": \"E2F1\", \"to\": \"MCM6\", \"width\": 0.5}, {\"from\": \"E2F1\", \"to\": \"MCM3\", \"width\": 0.5}, {\"from\": \"E2F1\", \"to\": \"PCNA\", \"width\": 0.5}, {\"from\": \"E2F1\", \"to\": \"MCM5\", \"width\": 0.5}, {\"from\": \"E2F1\", \"to\": \"ZFP367\", \"width\": 0.5}, {\"from\": \"E2F1\", \"to\": \"RRM2\", \"width\": 0.5}, {\"from\": \"UHRF1\", \"to\": \"E2F1\", \"width\": 0.5}, {\"from\": \"E2F1\", \"to\": \"RAD51\", \"width\": 0.5}, {\"from\": \"BARD1\", \"to\": \"E2F1\", \"width\": 0.5}, {\"from\": \"E2F1\", \"to\": \"TIMELESS\", \"width\": 0.5}, {\"from\": \"E2F1\", \"to\": \"MCM7\", \"width\": 0.5}, {\"from\": \"MCM3\", \"to\": \"UNG\", \"width\": 0.5}, {\"from\": \"MCM6\", \"to\": \"MCM3\", \"width\": 0.5}, {\"from\": \"MCM3\", \"to\": \"RRM2\", \"width\": 0.5}, {\"from\": \"MCM3\", \"to\": \"MCM5\", \"width\": 0.5}, {\"from\": \"MCM3\", \"to\": \"UHRF1\", \"width\": 0.5}, {\"from\": \"MCM3\", \"to\": \"PCNA\", \"width\": 0.5}, {\"from\": \"MCM7\", \"to\": \"MCM3\", \"width\": 0.5}, {\"from\": \"MCM3\", \"to\": \"RAD51\", \"width\": 0.5}, {\"from\": \"ZFP367\", \"to\": \"MCM3\", \"width\": 0.5}, {\"from\": \"MCM3\", \"to\": \"TIMELESS\", \"width\": 0.5}, {\"from\": \"MCM3\", \"to\": \"BARD1\", \"width\": 0.5}, {\"from\": \"RRM2\", \"to\": \"RAD51\", \"width\": 0.5}, {\"from\": \"MCM6\", \"to\": \"RAD51\", \"width\": 0.5}, {\"from\": \"MCM7\", \"to\": \"RAD51\", \"width\": 0.5}, {\"from\": \"MCM5\", \"to\": \"RAD51\", \"width\": 0.5}, {\"from\": \"UHRF1\", \"to\": \"RAD51\", \"width\": 0.5}, {\"from\": \"RAD51\", \"to\": \"RBBP4\", \"width\": 0.5}, {\"from\": \"UNG\", \"to\": \"RAD51\", \"width\": 0.5}, {\"from\": \"PCNA\", \"to\": \"RAD51\", \"width\": 0.5}, {\"from\": \"GM10184\", \"to\": \"TOP2A\", \"width\": 0.5}, {\"from\": \"ZFP367\", \"to\": \"UNG\", \"width\": 0.5}, {\"from\": \"PCNA\", \"to\": \"ZFP367\", \"width\": 0.5}, {\"from\": \"ZFP367\", \"to\": \"UHRF1\", \"width\": 0.5}, {\"from\": \"RRM2\", \"to\": \"ZFP367\", \"width\": 0.5}, {\"from\": \"MCM6\", \"to\": \"ZFP367\", \"width\": 0.5}, {\"from\": \"ZFP367\", \"to\": \"MCM7\", \"width\": 0.5}, {\"from\": \"ZFP367\", \"to\": \"MCM5\", \"width\": 0.5}, {\"from\": \"ZFP367\", \"to\": \"TIMELESS\", \"width\": 0.5}, {\"from\": \"ZFP367\", \"to\": \"BARD1\", \"width\": 0.5}, {\"from\": \"UNG\", \"to\": \"MCM6\", \"width\": 0.5}, {\"from\": \"UNG\", \"to\": \"RRM2\", \"width\": 0.5}, {\"from\": \"MCM5\", \"to\": \"UNG\", \"width\": 0.5}, {\"from\": \"UNG\", \"to\": \"UHRF1\", \"width\": 0.5}, {\"from\": \"UNG\", \"to\": \"PCNA\", \"width\": 0.5}, {\"from\": \"UNG\", \"to\": \"MCM7\", \"width\": 0.5}, {\"from\": \"UNG\", \"to\": \"BARD1\", \"width\": 0.5}, {\"from\": \"UNG\", \"to\": \"TIMELESS\", \"width\": 0.5}, {\"from\": \"MCM6\", \"to\": \"MCM5\", \"width\": 0.5}, {\"from\": \"RRM2\", \"to\": \"MCM5\", \"width\": 0.5}, {\"from\": \"PCNA\", \"to\": \"MCM5\", \"width\": 0.5}, {\"from\": \"MCM5\", \"to\": \"UHRF1\", \"width\": 0.5}, {\"from\": \"MCM5\", \"to\": \"MCM7\", \"width\": 0.5}, {\"from\": \"MCM5\", \"to\": \"RBBP4\", \"width\": 0.5}, {\"from\": \"UHRF1\", \"to\": \"RRM2\", \"width\": 0.5}, {\"from\": \"UHRF1\", \"to\": \"PCNA\", \"width\": 0.5}, {\"from\": \"MCM6\", \"to\": \"UHRF1\", \"width\": 0.5}, {\"from\": \"UHRF1\", \"to\": \"RBBP4\", \"width\": 0.5}, {\"from\": \"UHRF1\", \"to\": \"MCM7\", \"width\": 0.5}, {\"from\": \"BARD1\", \"to\": \"UHRF1\", \"width\": 0.5}, {\"from\": \"RRM2\", \"to\": \"RBBP4\", \"width\": 0.5}, {\"from\": \"BARD1\", \"to\": \"RRM2\", \"width\": 0.5}, {\"from\": \"BARD1\", \"to\": \"MCM4\", \"width\": 0.5}, {\"from\": \"PCNA\", \"to\": \"BARD1\", \"width\": 0.5}, {\"from\": \"BARD1\", \"to\": \"RAD51\", \"width\": 0.5}, {\"from\": \"BARD1\", \"to\": \"MCM6\", \"width\": 0.5}, {\"from\": \"BARD1\", \"to\": \"MCM5\", \"width\": 0.5}, {\"from\": \"MCM6\", \"to\": \"RRM2\", \"width\": 0.5}, {\"from\": \"MCM7\", \"to\": \"MCM6\", \"width\": 0.5}, {\"from\": \"MCM6\", \"to\": \"PCNA\", \"width\": 0.5}, {\"from\": \"MCM6\", \"to\": \"TIMELESS\", \"width\": 0.5}, {\"from\": \"TAF1\", \"to\": \"DEK\", \"width\": 0.5}, {\"from\": \"MCM10\", \"to\": \"TAF1\", \"width\": 0.5}, {\"from\": \"RRM2\", \"to\": \"PCNA\", \"width\": 0.5}, {\"from\": \"MCM7\", \"to\": \"RRM2\", \"width\": 0.5}, {\"from\": \"EZH2\", \"to\": \"RRM2\", \"width\": 0.5}, {\"from\": \"UHRF1\", \"to\": \"EZH2\", \"width\": 0.5}, {\"from\": \"MCM6\", \"to\": \"EZH2\", \"width\": 0.5}, {\"from\": \"MCM4\", \"to\": \"EZH2\", \"width\": 0.5}, {\"from\": \"DEK\", \"to\": \"EZH2\", \"width\": 0.5}, {\"from\": \"EZH2\", \"to\": \"MCM7\", \"width\": 0.5}, {\"from\": \"EZH2\", \"to\": \"MCM3\", \"width\": 0.5}, {\"from\": \"EZH2\", \"to\": \"MCM10\", \"width\": 0.5}, {\"from\": \"MCM5\", \"to\": \"EZH2\", \"width\": 0.5}, {\"from\": \"EZH2\", \"to\": \"RAD51\", \"width\": 0.5}, {\"from\": \"EZH2\", \"to\": \"RBBP4\", \"width\": 0.5}, {\"from\": \"E2F1\", \"to\": \"EZH2\", \"width\": 0.5}, {\"from\": \"BARD1\", \"to\": \"EZH2\", \"width\": 0.5}, {\"from\": \"EZH2\", \"to\": \"PCNA\", \"width\": 0.5}, {\"from\": \"TOP2A\", \"to\": \"MAZ\", \"width\": 0.5}, {\"from\": \"POLR3B\", \"to\": \"MAZ\", \"width\": 0.5}, {\"from\": \"TIMELESS\", \"to\": \"MAZ\", \"width\": 0.5}, {\"from\": \"MCM7\", \"to\": \"PCNA\", \"width\": 0.5}, {\"from\": \"PCNA\", \"to\": \"TIMELESS\", \"width\": 0.5}, {\"from\": \"RBBP4\", \"to\": \"PCNA\", \"width\": 0.5}, {\"from\": \"MCM7\", \"to\": \"TIMELESS\", \"width\": 0.5}, {\"from\": \"MCM10\", \"to\": \"TIMELESS\", \"width\": 0.5}, {\"from\": \"UHRF1\", \"to\": \"TIMELESS\", \"width\": 0.5}, {\"from\": \"RRM2\", \"to\": \"TIMELESS\", \"width\": 0.5}, {\"from\": \"MCM5\", \"to\": \"TIMELESS\", \"width\": 0.5}]);\n",
       "\n",
       "                  nodeColors = {};\n",
       "                  allNodes = nodes.get({ returnType: \"Object\" });\n",
       "                  for (nodeId in allNodes) {\n",
       "                    nodeColors[nodeId] = allNodes[nodeId].color;\n",
       "                  }\n",
       "                  allEdges = edges.get({ returnType: \"Object\" });\n",
       "                  // adding nodes and edges to the graph\n",
       "                  data = {nodes: nodes, edges: edges};\n",
       "\n",
       "                  var options = {\n",
       "    \"configure\": {\n",
       "        \"enabled\": false\n",
       "    },\n",
       "    \"edges\": {\n",
       "        \"color\": {\n",
       "            \"inherit\": true\n",
       "        },\n",
       "        \"smooth\": {\n",
       "            \"enabled\": true,\n",
       "            \"type\": \"dynamic\"\n",
       "        }\n",
       "    },\n",
       "    \"interaction\": {\n",
       "        \"dragNodes\": true,\n",
       "        \"hideEdgesOnDrag\": false,\n",
       "        \"hideNodesOnDrag\": false\n",
       "    },\n",
       "    \"physics\": {\n",
       "        \"enabled\": true,\n",
       "        \"repulsion\": {\n",
       "            \"centralGravity\": 0.2,\n",
       "            \"damping\": 0.09,\n",
       "            \"nodeDistance\": 100,\n",
       "            \"springConstant\": 0.05,\n",
       "            \"springLength\": 200\n",
       "        },\n",
       "        \"solver\": \"repulsion\",\n",
       "        \"stabilization\": {\n",
       "            \"enabled\": true,\n",
       "            \"fit\": true,\n",
       "            \"iterations\": 1000,\n",
       "            \"onlyDynamicEdges\": false,\n",
       "            \"updateInterval\": 50\n",
       "        }\n",
       "    }\n",
       "};\n",
       "\n",
       "                  \n",
       "\n",
       "\n",
       "                  \n",
       "\n",
       "                  network = new vis.Network(container, data, options);\n",
       "\n",
       "                  \n",
       "\n",
       "                  \n",
       "\n",
       "                  \n",
       "\n",
       "\n",
       "                  \n",
       "\n",
       "                  return network;\n",
       "\n",
       "              }\n",
       "              drawGraph();\n",
       "        </script>\n",
       "    </body>\n",
       "</html>"
      ],
      "text/plain": [
       "<IPython.core.display.HTML object>"
      ]
     },
     "execution_count": 31,
     "metadata": {},
     "output_type": "execute_result"
    }
   ],
   "source": [
    "g = grn.visualize_local_neighborhood('HIST1H1D', k=40, node_group_dict=gene_group_dict)\n",
    "HTML(g.generate_html())"
   ]
  },
  {
   "cell_type": "code",
   "execution_count": null,
   "id": "847e7936-affa-419e-82bf-1de1b2d90455",
   "metadata": {},
   "outputs": [],
   "source": []
  }
 ],
 "metadata": {
  "kernelspec": {
   "display_name": "grn",
   "language": "python",
   "name": "grn"
  },
  "language_info": {
   "codemirror_mode": {
    "name": "ipython",
    "version": 3
   },
   "file_extension": ".py",
   "mimetype": "text/x-python",
   "name": "python",
   "nbconvert_exporter": "python",
   "pygments_lexer": "ipython3",
   "version": "3.11.7"
  }
 },
 "nbformat": 4,
 "nbformat_minor": 5
}
