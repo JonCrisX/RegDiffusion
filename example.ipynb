{
 "cells": [
  {
   "cell_type": "markdown",
   "id": "b302fe93-4e4e-40d9-b873-d6561c90f344",
   "metadata": {},
   "source": [
    "# Getting Startted with GRN inference using diffusion model\n",
    "\n",
    "Diffusion model has been widely used in generative AI, especially in the vision domain. In our paper, we proposed RegDiffusion, a diffusion based model for GRN inference. Compared with previous model, RegDiffusion completes inference within a fraction of time and yield better benchmarking results. \n",
    "\n",
    "In this tutorial, we provide an example of running GRN inference using RegDiffusion and generating biological insights from the inferred network. "
   ]
  },
  {
   "cell_type": "markdown",
   "id": "7513859b-886a-4ca2-bbec-d8ba9163d7bc",
   "metadata": {},
   "source": [
    "## Requirements\n",
    "\n",
    "We will need the python package `regdiffusion` for GRN inference. For accelerated inference speed, you may want to run `regdiffusion` on GPU devices with the latest CUDA installation. "
   ]
  },
  {
   "cell_type": "code",
   "execution_count": 17,
   "id": "835ad442-8eb4-4ead-8dc9-caeadaa08454",
   "metadata": {},
   "outputs": [],
   "source": [
    "import regdiffusion as rd\n",
    "import numpy as np\n",
    "\n",
    "# For displaying visualization in notebook\n",
    "from IPython.core.display import HTML"
   ]
  },
  {
   "cell_type": "markdown",
   "id": "ff0c7b2c-09d3-47f6-aa21-2e4e87247444",
   "metadata": {},
   "source": [
    "## Data loading\n",
    "\n",
    "The input of `regdiffusion` is simply a single-cell gene expression matrix, where the columns are genes and rows are cells. We expect you to log transform your data. RegDiffusion is capable to infer GRNs among 10,000+ genes (depending on GPU hardware) within minutes so there is no need to apply heavy gene filtering. The only genes you may want to remove are genes that are not expressed at all (total raw count on all cells == 0). \n",
    "\n",
    "The `regdiffusion` package comes with a set of preprocessed data, including the [BEELINE benchmarks](https://pubmed.ncbi.nlm.nih.gov/31907445/), [Hammond microglia](https://pubmed.ncbi.nlm.nih.gov/30471926/) in male adult mice, and another labelled microglia subset from a [mice cerebellum atlas project](https://singlecell.broadinstitute.org/single_cell/study/SCP795/a-transcriptomic-atlas-of-the-mouse-cerebellum#study-summary). \n",
    "\n",
    "Here we use the `mESC` data from the BEELINE benchmark. The `mESC` data comes from [Mouse embryonic stem cells](https://www.nature.com/articles/s41467-018-02866-0). It has 421 cells and 1,620 genes. \n",
    "\n",
    "If you want to see the inference on a larger network with 14,000+ genes and 8,000+ cells, check out the other example. "
   ]
  },
  {
   "cell_type": "code",
   "execution_count": 2,
   "id": "75c76238-8880-4d03-a7c2-264287345807",
   "metadata": {},
   "outputs": [],
   "source": [
    "bl_dt, bl_gt = rd.data.load_beeline(\n",
    "    benchmark_data='mESC', benchmark_setting='1000_STRING'\n",
    ")"
   ]
  },
  {
   "cell_type": "markdown",
   "id": "896ae204-36b3-48a1-a206-f6079f218474",
   "metadata": {},
   "source": [
    "Here, `load_beeline` gives you a tuple, where the first element is an anndata of the single cell experession data and the second element is an array of all the ground truth links (based on the STRING network in this case). "
   ]
  },
  {
   "cell_type": "code",
   "execution_count": 3,
   "id": "e78917fe-72ef-472b-bd76-5686bcec3cb8",
   "metadata": {},
   "outputs": [
    {
     "data": {
      "text/plain": [
       "AnnData object with n_obs × n_vars = 421 × 1620\n",
       "    obs: 'cell_type', 'cell_type_index'"
      ]
     },
     "execution_count": 3,
     "metadata": {},
     "output_type": "execute_result"
    }
   ],
   "source": [
    "bl_dt"
   ]
  },
  {
   "cell_type": "code",
   "execution_count": 4,
   "id": "ade5041f-5fb4-4b06-b250-956008e0a085",
   "metadata": {},
   "outputs": [
    {
     "data": {
      "text/plain": [
       "array([['KLF6', 'JUN'],\n",
       "       ['JUN', 'KLF6'],\n",
       "       ['KLF6', 'ATF3'],\n",
       "       ...,\n",
       "       ['SIN3A', 'TET1'],\n",
       "       ['MEF2C', 'TCF12'],\n",
       "       ['TCF12', 'MEF2C']], dtype=object)"
      ]
     },
     "execution_count": 4,
     "metadata": {},
     "output_type": "execute_result"
    }
   ],
   "source": [
    "bl_gt"
   ]
  },
  {
   "cell_type": "markdown",
   "id": "9b59fcae-3e62-4134-9153-0bfa28f2c84d",
   "metadata": {},
   "source": [
    "# GRN Inference\n",
    "\n",
    "You are recommended to use the provided trainer to train a RegDiffusion Model. You need to provide the expression data in a numpy array to the trainer. \n",
    "\n",
    "During the training process, the training loss and the average amount of change on the adjacency matrix are provided on the progress bar. The model converges when the step change n the adjacency matrix is near-zero. By default, the `train` method will train the model for 1,000 iterations. It should be sufficient in most cases. If you want to keep training the model afterwards, you can simply call the `train` methods again with the desired number of iterations. "
   ]
  },
  {
   "cell_type": "code",
   "execution_count": 5,
   "id": "bc3a63a5-b5dc-4ec3-82b6-b8cb2dd341b1",
   "metadata": {},
   "outputs": [
    {
     "name": "stderr",
     "output_type": "stream",
     "text": [
      "Training loss: 0.251, Change on Adj: -0.000: 100%|████████████████████████████████████████████████████████████████████████████| 1000/1000 [00:08<00:00, 119.87it/s]\n"
     ]
    }
   ],
   "source": [
    "rd_trainer = rd.RegDiffusionTrainer(bl_dt.X)\n",
    "rd_trainer.train()"
   ]
  },
  {
   "cell_type": "markdown",
   "id": "a3cd5f82-7765-469f-b2d7-b0906cf20aea",
   "metadata": {},
   "source": [
    "When ground truth links are avaiable, you can test the inference performance by setting up an evaluator. You need to provide both the ground truth links and the gene names. Note that the order of the provided gene names here should be the same as the column order in the expression table (and the inferred adjacency matrix). "
   ]
  },
  {
   "cell_type": "code",
   "execution_count": 6,
   "id": "31bd6acc-bf8f-4e67-a0e7-fdc85ed1abde",
   "metadata": {},
   "outputs": [
    {
     "data": {
      "text/plain": [
       "{'AUROC': 0.6128314776240764,\n",
       " 'AUPR': 0.051967174752646526,\n",
       " 'AUPRR': 2.443609451710688,\n",
       " 'EP': 750,\n",
       " 'EPR': 4.159291109741152}"
      ]
     },
     "execution_count": 6,
     "metadata": {},
     "output_type": "execute_result"
    }
   ],
   "source": [
    "evaluator = rd.evaluator.GRNEvaluator(bl_gt, bl_dt.var_names)\n",
    "inferred_adj = rd_trainer.get_adj()\n",
    "evaluator.evaluate(inferred_adj)"
   ]
  },
  {
   "cell_type": "markdown",
   "id": "9f0c6503-077b-4547-8cb3-da324b97f572",
   "metadata": {},
   "source": [
    "## GRN object\n",
    "\n",
    "In order to facilitate the downstream analyses on GRN, we defined an `GRN` object in the `regdiffusion` package. You need to provide the gene names in the same order as in your expression table."
   ]
  },
  {
   "cell_type": "code",
   "execution_count": 7,
   "id": "52ea6e49-9f2e-4662-914d-c6f5c9d92a85",
   "metadata": {},
   "outputs": [
    {
     "data": {
      "text/plain": [
       "Inferred GRN: 1,620 TFs x 1,620 Target Genes"
      ]
     },
     "execution_count": 7,
     "metadata": {},
     "output_type": "execute_result"
    }
   ],
   "source": [
    "grn = rd_trainer.get_grn(bl_dt.var_names)\n",
    "grn"
   ]
  },
  {
   "cell_type": "markdown",
   "id": "5a735fbb-0772-49ce-bfe2-cebe5cb3490c",
   "metadata": {},
   "source": [
    "You can easily export the GRN object as a HDF5 file. Right now, HDF5 is the only supported export format but more formats will be added in the future."
   ]
  },
  {
   "cell_type": "code",
   "execution_count": 8,
   "id": "b95aa491-7029-4e19-8742-774cde5e7eb3",
   "metadata": {},
   "outputs": [],
   "source": [
    "grn.to_hdf5('demo_mESC_grn.hdf5')"
   ]
  },
  {
   "cell_type": "markdown",
   "id": "5d484f90-26b9-45f4-9de7-a8d28d373bc8",
   "metadata": {},
   "source": [
    "## Inspecting the local network around particular genes\n",
    "\n",
    "In this example, we run GRN inference on one of the BEELINE benchmark single cell datasets. The provided ground truth makes it possible to validate through standard statistical metrics. However, such ground truth is in fact very noisy and incomplete. \n",
    "\n",
    "In our paper, we proposed a method to visualize the local 2-hop to 3-hop neighborhood around selected genes. We find that genes with similar function will be topologically bounded together and form obvious functional groups. Inspecting these local networks gives us confidence that the inferred networks are biologically meaningful. Here we show an example of using these inferred networks to discover novel findings. \n",
    "\n",
    "### Step 1. Discover target genes\n",
    "\n",
    "There are many ways to discover target genes to study the local networks. For example, you can put your lens on the most varied genes or the top genes that are up/down regulated, using any methods you prefer. Here, we simply pick the gene that has the strongest single regulation based on the inferred adjacency matrix. "
   ]
  },
  {
   "cell_type": "code",
   "execution_count": 9,
   "id": "1d5bac96-23f4-4aa8-87b9-f5ecd6362e60",
   "metadata": {},
   "outputs": [
    {
     "data": {
      "text/plain": [
       "'HIST1H1D'"
      ]
     },
     "execution_count": 9,
     "metadata": {},
     "output_type": "execute_result"
    }
   ],
   "source": [
    "grn.gene_names[np.argmax(grn.adj_matrix.max(1))]"
   ]
  },
  {
   "cell_type": "markdown",
   "id": "e814e0f1-9104-47d6-bab3-77cfb9d566ca",
   "metadata": {},
   "source": [
    "### Step 2. Visualize the local network around the selected gene\n",
    "\n",
    "The `visualize_local_neighborhood` method of an `GRN` object extracts the 2-hop top-k neighborhood around a selected gene and visualize it using `pyvis`/`vis.js`. The default `k` here is 20. However, in cases when the regulatory relationships are strong and bidirectional, `k=20` only gives a very simple network. You may increase the magnitude of `k` to find some meaningful results to you. "
   ]
  },
  {
   "cell_type": "code",
   "execution_count": 33,
   "id": "6c64e64a-9d05-41b2-ad8e-611347dcc074",
   "metadata": {},
   "outputs": [
    {
     "name": "stdout",
     "output_type": "stream",
     "text": [
      "view.html\n"
     ]
    },
    {
     "data": {
      "text/html": [
       "\n",
       "        <iframe\n",
       "            width=\"100%\"\n",
       "            height=\"600px\"\n",
       "            src=\"view.html\"\n",
       "            frameborder=\"0\"\n",
       "            allowfullscreen\n",
       "            \n",
       "        ></iframe>\n",
       "        "
      ],
      "text/plain": [
       "<IPython.lib.display.IFrame at 0x2b775311fe90>"
      ]
     },
     "execution_count": 33,
     "metadata": {},
     "output_type": "execute_result"
    }
   ],
   "source": [
    "g = grn.visualize_local_neighborhood('HIST1H1D', k=40)\n",
    "g.show('view.html')"
   ]
  },
  {
   "cell_type": "code",
   "execution_count": 34,
   "id": "b74eebce-1f79-4152-99a4-e2491dd76a0a",
   "metadata": {},
   "outputs": [
    {
     "name": "stderr",
     "output_type": "stream",
     "text": [
      "Computing transition probabilities: 100%|████████████████████████████████████████████████████████████████████████████████████████| 49/49 [00:00<00:00, 1418.26it/s]\n",
      "Generating walks (CPU: 3): 100%|██████████████████████████████████████████████████████████████████████████████████████████████████| 50/50 [00:00<00:00, 158.77it/s]\n",
      "Generating walks (CPU: 4): 100%|██████████████████████████████████████████████████████████████████████████████████████████████████| 50/50 [00:00<00:00, 158.70it/s]\n",
      "Generating walks (CPU: 1): 100%|██████████████████████████████████████████████████████████████████████████████████████████████████| 50/50 [00:00<00:00, 153.97it/s]\n",
      "Generating walks (CPU: 2): 100%|██████████████████████████████████████████████████████████████████████████████████████████████████| 50/50 [00:00<00:00, 152.47it/s]\n"
     ]
    },
    {
     "name": "stdout",
     "output_type": "stream",
     "text": [
      "Clusters:\n",
      "Cluster 0: HIST1H1D,HIST1H2BN,HIST1H2BK,HIST1H1B,HIST1H2BL,HIST1H2AK,HIST1H1A,HIST1H2AC,HIST1H2BF,HIST1H4K,HIST1H3H,HIST1H2AF,HIST1H2AI,HIST1H2AG,HIST1H2BB,DNMT1,BRCA1,KNTC1,RAD54B,GM44335,FBXO5,TAF1,ABTB1,DEK,KANK3\n",
      "Cluster 1: MCM10,TIMELESS,RAD51,RBBP4,RRM2,MCM6,PCNA,E2F1,UHRF1,MCM4,MCM5,UNG,MCM7,MCM3,ZFP367,EZH2,BARD1\n",
      "Cluster 2: TOP2A,MAZ,POLR3B,GM10184,ATF4\n",
      "Cluster 3: GM26448,EGR1\n"
     ]
    },
    {
     "name": "stderr",
     "output_type": "stream",
     "text": [
      "/cluster/tufts/slonimlab/hzhu07/miniconda3/envs/grn/lib/python3.11/site-packages/sklearn/cluster/_kmeans.py:1416: FutureWarning: The default value of `n_init` will change from 10 to 'auto' in 1.4. Set the value of `n_init` explicitly to suppress the warning\n",
      "  super()._check_params_vs_input(X, default_n_init=10)\n"
     ]
    }
   ],
   "source": [
    "import networkx as nx\n",
    "from sklearn.cluster import KMeans\n",
    "from node2vec import Node2Vec\n",
    "\n",
    "adj_table = grn.extract_node_2hop_neighborhood('HIST1H1D', 40)\n",
    "nxg = nx.from_pandas_edgelist(adj_table)\n",
    "\n",
    "node2vec = Node2Vec(nxg, dimensions=64, walk_length=30, num_walks=200, \n",
    "                    workers=4, seed=123)\n",
    "model = node2vec.fit(window=10, min_count=1, batch_words=4)\n",
    "\n",
    "node_embeddings = [model.wv.get_vector(str(node)) for node in nxg.nodes()]\n",
    "\n",
    "kmeans = KMeans(n_clusters=4, random_state=0).fit(node_embeddings)\n",
    "node_labels = kmeans.labels_\n",
    "\n",
    "print(\"Clusters:\")\n",
    "for cluster_id in range(max(node_labels) + 1):\n",
    "    cluster_nodes = [g for g, c in zip(nxg.nodes(), node_labels) if c == cluster_id]\n",
    "    print(f\"Cluster {cluster_id}: {','.join(cluster_nodes)}\")"
   ]
  },
  {
   "cell_type": "code",
   "execution_count": 35,
   "id": "847e7936-affa-419e-82bf-1de1b2d90455",
   "metadata": {},
   "outputs": [],
   "source": [
    "gene_group_dict = dict()\n",
    "gene_group_dict = {g:str(c) for g, c in zip(nxg.nodes(), node_labels)}"
   ]
  },
  {
   "cell_type": "code",
   "execution_count": 36,
   "id": "c74fee0a-ada8-415e-8492-7c4e0bcded80",
   "metadata": {},
   "outputs": [
    {
     "name": "stdout",
     "output_type": "stream",
     "text": [
      "view.html\n"
     ]
    },
    {
     "data": {
      "text/html": [
       "\n",
       "        <iframe\n",
       "            width=\"100%\"\n",
       "            height=\"600px\"\n",
       "            src=\"view.html\"\n",
       "            frameborder=\"0\"\n",
       "            allowfullscreen\n",
       "            \n",
       "        ></iframe>\n",
       "        "
      ],
      "text/plain": [
       "<IPython.lib.display.IFrame at 0x2b76dd892390>"
      ]
     },
     "execution_count": 36,
     "metadata": {},
     "output_type": "execute_result"
    }
   ],
   "source": [
    "g = grn.visualize_local_neighborhood('HIST1H1D', k=40, node_group_dict=gene_group_dict)\n",
    "g.show('view.html')"
   ]
  },
  {
   "cell_type": "code",
   "execution_count": null,
   "id": "62d4fe57-5459-48c3-b46e-bf03af8c549b",
   "metadata": {},
   "outputs": [],
   "source": []
  }
 ],
 "metadata": {
  "kernelspec": {
   "display_name": "grn",
   "language": "python",
   "name": "grn"
  },
  "language_info": {
   "codemirror_mode": {
    "name": "ipython",
    "version": 3
   },
   "file_extension": ".py",
   "mimetype": "text/x-python",
   "name": "python",
   "nbconvert_exporter": "python",
   "pygments_lexer": "ipython3",
   "version": "3.11.7"
  }
 },
 "nbformat": 4,
 "nbformat_minor": 5
}
