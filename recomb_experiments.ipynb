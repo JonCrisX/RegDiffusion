{
 "cells": [
  {
   "cell_type": "code",
   "execution_count": 3,
   "id": "d8e854a7-77b1-4611-ad79-518184fa5244",
   "metadata": {},
   "outputs": [],
   "source": [
    "import os"
   ]
  },
  {
   "cell_type": "code",
   "execution_count": 5,
   "id": "34b34d08-71b2-4d80-b9e4-9e31a9ca167f",
   "metadata": {},
   "outputs": [],
   "source": [
    "fs = os.listdir()\n",
    "fs = [x for x in fs if x.startswith('slurm')]\n",
    "for x in fs:\n",
    "    os.remove(x)"
   ]
  },
  {
   "cell_type": "code",
   "execution_count": null,
   "id": "fadb0fd8-23b3-4308-ac8e-5c7a4ad28f00",
   "metadata": {},
   "outputs": [],
   "source": [
    "for dt in ['hESC', 'hHep', 'mDC', 'mESC', 'mHSC-E', 'mHSC-GM', 'mHSC-L']:\n",
    "    for _ in range(10):\n",
    "        os.system(f'sbatch recomb_benchmark.sh grnboost2 {dt}')"
   ]
  },
  {
   "cell_type": "code",
   "execution_count": null,
   "id": "3988b264-7930-438c-ba18-8ae289579377",
   "metadata": {},
   "outputs": [],
   "source": [
    "for dt in ['hESC', 'hHep', 'mDC', 'mESC', 'mHSC-E', 'mHSC-GM', 'mHSC-L']:\n",
    "    for _ in range(10):\n",
    "        os.system(f'sbatch recomb_benchmark.sh genie3 {dt}')"
   ]
  },
  {
   "cell_type": "code",
   "execution_count": null,
   "id": "f027a4cc-cb02-4fe4-91bc-7ec18eb1070c",
   "metadata": {},
   "outputs": [],
   "source": [
    "for _ in range(10):\n",
    "    os.system(f'sbatch recomb_benchmark_gpu.sh deepsem')"
   ]
  },
  {
   "cell_type": "code",
   "execution_count": null,
   "id": "8ba0f104-8e8e-495d-9b0d-23eaa9300d16",
   "metadata": {},
   "outputs": [],
   "source": [
    "for _ in range(10):\n",
    "    os.system(f'sbatch recomb_benchmark_gpu.sh deepseme')"
   ]
  },
  {
   "cell_type": "code",
   "execution_count": null,
   "id": "c7b7226a-7ed8-4baa-871c-961135ae1d9e",
   "metadata": {},
   "outputs": [],
   "source": [
    "for _ in range(10):\n",
    "    os.system(f'sbatch recomb_benchmark_gpu.sh dazzle')"
   ]
  },
  {
   "cell_type": "code",
   "execution_count": null,
   "id": "94ec0748-25fd-4e2b-bd9f-3b93f9a7189e",
   "metadata": {},
   "outputs": [],
   "source": [
    "for _ in range(10):\n",
    "    os.system(f'sbatch recomb_benchmark_gpu.sh regdiffusion')"
   ]
  },
  {
   "cell_type": "code",
   "execution_count": null,
   "id": "3ca7e33e-1608-4fae-aae5-4c649f479fc0",
   "metadata": {},
   "outputs": [],
   "source": [
    "for _ in range(10):\n",
    "    os.system(f'sbatch recomb_benchmark_gpu.sh regdiffusionda')"
   ]
  },
  {
   "cell_type": "code",
   "execution_count": 1,
   "id": "6216ac51-1a2f-429c-b86b-dad1e9cba1f0",
   "metadata": {},
   "outputs": [
    {
     "name": "stdout",
     "output_type": "stream",
     "text": [
      "Submitted batch job 44842720\n",
      "Submitted batch job 44842721\n",
      "Submitted batch job 44842722\n",
      "Submitted batch job 44842723\n",
      "Submitted batch job 44842724\n"
     ]
    }
   ],
   "source": [
    "!sbatch recomb_benchmark_reduced.sh genie3 0.9\n",
    "!sbatch recomb_benchmark_reduced.sh genie3 0.8\n",
    "!sbatch recomb_benchmark_reduced.sh genie3 0.5\n",
    "!sbatch recomb_benchmark_reduced.sh genie3 0.2\n",
    "!sbatch recomb_benchmark_reduced.sh genie3 0.1"
   ]
  },
  {
   "cell_type": "code",
   "execution_count": 4,
   "id": "e965d92d-ef2d-411d-82c5-c5292b02ed74",
   "metadata": {},
   "outputs": [
    {
     "name": "stdout",
     "output_type": "stream",
     "text": [
      "Submitted batch job 44842726\n",
      "Submitted batch job 44842727\n",
      "Submitted batch job 44842728\n",
      "Submitted batch job 44842729\n",
      "Submitted batch job 44842730\n"
     ]
    }
   ],
   "source": [
    "for train_split in [0.9, 0.8, 0.5, 0.2, 0.1]:\n",
    "    os.system(f'sbatch recomb_benchmark_reduced.sh grnboost2 {train_split}')"
   ]
  },
  {
   "cell_type": "code",
   "execution_count": 2,
   "id": "6d59758b-1879-462e-84b0-b2b2c59d78d9",
   "metadata": {},
   "outputs": [],
   "source": [
    "import numpy as np\n",
    "from regdiffusion import runRegDiffusion, DEFAULT_REGDIFFUSION_CONFIGS\n",
    "from dazzle import load_beeline, extract_edges, get_metrics, DAZZLE, LightLogger, runDAZZLE, runDAZZLE_ensemble, DEFAULT_DAZZLE_CONFIGS, DEFAULT_DEEPSEM_CONFIGS\n",
    "from datetime import datetime\n",
    "import pandas as pd\n",
    "import matplotlib.pyplot as plt\n",
    "import seaborn as sns"
   ]
  },
  {
   "cell_type": "code",
   "execution_count": 10,
   "id": "76fb1d67-c61d-44a1-b7e9-77114d219b08",
   "metadata": {},
   "outputs": [
    {
     "name": "stderr",
     "output_type": "stream",
     "text": [
      "100%|██████████| 120/120 [00:08<00:00, 14.29it/s]\n"
     ]
    },
    {
     "name": "stdout",
     "output_type": "stream",
     "text": [
      "Time cost: 8.417756\n"
     ]
    },
    {
     "name": "stderr",
     "output_type": "stream",
     "text": [
      "100%|██████████| 120/120 [00:13<00:00,  9.20it/s]\n"
     ]
    },
    {
     "name": "stdout",
     "output_type": "stream",
     "text": [
      "Time cost: 13.087809\n"
     ]
    },
    {
     "name": "stderr",
     "output_type": "stream",
     "text": [
      "100%|██████████| 120/120 [00:23<00:00,  5.22it/s]\n"
     ]
    },
    {
     "name": "stdout",
     "output_type": "stream",
     "text": [
      "Time cost: 23.083289\n"
     ]
    },
    {
     "name": "stderr",
     "output_type": "stream",
     "text": [
      "100%|██████████| 120/120 [00:49<00:00,  2.43it/s]\n"
     ]
    },
    {
     "name": "stdout",
     "output_type": "stream",
     "text": [
      "Time cost: 49.663373\n"
     ]
    },
    {
     "name": "stderr",
     "output_type": "stream",
     "text": [
      "100%|██████████| 120/120 [03:23<00:00,  1.69s/it]\n"
     ]
    },
    {
     "name": "stdout",
     "output_type": "stream",
     "text": [
      "Time cost: 203.954268\n"
     ]
    },
    {
     "name": "stderr",
     "output_type": "stream",
     "text": [
      "100%|██████████| 120/120 [14:28<00:00,  7.24s/it]\n"
     ]
    },
    {
     "name": "stdout",
     "output_type": "stream",
     "text": [
      "Time cost: 870.759428\n"
     ]
    },
    {
     "name": "stderr",
     "output_type": "stream",
     "text": [
      "100%|██████████| 250/250 [00:10<00:00, 23.07it/s]\n"
     ]
    },
    {
     "name": "stdout",
     "output_type": "stream",
     "text": [
      "Time cost: 11.163813\n"
     ]
    },
    {
     "name": "stderr",
     "output_type": "stream",
     "text": [
      "100%|██████████| 250/250 [00:10<00:00, 22.90it/s]\n"
     ]
    },
    {
     "name": "stdout",
     "output_type": "stream",
     "text": [
      "Time cost: 10.975705\n"
     ]
    },
    {
     "name": "stderr",
     "output_type": "stream",
     "text": [
      "100%|██████████| 250/250 [00:11<00:00, 22.28it/s]\n"
     ]
    },
    {
     "name": "stdout",
     "output_type": "stream",
     "text": [
      "Time cost: 11.299007\n"
     ]
    },
    {
     "name": "stderr",
     "output_type": "stream",
     "text": [
      "100%|██████████| 250/250 [00:14<00:00, 17.12it/s]\n"
     ]
    },
    {
     "name": "stdout",
     "output_type": "stream",
     "text": [
      "Time cost: 14.752962\n"
     ]
    },
    {
     "name": "stderr",
     "output_type": "stream",
     "text": [
      "100%|██████████| 250/250 [00:57<00:00,  4.36it/s]\n"
     ]
    },
    {
     "name": "stdout",
     "output_type": "stream",
     "text": [
      "Time cost: 57.972512\n"
     ]
    },
    {
     "name": "stderr",
     "output_type": "stream",
     "text": [
      "100%|██████████| 250/250 [03:08<00:00,  1.32it/s]"
     ]
    },
    {
     "name": "stdout",
     "output_type": "stream",
     "text": [
      "Time cost: 190.665432\n"
     ]
    },
    {
     "name": "stderr",
     "output_type": "stream",
     "text": [
      "\n"
     ]
    }
   ],
   "source": [
    "configs = DEFAULT_REGDIFFUSION_CONFIGS\n",
    "configs['verbose'] = False\n",
    "ncell = 1000\n",
    "time_log = []\n",
    "for m in ['deepsem*', 'regdiffusion']:\n",
    "    for ngene in [100, 500, 1000, 2000, 5000, 10000]:\n",
    "        start = datetime.now()\n",
    "        fake_data = np.random.randn(ncell, ngene)\n",
    "        if m == 'regdiffusion':\n",
    "            model = runRegDiffusion(fake_data, configs)\n",
    "        else:\n",
    "            model = runDAZZLE(fake_data, DEFAULT_DEEPSEM_CONFIGS)\n",
    "        time_cost = (datetime.now() - start).total_seconds()\n",
    "        print(f'Time cost: {time_cost}')\n",
    "        time_log.append({\n",
    "            'n_cell': ncell, 'n_gene': ngene, 'model': m, \n",
    "            'time_cost': time_cost\n",
    "        })"
   ]
  },
  {
   "cell_type": "code",
   "execution_count": 11,
   "id": "62cd4610-974f-4ab1-baea-8069184c9cf9",
   "metadata": {},
   "outputs": [],
   "source": [
    "pd.DataFrame(time_log).to_csv('time_cost.csv', index=False)"
   ]
  },
  {
   "cell_type": "code",
   "execution_count": null,
   "id": "28cd4ca6-73df-4fc1-a416-6a57e5513133",
   "metadata": {},
   "outputs": [],
   "source": []
  },
  {
   "cell_type": "code",
   "execution_count": null,
   "id": "ecd85111-9350-438a-a14c-f4e341e76f79",
   "metadata": {},
   "outputs": [],
   "source": []
  },
  {
   "cell_type": "code",
   "execution_count": 3,
   "id": "4f2b04bb-b9a4-48c4-93ed-8680acc59642",
   "metadata": {},
   "outputs": [],
   "source": [
    "dt = 'mESC'\n",
    "bl_data, bl_gt = load_beeline(benchmark_data=dt, benchmark_setting='1000_STRING')"
   ]
  },
  {
   "cell_type": "code",
   "execution_count": 4,
   "id": "4146b77b-d0c8-4c3e-b485-a0f2286da269",
   "metadata": {},
   "outputs": [],
   "source": [
    "configs = DEFAULT_REGDIFFUSION_CONFIGS\n",
    "configs['train_split'] = 1.0"
   ]
  },
  {
   "cell_type": "code",
   "execution_count": 7,
   "id": "4a7ab130-17ae-46b5-bf95-da0ae6a6a10e",
   "metadata": {},
   "outputs": [
    {
     "data": {
      "text/plain": [
       "{'T': 5000,\n",
       " 'start_noise': 0.0001,\n",
       " 'end_noise': 0.02,\n",
       " 'lr_nn': 0.001,\n",
       " 'lr_adj': 2e-05,\n",
       " 'weight_decay_nn': 0.1,\n",
       " 'weight_decay_adj': 0.01,\n",
       " 'sparse_loss_coef': 0.25,\n",
       " 'adj_dropout': 0.3,\n",
       " 'batch_size': 128,\n",
       " 'time_dim': 64,\n",
       " 'celltype_dim': 32,\n",
       " 'hidden_dims': [16, 16, 16],\n",
       " 'n_epoch': 250,\n",
       " 'device': 'cuda',\n",
       " 'verbose': False,\n",
       " 'train_split': 1.0,\n",
       " 'train_split_seed': 123,\n",
       " 'eval_on_n_steps': 10}"
      ]
     },
     "execution_count": 7,
     "metadata": {},
     "output_type": "execute_result"
    }
   ],
   "source": [
    "configs"
   ]
  },
  {
   "cell_type": "code",
   "execution_count": 6,
   "id": "47976b28-74be-41e9-a35c-f76afc2b76c5",
   "metadata": {},
   "outputs": [
    {
     "data": {
      "text/plain": [
       "0.002"
      ]
     },
     "execution_count": 6,
     "metadata": {},
     "output_type": "execute_result"
    }
   ],
   "source": [
    "0.02 / 10"
   ]
  },
  {
   "cell_type": "code",
   "execution_count": 9,
   "id": "50e03beb-f8c2-473b-a905-888111535b41",
   "metadata": {},
   "outputs": [
    {
     "name": "stderr",
     "output_type": "stream",
     "text": [
      "100%|██████████| 250/250 [00:10<00:00, 23.98it/s]\n"
     ]
    },
    {
     "name": "stdout",
     "output_type": "stream",
     "text": [
      "{'AUPR': 0.05200386121239633, 'AUPRR': 2.4453345287467423, 'EP': 776, 'EPR': 4.303479868212178}\n"
     ]
    }
   ],
   "source": [
    "configs['start_noise'] = 0.0021\n",
    "regdiff = runRegDiffusion(bl_data.X, configs, ground_truth=bl_gt)\n",
    "metrics = get_metrics(regdiff.get_adj(), bl_gt)\n",
    "print(metrics)"
   ]
  },
  {
   "cell_type": "code",
   "execution_count": 11,
   "id": "a1d500e9-c4ff-49d4-b7cf-609e2aab6f30",
   "metadata": {},
   "outputs": [
    {
     "name": "stderr",
     "output_type": "stream",
     "text": [
      "100%|██████████| 250/250 [00:10<00:00, 24.93it/s]\n"
     ]
    },
    {
     "name": "stdout",
     "output_type": "stream",
     "text": [
      "{'AUPR': 0.051378516993993234, 'AUPRR': 2.4159294850833937, 'EP': 752, 'EPR': 4.170382552700461}\n"
     ]
    }
   ],
   "source": [
    "configs['start_noise'] = 0.0001\n",
    "regdiff = runRegDiffusion(bl_data.X, configs, ground_truth=bl_gt)\n",
    "metrics = get_metrics(regdiff.get_adj(), bl_gt)\n",
    "print(metrics)"
   ]
  },
  {
   "cell_type": "code",
   "execution_count": 6,
   "id": "7bef769c-3cce-4873-9bbc-6e483178da5e",
   "metadata": {},
   "outputs": [
    {
     "name": "stderr",
     "output_type": "stream",
     "text": [
      "100%|██████████| 250/250 [00:10<00:00, 24.76it/s]\n",
      "100%|██████████| 250/250 [00:10<00:00, 24.51it/s]\n",
      "100%|██████████| 250/250 [00:10<00:00, 24.29it/s]\n",
      "100%|██████████| 250/250 [00:10<00:00, 24.34it/s]\n",
      "100%|██████████| 250/250 [00:10<00:00, 24.58it/s]\n",
      "100%|██████████| 250/250 [00:10<00:00, 24.71it/s]\n",
      "100%|██████████| 250/250 [00:10<00:00, 24.09it/s]\n",
      "100%|██████████| 250/250 [00:10<00:00, 24.58it/s]\n",
      "100%|██████████| 250/250 [00:10<00:00, 24.55it/s]\n",
      "100%|██████████| 250/250 [00:10<00:00, 24.34it/s]\n",
      "100%|██████████| 250/250 [00:11<00:00, 20.99it/s]\n",
      "100%|██████████| 250/250 [00:11<00:00, 21.18it/s]\n",
      "100%|██████████| 250/250 [00:11<00:00, 21.26it/s]\n",
      "100%|██████████| 250/250 [00:11<00:00, 21.20it/s]\n",
      "100%|██████████| 250/250 [00:11<00:00, 21.21it/s]\n",
      "100%|██████████| 250/250 [00:11<00:00, 21.46it/s]\n",
      "100%|██████████| 250/250 [00:11<00:00, 21.21it/s]\n",
      "100%|██████████| 250/250 [00:11<00:00, 21.33it/s]\n",
      "100%|██████████| 250/250 [00:11<00:00, 20.99it/s]\n",
      "100%|██████████| 250/250 [00:11<00:00, 21.14it/s]\n",
      "100%|██████████| 250/250 [00:17<00:00, 14.42it/s]\n",
      "100%|██████████| 250/250 [00:17<00:00, 14.49it/s]\n",
      "100%|██████████| 250/250 [00:17<00:00, 14.50it/s]\n",
      "100%|██████████| 250/250 [00:17<00:00, 14.49it/s]\n",
      "100%|██████████| 250/250 [00:17<00:00, 14.52it/s]\n",
      "100%|██████████| 250/250 [00:17<00:00, 14.52it/s]\n",
      "100%|██████████| 250/250 [00:17<00:00, 14.51it/s]\n",
      "100%|██████████| 250/250 [00:17<00:00, 14.50it/s]\n",
      "100%|██████████| 250/250 [00:17<00:00, 14.43it/s]\n",
      "100%|██████████| 250/250 [00:17<00:00, 14.51it/s]\n",
      "100%|██████████| 250/250 [00:26<00:00,  9.36it/s]\n",
      "100%|██████████| 250/250 [00:26<00:00,  9.36it/s]\n",
      "100%|██████████| 250/250 [00:26<00:00,  9.36it/s]\n",
      "100%|██████████| 250/250 [00:26<00:00,  9.38it/s]\n",
      "100%|██████████| 250/250 [00:26<00:00,  9.36it/s]\n",
      "100%|██████████| 250/250 [00:26<00:00,  9.34it/s]\n",
      "100%|██████████| 250/250 [00:26<00:00,  9.38it/s]\n",
      "100%|██████████| 250/250 [00:26<00:00,  9.40it/s]\n",
      "100%|██████████| 250/250 [00:26<00:00,  9.38it/s]\n",
      "100%|██████████| 250/250 [00:26<00:00,  9.35it/s]\n",
      "100%|██████████| 250/250 [00:53<00:00,  4.70it/s]\n",
      "100%|██████████| 250/250 [00:52<00:00,  4.74it/s]\n",
      "100%|██████████| 250/250 [00:52<00:00,  4.72it/s]\n",
      "100%|██████████| 250/250 [00:52<00:00,  4.77it/s]\n",
      "100%|██████████| 250/250 [00:52<00:00,  4.77it/s]\n",
      "100%|██████████| 250/250 [00:52<00:00,  4.77it/s]\n",
      "100%|██████████| 250/250 [00:52<00:00,  4.74it/s]\n",
      "100%|██████████| 250/250 [00:52<00:00,  4.80it/s]\n",
      "100%|██████████| 250/250 [00:52<00:00,  4.80it/s]\n",
      "100%|██████████| 250/250 [00:52<00:00,  4.73it/s]\n"
     ]
    }
   ],
   "source": [
    "configs = DEFAULT_REGDIFFUSION_CONFIGS\n",
    "configs['train_split'] = 1.0\n",
    "\n",
    "logger = LightLogger()\n",
    "final_metrics = []\n",
    "for hd in [16, 32, 64, 128, 256]:\n",
    "    for _ in range(10):\n",
    "        configs['hidden_dims'] = [hd, hd, hd]\n",
    "        start_time = datetime.now()\n",
    "        regdiff = runRegDiffusion(bl_data.X, configs, ground_truth=bl_gt, logger=logger)\n",
    "        metrics = get_metrics(regdiff.get_adj(), bl_gt)\n",
    "        metrics['hidden_dims'] = hd\n",
    "        metrics['time_cost'] = datetime.now() - start_time\n",
    "        final_metrics.append(metrics)"
   ]
  },
  {
   "cell_type": "code",
   "execution_count": 8,
   "id": "3fb23fcc-a604-4e15-8465-a97f21946fa0",
   "metadata": {},
   "outputs": [
    {
     "name": "stderr",
     "output_type": "stream",
     "text": [
      "100%|██████████| 250/250 [00:06<00:00, 40.19it/s]\n",
      "100%|██████████| 250/250 [00:06<00:00, 38.28it/s]\n",
      "100%|██████████| 250/250 [00:06<00:00, 40.18it/s]\n",
      "100%|██████████| 250/250 [00:06<00:00, 39.18it/s]\n",
      "100%|██████████| 250/250 [00:06<00:00, 40.98it/s]\n",
      "100%|██████████| 250/250 [00:06<00:00, 38.85it/s]\n",
      "100%|██████████| 250/250 [00:06<00:00, 39.80it/s]\n",
      "100%|██████████| 250/250 [00:06<00:00, 39.21it/s]\n",
      "100%|██████████| 250/250 [00:06<00:00, 38.29it/s]\n",
      "100%|██████████| 250/250 [00:06<00:00, 39.75it/s]\n"
     ]
    }
   ],
   "source": [
    "for hd in [8]:\n",
    "    for _ in range(10):\n",
    "        configs['hidden_dims'] = [hd, hd, hd]\n",
    "        start_time = datetime.now()\n",
    "        regdiff = runRegDiffusion(bl_data.X, configs, ground_truth=bl_gt, logger=logger)\n",
    "        metrics = get_metrics(regdiff.get_adj(), bl_gt)\n",
    "        metrics['hidden_dims'] = hd\n",
    "        metrics['time_cost'] = datetime.now() - start_time\n",
    "        final_metrics.append(metrics)"
   ]
  },
  {
   "cell_type": "code",
   "execution_count": 9,
   "id": "da19e9b5-b535-4f00-ba91-a11d8cd09a1c",
   "metadata": {},
   "outputs": [],
   "source": [
    "logger.to_df().to_csv('results/hidden_dim.csv', index=False)"
   ]
  },
  {
   "cell_type": "code",
   "execution_count": 6,
   "id": "0f3ddf3d-3329-4a66-b235-34df37d81212",
   "metadata": {},
   "outputs": [
    {
     "data": {
      "text/plain": [
       "[{'AUPR': 0.05174711296582358,\n",
       "  'AUPRR': 2.433261668426327,\n",
       "  'EP': 754,\n",
       "  'EPR': 4.181473995659771,\n",
       "  'hidden_dims': 16,\n",
       "  'time_cost': datetime.timedelta(seconds=9, microseconds=859782)},\n",
       " {'AUPR': 0.05194929324011775,\n",
       "  'AUPRR': 2.442768624145322,\n",
       "  'EP': 760,\n",
       "  'EPR': 4.2147483245377,\n",
       "  'hidden_dims': 32,\n",
       "  'time_cost': datetime.timedelta(seconds=9, microseconds=46477)},\n",
       " {'AUPR': 0.05133098109170356,\n",
       "  'AUPRR': 2.4136942436895037,\n",
       "  'EP': 754,\n",
       "  'EPR': 4.181473995659771,\n",
       "  'hidden_dims': 64,\n",
       "  'time_cost': datetime.timedelta(seconds=14, microseconds=515699)},\n",
       " {'AUPR': 0.05159759438036729,\n",
       "  'AUPRR': 2.4262309797201107,\n",
       "  'EP': 762,\n",
       "  'EPR': 4.22583976749701,\n",
       "  'hidden_dims': 128,\n",
       "  'time_cost': datetime.timedelta(seconds=23, microseconds=720168)},\n",
       " {'AUPR': 0.050639155669202365,\n",
       "  'AUPRR': 2.3811631093839667,\n",
       "  'EP': 753,\n",
       "  'EPR': 4.175928274180116,\n",
       "  'hidden_dims': 256,\n",
       "  'time_cost': datetime.timedelta(seconds=49, microseconds=73753)}]"
      ]
     },
     "execution_count": 6,
     "metadata": {},
     "output_type": "execute_result"
    }
   ],
   "source": [
    "final_metrics"
   ]
  },
  {
   "cell_type": "code",
   "execution_count": null,
   "id": "393c9c0d-5a2f-4565-874a-4a907484df67",
   "metadata": {},
   "outputs": [],
   "source": []
  },
  {
   "cell_type": "code",
   "execution_count": null,
   "id": "3bcaf1f3-d5c8-4910-8ae9-31b252f4b6db",
   "metadata": {},
   "outputs": [],
   "source": []
  },
  {
   "cell_type": "code",
   "execution_count": 5,
   "id": "52c8f7b0-6657-42f3-87c6-084efce27b46",
   "metadata": {},
   "outputs": [
    {
     "name": "stderr",
     "output_type": "stream",
     "text": [
      "100%|█████████████████████████████████████████████████████████████████████████████████████| 120/120 [00:11<00:00, 10.60it/s]\n"
     ]
    }
   ],
   "source": [
    "train_split = 0.5\n",
    "random_state = np.random.RandomState(123)\n",
    "train_test_split = random_state.rand(bl_dt.X.shape[0])\n",
    "train_index = train_test_split <= train_split\n",
    "test_index = train_test_split > train_split\n",
    "\n",
    "dazzle_model, adjs = runDAZZLE(bl_dt.X[train_index, :], DEFAULT_DAZZLE_CONFIGS)"
   ]
  },
  {
   "cell_type": "code",
   "execution_count": 6,
   "id": "5f96e4e9-7df0-43ba-a0fe-60e75efa1a52",
   "metadata": {},
   "outputs": [
    {
     "data": {
      "text/plain": [
       "{'AUPR': 0.044493309462890374,\n",
       " 'AUPRR': 2.092172069367125,\n",
       " 'EP': 629,\n",
       " 'EPR': 3.4882588107029124}"
      ]
     },
     "execution_count": 6,
     "metadata": {},
     "output_type": "execute_result"
    }
   ],
   "source": [
    "get_metrics(dazzle_model.get_adj(), bl_gt)"
   ]
  },
  {
   "cell_type": "code",
   "execution_count": 8,
   "id": "215d882c-adc0-4989-a1c7-098951207462",
   "metadata": {},
   "outputs": [
    {
     "name": "stderr",
     "output_type": "stream",
     "text": [
      "  8%|██████▉                                                                               | 20/250 [00:00<00:02, 95.90it/s]"
     ]
    },
    {
     "name": "stdout",
     "output_type": "stream",
     "text": [
      "{'train_loss': 0.8930535316467285}\n",
      "{'train_loss': 0.829348087310791}\n",
      "{'train_loss': 0.7519440650939941}\n"
     ]
    },
    {
     "name": "stderr",
     "output_type": "stream",
     "text": [
      " 24%|████████████████████▋                                                                | 61/250 [00:00<00:01, 127.68it/s]"
     ]
    },
    {
     "name": "stdout",
     "output_type": "stream",
     "text": [
      "{'train_loss': 0.6766452789306641}\n",
      "{'train_loss': 0.5885483622550964}\n",
      "{'train_loss': 0.5562198162078857}\n"
     ]
    },
    {
     "name": "stderr",
     "output_type": "stream",
     "text": [
      " 36%|██████████████████████████████▉                                                      | 91/250 [00:00<00:01, 135.82it/s]"
     ]
    },
    {
     "name": "stdout",
     "output_type": "stream",
     "text": [
      "{'train_loss': 0.4005648195743561}\n",
      "{'train_loss': 0.35843849182128906}\n",
      "{'train_loss': 0.3203042447566986}\n"
     ]
    },
    {
     "name": "stderr",
     "output_type": "stream",
     "text": [
      " 48%|████████████████████████████████████████▋                                           | 121/250 [00:00<00:00, 140.22it/s]"
     ]
    },
    {
     "name": "stdout",
     "output_type": "stream",
     "text": [
      "{'train_loss': 0.31303882598876953}\n",
      "{'train_loss': 0.31271854043006897}\n",
      "{'train_loss': 0.3013058602809906}\n"
     ]
    },
    {
     "name": "stderr",
     "output_type": "stream",
     "text": [
      " 60%|██████████████████████████████████████████████████▋                                 | 151/250 [00:01<00:00, 142.59it/s]"
     ]
    },
    {
     "name": "stdout",
     "output_type": "stream",
     "text": [
      "{'train_loss': 0.3381757438182831}\n",
      "{'train_loss': 0.2846384048461914}\n",
      "{'train_loss': 0.27685078978538513}\n"
     ]
    },
    {
     "name": "stderr",
     "output_type": "stream",
     "text": [
      " 72%|████████████████████████████████████████████████████████████▊                       | 181/250 [00:01<00:00, 142.53it/s]"
     ]
    },
    {
     "name": "stdout",
     "output_type": "stream",
     "text": [
      "{'train_loss': 0.3020201325416565}\n",
      "{'train_loss': 0.27233996987342834}\n",
      "{'train_loss': 0.30203545093536377}\n"
     ]
    },
    {
     "name": "stderr",
     "output_type": "stream",
     "text": [
      " 84%|██████████████████████████████████████████████████████████████████████▉             | 211/250 [00:01<00:00, 143.72it/s]"
     ]
    },
    {
     "name": "stdout",
     "output_type": "stream",
     "text": [
      "{'train_loss': 0.3433193862438202}\n",
      "{'train_loss': 0.23052509129047394}\n",
      "{'train_loss': 0.2713199257850647}\n"
     ]
    },
    {
     "name": "stderr",
     "output_type": "stream",
     "text": [
      " 96%|████████████████████████████████████████████████████████████████████████████████▉   | 241/250 [00:01<00:00, 143.87it/s]"
     ]
    },
    {
     "name": "stdout",
     "output_type": "stream",
     "text": [
      "{'train_loss': 0.3227381408214569}\n",
      "{'train_loss': 0.27068713307380676}\n",
      "{'train_loss': 0.27692610025405884}\n"
     ]
    },
    {
     "name": "stderr",
     "output_type": "stream",
     "text": [
      "100%|████████████████████████████████████████████████████████████████████████████████████| 250/250 [00:01<00:00, 136.35it/s]\n"
     ]
    },
    {
     "name": "stdout",
     "output_type": "stream",
     "text": [
      "{'train_loss': 0.2838975191116333}\n"
     ]
    },
    {
     "data": {
      "text/plain": [
       "{'AUPR': 0.047127789703433905,\n",
       " 'AUPRR': 2.2160510534908364,\n",
       " 'EP': 676,\n",
       " 'EPR': 3.748907720246691}"
      ]
     },
     "execution_count": 8,
     "metadata": {},
     "output_type": "execute_result"
    }
   ],
   "source": [
    "regdiff_model = runRegDiffusion(bl_dt.X[train_index, :], DEFAULT_REGDIFFUSION_CONFIGS)\n",
    "get_metrics(regdiff_model.get_adj(), bl_gt)"
   ]
  },
  {
   "cell_type": "code",
   "execution_count": null,
   "id": "3f7c289d-aae3-4b33-90f5-3385da252654",
   "metadata": {},
   "outputs": [],
   "source": []
  }
 ],
 "metadata": {
  "kernelspec": {
   "display_name": "grn",
   "language": "python",
   "name": "grn"
  },
  "language_info": {
   "codemirror_mode": {
    "name": "ipython",
    "version": 3
   },
   "file_extension": ".py",
   "mimetype": "text/x-python",
   "name": "python",
   "nbconvert_exporter": "python",
   "pygments_lexer": "ipython3",
   "version": "3.10.8"
  }
 },
 "nbformat": 4,
 "nbformat_minor": 5
}
