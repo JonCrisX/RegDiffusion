{
 "cells": [
  {
   "cell_type": "code",
   "execution_count": 16,
   "id": "db88f41a-87d8-4d15-b64f-a3a00381de6e",
   "metadata": {
    "tags": []
   },
   "outputs": [],
   "source": [
    "library(destiny)\n",
    "library(slingshot)\n",
    "library(gam)\n",
    "library(data.table)\n",
    "library(stringr)"
   ]
  },
  {
   "cell_type": "code",
   "execution_count": 6,
   "id": "ad2c033b-85fe-4a16-b994-5f5535a0ec27",
   "metadata": {},
   "outputs": [],
   "source": [
    "zeng2023 = fread('data/zeng2023/expression_matrix_raw.csv', header=T)"
   ]
  },
  {
   "cell_type": "code",
   "execution_count": 12,
   "id": "55ef3a21-ba49-490f-aad4-fd514c81523a",
   "metadata": {},
   "outputs": [],
   "source": [
    "rownames(zeng2023) = zeng2023$GENE\n",
    "zeng2023 = zeng2023[, -1]"
   ]
  },
  {
   "cell_type": "code",
   "execution_count": 17,
   "id": "e786810b-9105-44a9-b63d-b78f69f929e4",
   "metadata": {},
   "outputs": [],
   "source": [
    "meta = fread('data/zeng2023/metadata.csv')\n",
    "meta = meta[-1, ]\n",
    "\n",
    "meta_disease_m13 = meta[str_starts(meta$label, '13months-d'), ]\n",
    "meta_disease_m8 =  meta[str_starts(meta$label, '8months-d'), ]\n",
    "meta_control_m13 = meta[str_starts(meta$label, '13months-c'), ]\n",
    "meta_control_m8 =  meta[str_starts(meta$label, '8months-c'), ]"
   ]
  },
  {
   "cell_type": "code",
   "execution_count": 18,
   "id": "2d3999db-aa7a-464f-b17d-8178c99ddc6b",
   "metadata": {},
   "outputs": [
    {
     "name": "stderr",
     "output_type": "stream",
     "text": [
      "as(<dsCMatrix>, \"dgTMatrix\") is deprecated since Matrix 1.5-0; do as(as(., \"generalMatrix\"), \"TsparseMatrix\") instead\n",
      "\n"
     ]
    }
   ],
   "source": [
    "logExpression = log2(zeng2023 + 1)\n",
    "dm = destiny::DiffusionMap(t(logExpression), distance='cosine', \n",
    "                           sigma=0.16, n_pcs = 50)\n",
    "rd2 <- cbind(DC1 = dm$DC1, DC2 = dm$DC2, DC3 = dm$DC3)"
   ]
  },
  {
   "cell_type": "code",
   "execution_count": null,
   "id": "e33c1dca-d226-450e-97ba-d16aca0eedd0",
   "metadata": {},
   "outputs": [],
   "source": []
  }
 ],
 "metadata": {
  "kernelspec": {
   "display_name": "R",
   "language": "R",
   "name": "ir"
  },
  "language_info": {
   "codemirror_mode": "r",
   "file_extension": ".r",
   "mimetype": "text/x-r-source",
   "name": "R",
   "pygments_lexer": "r",
   "version": "4.2.2"
  }
 },
 "nbformat": 4,
 "nbformat_minor": 5
}
