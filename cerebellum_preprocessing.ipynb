{
 "cells": [
  {
   "cell_type": "code",
   "execution_count": 1,
   "id": "e7abf050-8f6e-4a6b-b16f-32ded991e52a",
   "metadata": {},
   "outputs": [],
   "source": [
    "import gzip\n",
    "import shutil\n",
    "import os\n",
    "import scanpy as sc\n",
    "import numpy as np\n",
    "import pandas as pd\n",
    "from tqdm import tqdm\n",
    "import json"
   ]
  },
  {
   "cell_type": "code",
   "execution_count": 2,
   "id": "17ed3d2b-bb89-47f0-9c55-2dd4e95defb2",
   "metadata": {},
   "outputs": [],
   "source": [
    "expression_dir = 'data/cerebellum/SCP795/expression/'\n",
    "experiment_dict = {\n",
    "    'mouse_atlas': '5e5e1336771a5b0f0416fb21',\n",
    "    'mouse_developmental': '60d11736771a5b0b5557da9a'\n",
    "}"
   ]
  },
  {
   "cell_type": "markdown",
   "id": "32652a66-5e61-41ae-af9b-133567155652",
   "metadata": {},
   "source": [
    "## unzip compressed files"
   ]
  },
  {
   "cell_type": "code",
   "execution_count": 3,
   "id": "ae23d28c-a241-4bf6-8f31-72c31ad4e3a5",
   "metadata": {},
   "outputs": [],
   "source": [
    "def unzip(experiment, file_name):\n",
    "    with gzip.open(\n",
    "        os.path.join(\n",
    "            expression_dir, experiment_dict[experiment], \n",
    "            file_name\n",
    "        ), 'rb') as f_in:\n",
    "        with open(\n",
    "            os.path.join(\n",
    "                expression_dir, experiment_dict[experiment], \n",
    "                file_name.replace('.gz', '')\n",
    "            ), 'wb') as f_out:\n",
    "            shutil.copyfileobj(f_in, f_out)"
   ]
  },
  {
   "cell_type": "code",
   "execution_count": 4,
   "id": "a34b0402-4463-4466-9ee6-935eb0c72d8a",
   "metadata": {},
   "outputs": [],
   "source": [
    "unzip('mouse_atlas', 'gene_sorted-raw_matrix.mtx.gz')"
   ]
  },
  {
   "cell_type": "code",
   "execution_count": 5,
   "id": "789b63c3-41b4-4aa7-b5d9-2470e1fed4de",
   "metadata": {},
   "outputs": [],
   "source": [
    "unzip('mouse_developmental', 'dev_expression_matrix.mtx.gz')\n",
    "unzip('mouse_developmental', 'dev_barcodes.tsv.gz')\n",
    "unzip('mouse_developmental', 'dev_genes.tsv.gz')"
   ]
  },
  {
   "cell_type": "markdown",
   "id": "e3cc7b0b-3bb1-4e1b-a41d-eceb7e1a2de6",
   "metadata": {},
   "source": [
    "## Developmental"
   ]
  },
  {
   "cell_type": "code",
   "execution_count": 6,
   "id": "9add4949-9a7c-45ec-ac7b-a284c5e8ddce",
   "metadata": {},
   "outputs": [],
   "source": [
    "with open(os.path.join(\n",
    "            expression_dir, experiment_dict['mouse_developmental'], \n",
    "            'dev_barcodes.tsv'\n",
    "        ), 'r') as f:\n",
    "    dev_cell_barcodes = [x.replace('\\n', '') for x in f.readlines()]\n",
    "\n",
    "with open(os.path.join(\n",
    "            expression_dir, experiment_dict['mouse_developmental'], \n",
    "            'dev_genes.tsv'\n",
    "        ), 'r') as f:\n",
    "    dev_genes = [x.replace('\\n', '') for x in f.readlines()]\n",
    "\n",
    "dev_ann = sc.read_mtx(\n",
    "    os.path.join(\n",
    "        expression_dir, experiment_dict['mouse_developmental'], \n",
    "        'dev_expression_matrix.mtx')\n",
    ")"
   ]
  },
  {
   "cell_type": "code",
   "execution_count": 7,
   "id": "e5185825-3d38-4ee3-9ded-40329947fa14",
   "metadata": {},
   "outputs": [],
   "source": [
    "dev_ann = sc.read_mtx(\n",
    "    os.path.join(\n",
    "        expression_dir, experiment_dict['mouse_developmental'], \n",
    "        'dev_expression_matrix.mtx')\n",
    ")"
   ]
  },
  {
   "cell_type": "code",
   "execution_count": 8,
   "id": "38c31db4-bb33-4781-b0af-1ce6c15aa847",
   "metadata": {},
   "outputs": [],
   "source": [
    "dev_ann.var_names = dev_cell_barcodes\n",
    "dev_ann.obs_names = dev_genes"
   ]
  },
  {
   "cell_type": "code",
   "execution_count": 9,
   "id": "c51dca95-36c8-4552-9072-9b327f2fda31",
   "metadata": {},
   "outputs": [
    {
     "data": {
      "text/plain": [
       "array(['E18_1', 'P0_1', 'P12_1', 'P12_2', 'P16_1', 'P16_2', 'P4_2',\n",
       "       'P8_2'], dtype='<U5')"
      ]
     },
     "execution_count": 9,
     "metadata": {},
     "output_type": "execute_result"
    }
   ],
   "source": [
    "np.unique(['_'.join(x.split('_')[0:2]) for x in dev_cell_barcodes])"
   ]
  },
  {
   "cell_type": "markdown",
   "id": "f5d764b2-aa08-4358-ab4c-b1c32ddd1985",
   "metadata": {},
   "source": [
    "## Atlas"
   ]
  },
  {
   "cell_type": "code",
   "execution_count": 3,
   "id": "e7167c6d-b550-4f11-b3d4-771f26d151c4",
   "metadata": {},
   "outputs": [],
   "source": [
    "atlas_meta = pd.read_csv('data/cerebellum/SCP795/metadata/cb_adult_dev_all_hum_metadata.tsv', sep='\\t', low_memory=False)"
   ]
  },
  {
   "cell_type": "code",
   "execution_count": 4,
   "id": "421b5627-1a0e-4f26-90dd-839aa75747f2",
   "metadata": {},
   "outputs": [
    {
     "data": {
      "text/plain": [
       "Index(['NAME', 'nGene', 'nUMI', 'sex', 'region', 'organ_region',\n",
       "       'organ_region__ontology_label', 'cluster', 'subcluster',\n",
       "       'cell_type__custom', 'cell_type', 'cell_type__ontology_label',\n",
       "       'donor_id', 'biosample_id', 'biosample_type', 'preservation_method',\n",
       "       'disease', 'disease__ontology_label', 'species',\n",
       "       'species__ontology_label', 'library_preparation_protocol',\n",
       "       'library_preparation_protocol__ontology_label', 'organ',\n",
       "       'organ__ontology_label', 'Age', 'Pseudotime'],\n",
       "      dtype='object')"
      ]
     },
     "execution_count": 4,
     "metadata": {},
     "output_type": "execute_result"
    }
   ],
   "source": [
    "atlas_meta.columns"
   ]
  },
  {
   "cell_type": "code",
   "execution_count": 4,
   "id": "b719e3ac-8007-4bcc-a6e0-a113167f04bd",
   "metadata": {},
   "outputs": [],
   "source": [
    "atlas_meta['cluster_sex'] = atlas_meta.cluster + '-' + atlas_meta.sex"
   ]
  },
  {
   "cell_type": "code",
   "execution_count": 5,
   "id": "32af9f24-6b8c-4d8d-a552-436743976110",
   "metadata": {},
   "outputs": [
    {
     "name": "stderr",
     "output_type": "stream",
     "text": [
      "766812it [00:25, 29627.35it/s]\n",
      "766812it [00:25, 29551.00it/s]\n"
     ]
    }
   ],
   "source": [
    "cluster_dict = {}\n",
    "for i, r in tqdm(atlas_meta.iterrows()):\n",
    "    cluster_dict[r['NAME']] = r['cluster']\n",
    "del cluster_dict['TYPE']\n",
    "with open('data/cerebellum/SCP795/processed/cell_type_dict.json', 'w') as f:\n",
    "    json.dump(cluster_dict, f)\n",
    "\n",
    "cluster_dict_by_sex = {}\n",
    "for i, r in tqdm(atlas_meta.iterrows()):\n",
    "    cluster_dict_by_sex[r['NAME']] = r['cluster_sex']\n",
    "del cluster_dict_by_sex['TYPE']\n",
    "with open('data/cerebellum/SCP795/processed/cell_type_dict_by_sex.json', 'w') as f:\n",
    "    json.dump(cluster_dict_by_sex, f)"
   ]
  },
  {
   "cell_type": "code",
   "execution_count": 6,
   "id": "38755f4c-2fa5-48b9-81cd-3c47e005b63a",
   "metadata": {},
   "outputs": [],
   "source": [
    "atlas_ann = sc.read_mtx(\n",
    "    os.path.join(\n",
    "        expression_dir, experiment_dict['mouse_atlas'], \n",
    "        'gene_sorted-raw_matrix.mtx')\n",
    ")"
   ]
  },
  {
   "cell_type": "code",
   "execution_count": 7,
   "id": "49aba48e-5445-439b-8baf-0cd2b2400111",
   "metadata": {},
   "outputs": [],
   "source": [
    "with open(os.path.join(\n",
    "            expression_dir, experiment_dict['mouse_atlas'], \n",
    "            'barcodes_cerebellum.tsv'\n",
    "        ), 'r') as f:\n",
    "    atlas_cell_barcodes = [x.replace('\\n', '') for x in f.readlines()]\n",
    "\n",
    "with open(os.path.join(\n",
    "            expression_dir, experiment_dict['mouse_atlas'], \n",
    "            'genes_cerebellum.tsv'\n",
    "        ), 'r') as f:\n",
    "    atlas_genes = [x.replace('\\n', '') for x in f.readlines()]"
   ]
  },
  {
   "cell_type": "code",
   "execution_count": null,
   "id": "5d8082f2-ad1c-413f-bb6f-eae99771d978",
   "metadata": {},
   "outputs": [],
   "source": [
    "atlas_cell_types = [cluster_dict[x] for x in atlas_cell_barcodes]\n",
    "atlas_unique_cell_types = np.unique(atlas_cell_types)\n",
    "atlas_unique_cell_types\n",
    "\n",
    "atlas_ann.var_names = atlas_cell_barcodes\n",
    "atlas_ann.obs_names = atlas_genes\n",
    "atlas_ann.var['cell_types'] = atlas_cell_types\n",
    "atlas_ann.var['region'] = [x.split('_')[0] for x in atlas_cell_barcodes]\n",
    "atlas_ann.var['sample'] = [x.split('_')[1] for x in atlas_cell_barcodes]\n",
    "\n",
    "for ct in tqdm(atlas_unique_cell_types):\n",
    "    subset = atlas_ann[:, atlas_ann.var['cell_types'] == ct]\n",
    "    subset.write_h5ad(f'data/cerebellum/SCP795/processed/{ct}.h5ad')"
   ]
  },
  {
   "cell_type": "code",
   "execution_count": 8,
   "id": "ca81b0c3-478d-444a-9c59-747584dc781b",
   "metadata": {},
   "outputs": [
    {
     "name": "stderr",
     "output_type": "stream",
     "text": [
      "  0%|                                                                                                                      | 0/36 [00:00<?, ?it/s]/cluster/tufts/slonimlab/hzhu07/miniconda3/envs/grn/lib/python3.11/site-packages/anndata/_core/anndata.py:1301: ImplicitModificationWarning: Trying to modify attribute `.var` of view, initializing view as actual.\n",
      "  df[key] = c\n",
      "/cluster/tufts/slonimlab/hzhu07/miniconda3/envs/grn/lib/python3.11/site-packages/anndata/_core/anndata.py:1301: ImplicitModificationWarning: Trying to modify attribute `.var` of view, initializing view as actual.\n",
      "  df[key] = c\n",
      "/cluster/tufts/slonimlab/hzhu07/miniconda3/envs/grn/lib/python3.11/site-packages/anndata/_core/anndata.py:1301: ImplicitModificationWarning: Trying to modify attribute `.var` of view, initializing view as actual.\n",
      "  df[key] = c\n",
      "  3%|███                                                                                                           | 1/36 [00:02<01:27,  2.50s/it]/cluster/tufts/slonimlab/hzhu07/miniconda3/envs/grn/lib/python3.11/site-packages/anndata/_core/anndata.py:1301: ImplicitModificationWarning: Trying to modify attribute `.var` of view, initializing view as actual.\n",
      "  df[key] = c\n",
      "/cluster/tufts/slonimlab/hzhu07/miniconda3/envs/grn/lib/python3.11/site-packages/anndata/_core/anndata.py:1301: ImplicitModificationWarning: Trying to modify attribute `.var` of view, initializing view as actual.\n",
      "  df[key] = c\n",
      "/cluster/tufts/slonimlab/hzhu07/miniconda3/envs/grn/lib/python3.11/site-packages/anndata/_core/anndata.py:1301: ImplicitModificationWarning: Trying to modify attribute `.var` of view, initializing view as actual.\n",
      "  df[key] = c\n",
      "  6%|██████                                                                                                        | 2/36 [00:05<01:31,  2.70s/it]/cluster/tufts/slonimlab/hzhu07/miniconda3/envs/grn/lib/python3.11/site-packages/anndata/_core/anndata.py:1301: ImplicitModificationWarning: Trying to modify attribute `.var` of view, initializing view as actual.\n",
      "  df[key] = c\n",
      "/cluster/tufts/slonimlab/hzhu07/miniconda3/envs/grn/lib/python3.11/site-packages/anndata/_core/anndata.py:1301: ImplicitModificationWarning: Trying to modify attribute `.var` of view, initializing view as actual.\n",
      "  df[key] = c\n",
      "/cluster/tufts/slonimlab/hzhu07/miniconda3/envs/grn/lib/python3.11/site-packages/anndata/_core/anndata.py:1301: ImplicitModificationWarning: Trying to modify attribute `.var` of view, initializing view as actual.\n",
      "  df[key] = c\n",
      "  8%|█████████▏                                                                                                    | 3/36 [00:07<01:25,  2.58s/it]/cluster/tufts/slonimlab/hzhu07/miniconda3/envs/grn/lib/python3.11/site-packages/anndata/_core/anndata.py:1301: ImplicitModificationWarning: Trying to modify attribute `.var` of view, initializing view as actual.\n",
      "  df[key] = c\n",
      "/cluster/tufts/slonimlab/hzhu07/miniconda3/envs/grn/lib/python3.11/site-packages/anndata/_core/anndata.py:1301: ImplicitModificationWarning: Trying to modify attribute `.var` of view, initializing view as actual.\n",
      "  df[key] = c\n",
      "/cluster/tufts/slonimlab/hzhu07/miniconda3/envs/grn/lib/python3.11/site-packages/anndata/_core/anndata.py:1301: ImplicitModificationWarning: Trying to modify attribute `.var` of view, initializing view as actual.\n",
      "  df[key] = c\n",
      " 11%|████████████▏                                                                                                 | 4/36 [00:10<01:24,  2.64s/it]/cluster/tufts/slonimlab/hzhu07/miniconda3/envs/grn/lib/python3.11/site-packages/anndata/_core/anndata.py:1301: ImplicitModificationWarning: Trying to modify attribute `.var` of view, initializing view as actual.\n",
      "  df[key] = c\n",
      "/cluster/tufts/slonimlab/hzhu07/miniconda3/envs/grn/lib/python3.11/site-packages/anndata/_core/anndata.py:1301: ImplicitModificationWarning: Trying to modify attribute `.var` of view, initializing view as actual.\n",
      "  df[key] = c\n",
      "/cluster/tufts/slonimlab/hzhu07/miniconda3/envs/grn/lib/python3.11/site-packages/anndata/_core/anndata.py:1301: ImplicitModificationWarning: Trying to modify attribute `.var` of view, initializing view as actual.\n",
      "  df[key] = c\n",
      " 14%|███████████████▎                                                                                              | 5/36 [00:12<01:16,  2.48s/it]/cluster/tufts/slonimlab/hzhu07/miniconda3/envs/grn/lib/python3.11/site-packages/anndata/_core/anndata.py:1301: ImplicitModificationWarning: Trying to modify attribute `.var` of view, initializing view as actual.\n",
      "  df[key] = c\n",
      "/cluster/tufts/slonimlab/hzhu07/miniconda3/envs/grn/lib/python3.11/site-packages/anndata/_core/anndata.py:1301: ImplicitModificationWarning: Trying to modify attribute `.var` of view, initializing view as actual.\n",
      "  df[key] = c\n",
      "/cluster/tufts/slonimlab/hzhu07/miniconda3/envs/grn/lib/python3.11/site-packages/anndata/_core/anndata.py:1301: ImplicitModificationWarning: Trying to modify attribute `.var` of view, initializing view as actual.\n",
      "  df[key] = c\n",
      " 17%|██████████████████▎                                                                                           | 6/36 [00:14<01:11,  2.39s/it]/cluster/tufts/slonimlab/hzhu07/miniconda3/envs/grn/lib/python3.11/site-packages/anndata/_core/anndata.py:1301: ImplicitModificationWarning: Trying to modify attribute `.var` of view, initializing view as actual.\n",
      "  df[key] = c\n",
      "/cluster/tufts/slonimlab/hzhu07/miniconda3/envs/grn/lib/python3.11/site-packages/anndata/_core/anndata.py:1301: ImplicitModificationWarning: Trying to modify attribute `.var` of view, initializing view as actual.\n",
      "  df[key] = c\n",
      "/cluster/tufts/slonimlab/hzhu07/miniconda3/envs/grn/lib/python3.11/site-packages/anndata/_core/anndata.py:1301: ImplicitModificationWarning: Trying to modify attribute `.var` of view, initializing view as actual.\n",
      "  df[key] = c\n",
      " 19%|█████████████████████▍                                                                                        | 7/36 [00:17<01:07,  2.34s/it]/cluster/tufts/slonimlab/hzhu07/miniconda3/envs/grn/lib/python3.11/site-packages/anndata/_core/anndata.py:1301: ImplicitModificationWarning: Trying to modify attribute `.var` of view, initializing view as actual.\n",
      "  df[key] = c\n",
      "/cluster/tufts/slonimlab/hzhu07/miniconda3/envs/grn/lib/python3.11/site-packages/anndata/_core/anndata.py:1301: ImplicitModificationWarning: Trying to modify attribute `.var` of view, initializing view as actual.\n",
      "  df[key] = c\n",
      "/cluster/tufts/slonimlab/hzhu07/miniconda3/envs/grn/lib/python3.11/site-packages/anndata/_core/anndata.py:1301: ImplicitModificationWarning: Trying to modify attribute `.var` of view, initializing view as actual.\n",
      "  df[key] = c\n",
      " 22%|████████████████████████▍                                                                                     | 8/36 [00:19<01:05,  2.36s/it]/cluster/tufts/slonimlab/hzhu07/miniconda3/envs/grn/lib/python3.11/site-packages/anndata/_core/anndata.py:1301: ImplicitModificationWarning: Trying to modify attribute `.var` of view, initializing view as actual.\n",
      "  df[key] = c\n",
      "/cluster/tufts/slonimlab/hzhu07/miniconda3/envs/grn/lib/python3.11/site-packages/anndata/_core/anndata.py:1301: ImplicitModificationWarning: Trying to modify attribute `.var` of view, initializing view as actual.\n",
      "  df[key] = c\n",
      "/cluster/tufts/slonimlab/hzhu07/miniconda3/envs/grn/lib/python3.11/site-packages/anndata/_core/anndata.py:1301: ImplicitModificationWarning: Trying to modify attribute `.var` of view, initializing view as actual.\n",
      "  df[key] = c\n",
      " 25%|███████████████████████████▌                                                                                  | 9/36 [00:21<01:03,  2.36s/it]/cluster/tufts/slonimlab/hzhu07/miniconda3/envs/grn/lib/python3.11/site-packages/anndata/_core/anndata.py:1301: ImplicitModificationWarning: Trying to modify attribute `.var` of view, initializing view as actual.\n",
      "  df[key] = c\n",
      "/cluster/tufts/slonimlab/hzhu07/miniconda3/envs/grn/lib/python3.11/site-packages/anndata/_core/anndata.py:1301: ImplicitModificationWarning: Trying to modify attribute `.var` of view, initializing view as actual.\n",
      "  df[key] = c\n",
      "/cluster/tufts/slonimlab/hzhu07/miniconda3/envs/grn/lib/python3.11/site-packages/anndata/_core/anndata.py:1301: ImplicitModificationWarning: Trying to modify attribute `.var` of view, initializing view as actual.\n",
      "  df[key] = c\n",
      " 28%|██████████████████████████████▎                                                                              | 10/36 [00:24<01:01,  2.37s/it]/cluster/tufts/slonimlab/hzhu07/miniconda3/envs/grn/lib/python3.11/site-packages/anndata/_core/anndata.py:1301: ImplicitModificationWarning: Trying to modify attribute `.var` of view, initializing view as actual.\n",
      "  df[key] = c\n",
      "/cluster/tufts/slonimlab/hzhu07/miniconda3/envs/grn/lib/python3.11/site-packages/anndata/_core/anndata.py:1301: ImplicitModificationWarning: Trying to modify attribute `.var` of view, initializing view as actual.\n",
      "  df[key] = c\n",
      "/cluster/tufts/slonimlab/hzhu07/miniconda3/envs/grn/lib/python3.11/site-packages/anndata/_core/anndata.py:1301: ImplicitModificationWarning: Trying to modify attribute `.var` of view, initializing view as actual.\n",
      "  df[key] = c\n",
      " 31%|█████████████████████████████████▎                                                                           | 11/36 [00:26<00:58,  2.33s/it]/cluster/tufts/slonimlab/hzhu07/miniconda3/envs/grn/lib/python3.11/site-packages/anndata/_core/anndata.py:1301: ImplicitModificationWarning: Trying to modify attribute `.var` of view, initializing view as actual.\n",
      "  df[key] = c\n",
      "/cluster/tufts/slonimlab/hzhu07/miniconda3/envs/grn/lib/python3.11/site-packages/anndata/_core/anndata.py:1301: ImplicitModificationWarning: Trying to modify attribute `.var` of view, initializing view as actual.\n",
      "  df[key] = c\n",
      "/cluster/tufts/slonimlab/hzhu07/miniconda3/envs/grn/lib/python3.11/site-packages/anndata/_core/anndata.py:1301: ImplicitModificationWarning: Trying to modify attribute `.var` of view, initializing view as actual.\n",
      "  df[key] = c\n",
      " 33%|████████████████████████████████████▎                                                                        | 12/36 [00:28<00:55,  2.30s/it]/cluster/tufts/slonimlab/hzhu07/miniconda3/envs/grn/lib/python3.11/site-packages/anndata/_core/anndata.py:1301: ImplicitModificationWarning: Trying to modify attribute `.var` of view, initializing view as actual.\n",
      "  df[key] = c\n",
      "/cluster/tufts/slonimlab/hzhu07/miniconda3/envs/grn/lib/python3.11/site-packages/anndata/_core/anndata.py:1301: ImplicitModificationWarning: Trying to modify attribute `.var` of view, initializing view as actual.\n",
      "  df[key] = c\n",
      "/cluster/tufts/slonimlab/hzhu07/miniconda3/envs/grn/lib/python3.11/site-packages/anndata/_core/anndata.py:1301: ImplicitModificationWarning: Trying to modify attribute `.var` of view, initializing view as actual.\n",
      "  df[key] = c\n",
      " 36%|███████████████████████████████████████▎                                                                     | 13/36 [00:31<00:52,  2.29s/it]/cluster/tufts/slonimlab/hzhu07/miniconda3/envs/grn/lib/python3.11/site-packages/anndata/_core/anndata.py:1301: ImplicitModificationWarning: Trying to modify attribute `.var` of view, initializing view as actual.\n",
      "  df[key] = c\n",
      "/cluster/tufts/slonimlab/hzhu07/miniconda3/envs/grn/lib/python3.11/site-packages/anndata/_core/anndata.py:1301: ImplicitModificationWarning: Trying to modify attribute `.var` of view, initializing view as actual.\n",
      "  df[key] = c\n",
      "/cluster/tufts/slonimlab/hzhu07/miniconda3/envs/grn/lib/python3.11/site-packages/anndata/_core/anndata.py:1301: ImplicitModificationWarning: Trying to modify attribute `.var` of view, initializing view as actual.\n",
      "  df[key] = c\n",
      " 39%|██████████████████████████████████████████▍                                                                  | 14/36 [00:33<00:50,  2.31s/it]/cluster/tufts/slonimlab/hzhu07/miniconda3/envs/grn/lib/python3.11/site-packages/anndata/_core/anndata.py:1301: ImplicitModificationWarning: Trying to modify attribute `.var` of view, initializing view as actual.\n",
      "  df[key] = c\n",
      "/cluster/tufts/slonimlab/hzhu07/miniconda3/envs/grn/lib/python3.11/site-packages/anndata/_core/anndata.py:1301: ImplicitModificationWarning: Trying to modify attribute `.var` of view, initializing view as actual.\n",
      "  df[key] = c\n",
      "/cluster/tufts/slonimlab/hzhu07/miniconda3/envs/grn/lib/python3.11/site-packages/anndata/_core/anndata.py:1301: ImplicitModificationWarning: Trying to modify attribute `.var` of view, initializing view as actual.\n",
      "  df[key] = c\n",
      " 42%|█████████████████████████████████████████████▍                                                               | 15/36 [00:35<00:48,  2.33s/it]/cluster/tufts/slonimlab/hzhu07/miniconda3/envs/grn/lib/python3.11/site-packages/anndata/_core/anndata.py:1301: ImplicitModificationWarning: Trying to modify attribute `.var` of view, initializing view as actual.\n",
      "  df[key] = c\n",
      "/cluster/tufts/slonimlab/hzhu07/miniconda3/envs/grn/lib/python3.11/site-packages/anndata/_core/anndata.py:1301: ImplicitModificationWarning: Trying to modify attribute `.var` of view, initializing view as actual.\n",
      "  df[key] = c\n",
      "/cluster/tufts/slonimlab/hzhu07/miniconda3/envs/grn/lib/python3.11/site-packages/anndata/_core/anndata.py:1301: ImplicitModificationWarning: Trying to modify attribute `.var` of view, initializing view as actual.\n",
      "  df[key] = c\n",
      " 44%|████████████████████████████████████████████████▍                                                            | 16/36 [00:38<00:48,  2.41s/it]/cluster/tufts/slonimlab/hzhu07/miniconda3/envs/grn/lib/python3.11/site-packages/anndata/_core/anndata.py:1301: ImplicitModificationWarning: Trying to modify attribute `.var` of view, initializing view as actual.\n",
      "  df[key] = c\n",
      "/cluster/tufts/slonimlab/hzhu07/miniconda3/envs/grn/lib/python3.11/site-packages/anndata/_core/anndata.py:1301: ImplicitModificationWarning: Trying to modify attribute `.var` of view, initializing view as actual.\n",
      "  df[key] = c\n",
      "/cluster/tufts/slonimlab/hzhu07/miniconda3/envs/grn/lib/python3.11/site-packages/anndata/_core/anndata.py:1301: ImplicitModificationWarning: Trying to modify attribute `.var` of view, initializing view as actual.\n",
      "  df[key] = c\n",
      " 47%|███████████████████████████████████████████████████▍                                                         | 17/36 [00:45<01:11,  3.75s/it]/cluster/tufts/slonimlab/hzhu07/miniconda3/envs/grn/lib/python3.11/site-packages/anndata/_core/anndata.py:1301: ImplicitModificationWarning: Trying to modify attribute `.var` of view, initializing view as actual.\n",
      "  df[key] = c\n",
      "/cluster/tufts/slonimlab/hzhu07/miniconda3/envs/grn/lib/python3.11/site-packages/anndata/_core/anndata.py:1301: ImplicitModificationWarning: Trying to modify attribute `.var` of view, initializing view as actual.\n",
      "  df[key] = c\n",
      "/cluster/tufts/slonimlab/hzhu07/miniconda3/envs/grn/lib/python3.11/site-packages/anndata/_core/anndata.py:1301: ImplicitModificationWarning: Trying to modify attribute `.var` of view, initializing view as actual.\n",
      "  df[key] = c\n",
      " 50%|██████████████████████████████████████████████████████▌                                                      | 18/36 [00:58<01:56,  6.46s/it]/cluster/tufts/slonimlab/hzhu07/miniconda3/envs/grn/lib/python3.11/site-packages/anndata/_core/anndata.py:1301: ImplicitModificationWarning: Trying to modify attribute `.var` of view, initializing view as actual.\n",
      "  df[key] = c\n",
      "/cluster/tufts/slonimlab/hzhu07/miniconda3/envs/grn/lib/python3.11/site-packages/anndata/_core/anndata.py:1301: ImplicitModificationWarning: Trying to modify attribute `.var` of view, initializing view as actual.\n",
      "  df[key] = c\n",
      "/cluster/tufts/slonimlab/hzhu07/miniconda3/envs/grn/lib/python3.11/site-packages/anndata/_core/anndata.py:1301: ImplicitModificationWarning: Trying to modify attribute `.var` of view, initializing view as actual.\n",
      "  df[key] = c\n",
      " 53%|█████████████████████████████████████████████████████████▌                                                   | 19/36 [01:00<01:28,  5.21s/it]/cluster/tufts/slonimlab/hzhu07/miniconda3/envs/grn/lib/python3.11/site-packages/anndata/_core/anndata.py:1301: ImplicitModificationWarning: Trying to modify attribute `.var` of view, initializing view as actual.\n",
      "  df[key] = c\n",
      "/cluster/tufts/slonimlab/hzhu07/miniconda3/envs/grn/lib/python3.11/site-packages/anndata/_core/anndata.py:1301: ImplicitModificationWarning: Trying to modify attribute `.var` of view, initializing view as actual.\n",
      "  df[key] = c\n",
      "/cluster/tufts/slonimlab/hzhu07/miniconda3/envs/grn/lib/python3.11/site-packages/anndata/_core/anndata.py:1301: ImplicitModificationWarning: Trying to modify attribute `.var` of view, initializing view as actual.\n",
      "  df[key] = c\n",
      " 56%|████████████████████████████████████████████████████████████▌                                                | 20/36 [01:02<01:08,  4.31s/it]/cluster/tufts/slonimlab/hzhu07/miniconda3/envs/grn/lib/python3.11/site-packages/anndata/_core/anndata.py:1301: ImplicitModificationWarning: Trying to modify attribute `.var` of view, initializing view as actual.\n",
      "  df[key] = c\n",
      "/cluster/tufts/slonimlab/hzhu07/miniconda3/envs/grn/lib/python3.11/site-packages/anndata/_core/anndata.py:1301: ImplicitModificationWarning: Trying to modify attribute `.var` of view, initializing view as actual.\n",
      "  df[key] = c\n",
      "/cluster/tufts/slonimlab/hzhu07/miniconda3/envs/grn/lib/python3.11/site-packages/anndata/_core/anndata.py:1301: ImplicitModificationWarning: Trying to modify attribute `.var` of view, initializing view as actual.\n",
      "  df[key] = c\n",
      " 58%|███████████████████████████████████████████████████████████████▌                                             | 21/36 [01:04<00:55,  3.68s/it]/cluster/tufts/slonimlab/hzhu07/miniconda3/envs/grn/lib/python3.11/site-packages/anndata/_core/anndata.py:1301: ImplicitModificationWarning: Trying to modify attribute `.var` of view, initializing view as actual.\n",
      "  df[key] = c\n",
      "/cluster/tufts/slonimlab/hzhu07/miniconda3/envs/grn/lib/python3.11/site-packages/anndata/_core/anndata.py:1301: ImplicitModificationWarning: Trying to modify attribute `.var` of view, initializing view as actual.\n",
      "  df[key] = c\n",
      "/cluster/tufts/slonimlab/hzhu07/miniconda3/envs/grn/lib/python3.11/site-packages/anndata/_core/anndata.py:1301: ImplicitModificationWarning: Trying to modify attribute `.var` of view, initializing view as actual.\n",
      "  df[key] = c\n",
      " 61%|██████████████████████████████████████████████████████████████████▌                                          | 22/36 [01:06<00:45,  3.23s/it]/cluster/tufts/slonimlab/hzhu07/miniconda3/envs/grn/lib/python3.11/site-packages/anndata/_core/anndata.py:1301: ImplicitModificationWarning: Trying to modify attribute `.var` of view, initializing view as actual.\n",
      "  df[key] = c\n",
      "/cluster/tufts/slonimlab/hzhu07/miniconda3/envs/grn/lib/python3.11/site-packages/anndata/_core/anndata.py:1301: ImplicitModificationWarning: Trying to modify attribute `.var` of view, initializing view as actual.\n",
      "  df[key] = c\n",
      "/cluster/tufts/slonimlab/hzhu07/miniconda3/envs/grn/lib/python3.11/site-packages/anndata/_core/anndata.py:1301: ImplicitModificationWarning: Trying to modify attribute `.var` of view, initializing view as actual.\n",
      "  df[key] = c\n",
      " 64%|█████████████████████████████████████████████████████████████████████▋                                       | 23/36 [01:09<00:40,  3.11s/it]/cluster/tufts/slonimlab/hzhu07/miniconda3/envs/grn/lib/python3.11/site-packages/anndata/_core/anndata.py:1301: ImplicitModificationWarning: Trying to modify attribute `.var` of view, initializing view as actual.\n",
      "  df[key] = c\n",
      "/cluster/tufts/slonimlab/hzhu07/miniconda3/envs/grn/lib/python3.11/site-packages/anndata/_core/anndata.py:1301: ImplicitModificationWarning: Trying to modify attribute `.var` of view, initializing view as actual.\n",
      "  df[key] = c\n",
      "/cluster/tufts/slonimlab/hzhu07/miniconda3/envs/grn/lib/python3.11/site-packages/anndata/_core/anndata.py:1301: ImplicitModificationWarning: Trying to modify attribute `.var` of view, initializing view as actual.\n",
      "  df[key] = c\n",
      " 67%|████████████████████████████████████████████████████████████████████████▋                                    | 24/36 [01:13<00:38,  3.19s/it]/cluster/tufts/slonimlab/hzhu07/miniconda3/envs/grn/lib/python3.11/site-packages/anndata/_core/anndata.py:1301: ImplicitModificationWarning: Trying to modify attribute `.var` of view, initializing view as actual.\n",
      "  df[key] = c\n",
      "/cluster/tufts/slonimlab/hzhu07/miniconda3/envs/grn/lib/python3.11/site-packages/anndata/_core/anndata.py:1301: ImplicitModificationWarning: Trying to modify attribute `.var` of view, initializing view as actual.\n",
      "  df[key] = c\n",
      "/cluster/tufts/slonimlab/hzhu07/miniconda3/envs/grn/lib/python3.11/site-packages/anndata/_core/anndata.py:1301: ImplicitModificationWarning: Trying to modify attribute `.var` of view, initializing view as actual.\n",
      "  df[key] = c\n",
      " 69%|███████████████████████████████████████████████████████████████████████████▋                                 | 25/36 [01:15<00:32,  2.97s/it]/cluster/tufts/slonimlab/hzhu07/miniconda3/envs/grn/lib/python3.11/site-packages/anndata/_core/anndata.py:1301: ImplicitModificationWarning: Trying to modify attribute `.var` of view, initializing view as actual.\n",
      "  df[key] = c\n",
      "/cluster/tufts/slonimlab/hzhu07/miniconda3/envs/grn/lib/python3.11/site-packages/anndata/_core/anndata.py:1301: ImplicitModificationWarning: Trying to modify attribute `.var` of view, initializing view as actual.\n",
      "  df[key] = c\n",
      "/cluster/tufts/slonimlab/hzhu07/miniconda3/envs/grn/lib/python3.11/site-packages/anndata/_core/anndata.py:1301: ImplicitModificationWarning: Trying to modify attribute `.var` of view, initializing view as actual.\n",
      "  df[key] = c\n",
      " 72%|██████████████████████████████████████████████████████████████████████████████▋                              | 26/36 [01:18<00:28,  2.85s/it]/cluster/tufts/slonimlab/hzhu07/miniconda3/envs/grn/lib/python3.11/site-packages/anndata/_core/anndata.py:1301: ImplicitModificationWarning: Trying to modify attribute `.var` of view, initializing view as actual.\n",
      "  df[key] = c\n",
      "/cluster/tufts/slonimlab/hzhu07/miniconda3/envs/grn/lib/python3.11/site-packages/anndata/_core/anndata.py:1301: ImplicitModificationWarning: Trying to modify attribute `.var` of view, initializing view as actual.\n",
      "  df[key] = c\n",
      "/cluster/tufts/slonimlab/hzhu07/miniconda3/envs/grn/lib/python3.11/site-packages/anndata/_core/anndata.py:1301: ImplicitModificationWarning: Trying to modify attribute `.var` of view, initializing view as actual.\n",
      "  df[key] = c\n",
      " 75%|█████████████████████████████████████████████████████████████████████████████████▊                           | 27/36 [01:20<00:24,  2.69s/it]/cluster/tufts/slonimlab/hzhu07/miniconda3/envs/grn/lib/python3.11/site-packages/anndata/_core/anndata.py:1301: ImplicitModificationWarning: Trying to modify attribute `.var` of view, initializing view as actual.\n",
      "  df[key] = c\n",
      "/cluster/tufts/slonimlab/hzhu07/miniconda3/envs/grn/lib/python3.11/site-packages/anndata/_core/anndata.py:1301: ImplicitModificationWarning: Trying to modify attribute `.var` of view, initializing view as actual.\n",
      "  df[key] = c\n",
      "/cluster/tufts/slonimlab/hzhu07/miniconda3/envs/grn/lib/python3.11/site-packages/anndata/_core/anndata.py:1301: ImplicitModificationWarning: Trying to modify attribute `.var` of view, initializing view as actual.\n",
      "  df[key] = c\n",
      " 78%|████████████████████████████████████████████████████████████████████████████████████▊                        | 28/36 [01:23<00:21,  2.65s/it]/cluster/tufts/slonimlab/hzhu07/miniconda3/envs/grn/lib/python3.11/site-packages/anndata/_core/anndata.py:1301: ImplicitModificationWarning: Trying to modify attribute `.var` of view, initializing view as actual.\n",
      "  df[key] = c\n",
      "/cluster/tufts/slonimlab/hzhu07/miniconda3/envs/grn/lib/python3.11/site-packages/anndata/_core/anndata.py:1301: ImplicitModificationWarning: Trying to modify attribute `.var` of view, initializing view as actual.\n",
      "  df[key] = c\n",
      "/cluster/tufts/slonimlab/hzhu07/miniconda3/envs/grn/lib/python3.11/site-packages/anndata/_core/anndata.py:1301: ImplicitModificationWarning: Trying to modify attribute `.var` of view, initializing view as actual.\n",
      "  df[key] = c\n",
      " 81%|███████████████████████████████████████████████████████████████████████████████████████▊                     | 29/36 [01:25<00:17,  2.57s/it]/cluster/tufts/slonimlab/hzhu07/miniconda3/envs/grn/lib/python3.11/site-packages/anndata/_core/anndata.py:1301: ImplicitModificationWarning: Trying to modify attribute `.var` of view, initializing view as actual.\n",
      "  df[key] = c\n",
      "/cluster/tufts/slonimlab/hzhu07/miniconda3/envs/grn/lib/python3.11/site-packages/anndata/_core/anndata.py:1301: ImplicitModificationWarning: Trying to modify attribute `.var` of view, initializing view as actual.\n",
      "  df[key] = c\n",
      "/cluster/tufts/slonimlab/hzhu07/miniconda3/envs/grn/lib/python3.11/site-packages/anndata/_core/anndata.py:1301: ImplicitModificationWarning: Trying to modify attribute `.var` of view, initializing view as actual.\n",
      "  df[key] = c\n",
      " 83%|██████████████████████████████████████████████████████████████████████████████████████████▊                  | 30/36 [01:27<00:14,  2.48s/it]/cluster/tufts/slonimlab/hzhu07/miniconda3/envs/grn/lib/python3.11/site-packages/anndata/_core/anndata.py:1301: ImplicitModificationWarning: Trying to modify attribute `.var` of view, initializing view as actual.\n",
      "  df[key] = c\n",
      "/cluster/tufts/slonimlab/hzhu07/miniconda3/envs/grn/lib/python3.11/site-packages/anndata/_core/anndata.py:1301: ImplicitModificationWarning: Trying to modify attribute `.var` of view, initializing view as actual.\n",
      "  df[key] = c\n",
      "/cluster/tufts/slonimlab/hzhu07/miniconda3/envs/grn/lib/python3.11/site-packages/anndata/_core/anndata.py:1301: ImplicitModificationWarning: Trying to modify attribute `.var` of view, initializing view as actual.\n",
      "  df[key] = c\n",
      " 86%|█████████████████████████████████████████████████████████████████████████████████████████████▊               | 31/36 [01:29<00:12,  2.42s/it]/cluster/tufts/slonimlab/hzhu07/miniconda3/envs/grn/lib/python3.11/site-packages/anndata/_core/anndata.py:1301: ImplicitModificationWarning: Trying to modify attribute `.var` of view, initializing view as actual.\n",
      "  df[key] = c\n",
      "/cluster/tufts/slonimlab/hzhu07/miniconda3/envs/grn/lib/python3.11/site-packages/anndata/_core/anndata.py:1301: ImplicitModificationWarning: Trying to modify attribute `.var` of view, initializing view as actual.\n",
      "  df[key] = c\n",
      "/cluster/tufts/slonimlab/hzhu07/miniconda3/envs/grn/lib/python3.11/site-packages/anndata/_core/anndata.py:1301: ImplicitModificationWarning: Trying to modify attribute `.var` of view, initializing view as actual.\n",
      "  df[key] = c\n",
      " 89%|████████████████████████████████████████████████████████████████████████████████████████████████▉            | 32/36 [01:32<00:09,  2.37s/it]/cluster/tufts/slonimlab/hzhu07/miniconda3/envs/grn/lib/python3.11/site-packages/anndata/_core/anndata.py:1301: ImplicitModificationWarning: Trying to modify attribute `.var` of view, initializing view as actual.\n",
      "  df[key] = c\n",
      "/cluster/tufts/slonimlab/hzhu07/miniconda3/envs/grn/lib/python3.11/site-packages/anndata/_core/anndata.py:1301: ImplicitModificationWarning: Trying to modify attribute `.var` of view, initializing view as actual.\n",
      "  df[key] = c\n",
      "/cluster/tufts/slonimlab/hzhu07/miniconda3/envs/grn/lib/python3.11/site-packages/anndata/_core/anndata.py:1301: ImplicitModificationWarning: Trying to modify attribute `.var` of view, initializing view as actual.\n",
      "  df[key] = c\n",
      " 92%|███████████████████████████████████████████████████████████████████████████████████████████████████▉         | 33/36 [01:34<00:07,  2.50s/it]/cluster/tufts/slonimlab/hzhu07/miniconda3/envs/grn/lib/python3.11/site-packages/anndata/_core/anndata.py:1301: ImplicitModificationWarning: Trying to modify attribute `.var` of view, initializing view as actual.\n",
      "  df[key] = c\n",
      "/cluster/tufts/slonimlab/hzhu07/miniconda3/envs/grn/lib/python3.11/site-packages/anndata/_core/anndata.py:1301: ImplicitModificationWarning: Trying to modify attribute `.var` of view, initializing view as actual.\n",
      "  df[key] = c\n",
      "/cluster/tufts/slonimlab/hzhu07/miniconda3/envs/grn/lib/python3.11/site-packages/anndata/_core/anndata.py:1301: ImplicitModificationWarning: Trying to modify attribute `.var` of view, initializing view as actual.\n",
      "  df[key] = c\n",
      " 94%|██████████████████████████████████████████████████████████████████████████████████████████████████████▉      | 34/36 [01:38<00:05,  2.73s/it]/cluster/tufts/slonimlab/hzhu07/miniconda3/envs/grn/lib/python3.11/site-packages/anndata/_core/anndata.py:1301: ImplicitModificationWarning: Trying to modify attribute `.var` of view, initializing view as actual.\n",
      "  df[key] = c\n",
      "/cluster/tufts/slonimlab/hzhu07/miniconda3/envs/grn/lib/python3.11/site-packages/anndata/_core/anndata.py:1301: ImplicitModificationWarning: Trying to modify attribute `.var` of view, initializing view as actual.\n",
      "  df[key] = c\n",
      "/cluster/tufts/slonimlab/hzhu07/miniconda3/envs/grn/lib/python3.11/site-packages/anndata/_core/anndata.py:1301: ImplicitModificationWarning: Trying to modify attribute `.var` of view, initializing view as actual.\n",
      "  df[key] = c\n",
      " 97%|█████████████████████████████████████████████████████████████████████████████████████████████████████████▉   | 35/36 [01:40<00:02,  2.58s/it]/cluster/tufts/slonimlab/hzhu07/miniconda3/envs/grn/lib/python3.11/site-packages/anndata/_core/anndata.py:1301: ImplicitModificationWarning: Trying to modify attribute `.var` of view, initializing view as actual.\n",
      "  df[key] = c\n",
      "/cluster/tufts/slonimlab/hzhu07/miniconda3/envs/grn/lib/python3.11/site-packages/anndata/_core/anndata.py:1301: ImplicitModificationWarning: Trying to modify attribute `.var` of view, initializing view as actual.\n",
      "  df[key] = c\n",
      "/cluster/tufts/slonimlab/hzhu07/miniconda3/envs/grn/lib/python3.11/site-packages/anndata/_core/anndata.py:1301: ImplicitModificationWarning: Trying to modify attribute `.var` of view, initializing view as actual.\n",
      "  df[key] = c\n",
      "100%|█████████████████████████████████████████████████████████████████████████████████████████████████████████████| 36/36 [01:42<00:00,  2.85s/it]\n"
     ]
    }
   ],
   "source": [
    "atlas_cell_types_by_sex = [cluster_dict_by_sex[x] for x in atlas_cell_barcodes]\n",
    "atlas_unique_cell_types_by_sex = np.unique(atlas_cell_types_by_sex)\n",
    "atlas_unique_cell_types_by_sex\n",
    "\n",
    "atlas_ann.var_names = atlas_cell_barcodes\n",
    "atlas_ann.obs_names = atlas_genes\n",
    "atlas_ann.var['cell_types_by_sex'] = atlas_cell_types_by_sex\n",
    "# atlas_ann.var['cell_types'] = atlas_cell_types\n",
    "atlas_ann.var['region'] = [x.split('_')[0] for x in atlas_cell_barcodes]\n",
    "atlas_ann.var['sample'] = [x.split('_')[1] for x in atlas_cell_barcodes]\n",
    "\n",
    "for ct in tqdm(atlas_unique_cell_types_by_sex):\n",
    "    subset = atlas_ann[:, atlas_ann.var['cell_types_by_sex'] == ct]\n",
    "    subset.write_h5ad(f'data/cerebellum/SCP795/processed/{ct}.h5ad')"
   ]
  },
  {
   "cell_type": "code",
   "execution_count": null,
   "id": "a0db3e3e-1ef3-4c26-ad9e-add3a24c229b",
   "metadata": {},
   "outputs": [],
   "source": []
  },
  {
   "cell_type": "code",
   "execution_count": null,
   "id": "b2b3a0ac-534c-4118-a7fa-5dd15e6db546",
   "metadata": {},
   "outputs": [],
   "source": []
  }
 ],
 "metadata": {
  "kernelspec": {
   "display_name": "grn",
   "language": "python",
   "name": "grn"
  },
  "language_info": {
   "codemirror_mode": {
    "name": "ipython",
    "version": 3
   },
   "file_extension": ".py",
   "mimetype": "text/x-python",
   "name": "python",
   "nbconvert_exporter": "python",
   "pygments_lexer": "ipython3",
   "version": "3.11.7"
  }
 },
 "nbformat": 4,
 "nbformat_minor": 5
}
